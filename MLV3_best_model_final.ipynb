{
 "cells": [
  {
   "cell_type": "markdown",
   "id": "40fbb7e3",
   "metadata": {},
   "source": [
    "# Imports "
   ]
  },
  {
   "cell_type": "code",
   "execution_count": 107,
   "id": "f2b2976b",
   "metadata": {
    "ExecuteTime": {
     "end_time": "2022-08-19T18:11:27.238126Z",
     "start_time": "2022-08-19T18:11:27.235295Z"
    }
   },
   "outputs": [],
   "source": [
    "#! pip install hijri-converter"
   ]
  },
  {
   "cell_type": "code",
   "execution_count": 108,
   "id": "ef178ffa",
   "metadata": {
    "ExecuteTime": {
     "end_time": "2022-08-19T18:11:27.258753Z",
     "start_time": "2022-08-19T18:11:27.240492Z"
    }
   },
   "outputs": [
    {
     "data": {
      "text/html": [
       "        <script type=\"text/javascript\">\n",
       "        window.PlotlyConfig = {MathJaxConfig: 'local'};\n",
       "        if (window.MathJax && window.MathJax.Hub && window.MathJax.Hub.Config) {window.MathJax.Hub.Config({SVG: {font: \"STIX-Web\"}});}\n",
       "        if (typeof require !== 'undefined') {\n",
       "        require.undef(\"plotly\");\n",
       "        requirejs.config({\n",
       "            paths: {\n",
       "                'plotly': ['https://cdn.plot.ly/plotly-2.12.1.min']\n",
       "            }\n",
       "        });\n",
       "        require(['plotly'], function(Plotly) {\n",
       "            window._Plotly = Plotly;\n",
       "        });\n",
       "        }\n",
       "        </script>\n",
       "        "
      ]
     },
     "metadata": {},
     "output_type": "display_data"
    }
   ],
   "source": [
    "import pandas as pd\n",
    "import numpy as np\n",
    "from numpy import mean\n",
    "from numpy import std\n",
    "from sklearn.preprocessing import LabelEncoder\n",
    "from sklearn.neighbors import KNeighborsRegressor\n",
    "from sklearn.model_selection  import train_test_split, cross_val_score\n",
    "from sklearn.metrics import accuracy_score, mean_squared_error,r2_score\n",
    "import matplotlib.pyplot as plt\n",
    "import pandas as pd\n",
    "import cufflinks as cf\n",
    "import sklearn\n",
    "from sklearn import svm, preprocessing \n",
    "import seaborn as sns\n",
    "import plotly.graph_objs as go\n",
    "from plotly.offline import download_plotlyjs, init_notebook_mode, plot, iplot\n",
    "init_notebook_mode(connected=True)\n",
    "import os\n",
    "from sklearn.preprocessing import PolynomialFeatures\n",
    "from sklearn.pipeline import make_pipeline\n",
    "from sklearn.linear_model import LinearRegression\n",
    "from sklearn import preprocessing\n",
    "#cross validation imports \n",
    "from sklearn.model_selection import KFold\n",
    "from sklearn.model_selection import cross_val_score\n",
    "#random forest \n",
    "from sklearn.ensemble import RandomForestRegressor\n",
    "import math\n",
    "from hijri_converter import Hijri, Gregorian\n",
    "from hijri_converter import convert\n",
    "from datetime import datetime\n",
    "import csv\n",
    "import codecs\n",
    "import urllib.request\n",
    "import urllib.error\n",
    "import sys\n",
    "import json \n",
    "import pandas as pd \n",
    "from sklearn.preprocessing import RobustScaler\n",
    "from sklearn.svm import SVR\n",
    "from sklearn.model_selection import GridSearchCV\n",
    "from sklearn.linear_model import ElasticNet\n",
    "from sklearn.cross_decomposition import PLSRegression\n",
    "from sklearn.feature_selection import SelectFromModel\n",
    "from sklearn.svm import LinearSVC\n",
    "from sklearn.decomposition import PCA\n",
    "import xgboost as xgb\n",
    "from sklearn.ensemble import GradientBoostingRegressor\n",
    "from sklearn.model_selection import RandomizedSearchCV\n",
    "from sklearn.neural_network import MLPRegressor\n",
    "from sklearn.preprocessing import MinMaxScaler\n",
    "from sklearn.ensemble import HistGradientBoostingRegressor"
   ]
  },
  {
   "cell_type": "markdown",
   "id": "912f1b55",
   "metadata": {},
   "source": [
    "# 14-15 season (data loading & removing NA)"
   ]
  },
  {
   "cell_type": "code",
   "execution_count": 109,
   "id": "186dda8c",
   "metadata": {
    "ExecuteTime": {
     "end_time": "2022-08-19T18:11:27.275904Z",
     "start_time": "2022-08-19T18:11:27.261086Z"
    }
   },
   "outputs": [],
   "source": [
    "df_14 = pd.read_csv('14-15S_clean.csv')"
   ]
  },
  {
   "cell_type": "code",
   "execution_count": 110,
   "id": "21126ecb",
   "metadata": {
    "ExecuteTime": {
     "end_time": "2022-08-19T18:11:27.282048Z",
     "start_time": "2022-08-19T18:11:27.277575Z"
    }
   },
   "outputs": [
    {
     "data": {
      "text/plain": [
       "Index(['Unnamed: 0', 'TeamA', 'TeamB', 'Stadium', 'Match_Day', 'Match_Time',\n",
       "       'Match_Date', 'TeamA_Position', 'TeamB_Position', 'Attendance',\n",
       "       'TeamA_goals', 'TeamB_goals'],\n",
       "      dtype='object')"
      ]
     },
     "execution_count": 110,
     "metadata": {},
     "output_type": "execute_result"
    }
   ],
   "source": [
    "df_14.columns"
   ]
  },
  {
   "cell_type": "code",
   "execution_count": 111,
   "id": "0de805a0",
   "metadata": {
    "ExecuteTime": {
     "end_time": "2022-08-19T18:11:27.290118Z",
     "start_time": "2022-08-19T18:11:27.284426Z"
    }
   },
   "outputs": [
    {
     "data": {
      "text/plain": [
       "King Fahd International Stadium       37\n",
       "King Abdullah Sport City Stadium      28\n",
       "Prince Abdullah bin Jalawi Stadium    25\n",
       "King Abdullah Sports City             23\n",
       "Al Majma'ah Sports City Stadium       13\n",
       "Al-Shoalah Club Stadium               12\n",
       "Al-Orobah Club Stadium                12\n",
       "Al-Ukhdood Stadium                    11\n",
       "Prince Mohamed bin Fahd Stadium        6\n",
       "Prince Saud bin Jalawi Stadium         5\n",
       "Al-Qadasiya Club Stadium               2\n",
       "Prince Faisal bin Fahad Stadium        2\n",
       "King Abdul Aziz Stadium                1\n",
       "Name: Stadium, dtype: int64"
      ]
     },
     "execution_count": 111,
     "metadata": {},
     "output_type": "execute_result"
    }
   ],
   "source": [
    "df_14.Stadium.value_counts()"
   ]
  },
  {
   "cell_type": "code",
   "execution_count": 112,
   "id": "24c8f2c1",
   "metadata": {
    "scrolled": true
   },
   "outputs": [
    {
     "name": "stdout",
     "output_type": "stream",
     "text": [
      "<class 'pandas.core.frame.DataFrame'>\n",
      "RangeIndex: 177 entries, 0 to 176\n",
      "Data columns (total 12 columns):\n",
      " #   Column          Non-Null Count  Dtype  \n",
      "---  ------          --------------  -----  \n",
      " 0   Unnamed: 0      177 non-null    int64  \n",
      " 1   TeamA           177 non-null    object \n",
      " 2   TeamB           177 non-null    object \n",
      " 3   Stadium         177 non-null    object \n",
      " 4   Match_Day       177 non-null    int64  \n",
      " 5   Match_Time      177 non-null    object \n",
      " 6   Match_Date      177 non-null    object \n",
      " 7   TeamA_Position  177 non-null    int64  \n",
      " 8   TeamB_Position  177 non-null    int64  \n",
      " 9   Attendance      174 non-null    float64\n",
      " 10  TeamA_goals     177 non-null    int64  \n",
      " 11  TeamB_goals     177 non-null    int64  \n",
      "dtypes: float64(1), int64(6), object(5)\n",
      "memory usage: 16.7+ KB\n"
     ]
    }
   ],
   "source": [
    "df_14.info()"
   ]
  },
  {
   "cell_type": "code",
   "execution_count": 113,
   "id": "2e5d7366",
   "metadata": {
    "ExecuteTime": {
     "end_time": "2022-08-19T18:11:27.302696Z",
     "start_time": "2022-08-19T18:11:27.291719Z"
    }
   },
   "outputs": [
    {
     "data": {
      "text/html": [
       "<div>\n",
       "<style scoped>\n",
       "    .dataframe tbody tr th:only-of-type {\n",
       "        vertical-align: middle;\n",
       "    }\n",
       "\n",
       "    .dataframe tbody tr th {\n",
       "        vertical-align: top;\n",
       "    }\n",
       "\n",
       "    .dataframe thead th {\n",
       "        text-align: right;\n",
       "    }\n",
       "</style>\n",
       "<table border=\"1\" class=\"dataframe\">\n",
       "  <thead>\n",
       "    <tr style=\"text-align: right;\">\n",
       "      <th></th>\n",
       "      <th>Unnamed: 0</th>\n",
       "      <th>TeamA</th>\n",
       "      <th>TeamB</th>\n",
       "      <th>Stadium</th>\n",
       "      <th>Match_Day</th>\n",
       "      <th>Match_Time</th>\n",
       "      <th>Match_Date</th>\n",
       "      <th>TeamA_Position</th>\n",
       "      <th>TeamB_Position</th>\n",
       "      <th>Attendance</th>\n",
       "      <th>TeamA_goals</th>\n",
       "      <th>TeamB_goals</th>\n",
       "    </tr>\n",
       "  </thead>\n",
       "  <tbody>\n",
       "    <tr>\n",
       "      <th>0</th>\n",
       "      <td>0</td>\n",
       "      <td>Al-Faisaly FC</td>\n",
       "      <td>Najran SC</td>\n",
       "      <td>Al Majma'ah Sports City Stadium</td>\n",
       "      <td>20</td>\n",
       "      <td>4:45 PM</td>\n",
       "      <td>3/22/15</td>\n",
       "      <td>6</td>\n",
       "      <td>10</td>\n",
       "      <td>53.0</td>\n",
       "      <td>0</td>\n",
       "      <td>1</td>\n",
       "    </tr>\n",
       "    <tr>\n",
       "      <th>1</th>\n",
       "      <td>0</td>\n",
       "      <td>Al-Faisaly FC</td>\n",
       "      <td>Al-Shoalah FC</td>\n",
       "      <td>Al Majma'ah Sports City Stadium</td>\n",
       "      <td>13</td>\n",
       "      <td>1:15 PM</td>\n",
       "      <td>12/19/14</td>\n",
       "      <td>6</td>\n",
       "      <td>13</td>\n",
       "      <td>66.0</td>\n",
       "      <td>0</td>\n",
       "      <td>0</td>\n",
       "    </tr>\n",
       "    <tr>\n",
       "      <th>2</th>\n",
       "      <td>0</td>\n",
       "      <td>Al-Shoalah FC</td>\n",
       "      <td>Al-Taawoun FC</td>\n",
       "      <td>Al-Shoalah Club Stadium</td>\n",
       "      <td>20</td>\n",
       "      <td>4:45 PM</td>\n",
       "      <td>3/22/15</td>\n",
       "      <td>14</td>\n",
       "      <td>7</td>\n",
       "      <td>73.0</td>\n",
       "      <td>4</td>\n",
       "      <td>3</td>\n",
       "    </tr>\n",
       "    <tr>\n",
       "      <th>3</th>\n",
       "      <td>0</td>\n",
       "      <td>Al-Faisaly FC</td>\n",
       "      <td>Al-Khaleej</td>\n",
       "      <td>Al Majma'ah Sports City Stadium</td>\n",
       "      <td>12</td>\n",
       "      <td>1:00 PM</td>\n",
       "      <td>12/12/14</td>\n",
       "      <td>6</td>\n",
       "      <td>11</td>\n",
       "      <td>79.0</td>\n",
       "      <td>1</td>\n",
       "      <td>2</td>\n",
       "    </tr>\n",
       "    <tr>\n",
       "      <th>4</th>\n",
       "      <td>0</td>\n",
       "      <td>Al-Shoalah FC</td>\n",
       "      <td>Al-Fateh</td>\n",
       "      <td>Al-Shoalah Club Stadium</td>\n",
       "      <td>8</td>\n",
       "      <td>5:00 PM</td>\n",
       "      <td>10/25/14</td>\n",
       "      <td>12</td>\n",
       "      <td>10</td>\n",
       "      <td>100.0</td>\n",
       "      <td>1</td>\n",
       "      <td>0</td>\n",
       "    </tr>\n",
       "  </tbody>\n",
       "</table>\n",
       "</div>"
      ],
      "text/plain": [
       "   Unnamed: 0          TeamA          TeamB                          Stadium  \\\n",
       "0           0  Al-Faisaly FC      Najran SC  Al Majma'ah Sports City Stadium   \n",
       "1           0  Al-Faisaly FC  Al-Shoalah FC  Al Majma'ah Sports City Stadium   \n",
       "2           0  Al-Shoalah FC  Al-Taawoun FC          Al-Shoalah Club Stadium   \n",
       "3           0  Al-Faisaly FC     Al-Khaleej  Al Majma'ah Sports City Stadium   \n",
       "4           0  Al-Shoalah FC       Al-Fateh          Al-Shoalah Club Stadium   \n",
       "\n",
       "   Match_Day Match_Time Match_Date  TeamA_Position  TeamB_Position  \\\n",
       "0         20    4:45 PM    3/22/15               6              10   \n",
       "1         13    1:15 PM   12/19/14               6              13   \n",
       "2         20    4:45 PM    3/22/15              14               7   \n",
       "3         12    1:00 PM   12/12/14               6              11   \n",
       "4          8    5:00 PM   10/25/14              12              10   \n",
       "\n",
       "   Attendance  TeamA_goals  TeamB_goals  \n",
       "0        53.0            0            1  \n",
       "1        66.0            0            0  \n",
       "2        73.0            4            3  \n",
       "3        79.0            1            2  \n",
       "4       100.0            1            0  "
      ]
     },
     "execution_count": 113,
     "metadata": {},
     "output_type": "execute_result"
    }
   ],
   "source": [
    "df_14.head()"
   ]
  },
  {
   "cell_type": "code",
   "execution_count": 114,
   "id": "89cc53d0",
   "metadata": {
    "ExecuteTime": {
     "end_time": "2022-08-19T18:11:27.324300Z",
     "start_time": "2022-08-19T18:11:27.320754Z"
    }
   },
   "outputs": [],
   "source": [
    "NA_df= df_14[df_14.isnull().any(axis=1)]"
   ]
  },
  {
   "cell_type": "code",
   "execution_count": 115,
   "id": "57e39030",
   "metadata": {
    "ExecuteTime": {
     "end_time": "2022-08-19T18:11:27.339211Z",
     "start_time": "2022-08-19T18:11:27.325952Z"
    },
    "scrolled": true
   },
   "outputs": [
    {
     "data": {
      "text/html": [
       "<div>\n",
       "<style scoped>\n",
       "    .dataframe tbody tr th:only-of-type {\n",
       "        vertical-align: middle;\n",
       "    }\n",
       "\n",
       "    .dataframe tbody tr th {\n",
       "        vertical-align: top;\n",
       "    }\n",
       "\n",
       "    .dataframe thead th {\n",
       "        text-align: right;\n",
       "    }\n",
       "</style>\n",
       "<table border=\"1\" class=\"dataframe\">\n",
       "  <thead>\n",
       "    <tr style=\"text-align: right;\">\n",
       "      <th></th>\n",
       "      <th>Unnamed: 0</th>\n",
       "      <th>TeamA</th>\n",
       "      <th>TeamB</th>\n",
       "      <th>Stadium</th>\n",
       "      <th>Match_Day</th>\n",
       "      <th>Match_Time</th>\n",
       "      <th>Match_Date</th>\n",
       "      <th>TeamA_Position</th>\n",
       "      <th>TeamB_Position</th>\n",
       "      <th>Attendance</th>\n",
       "      <th>TeamA_goals</th>\n",
       "      <th>TeamB_goals</th>\n",
       "    </tr>\n",
       "  </thead>\n",
       "  <tbody>\n",
       "    <tr>\n",
       "      <th>174</th>\n",
       "      <td>0</td>\n",
       "      <td>Al-Raed</td>\n",
       "      <td>Al-Orobah FC</td>\n",
       "      <td>King Abdullah Sport City Stadium</td>\n",
       "      <td>16</td>\n",
       "      <td>4:35 PM</td>\n",
       "      <td>2/21/15</td>\n",
       "      <td>9</td>\n",
       "      <td>12</td>\n",
       "      <td>NaN</td>\n",
       "      <td>2</td>\n",
       "      <td>1</td>\n",
       "    </tr>\n",
       "    <tr>\n",
       "      <th>175</th>\n",
       "      <td>0</td>\n",
       "      <td>Al-Taawoun FC</td>\n",
       "      <td>Al-Raed</td>\n",
       "      <td>King Abdullah Sport City Stadium</td>\n",
       "      <td>17</td>\n",
       "      <td>6:30 PM</td>\n",
       "      <td>2/28/15</td>\n",
       "      <td>6</td>\n",
       "      <td>10</td>\n",
       "      <td>NaN</td>\n",
       "      <td>3</td>\n",
       "      <td>1</td>\n",
       "    </tr>\n",
       "    <tr>\n",
       "      <th>176</th>\n",
       "      <td>0</td>\n",
       "      <td>Al-Fateh</td>\n",
       "      <td>Hajer Club</td>\n",
       "      <td>Prince Abdullah bin Jalawi Stadium</td>\n",
       "      <td>25</td>\n",
       "      <td>8:00 PM</td>\n",
       "      <td>5/10/15</td>\n",
       "      <td>6</td>\n",
       "      <td>10</td>\n",
       "      <td>NaN</td>\n",
       "      <td>3</td>\n",
       "      <td>1</td>\n",
       "    </tr>\n",
       "  </tbody>\n",
       "</table>\n",
       "</div>"
      ],
      "text/plain": [
       "     Unnamed: 0          TeamA         TeamB  \\\n",
       "174           0        Al-Raed  Al-Orobah FC   \n",
       "175           0  Al-Taawoun FC       Al-Raed   \n",
       "176           0       Al-Fateh    Hajer Club   \n",
       "\n",
       "                                Stadium  Match_Day Match_Time Match_Date  \\\n",
       "174    King Abdullah Sport City Stadium         16    4:35 PM    2/21/15   \n",
       "175    King Abdullah Sport City Stadium         17    6:30 PM    2/28/15   \n",
       "176  Prince Abdullah bin Jalawi Stadium         25    8:00 PM    5/10/15   \n",
       "\n",
       "     TeamA_Position  TeamB_Position  Attendance  TeamA_goals  TeamB_goals  \n",
       "174               9              12         NaN            2            1  \n",
       "175               6              10         NaN            3            1  \n",
       "176               6              10         NaN            3            1  "
      ]
     },
     "execution_count": 115,
     "metadata": {},
     "output_type": "execute_result"
    }
   ],
   "source": [
    "NA_df"
   ]
  },
  {
   "cell_type": "code",
   "execution_count": 116,
   "id": "3c835b39",
   "metadata": {
    "ExecuteTime": {
     "end_time": "2022-08-19T18:11:27.344928Z",
     "start_time": "2022-08-19T18:11:27.340753Z"
    }
   },
   "outputs": [],
   "source": [
    "df_14_clean=df_14.dropna()"
   ]
  },
  {
   "cell_type": "code",
   "execution_count": 117,
   "id": "7a06b1fd",
   "metadata": {
    "ExecuteTime": {
     "end_time": "2022-08-19T18:11:27.351848Z",
     "start_time": "2022-08-19T18:11:27.348570Z"
    }
   },
   "outputs": [],
   "source": [
    "df_14_clean=df_14_clean.drop(\"Unnamed: 0\",axis=1)"
   ]
  },
  {
   "cell_type": "code",
   "execution_count": 118,
   "id": "5c270be7",
   "metadata": {
    "ExecuteTime": {
     "end_time": "2022-08-19T18:11:27.360917Z",
     "start_time": "2022-08-19T18:11:27.353250Z"
    }
   },
   "outputs": [
    {
     "data": {
      "text/html": [
       "<div>\n",
       "<style scoped>\n",
       "    .dataframe tbody tr th:only-of-type {\n",
       "        vertical-align: middle;\n",
       "    }\n",
       "\n",
       "    .dataframe tbody tr th {\n",
       "        vertical-align: top;\n",
       "    }\n",
       "\n",
       "    .dataframe thead th {\n",
       "        text-align: right;\n",
       "    }\n",
       "</style>\n",
       "<table border=\"1\" class=\"dataframe\">\n",
       "  <thead>\n",
       "    <tr style=\"text-align: right;\">\n",
       "      <th></th>\n",
       "      <th>TeamA</th>\n",
       "      <th>TeamB</th>\n",
       "      <th>Stadium</th>\n",
       "      <th>Match_Day</th>\n",
       "      <th>Match_Time</th>\n",
       "      <th>Match_Date</th>\n",
       "      <th>TeamA_Position</th>\n",
       "      <th>TeamB_Position</th>\n",
       "      <th>Attendance</th>\n",
       "      <th>TeamA_goals</th>\n",
       "      <th>TeamB_goals</th>\n",
       "    </tr>\n",
       "  </thead>\n",
       "  <tbody>\n",
       "  </tbody>\n",
       "</table>\n",
       "</div>"
      ],
      "text/plain": [
       "Empty DataFrame\n",
       "Columns: [TeamA, TeamB, Stadium, Match_Day, Match_Time, Match_Date, TeamA_Position, TeamB_Position, Attendance, TeamA_goals, TeamB_goals]\n",
       "Index: []"
      ]
     },
     "execution_count": 118,
     "metadata": {},
     "output_type": "execute_result"
    }
   ],
   "source": [
    "df_14_clean[df_14_clean.isnull().any(axis=1)]"
   ]
  },
  {
   "cell_type": "code",
   "execution_count": 119,
   "id": "f4011458",
   "metadata": {
    "ExecuteTime": {
     "end_time": "2022-08-19T18:11:27.413157Z",
     "start_time": "2022-08-19T18:11:27.362788Z"
    }
   },
   "outputs": [],
   "source": [
    "#grouped = df_14_clean.groupby(df_14_clean['TeamA'])\n",
    "grouped = df_14_clean.sort_values(['Match_Day','TeamA'],ascending=True).groupby('TeamA')\n",
    "my_df  = pd.DataFrame()\n",
    "for i in df_14_clean['TeamA'].value_counts().index:\n",
    "    a=grouped.get_group(i)\n",
    "    a.loc[a[\"TeamA_goals\"] > a[\"TeamB_goals\"] , 'TeamA_win'] = 1\n",
    "    a.loc[a[\"TeamA_goals\"] <= a[\"TeamB_goals\"] , 'TeamA_win'] = 0\n",
    "    a.loc[a[\"TeamA_goals\"] < a[\"TeamB_goals\"] , 'TeamA_loss'] = 1\n",
    "    a.loc[a[\"TeamA_goals\"] >= a[\"TeamB_goals\"] , 'TeamA_loss'] = 0\n",
    "    a.loc[a[\"TeamA_goals\"] != a[\"TeamB_goals\"] , 'TeamA_draw'] = 0\n",
    "    a.loc[a[\"TeamA_goals\"] == a[\"TeamB_goals\"] , 'TeamA_draw'] = 1\n",
    "    \n",
    "    a['TeamA_win_sum']=a[\"TeamA_win\"].cumsum().shift(1)\n",
    "    a['TeamA_loss_sum']=a[\"TeamA_loss\"].cumsum().shift(1) \n",
    "    #a['sum_Attendance']=a[\"Attendance\"].cumsum().shift(1)\n",
    "    #a['avg_Attendance']=calculate_MA(a['Attendance'])\n",
    "    a['sum_goals_A']=a[\"TeamA_goals\"].cumsum().shift(1)\n",
    "    a['TeamA_draw_sum']=a[\"TeamA_draw\"].cumsum().shift(1)\n",
    "    \n",
    "    \n",
    "    \n",
    "    \n",
    "    \n",
    "    a['sum_goals_A']=a[\"sum_goals_A\"].fillna(0)\n",
    "    #a['sum_Attendance']=a['sum_Attendance'].fillna(0)\n",
    "    a['TeamA_win_sum']=a[\"TeamA_win_sum\"].fillna(0)\n",
    "    a['TeamA_loss_sum']=a[\"TeamA_loss_sum\"].fillna(0)\n",
    "    a['TeamA_draw_sum']=a[\"TeamA_draw_sum\"].fillna(0)\n",
    "    \n",
    "    my_df=my_df.append(a)\n",
    "my_df=my_df.drop([\"TeamA_loss\",\"TeamA_win\",'TeamA_draw'],axis=1)\n",
    "df_14_clean=my_df"
   ]
  },
  {
   "cell_type": "code",
   "execution_count": 120,
   "id": "55412300",
   "metadata": {},
   "outputs": [],
   "source": [
    "#grouped = df_14_clean.groupby(df_14_clean['TeamB',\"Match_Day\"])\n",
    "grouped = df_14_clean.sort_values(['Match_Day','TeamB'],ascending=True).groupby('TeamB')\n",
    "my_df  = pd.DataFrame()\n",
    "for i in df_14_clean['TeamB'].value_counts().index:\n",
    "    a=grouped.get_group(i)\n",
    "    a.loc[a[\"TeamB_goals\"] > a[\"TeamA_goals\"] , 'TeamB_win'] = 1\n",
    "    a.loc[a[\"TeamB_goals\"] <= a[\"TeamA_goals\"] , 'TeamB_win'] = 0\n",
    "    a.loc[a[\"TeamB_goals\"] < a[\"TeamA_goals\"] , 'TeamB_loss'] = 1\n",
    "    a.loc[a[\"TeamB_goals\"] >= a[\"TeamA_goals\"] , 'TeamB_loss'] = 0\n",
    "    a.loc[a[\"TeamB_goals\"] != a[\"TeamA_goals\"] , 'TeamB_draw'] = 0\n",
    "    a.loc[a[\"TeamB_goals\"] == a[\"TeamA_goals\"] , 'TeamB_draw'] = 1\n",
    "    \n",
    "    a['TeamB_win_sum']=a[\"TeamB_win\"].cumsum().shift(1)\n",
    "    a['TeamB_loss_sum']=a[\"TeamB_loss\"].cumsum().shift(1) \n",
    "    a['sum_goals_B']=a[\"TeamB_goals\"].cumsum().shift(1)\n",
    "    a['TeamB_draw_sum']=a[\"TeamB_draw\"].cumsum().shift(1)\n",
    "    \n",
    "    \n",
    "    \n",
    "    \n",
    "    \n",
    "    a['sum_goals_B']=a[\"sum_goals_B\"].fillna(0)\n",
    "    a['TeamB_win_sum']=a[\"TeamB_win_sum\"].fillna(0)\n",
    "    a['TeamB_loss_sum']=a[\"TeamB_loss_sum\"].fillna(0)\n",
    "    a['TeamB_draw_sum']=a[\"TeamB_draw_sum\"].fillna(0)\n",
    "    \n",
    "    my_df=my_df.append(a)\n",
    "my_df=my_df.drop([\"TeamB_loss\",\"TeamB_win\",'TeamB_draw'],axis=1)\n",
    "df_14_clean=my_df"
   ]
  },
  {
   "cell_type": "code",
   "execution_count": 121,
   "id": "0c726d76",
   "metadata": {},
   "outputs": [
    {
     "data": {
      "text/html": [
       "<div>\n",
       "<style scoped>\n",
       "    .dataframe tbody tr th:only-of-type {\n",
       "        vertical-align: middle;\n",
       "    }\n",
       "\n",
       "    .dataframe tbody tr th {\n",
       "        vertical-align: top;\n",
       "    }\n",
       "\n",
       "    .dataframe thead th {\n",
       "        text-align: right;\n",
       "    }\n",
       "</style>\n",
       "<table border=\"1\" class=\"dataframe\">\n",
       "  <thead>\n",
       "    <tr style=\"text-align: right;\">\n",
       "      <th></th>\n",
       "      <th>TeamA</th>\n",
       "      <th>TeamB</th>\n",
       "      <th>Stadium</th>\n",
       "      <th>Match_Day</th>\n",
       "      <th>Match_Time</th>\n",
       "      <th>Match_Date</th>\n",
       "      <th>TeamA_Position</th>\n",
       "      <th>TeamB_Position</th>\n",
       "      <th>Attendance</th>\n",
       "      <th>TeamA_goals</th>\n",
       "      <th>TeamB_goals</th>\n",
       "      <th>TeamA_win_sum</th>\n",
       "      <th>TeamA_loss_sum</th>\n",
       "      <th>sum_goals_A</th>\n",
       "      <th>TeamA_draw_sum</th>\n",
       "      <th>TeamB_win_sum</th>\n",
       "      <th>TeamB_loss_sum</th>\n",
       "      <th>sum_goals_B</th>\n",
       "      <th>TeamB_draw_sum</th>\n",
       "    </tr>\n",
       "  </thead>\n",
       "  <tbody>\n",
       "    <tr>\n",
       "      <th>92</th>\n",
       "      <td>Al-Orobah FC</td>\n",
       "      <td>Al-Taawoun FC</td>\n",
       "      <td>Al-Orobah Club Stadium</td>\n",
       "      <td>1</td>\n",
       "      <td>6:40 PM</td>\n",
       "      <td>8/15/14</td>\n",
       "      <td>5</td>\n",
       "      <td>8</td>\n",
       "      <td>3741.0</td>\n",
       "      <td>4</td>\n",
       "      <td>3</td>\n",
       "      <td>0.0</td>\n",
       "      <td>0.0</td>\n",
       "      <td>0.0</td>\n",
       "      <td>0.0</td>\n",
       "      <td>0.0</td>\n",
       "      <td>0.0</td>\n",
       "      <td>0.0</td>\n",
       "      <td>0.0</td>\n",
       "    </tr>\n",
       "    <tr>\n",
       "      <th>12</th>\n",
       "      <td>Hajer Club</td>\n",
       "      <td>Al-Taawoun FC</td>\n",
       "      <td>Prince Abdullah bin Jalawi Stadium</td>\n",
       "      <td>2</td>\n",
       "      <td>5:50 PM</td>\n",
       "      <td>8/22/14</td>\n",
       "      <td>8</td>\n",
       "      <td>13</td>\n",
       "      <td>199.0</td>\n",
       "      <td>2</td>\n",
       "      <td>0</td>\n",
       "      <td>0.0</td>\n",
       "      <td>0.0</td>\n",
       "      <td>0.0</td>\n",
       "      <td>0.0</td>\n",
       "      <td>0.0</td>\n",
       "      <td>1.0</td>\n",
       "      <td>3.0</td>\n",
       "      <td>0.0</td>\n",
       "    </tr>\n",
       "    <tr>\n",
       "      <th>83</th>\n",
       "      <td>Al-Raed</td>\n",
       "      <td>Al-Taawoun FC</td>\n",
       "      <td>King Abdullah Sport City Stadium</td>\n",
       "      <td>4</td>\n",
       "      <td>7:25 PM</td>\n",
       "      <td>9/11/14</td>\n",
       "      <td>11</td>\n",
       "      <td>9</td>\n",
       "      <td>2531.0</td>\n",
       "      <td>0</td>\n",
       "      <td>0</td>\n",
       "      <td>0.0</td>\n",
       "      <td>1.0</td>\n",
       "      <td>1.0</td>\n",
       "      <td>0.0</td>\n",
       "      <td>0.0</td>\n",
       "      <td>2.0</td>\n",
       "      <td>3.0</td>\n",
       "      <td>0.0</td>\n",
       "    </tr>\n",
       "    <tr>\n",
       "      <th>11</th>\n",
       "      <td>Al-Faisaly FC</td>\n",
       "      <td>Al-Taawoun FC</td>\n",
       "      <td>Al Majma'ah Sports City Stadium</td>\n",
       "      <td>6</td>\n",
       "      <td>5:30 PM</td>\n",
       "      <td>9/27/14</td>\n",
       "      <td>6</td>\n",
       "      <td>9</td>\n",
       "      <td>183.0</td>\n",
       "      <td>2</td>\n",
       "      <td>2</td>\n",
       "      <td>2.0</td>\n",
       "      <td>0.0</td>\n",
       "      <td>3.0</td>\n",
       "      <td>0.0</td>\n",
       "      <td>0.0</td>\n",
       "      <td>2.0</td>\n",
       "      <td>3.0</td>\n",
       "      <td>1.0</td>\n",
       "    </tr>\n",
       "    <tr>\n",
       "      <th>151</th>\n",
       "      <td>Al-Hilal Saudi FC</td>\n",
       "      <td>Al-Taawoun FC</td>\n",
       "      <td>King Fahd International Stadium</td>\n",
       "      <td>8</td>\n",
       "      <td>6:50 PM</td>\n",
       "      <td>12/9/14</td>\n",
       "      <td>4</td>\n",
       "      <td>9</td>\n",
       "      <td>25000.0</td>\n",
       "      <td>3</td>\n",
       "      <td>1</td>\n",
       "      <td>3.0</td>\n",
       "      <td>1.0</td>\n",
       "      <td>9.0</td>\n",
       "      <td>1.0</td>\n",
       "      <td>0.0</td>\n",
       "      <td>2.0</td>\n",
       "      <td>5.0</td>\n",
       "      <td>2.0</td>\n",
       "    </tr>\n",
       "    <tr>\n",
       "      <th>...</th>\n",
       "      <td>...</td>\n",
       "      <td>...</td>\n",
       "      <td>...</td>\n",
       "      <td>...</td>\n",
       "      <td>...</td>\n",
       "      <td>...</td>\n",
       "      <td>...</td>\n",
       "      <td>...</td>\n",
       "      <td>...</td>\n",
       "      <td>...</td>\n",
       "      <td>...</td>\n",
       "      <td>...</td>\n",
       "      <td>...</td>\n",
       "      <td>...</td>\n",
       "      <td>...</td>\n",
       "      <td>...</td>\n",
       "      <td>...</td>\n",
       "      <td>...</td>\n",
       "      <td>...</td>\n",
       "    </tr>\n",
       "    <tr>\n",
       "      <th>42</th>\n",
       "      <td>Najran SC</td>\n",
       "      <td>Al-Orobah FC</td>\n",
       "      <td>Al-Ukhdood Stadium</td>\n",
       "      <td>12</td>\n",
       "      <td>1:30 PM</td>\n",
       "      <td>12/13/14</td>\n",
       "      <td>8</td>\n",
       "      <td>12</td>\n",
       "      <td>557.0</td>\n",
       "      <td>2</td>\n",
       "      <td>0</td>\n",
       "      <td>1.0</td>\n",
       "      <td>2.0</td>\n",
       "      <td>5.0</td>\n",
       "      <td>1.0</td>\n",
       "      <td>0.0</td>\n",
       "      <td>5.0</td>\n",
       "      <td>3.0</td>\n",
       "      <td>1.0</td>\n",
       "    </tr>\n",
       "    <tr>\n",
       "      <th>74</th>\n",
       "      <td>Al-Taawoun FC</td>\n",
       "      <td>Al-Orobah FC</td>\n",
       "      <td>King Abdullah Sport City Stadium</td>\n",
       "      <td>14</td>\n",
       "      <td>4:30 PM</td>\n",
       "      <td>2/8/15</td>\n",
       "      <td>8</td>\n",
       "      <td>13</td>\n",
       "      <td>2000.0</td>\n",
       "      <td>1</td>\n",
       "      <td>1</td>\n",
       "      <td>2.0</td>\n",
       "      <td>3.0</td>\n",
       "      <td>9.0</td>\n",
       "      <td>1.0</td>\n",
       "      <td>0.0</td>\n",
       "      <td>6.0</td>\n",
       "      <td>3.0</td>\n",
       "      <td>1.0</td>\n",
       "    </tr>\n",
       "    <tr>\n",
       "      <th>10</th>\n",
       "      <td>Al-Faisaly FC</td>\n",
       "      <td>Al-Orobah FC</td>\n",
       "      <td>Al Majma'ah Sports City Stadium</td>\n",
       "      <td>18</td>\n",
       "      <td>4:45 PM</td>\n",
       "      <td>3/6/15</td>\n",
       "      <td>6</td>\n",
       "      <td>13</td>\n",
       "      <td>170.0</td>\n",
       "      <td>2</td>\n",
       "      <td>0</td>\n",
       "      <td>3.0</td>\n",
       "      <td>3.0</td>\n",
       "      <td>13.0</td>\n",
       "      <td>3.0</td>\n",
       "      <td>0.0</td>\n",
       "      <td>6.0</td>\n",
       "      <td>4.0</td>\n",
       "      <td>2.0</td>\n",
       "    </tr>\n",
       "    <tr>\n",
       "      <th>31</th>\n",
       "      <td>Al-Khaleej</td>\n",
       "      <td>Al-Orobah FC</td>\n",
       "      <td>Al-Qadasiya Club Stadium</td>\n",
       "      <td>21</td>\n",
       "      <td>5:40 PM</td>\n",
       "      <td>4/4/15</td>\n",
       "      <td>11</td>\n",
       "      <td>13</td>\n",
       "      <td>434.0</td>\n",
       "      <td>2</td>\n",
       "      <td>0</td>\n",
       "      <td>1.0</td>\n",
       "      <td>5.0</td>\n",
       "      <td>7.0</td>\n",
       "      <td>4.0</td>\n",
       "      <td>0.0</td>\n",
       "      <td>7.0</td>\n",
       "      <td>4.0</td>\n",
       "      <td>2.0</td>\n",
       "    </tr>\n",
       "    <tr>\n",
       "      <th>49</th>\n",
       "      <td>Al-Shabab Club (Riyadh)</td>\n",
       "      <td>Al-Orobah FC</td>\n",
       "      <td>King Fahd International Stadium</td>\n",
       "      <td>24</td>\n",
       "      <td>6:00 PM</td>\n",
       "      <td>4/26/15</td>\n",
       "      <td>5</td>\n",
       "      <td>13</td>\n",
       "      <td>674.0</td>\n",
       "      <td>3</td>\n",
       "      <td>0</td>\n",
       "      <td>5.0</td>\n",
       "      <td>4.0</td>\n",
       "      <td>15.0</td>\n",
       "      <td>2.0</td>\n",
       "      <td>0.0</td>\n",
       "      <td>8.0</td>\n",
       "      <td>4.0</td>\n",
       "      <td>2.0</td>\n",
       "    </tr>\n",
       "  </tbody>\n",
       "</table>\n",
       "<p>174 rows × 19 columns</p>\n",
       "</div>"
      ],
      "text/plain": [
       "                       TeamA          TeamB  \\\n",
       "92              Al-Orobah FC  Al-Taawoun FC   \n",
       "12                Hajer Club  Al-Taawoun FC   \n",
       "83                   Al-Raed  Al-Taawoun FC   \n",
       "11             Al-Faisaly FC  Al-Taawoun FC   \n",
       "151        Al-Hilal Saudi FC  Al-Taawoun FC   \n",
       "..                       ...            ...   \n",
       "42                 Najran SC   Al-Orobah FC   \n",
       "74             Al-Taawoun FC   Al-Orobah FC   \n",
       "10             Al-Faisaly FC   Al-Orobah FC   \n",
       "31                Al-Khaleej   Al-Orobah FC   \n",
       "49   Al-Shabab Club (Riyadh)   Al-Orobah FC   \n",
       "\n",
       "                                Stadium  Match_Day Match_Time Match_Date  \\\n",
       "92               Al-Orobah Club Stadium          1    6:40 PM    8/15/14   \n",
       "12   Prince Abdullah bin Jalawi Stadium          2    5:50 PM    8/22/14   \n",
       "83     King Abdullah Sport City Stadium          4    7:25 PM    9/11/14   \n",
       "11      Al Majma'ah Sports City Stadium          6    5:30 PM    9/27/14   \n",
       "151     King Fahd International Stadium          8    6:50 PM    12/9/14   \n",
       "..                                  ...        ...        ...        ...   \n",
       "42                   Al-Ukhdood Stadium         12    1:30 PM   12/13/14   \n",
       "74     King Abdullah Sport City Stadium         14    4:30 PM     2/8/15   \n",
       "10      Al Majma'ah Sports City Stadium         18    4:45 PM     3/6/15   \n",
       "31             Al-Qadasiya Club Stadium         21    5:40 PM     4/4/15   \n",
       "49      King Fahd International Stadium         24    6:00 PM    4/26/15   \n",
       "\n",
       "     TeamA_Position  TeamB_Position  Attendance  TeamA_goals  TeamB_goals  \\\n",
       "92                5               8      3741.0            4            3   \n",
       "12                8              13       199.0            2            0   \n",
       "83               11               9      2531.0            0            0   \n",
       "11                6               9       183.0            2            2   \n",
       "151               4               9     25000.0            3            1   \n",
       "..              ...             ...         ...          ...          ...   \n",
       "42                8              12       557.0            2            0   \n",
       "74                8              13      2000.0            1            1   \n",
       "10                6              13       170.0            2            0   \n",
       "31               11              13       434.0            2            0   \n",
       "49                5              13       674.0            3            0   \n",
       "\n",
       "     TeamA_win_sum  TeamA_loss_sum  sum_goals_A  TeamA_draw_sum  \\\n",
       "92             0.0             0.0          0.0             0.0   \n",
       "12             0.0             0.0          0.0             0.0   \n",
       "83             0.0             1.0          1.0             0.0   \n",
       "11             2.0             0.0          3.0             0.0   \n",
       "151            3.0             1.0          9.0             1.0   \n",
       "..             ...             ...          ...             ...   \n",
       "42             1.0             2.0          5.0             1.0   \n",
       "74             2.0             3.0          9.0             1.0   \n",
       "10             3.0             3.0         13.0             3.0   \n",
       "31             1.0             5.0          7.0             4.0   \n",
       "49             5.0             4.0         15.0             2.0   \n",
       "\n",
       "     TeamB_win_sum  TeamB_loss_sum  sum_goals_B  TeamB_draw_sum  \n",
       "92             0.0             0.0          0.0             0.0  \n",
       "12             0.0             1.0          3.0             0.0  \n",
       "83             0.0             2.0          3.0             0.0  \n",
       "11             0.0             2.0          3.0             1.0  \n",
       "151            0.0             2.0          5.0             2.0  \n",
       "..             ...             ...          ...             ...  \n",
       "42             0.0             5.0          3.0             1.0  \n",
       "74             0.0             6.0          3.0             1.0  \n",
       "10             0.0             6.0          4.0             2.0  \n",
       "31             0.0             7.0          4.0             2.0  \n",
       "49             0.0             8.0          4.0             2.0  \n",
       "\n",
       "[174 rows x 19 columns]"
      ]
     },
     "execution_count": 121,
     "metadata": {},
     "output_type": "execute_result"
    }
   ],
   "source": [
    "df_14_clean"
   ]
  },
  {
   "cell_type": "markdown",
   "id": "c1240709",
   "metadata": {},
   "source": [
    "# 15-16 (data loading & removing NA)"
   ]
  },
  {
   "cell_type": "code",
   "execution_count": 122,
   "id": "82943ed5",
   "metadata": {
    "ExecuteTime": {
     "end_time": "2022-08-19T18:11:27.464192Z",
     "start_time": "2022-08-19T18:11:27.458915Z"
    }
   },
   "outputs": [],
   "source": [
    "df_15 = pd.read_csv('15-16S_clean.csv')"
   ]
  },
  {
   "cell_type": "code",
   "execution_count": 123,
   "id": "f56546a7",
   "metadata": {
    "ExecuteTime": {
     "end_time": "2022-08-19T18:11:27.469717Z",
     "start_time": "2022-08-19T18:11:27.465771Z"
    }
   },
   "outputs": [
    {
     "data": {
      "text/plain": [
       "Index(['Unnamed: 0', 'TeamA', 'TeamB', 'Stadium', 'Match_Day', 'Match_Time',\n",
       "       'Match_Date', 'TeamA_Position', 'TeamB_Position', 'Attendance',\n",
       "       'TeamA_goals', 'TeamB_goals'],\n",
       "      dtype='object')"
      ]
     },
     "execution_count": 123,
     "metadata": {},
     "output_type": "execute_result"
    }
   ],
   "source": [
    "df_15.columns"
   ]
  },
  {
   "cell_type": "code",
   "execution_count": 124,
   "id": "77dc2223",
   "metadata": {
    "ExecuteTime": {
     "end_time": "2022-08-19T18:11:27.476820Z",
     "start_time": "2022-08-19T18:11:27.471693Z"
    }
   },
   "outputs": [
    {
     "data": {
      "text/plain": [
       "King Fahd International Stadium       30\n",
       "King Abdullah Sports City             28\n",
       "King Abdullah Sport City Stadium      26\n",
       "Prince Abdullah bin Jalawi Stadium    26\n",
       "Prince Saud bin Jalawi Stadium        19\n",
       "King Abdul Aziz Stadium               16\n",
       "Al Majma'ah Sports City Stadium       13\n",
       "Prince Faisal bin Fahad Stadium        9\n",
       "Al-Ukhdood Stadium                     8\n",
       "Prince Mohamed bin Fahd Stadium        7\n",
       "Name: Stadium, dtype: int64"
      ]
     },
     "execution_count": 124,
     "metadata": {},
     "output_type": "execute_result"
    }
   ],
   "source": [
    "df_15.Stadium.value_counts()"
   ]
  },
  {
   "cell_type": "code",
   "execution_count": 125,
   "id": "4fc10376",
   "metadata": {
    "ExecuteTime": {
     "end_time": "2022-08-19T18:11:27.490472Z",
     "start_time": "2022-08-19T18:11:27.478447Z"
    }
   },
   "outputs": [
    {
     "data": {
      "text/html": [
       "<div>\n",
       "<style scoped>\n",
       "    .dataframe tbody tr th:only-of-type {\n",
       "        vertical-align: middle;\n",
       "    }\n",
       "\n",
       "    .dataframe tbody tr th {\n",
       "        vertical-align: top;\n",
       "    }\n",
       "\n",
       "    .dataframe thead th {\n",
       "        text-align: right;\n",
       "    }\n",
       "</style>\n",
       "<table border=\"1\" class=\"dataframe\">\n",
       "  <thead>\n",
       "    <tr style=\"text-align: right;\">\n",
       "      <th></th>\n",
       "      <th>Unnamed: 0</th>\n",
       "      <th>TeamA</th>\n",
       "      <th>TeamB</th>\n",
       "      <th>Stadium</th>\n",
       "      <th>Match_Day</th>\n",
       "      <th>Match_Time</th>\n",
       "      <th>Match_Date</th>\n",
       "      <th>TeamA_Position</th>\n",
       "      <th>TeamB_Position</th>\n",
       "      <th>Attendance</th>\n",
       "      <th>TeamA_goals</th>\n",
       "      <th>TeamB_goals</th>\n",
       "    </tr>\n",
       "  </thead>\n",
       "  <tbody>\n",
       "    <tr>\n",
       "      <th>0</th>\n",
       "      <td>0</td>\n",
       "      <td>Al-Hilal Saudi FC</td>\n",
       "      <td>Al-Wehda FC</td>\n",
       "      <td>King Fahd International Stadium</td>\n",
       "      <td>1</td>\n",
       "      <td>7:45 PM</td>\n",
       "      <td>8/19/15</td>\n",
       "      <td>2</td>\n",
       "      <td>14</td>\n",
       "      <td>16883.0</td>\n",
       "      <td>2</td>\n",
       "      <td>0</td>\n",
       "    </tr>\n",
       "    <tr>\n",
       "      <th>1</th>\n",
       "      <td>0</td>\n",
       "      <td>Al-Khaleej</td>\n",
       "      <td>Al-Fateh</td>\n",
       "      <td>Prince Saud bin Jalawi Stadium</td>\n",
       "      <td>1</td>\n",
       "      <td>5:55 PM</td>\n",
       "      <td>8/20/15</td>\n",
       "      <td>13</td>\n",
       "      <td>3</td>\n",
       "      <td>315.0</td>\n",
       "      <td>0</td>\n",
       "      <td>2</td>\n",
       "    </tr>\n",
       "    <tr>\n",
       "      <th>2</th>\n",
       "      <td>0</td>\n",
       "      <td>Najran SC</td>\n",
       "      <td>Al-Ittihad Club (Jeddah)</td>\n",
       "      <td>King Abdul Aziz Stadium</td>\n",
       "      <td>1</td>\n",
       "      <td>8:15 PM</td>\n",
       "      <td>8/20/15</td>\n",
       "      <td>10</td>\n",
       "      <td>4</td>\n",
       "      <td>4721.0</td>\n",
       "      <td>1</td>\n",
       "      <td>2</td>\n",
       "    </tr>\n",
       "    <tr>\n",
       "      <th>3</th>\n",
       "      <td>0</td>\n",
       "      <td>Al-Taawoun FC</td>\n",
       "      <td>Al-Ahli Saudi FC</td>\n",
       "      <td>King Abdullah Sport City Stadium</td>\n",
       "      <td>1</td>\n",
       "      <td>6:15 PM</td>\n",
       "      <td>8/21/15</td>\n",
       "      <td>8</td>\n",
       "      <td>6</td>\n",
       "      <td>2953.0</td>\n",
       "      <td>0</td>\n",
       "      <td>0</td>\n",
       "    </tr>\n",
       "    <tr>\n",
       "      <th>4</th>\n",
       "      <td>0</td>\n",
       "      <td>Al-Nassr Riad</td>\n",
       "      <td>Hajer Club</td>\n",
       "      <td>King Fahd International Stadium</td>\n",
       "      <td>1</td>\n",
       "      <td>8:15 PM</td>\n",
       "      <td>8/21/15</td>\n",
       "      <td>7</td>\n",
       "      <td>9</td>\n",
       "      <td>6173.0</td>\n",
       "      <td>0</td>\n",
       "      <td>0</td>\n",
       "    </tr>\n",
       "  </tbody>\n",
       "</table>\n",
       "</div>"
      ],
      "text/plain": [
       "   Unnamed: 0              TeamA                     TeamB  \\\n",
       "0           0  Al-Hilal Saudi FC               Al-Wehda FC   \n",
       "1           0         Al-Khaleej                  Al-Fateh   \n",
       "2           0          Najran SC  Al-Ittihad Club (Jeddah)   \n",
       "3           0      Al-Taawoun FC          Al-Ahli Saudi FC   \n",
       "4           0      Al-Nassr Riad                Hajer Club   \n",
       "\n",
       "                            Stadium  Match_Day Match_Time Match_Date  \\\n",
       "0   King Fahd International Stadium          1    7:45 PM    8/19/15   \n",
       "1    Prince Saud bin Jalawi Stadium          1    5:55 PM    8/20/15   \n",
       "2           King Abdul Aziz Stadium          1    8:15 PM    8/20/15   \n",
       "3  King Abdullah Sport City Stadium          1    6:15 PM    8/21/15   \n",
       "4   King Fahd International Stadium          1    8:15 PM    8/21/15   \n",
       "\n",
       "   TeamA_Position  TeamB_Position  Attendance  TeamA_goals  TeamB_goals  \n",
       "0               2              14     16883.0            2            0  \n",
       "1              13               3       315.0            0            2  \n",
       "2              10               4      4721.0            1            2  \n",
       "3               8               6      2953.0            0            0  \n",
       "4               7               9      6173.0            0            0  "
      ]
     },
     "execution_count": 125,
     "metadata": {},
     "output_type": "execute_result"
    }
   ],
   "source": [
    "df_15.head()"
   ]
  },
  {
   "cell_type": "code",
   "execution_count": 126,
   "id": "54c89511",
   "metadata": {
    "ExecuteTime": {
     "end_time": "2022-08-19T18:11:27.503459Z",
     "start_time": "2022-08-19T18:11:27.492290Z"
    }
   },
   "outputs": [
    {
     "name": "stdout",
     "output_type": "stream",
     "text": [
      "<class 'pandas.core.frame.DataFrame'>\n",
      "RangeIndex: 182 entries, 0 to 181\n",
      "Data columns (total 12 columns):\n",
      " #   Column          Non-Null Count  Dtype  \n",
      "---  ------          --------------  -----  \n",
      " 0   Unnamed: 0      182 non-null    int64  \n",
      " 1   TeamA           182 non-null    object \n",
      " 2   TeamB           182 non-null    object \n",
      " 3   Stadium         182 non-null    object \n",
      " 4   Match_Day       182 non-null    int64  \n",
      " 5   Match_Time      182 non-null    object \n",
      " 6   Match_Date      182 non-null    object \n",
      " 7   TeamA_Position  182 non-null    int64  \n",
      " 8   TeamB_Position  182 non-null    int64  \n",
      " 9   Attendance      180 non-null    float64\n",
      " 10  TeamA_goals     182 non-null    int64  \n",
      " 11  TeamB_goals     182 non-null    int64  \n",
      "dtypes: float64(1), int64(6), object(5)\n",
      "memory usage: 17.2+ KB\n"
     ]
    }
   ],
   "source": [
    "df_15.info()"
   ]
  },
  {
   "cell_type": "code",
   "execution_count": 127,
   "id": "fbe9adf9",
   "metadata": {
    "ExecuteTime": {
     "end_time": "2022-08-19T18:11:27.510669Z",
     "start_time": "2022-08-19T18:11:27.506091Z"
    }
   },
   "outputs": [],
   "source": [
    "NA_df= df_15[df_15.isnull().any(axis=1)]"
   ]
  },
  {
   "cell_type": "code",
   "execution_count": 128,
   "id": "82e1d506",
   "metadata": {
    "ExecuteTime": {
     "end_time": "2022-08-19T18:11:27.526282Z",
     "start_time": "2022-08-19T18:11:27.513466Z"
    },
    "scrolled": true
   },
   "outputs": [
    {
     "data": {
      "text/html": [
       "<div>\n",
       "<style scoped>\n",
       "    .dataframe tbody tr th:only-of-type {\n",
       "        vertical-align: middle;\n",
       "    }\n",
       "\n",
       "    .dataframe tbody tr th {\n",
       "        vertical-align: top;\n",
       "    }\n",
       "\n",
       "    .dataframe thead th {\n",
       "        text-align: right;\n",
       "    }\n",
       "</style>\n",
       "<table border=\"1\" class=\"dataframe\">\n",
       "  <thead>\n",
       "    <tr style=\"text-align: right;\">\n",
       "      <th></th>\n",
       "      <th>Unnamed: 0</th>\n",
       "      <th>TeamA</th>\n",
       "      <th>TeamB</th>\n",
       "      <th>Stadium</th>\n",
       "      <th>Match_Day</th>\n",
       "      <th>Match_Time</th>\n",
       "      <th>Match_Date</th>\n",
       "      <th>TeamA_Position</th>\n",
       "      <th>TeamB_Position</th>\n",
       "      <th>Attendance</th>\n",
       "      <th>TeamA_goals</th>\n",
       "      <th>TeamB_goals</th>\n",
       "    </tr>\n",
       "  </thead>\n",
       "  <tbody>\n",
       "    <tr>\n",
       "      <th>20</th>\n",
       "      <td>0</td>\n",
       "      <td>Al-Hilal Saudi FC</td>\n",
       "      <td>Al-Raed</td>\n",
       "      <td>King Fahd International Stadium</td>\n",
       "      <td>3</td>\n",
       "      <td>5:35 PM</td>\n",
       "      <td>9/20/15</td>\n",
       "      <td>1</td>\n",
       "      <td>14</td>\n",
       "      <td>NaN</td>\n",
       "      <td>1</td>\n",
       "      <td>0</td>\n",
       "    </tr>\n",
       "    <tr>\n",
       "      <th>80</th>\n",
       "      <td>0</td>\n",
       "      <td>Al-Nassr Riad</td>\n",
       "      <td>Al-Ittihad Club (Jeddah)</td>\n",
       "      <td>King Fahd International Stadium</td>\n",
       "      <td>12</td>\n",
       "      <td>6:00 PM</td>\n",
       "      <td>12/14/15</td>\n",
       "      <td>6</td>\n",
       "      <td>4</td>\n",
       "      <td>NaN</td>\n",
       "      <td>3</td>\n",
       "      <td>0</td>\n",
       "    </tr>\n",
       "  </tbody>\n",
       "</table>\n",
       "</div>"
      ],
      "text/plain": [
       "    Unnamed: 0              TeamA                     TeamB  \\\n",
       "20           0  Al-Hilal Saudi FC                   Al-Raed   \n",
       "80           0      Al-Nassr Riad  Al-Ittihad Club (Jeddah)   \n",
       "\n",
       "                            Stadium  Match_Day Match_Time Match_Date  \\\n",
       "20  King Fahd International Stadium          3    5:35 PM    9/20/15   \n",
       "80  King Fahd International Stadium         12    6:00 PM   12/14/15   \n",
       "\n",
       "    TeamA_Position  TeamB_Position  Attendance  TeamA_goals  TeamB_goals  \n",
       "20               1              14         NaN            1            0  \n",
       "80               6               4         NaN            3            0  "
      ]
     },
     "execution_count": 128,
     "metadata": {},
     "output_type": "execute_result"
    }
   ],
   "source": [
    "NA_df"
   ]
  },
  {
   "cell_type": "code",
   "execution_count": 129,
   "id": "32a9b743",
   "metadata": {
    "ExecuteTime": {
     "end_time": "2022-08-19T18:11:27.532682Z",
     "start_time": "2022-08-19T18:11:27.528071Z"
    }
   },
   "outputs": [],
   "source": [
    "df_15_clean=df_15.dropna()"
   ]
  },
  {
   "cell_type": "code",
   "execution_count": 130,
   "id": "c50d409e",
   "metadata": {
    "ExecuteTime": {
     "end_time": "2022-08-19T18:11:27.537551Z",
     "start_time": "2022-08-19T18:11:27.534384Z"
    }
   },
   "outputs": [],
   "source": [
    "df_15_clean=df_15_clean.drop(\"Unnamed: 0\",axis=1)"
   ]
  },
  {
   "cell_type": "code",
   "execution_count": 131,
   "id": "f88fb330",
   "metadata": {
    "ExecuteTime": {
     "end_time": "2022-08-19T18:11:27.546585Z",
     "start_time": "2022-08-19T18:11:27.539184Z"
    }
   },
   "outputs": [
    {
     "data": {
      "text/html": [
       "<div>\n",
       "<style scoped>\n",
       "    .dataframe tbody tr th:only-of-type {\n",
       "        vertical-align: middle;\n",
       "    }\n",
       "\n",
       "    .dataframe tbody tr th {\n",
       "        vertical-align: top;\n",
       "    }\n",
       "\n",
       "    .dataframe thead th {\n",
       "        text-align: right;\n",
       "    }\n",
       "</style>\n",
       "<table border=\"1\" class=\"dataframe\">\n",
       "  <thead>\n",
       "    <tr style=\"text-align: right;\">\n",
       "      <th></th>\n",
       "      <th>TeamA</th>\n",
       "      <th>TeamB</th>\n",
       "      <th>Stadium</th>\n",
       "      <th>Match_Day</th>\n",
       "      <th>Match_Time</th>\n",
       "      <th>Match_Date</th>\n",
       "      <th>TeamA_Position</th>\n",
       "      <th>TeamB_Position</th>\n",
       "      <th>Attendance</th>\n",
       "      <th>TeamA_goals</th>\n",
       "      <th>TeamB_goals</th>\n",
       "    </tr>\n",
       "  </thead>\n",
       "  <tbody>\n",
       "  </tbody>\n",
       "</table>\n",
       "</div>"
      ],
      "text/plain": [
       "Empty DataFrame\n",
       "Columns: [TeamA, TeamB, Stadium, Match_Day, Match_Time, Match_Date, TeamA_Position, TeamB_Position, Attendance, TeamA_goals, TeamB_goals]\n",
       "Index: []"
      ]
     },
     "execution_count": 131,
     "metadata": {},
     "output_type": "execute_result"
    }
   ],
   "source": [
    "df_15_clean[df_15_clean.isnull().any(axis=1)]"
   ]
  },
  {
   "cell_type": "code",
   "execution_count": 132,
   "id": "42504fb1",
   "metadata": {
    "ExecuteTime": {
     "end_time": "2022-08-19T18:11:27.584090Z",
     "start_time": "2022-08-19T18:11:27.548025Z"
    }
   },
   "outputs": [],
   "source": [
    "#grouped = df_14_clean.groupby(df_14_clean['TeamA'])\n",
    "grouped = df_15_clean.sort_values(['Match_Day','TeamA'],ascending=True).groupby('TeamA')\n",
    "my_df  = pd.DataFrame()\n",
    "for i in df_15_clean['TeamA'].value_counts().index:\n",
    "    a=grouped.get_group(i)\n",
    "    a.loc[a[\"TeamA_goals\"] > a[\"TeamB_goals\"] , 'TeamA_win'] = 1\n",
    "    a.loc[a[\"TeamA_goals\"] <= a[\"TeamB_goals\"] , 'TeamA_win'] = 0\n",
    "    a.loc[a[\"TeamA_goals\"] < a[\"TeamB_goals\"] , 'TeamA_loss'] = 1\n",
    "    a.loc[a[\"TeamA_goals\"] >= a[\"TeamB_goals\"] , 'TeamA_loss'] = 0\n",
    "    a.loc[a[\"TeamA_goals\"] != a[\"TeamB_goals\"] , 'TeamA_draw'] = 0\n",
    "    a.loc[a[\"TeamA_goals\"] == a[\"TeamB_goals\"] , 'TeamA_draw'] = 1\n",
    "    \n",
    "    a['TeamA_win_sum']=a[\"TeamA_win\"].cumsum().shift(1)\n",
    "    a['TeamA_loss_sum']=a[\"TeamA_loss\"].cumsum().shift(1) \n",
    "   # a['sum_Attendance']=a[\"Attendance\"].cumsum().shift(1)\n",
    "   # a['avg_Attendance']=calculate_MA(a['Attendance'])\n",
    "    a['sum_goals_A']=a[\"TeamA_goals\"].cumsum().shift(1)\n",
    "    a['TeamA_draw_sum']=a[\"TeamA_draw\"].cumsum().shift(1)\n",
    "    \n",
    "    \n",
    "    \n",
    "    \n",
    "    \n",
    "    a['sum_goals_A']=a[\"sum_goals_A\"].fillna(0)\n",
    "    #a['sum_Attendance']=a['sum_Attendance'].fillna(0)\n",
    "    a['TeamA_win_sum']=a[\"TeamA_win_sum\"].fillna(0)\n",
    "    a['TeamA_loss_sum']=a[\"TeamA_loss_sum\"].fillna(0)\n",
    "    a['TeamA_draw_sum']=a[\"TeamA_draw_sum\"].fillna(0)\n",
    "    \n",
    "    my_df=my_df.append(a)\n",
    "my_df=my_df.drop([\"TeamA_loss\",\"TeamA_win\",'TeamA_draw'],axis=1)\n",
    "df_15_clean=my_df"
   ]
  },
  {
   "cell_type": "code",
   "execution_count": 133,
   "id": "02a52ef1",
   "metadata": {
    "ExecuteTime": {
     "end_time": "2022-08-19T18:11:27.605090Z",
     "start_time": "2022-08-19T18:11:27.585832Z"
    }
   },
   "outputs": [
    {
     "data": {
      "text/html": [
       "<div>\n",
       "<style scoped>\n",
       "    .dataframe tbody tr th:only-of-type {\n",
       "        vertical-align: middle;\n",
       "    }\n",
       "\n",
       "    .dataframe tbody tr th {\n",
       "        vertical-align: top;\n",
       "    }\n",
       "\n",
       "    .dataframe thead th {\n",
       "        text-align: right;\n",
       "    }\n",
       "</style>\n",
       "<table border=\"1\" class=\"dataframe\">\n",
       "  <thead>\n",
       "    <tr style=\"text-align: right;\">\n",
       "      <th></th>\n",
       "      <th>TeamA</th>\n",
       "      <th>TeamB</th>\n",
       "      <th>Stadium</th>\n",
       "      <th>Match_Day</th>\n",
       "      <th>Match_Time</th>\n",
       "      <th>Match_Date</th>\n",
       "      <th>TeamA_Position</th>\n",
       "      <th>TeamB_Position</th>\n",
       "      <th>Attendance</th>\n",
       "      <th>TeamA_goals</th>\n",
       "      <th>TeamB_goals</th>\n",
       "      <th>TeamA_win_sum</th>\n",
       "      <th>TeamA_loss_sum</th>\n",
       "      <th>sum_goals_A</th>\n",
       "      <th>TeamA_draw_sum</th>\n",
       "    </tr>\n",
       "  </thead>\n",
       "  <tbody>\n",
       "    <tr>\n",
       "      <th>1</th>\n",
       "      <td>Al-Khaleej</td>\n",
       "      <td>Al-Fateh</td>\n",
       "      <td>Prince Saud bin Jalawi Stadium</td>\n",
       "      <td>1</td>\n",
       "      <td>5:55 PM</td>\n",
       "      <td>8/20/15</td>\n",
       "      <td>13</td>\n",
       "      <td>3</td>\n",
       "      <td>315.0</td>\n",
       "      <td>0</td>\n",
       "      <td>2</td>\n",
       "      <td>0.0</td>\n",
       "      <td>0.0</td>\n",
       "      <td>0.0</td>\n",
       "      <td>0.0</td>\n",
       "    </tr>\n",
       "    <tr>\n",
       "      <th>7</th>\n",
       "      <td>Al-Khaleej</td>\n",
       "      <td>Al-Ahli Saudi FC</td>\n",
       "      <td>Prince Mohamed bin Fahd Stadium</td>\n",
       "      <td>2</td>\n",
       "      <td>5:45 PM</td>\n",
       "      <td>8/27/15</td>\n",
       "      <td>14</td>\n",
       "      <td>4</td>\n",
       "      <td>3127.0</td>\n",
       "      <td>0</td>\n",
       "      <td>4</td>\n",
       "      <td>0.0</td>\n",
       "      <td>1.0</td>\n",
       "      <td>0.0</td>\n",
       "      <td>0.0</td>\n",
       "    </tr>\n",
       "    <tr>\n",
       "      <th>29</th>\n",
       "      <td>Al-Khaleej</td>\n",
       "      <td>Al-Taawoun FC</td>\n",
       "      <td>Prince Mohamed bin Fahd Stadium</td>\n",
       "      <td>5</td>\n",
       "      <td>3:40 PM</td>\n",
       "      <td>10/29/15</td>\n",
       "      <td>10</td>\n",
       "      <td>5</td>\n",
       "      <td>268.0</td>\n",
       "      <td>1</td>\n",
       "      <td>1</td>\n",
       "      <td>0.0</td>\n",
       "      <td>2.0</td>\n",
       "      <td>0.0</td>\n",
       "      <td>0.0</td>\n",
       "    </tr>\n",
       "    <tr>\n",
       "      <th>42</th>\n",
       "      <td>Al-Khaleej</td>\n",
       "      <td>Najran SC</td>\n",
       "      <td>Prince Saud bin Jalawi Stadium</td>\n",
       "      <td>7</td>\n",
       "      <td>3:35 PM</td>\n",
       "      <td>11/7/15</td>\n",
       "      <td>6</td>\n",
       "      <td>14</td>\n",
       "      <td>220.0</td>\n",
       "      <td>3</td>\n",
       "      <td>1</td>\n",
       "      <td>0.0</td>\n",
       "      <td>2.0</td>\n",
       "      <td>1.0</td>\n",
       "      <td>1.0</td>\n",
       "    </tr>\n",
       "    <tr>\n",
       "      <th>60</th>\n",
       "      <td>Al-Khaleej</td>\n",
       "      <td>Al-Ittihad Club (Jeddah)</td>\n",
       "      <td>Prince Mohamed bin Fahd Stadium</td>\n",
       "      <td>9</td>\n",
       "      <td>3:30 PM</td>\n",
       "      <td>11/27/15</td>\n",
       "      <td>8</td>\n",
       "      <td>4</td>\n",
       "      <td>3472.0</td>\n",
       "      <td>2</td>\n",
       "      <td>2</td>\n",
       "      <td>1.0</td>\n",
       "      <td>2.0</td>\n",
       "      <td>4.0</td>\n",
       "      <td>1.0</td>\n",
       "    </tr>\n",
       "    <tr>\n",
       "      <th>...</th>\n",
       "      <td>...</td>\n",
       "      <td>...</td>\n",
       "      <td>...</td>\n",
       "      <td>...</td>\n",
       "      <td>...</td>\n",
       "      <td>...</td>\n",
       "      <td>...</td>\n",
       "      <td>...</td>\n",
       "      <td>...</td>\n",
       "      <td>...</td>\n",
       "      <td>...</td>\n",
       "      <td>...</td>\n",
       "      <td>...</td>\n",
       "      <td>...</td>\n",
       "      <td>...</td>\n",
       "    </tr>\n",
       "    <tr>\n",
       "      <th>123</th>\n",
       "      <td>Al-Nassr Riad</td>\n",
       "      <td>Al-Wehda FC</td>\n",
       "      <td>King Fahd International Stadium</td>\n",
       "      <td>18</td>\n",
       "      <td>6:40 PM</td>\n",
       "      <td>2/26/16</td>\n",
       "      <td>7</td>\n",
       "      <td>11</td>\n",
       "      <td>3096.0</td>\n",
       "      <td>1</td>\n",
       "      <td>1</td>\n",
       "      <td>2.0</td>\n",
       "      <td>1.0</td>\n",
       "      <td>7.0</td>\n",
       "      <td>4.0</td>\n",
       "    </tr>\n",
       "    <tr>\n",
       "      <th>142</th>\n",
       "      <td>Al-Nassr Riad</td>\n",
       "      <td>Al-Taawoun FC</td>\n",
       "      <td>King Fahd International Stadium</td>\n",
       "      <td>21</td>\n",
       "      <td>8:00 PM</td>\n",
       "      <td>4/1/16</td>\n",
       "      <td>8</td>\n",
       "      <td>4</td>\n",
       "      <td>2633.0</td>\n",
       "      <td>3</td>\n",
       "      <td>2</td>\n",
       "      <td>2.0</td>\n",
       "      <td>1.0</td>\n",
       "      <td>8.0</td>\n",
       "      <td>5.0</td>\n",
       "    </tr>\n",
       "    <tr>\n",
       "      <th>154</th>\n",
       "      <td>Al-Nassr Riad</td>\n",
       "      <td>Al-Raed</td>\n",
       "      <td>King Fahd International Stadium</td>\n",
       "      <td>23</td>\n",
       "      <td>5:55 PM</td>\n",
       "      <td>4/15/16</td>\n",
       "      <td>8</td>\n",
       "      <td>11</td>\n",
       "      <td>1838.0</td>\n",
       "      <td>1</td>\n",
       "      <td>2</td>\n",
       "      <td>3.0</td>\n",
       "      <td>1.0</td>\n",
       "      <td>11.0</td>\n",
       "      <td>5.0</td>\n",
       "    </tr>\n",
       "    <tr>\n",
       "      <th>164</th>\n",
       "      <td>Al-Nassr Riad</td>\n",
       "      <td>Al-Khaleej</td>\n",
       "      <td>King Fahd International Stadium</td>\n",
       "      <td>24</td>\n",
       "      <td>6:00 PM</td>\n",
       "      <td>4/23/16</td>\n",
       "      <td>8</td>\n",
       "      <td>7</td>\n",
       "      <td>1074.0</td>\n",
       "      <td>1</td>\n",
       "      <td>1</td>\n",
       "      <td>3.0</td>\n",
       "      <td>2.0</td>\n",
       "      <td>12.0</td>\n",
       "      <td>5.0</td>\n",
       "    </tr>\n",
       "    <tr>\n",
       "      <th>178</th>\n",
       "      <td>Al-Nassr Riad</td>\n",
       "      <td>Al-Shabab Club (Riyadh)</td>\n",
       "      <td>King Fahd International Stadium</td>\n",
       "      <td>26</td>\n",
       "      <td>8:00 PM</td>\n",
       "      <td>5/13/16</td>\n",
       "      <td>8</td>\n",
       "      <td>6</td>\n",
       "      <td>1946.0</td>\n",
       "      <td>1</td>\n",
       "      <td>2</td>\n",
       "      <td>3.0</td>\n",
       "      <td>2.0</td>\n",
       "      <td>13.0</td>\n",
       "      <td>6.0</td>\n",
       "    </tr>\n",
       "  </tbody>\n",
       "</table>\n",
       "<p>180 rows × 15 columns</p>\n",
       "</div>"
      ],
      "text/plain": [
       "             TeamA                     TeamB                          Stadium  \\\n",
       "1       Al-Khaleej                  Al-Fateh   Prince Saud bin Jalawi Stadium   \n",
       "7       Al-Khaleej          Al-Ahli Saudi FC  Prince Mohamed bin Fahd Stadium   \n",
       "29      Al-Khaleej             Al-Taawoun FC  Prince Mohamed bin Fahd Stadium   \n",
       "42      Al-Khaleej                 Najran SC   Prince Saud bin Jalawi Stadium   \n",
       "60      Al-Khaleej  Al-Ittihad Club (Jeddah)  Prince Mohamed bin Fahd Stadium   \n",
       "..             ...                       ...                              ...   \n",
       "123  Al-Nassr Riad               Al-Wehda FC  King Fahd International Stadium   \n",
       "142  Al-Nassr Riad             Al-Taawoun FC  King Fahd International Stadium   \n",
       "154  Al-Nassr Riad                   Al-Raed  King Fahd International Stadium   \n",
       "164  Al-Nassr Riad                Al-Khaleej  King Fahd International Stadium   \n",
       "178  Al-Nassr Riad   Al-Shabab Club (Riyadh)  King Fahd International Stadium   \n",
       "\n",
       "     Match_Day Match_Time Match_Date  TeamA_Position  TeamB_Position  \\\n",
       "1            1    5:55 PM    8/20/15              13               3   \n",
       "7            2    5:45 PM    8/27/15              14               4   \n",
       "29           5    3:40 PM   10/29/15              10               5   \n",
       "42           7    3:35 PM    11/7/15               6              14   \n",
       "60           9    3:30 PM   11/27/15               8               4   \n",
       "..         ...        ...        ...             ...             ...   \n",
       "123         18    6:40 PM    2/26/16               7              11   \n",
       "142         21    8:00 PM     4/1/16               8               4   \n",
       "154         23    5:55 PM    4/15/16               8              11   \n",
       "164         24    6:00 PM    4/23/16               8               7   \n",
       "178         26    8:00 PM    5/13/16               8               6   \n",
       "\n",
       "     Attendance  TeamA_goals  TeamB_goals  TeamA_win_sum  TeamA_loss_sum  \\\n",
       "1         315.0            0            2            0.0             0.0   \n",
       "7        3127.0            0            4            0.0             1.0   \n",
       "29        268.0            1            1            0.0             2.0   \n",
       "42        220.0            3            1            0.0             2.0   \n",
       "60       3472.0            2            2            1.0             2.0   \n",
       "..          ...          ...          ...            ...             ...   \n",
       "123      3096.0            1            1            2.0             1.0   \n",
       "142      2633.0            3            2            2.0             1.0   \n",
       "154      1838.0            1            2            3.0             1.0   \n",
       "164      1074.0            1            1            3.0             2.0   \n",
       "178      1946.0            1            2            3.0             2.0   \n",
       "\n",
       "     sum_goals_A  TeamA_draw_sum  \n",
       "1            0.0             0.0  \n",
       "7            0.0             0.0  \n",
       "29           0.0             0.0  \n",
       "42           1.0             1.0  \n",
       "60           4.0             1.0  \n",
       "..           ...             ...  \n",
       "123          7.0             4.0  \n",
       "142          8.0             5.0  \n",
       "154         11.0             5.0  \n",
       "164         12.0             5.0  \n",
       "178         13.0             6.0  \n",
       "\n",
       "[180 rows x 15 columns]"
      ]
     },
     "execution_count": 133,
     "metadata": {},
     "output_type": "execute_result"
    }
   ],
   "source": [
    "df_15_clean"
   ]
  },
  {
   "cell_type": "code",
   "execution_count": 134,
   "id": "52c69eae",
   "metadata": {},
   "outputs": [],
   "source": [
    "#grouped = df_14_clean.groupby(df_14_clean['TeamB',\"Match_Day\"])\n",
    "grouped = df_15_clean.sort_values(['Match_Day','TeamB'],ascending=True).groupby('TeamB')\n",
    "my_df  = pd.DataFrame()\n",
    "for i in df_15_clean['TeamB'].value_counts().index:\n",
    "    a=grouped.get_group(i)\n",
    "    a.loc[a[\"TeamB_goals\"] > a[\"TeamA_goals\"] , 'TeamB_win'] = 1\n",
    "    a.loc[a[\"TeamB_goals\"] <= a[\"TeamA_goals\"] , 'TeamB_win'] = 0\n",
    "    a.loc[a[\"TeamB_goals\"] < a[\"TeamA_goals\"] , 'TeamB_loss'] = 1\n",
    "    a.loc[a[\"TeamB_goals\"] >= a[\"TeamA_goals\"] , 'TeamB_loss'] = 0\n",
    "    a.loc[a[\"TeamB_goals\"] != a[\"TeamA_goals\"] , 'TeamB_draw'] = 0\n",
    "    a.loc[a[\"TeamB_goals\"] == a[\"TeamA_goals\"] , 'TeamB_draw'] = 1\n",
    "    \n",
    "    a['TeamB_win_sum']=a[\"TeamB_win\"].cumsum().shift(1)\n",
    "    a['TeamB_loss_sum']=a[\"TeamB_loss\"].cumsum().shift(1) \n",
    "    a['sum_goals_B']=a[\"TeamB_goals\"].cumsum().shift(1)\n",
    "    a['TeamB_draw_sum']=a[\"TeamB_draw\"].cumsum().shift(1)\n",
    "    \n",
    "    \n",
    "    \n",
    "    \n",
    "    \n",
    "    a['sum_goals_B']=a[\"sum_goals_B\"].fillna(0)\n",
    "    a['TeamB_win_sum']=a[\"TeamB_win_sum\"].fillna(0)\n",
    "    a['TeamB_loss_sum']=a[\"TeamB_loss_sum\"].fillna(0)\n",
    "    a['TeamB_draw_sum']=a[\"TeamB_draw_sum\"].fillna(0)\n",
    "    \n",
    "    my_df=my_df.append(a)\n",
    "my_df=my_df.drop([\"TeamB_loss\",\"TeamB_win\",'TeamB_draw'],axis=1)\n",
    "df_15_clean=my_df"
   ]
  },
  {
   "cell_type": "markdown",
   "id": "d89bf26c",
   "metadata": {},
   "source": [
    "# 16-17 season (data loading & removing NA)"
   ]
  },
  {
   "cell_type": "code",
   "execution_count": 135,
   "id": "884934fd",
   "metadata": {
    "ExecuteTime": {
     "end_time": "2022-08-19T18:11:27.611998Z",
     "start_time": "2022-08-19T18:11:27.606886Z"
    }
   },
   "outputs": [],
   "source": [
    "df_16 = pd.read_csv('16-17S_clean.csv')"
   ]
  },
  {
   "cell_type": "code",
   "execution_count": 136,
   "id": "d3478a9e",
   "metadata": {
    "ExecuteTime": {
     "end_time": "2022-08-19T18:11:27.623047Z",
     "start_time": "2022-08-19T18:11:27.619551Z"
    }
   },
   "outputs": [
    {
     "data": {
      "text/plain": [
       "Index(['Unnamed: 0', 'TeamA', 'TeamB', 'Stadium', 'Match_Day', 'Match_Time',\n",
       "       'Match_Date', 'TeamA_Position', 'TeamB_Position', 'Attendance',\n",
       "       'TeamA_goals', 'TeamB_goals'],\n",
       "      dtype='object')"
      ]
     },
     "execution_count": 136,
     "metadata": {},
     "output_type": "execute_result"
    }
   ],
   "source": [
    "df_16.columns"
   ]
  },
  {
   "cell_type": "code",
   "execution_count": 137,
   "id": "0347fcd1",
   "metadata": {
    "ExecuteTime": {
     "end_time": "2022-08-19T18:11:27.629243Z",
     "start_time": "2022-08-19T18:11:27.624597Z"
    }
   },
   "outputs": [
    {
     "data": {
      "text/plain": [
       "King Fahd International Stadium       26\n",
       "King Abdullah Sport City Stadium      26\n",
       "King Abdullah Sports City             26\n",
       "Prince Saud bin Jalawi Stadium        22\n",
       "Prince Mohamed bin Fahd Stadium       17\n",
       "Al Majma'ah Sports City Stadium       13\n",
       "King Abdul Aziz Stadium               13\n",
       "Al-Batin Club Stadium                 13\n",
       "Prince Abdullah bin Jalawi Stadium    13\n",
       "Prince Faisal bin Fahad Stadium       13\n",
       "Name: Stadium, dtype: int64"
      ]
     },
     "execution_count": 137,
     "metadata": {},
     "output_type": "execute_result"
    }
   ],
   "source": [
    "df_16.Stadium.value_counts()"
   ]
  },
  {
   "cell_type": "code",
   "execution_count": 138,
   "id": "4502f9eb",
   "metadata": {
    "ExecuteTime": {
     "end_time": "2022-08-19T18:11:27.641207Z",
     "start_time": "2022-08-19T18:11:27.630819Z"
    }
   },
   "outputs": [
    {
     "data": {
      "text/html": [
       "<div>\n",
       "<style scoped>\n",
       "    .dataframe tbody tr th:only-of-type {\n",
       "        vertical-align: middle;\n",
       "    }\n",
       "\n",
       "    .dataframe tbody tr th {\n",
       "        vertical-align: top;\n",
       "    }\n",
       "\n",
       "    .dataframe thead th {\n",
       "        text-align: right;\n",
       "    }\n",
       "</style>\n",
       "<table border=\"1\" class=\"dataframe\">\n",
       "  <thead>\n",
       "    <tr style=\"text-align: right;\">\n",
       "      <th></th>\n",
       "      <th>Unnamed: 0</th>\n",
       "      <th>TeamA</th>\n",
       "      <th>TeamB</th>\n",
       "      <th>Stadium</th>\n",
       "      <th>Match_Day</th>\n",
       "      <th>Match_Time</th>\n",
       "      <th>Match_Date</th>\n",
       "      <th>TeamA_Position</th>\n",
       "      <th>TeamB_Position</th>\n",
       "      <th>Attendance</th>\n",
       "      <th>TeamA_goals</th>\n",
       "      <th>TeamB_goals</th>\n",
       "    </tr>\n",
       "  </thead>\n",
       "  <tbody>\n",
       "    <tr>\n",
       "      <th>0</th>\n",
       "      <td>0</td>\n",
       "      <td>Al-Shabab Club (Riyadh)</td>\n",
       "      <td>Al-Qadsiah FC</td>\n",
       "      <td>King Fahd International Stadium</td>\n",
       "      <td>1</td>\n",
       "      <td>6:10 PM</td>\n",
       "      <td>8/11/16</td>\n",
       "      <td>6</td>\n",
       "      <td>7</td>\n",
       "      <td>1406.0</td>\n",
       "      <td>0</td>\n",
       "      <td>0</td>\n",
       "    </tr>\n",
       "    <tr>\n",
       "      <th>1</th>\n",
       "      <td>0</td>\n",
       "      <td>Al-Raed</td>\n",
       "      <td>Al-Ittihad Club (Jeddah)</td>\n",
       "      <td>King Abdullah Sport City Stadium</td>\n",
       "      <td>1</td>\n",
       "      <td>8:05 PM</td>\n",
       "      <td>8/11/16</td>\n",
       "      <td>9</td>\n",
       "      <td>8</td>\n",
       "      <td>7017.0</td>\n",
       "      <td>2</td>\n",
       "      <td>3</td>\n",
       "    </tr>\n",
       "    <tr>\n",
       "      <th>2</th>\n",
       "      <td>0</td>\n",
       "      <td>Al-Faisaly FC</td>\n",
       "      <td>Al-Khaleej</td>\n",
       "      <td>Al Majma'ah Sports City Stadium</td>\n",
       "      <td>1</td>\n",
       "      <td>6:10 PM</td>\n",
       "      <td>8/12/16</td>\n",
       "      <td>3</td>\n",
       "      <td>11</td>\n",
       "      <td>214.0</td>\n",
       "      <td>3</td>\n",
       "      <td>1</td>\n",
       "    </tr>\n",
       "    <tr>\n",
       "      <th>3</th>\n",
       "      <td>0</td>\n",
       "      <td>Al-Wehda FC</td>\n",
       "      <td>Al-Taawoun FC</td>\n",
       "      <td>King Abdul Aziz Stadium</td>\n",
       "      <td>1</td>\n",
       "      <td>8:05 PM</td>\n",
       "      <td>8/12/16</td>\n",
       "      <td>5</td>\n",
       "      <td>10</td>\n",
       "      <td>681.0</td>\n",
       "      <td>3</td>\n",
       "      <td>2</td>\n",
       "    </tr>\n",
       "    <tr>\n",
       "      <th>4</th>\n",
       "      <td>0</td>\n",
       "      <td>Al-Nassr Riad</td>\n",
       "      <td>Al-Fateh</td>\n",
       "      <td>King Fahd International Stadium</td>\n",
       "      <td>1</td>\n",
       "      <td>8:05 PM</td>\n",
       "      <td>8/12/16</td>\n",
       "      <td>2</td>\n",
       "      <td>14</td>\n",
       "      <td>11264.0</td>\n",
       "      <td>4</td>\n",
       "      <td>1</td>\n",
       "    </tr>\n",
       "  </tbody>\n",
       "</table>\n",
       "</div>"
      ],
      "text/plain": [
       "   Unnamed: 0                    TeamA                     TeamB  \\\n",
       "0           0  Al-Shabab Club (Riyadh)             Al-Qadsiah FC   \n",
       "1           0                  Al-Raed  Al-Ittihad Club (Jeddah)   \n",
       "2           0            Al-Faisaly FC                Al-Khaleej   \n",
       "3           0              Al-Wehda FC             Al-Taawoun FC   \n",
       "4           0            Al-Nassr Riad                  Al-Fateh   \n",
       "\n",
       "                            Stadium  Match_Day Match_Time Match_Date  \\\n",
       "0   King Fahd International Stadium          1    6:10 PM    8/11/16   \n",
       "1  King Abdullah Sport City Stadium          1    8:05 PM    8/11/16   \n",
       "2   Al Majma'ah Sports City Stadium          1    6:10 PM    8/12/16   \n",
       "3           King Abdul Aziz Stadium          1    8:05 PM    8/12/16   \n",
       "4   King Fahd International Stadium          1    8:05 PM    8/12/16   \n",
       "\n",
       "   TeamA_Position  TeamB_Position  Attendance  TeamA_goals  TeamB_goals  \n",
       "0               6               7      1406.0            0            0  \n",
       "1               9               8      7017.0            2            3  \n",
       "2               3              11       214.0            3            1  \n",
       "3               5              10       681.0            3            2  \n",
       "4               2              14     11264.0            4            1  "
      ]
     },
     "execution_count": 138,
     "metadata": {},
     "output_type": "execute_result"
    }
   ],
   "source": [
    "df_16.head()"
   ]
  },
  {
   "cell_type": "code",
   "execution_count": 139,
   "id": "12df96bf",
   "metadata": {
    "ExecuteTime": {
     "end_time": "2022-08-19T18:11:27.651644Z",
     "start_time": "2022-08-19T18:11:27.643060Z"
    }
   },
   "outputs": [
    {
     "name": "stdout",
     "output_type": "stream",
     "text": [
      "<class 'pandas.core.frame.DataFrame'>\n",
      "RangeIndex: 182 entries, 0 to 181\n",
      "Data columns (total 12 columns):\n",
      " #   Column          Non-Null Count  Dtype  \n",
      "---  ------          --------------  -----  \n",
      " 0   Unnamed: 0      182 non-null    int64  \n",
      " 1   TeamA           182 non-null    object \n",
      " 2   TeamB           182 non-null    object \n",
      " 3   Stadium         182 non-null    object \n",
      " 4   Match_Day       182 non-null    int64  \n",
      " 5   Match_Time      182 non-null    object \n",
      " 6   Match_Date      182 non-null    object \n",
      " 7   TeamA_Position  182 non-null    int64  \n",
      " 8   TeamB_Position  182 non-null    int64  \n",
      " 9   Attendance      180 non-null    float64\n",
      " 10  TeamA_goals     182 non-null    int64  \n",
      " 11  TeamB_goals     182 non-null    int64  \n",
      "dtypes: float64(1), int64(6), object(5)\n",
      "memory usage: 17.2+ KB\n"
     ]
    }
   ],
   "source": [
    "df_16.info()"
   ]
  },
  {
   "cell_type": "code",
   "execution_count": 140,
   "id": "e4d39b96",
   "metadata": {
    "ExecuteTime": {
     "end_time": "2022-08-19T18:11:27.657469Z",
     "start_time": "2022-08-19T18:11:27.653196Z"
    }
   },
   "outputs": [],
   "source": [
    "NA_df= df_16[df_16.isnull().any(axis=1)]"
   ]
  },
  {
   "cell_type": "code",
   "execution_count": 141,
   "id": "086cd4e0",
   "metadata": {
    "ExecuteTime": {
     "end_time": "2022-08-19T18:11:27.668212Z",
     "start_time": "2022-08-19T18:11:27.659146Z"
    },
    "scrolled": true
   },
   "outputs": [
    {
     "data": {
      "text/html": [
       "<div>\n",
       "<style scoped>\n",
       "    .dataframe tbody tr th:only-of-type {\n",
       "        vertical-align: middle;\n",
       "    }\n",
       "\n",
       "    .dataframe tbody tr th {\n",
       "        vertical-align: top;\n",
       "    }\n",
       "\n",
       "    .dataframe thead th {\n",
       "        text-align: right;\n",
       "    }\n",
       "</style>\n",
       "<table border=\"1\" class=\"dataframe\">\n",
       "  <thead>\n",
       "    <tr style=\"text-align: right;\">\n",
       "      <th></th>\n",
       "      <th>Unnamed: 0</th>\n",
       "      <th>TeamA</th>\n",
       "      <th>TeamB</th>\n",
       "      <th>Stadium</th>\n",
       "      <th>Match_Day</th>\n",
       "      <th>Match_Time</th>\n",
       "      <th>Match_Date</th>\n",
       "      <th>TeamA_Position</th>\n",
       "      <th>TeamB_Position</th>\n",
       "      <th>Attendance</th>\n",
       "      <th>TeamA_goals</th>\n",
       "      <th>TeamB_goals</th>\n",
       "    </tr>\n",
       "  </thead>\n",
       "  <tbody>\n",
       "    <tr>\n",
       "      <th>30</th>\n",
       "      <td>0</td>\n",
       "      <td>Al-Batin FC</td>\n",
       "      <td>Al-Raed</td>\n",
       "      <td>Al-Batin Club Stadium</td>\n",
       "      <td>5</td>\n",
       "      <td>6:10 PM</td>\n",
       "      <td>10/14/16</td>\n",
       "      <td>8</td>\n",
       "      <td>9</td>\n",
       "      <td>NaN</td>\n",
       "      <td>4</td>\n",
       "      <td>0</td>\n",
       "    </tr>\n",
       "    <tr>\n",
       "      <th>155</th>\n",
       "      <td>0</td>\n",
       "      <td>Al-Shabab Club (Riyadh)</td>\n",
       "      <td>Al-Raed</td>\n",
       "      <td>King Fahd International Stadium</td>\n",
       "      <td>23</td>\n",
       "      <td>7:45 PM</td>\n",
       "      <td>4/13/17</td>\n",
       "      <td>5</td>\n",
       "      <td>6</td>\n",
       "      <td>NaN</td>\n",
       "      <td>1</td>\n",
       "      <td>2</td>\n",
       "    </tr>\n",
       "  </tbody>\n",
       "</table>\n",
       "</div>"
      ],
      "text/plain": [
       "     Unnamed: 0                    TeamA    TeamB  \\\n",
       "30            0              Al-Batin FC  Al-Raed   \n",
       "155           0  Al-Shabab Club (Riyadh)  Al-Raed   \n",
       "\n",
       "                             Stadium  Match_Day Match_Time Match_Date  \\\n",
       "30             Al-Batin Club Stadium          5    6:10 PM   10/14/16   \n",
       "155  King Fahd International Stadium         23    7:45 PM    4/13/17   \n",
       "\n",
       "     TeamA_Position  TeamB_Position  Attendance  TeamA_goals  TeamB_goals  \n",
       "30                8               9         NaN            4            0  \n",
       "155               5               6         NaN            1            2  "
      ]
     },
     "execution_count": 141,
     "metadata": {},
     "output_type": "execute_result"
    }
   ],
   "source": [
    "NA_df"
   ]
  },
  {
   "cell_type": "code",
   "execution_count": 142,
   "id": "f702e41d",
   "metadata": {
    "ExecuteTime": {
     "end_time": "2022-08-19T18:11:27.673480Z",
     "start_time": "2022-08-19T18:11:27.669707Z"
    }
   },
   "outputs": [],
   "source": [
    "df_16_clean=df_16.dropna()"
   ]
  },
  {
   "cell_type": "code",
   "execution_count": 143,
   "id": "40035042",
   "metadata": {
    "ExecuteTime": {
     "end_time": "2022-08-19T18:11:27.678474Z",
     "start_time": "2022-08-19T18:11:27.675374Z"
    }
   },
   "outputs": [],
   "source": [
    "df_16_clean=df_16_clean.drop(\"Unnamed: 0\",axis=1)"
   ]
  },
  {
   "cell_type": "code",
   "execution_count": 144,
   "id": "f10cffad",
   "metadata": {
    "ExecuteTime": {
     "end_time": "2022-08-19T18:11:27.700661Z",
     "start_time": "2022-08-19T18:11:27.680151Z"
    }
   },
   "outputs": [
    {
     "data": {
      "text/html": [
       "<div>\n",
       "<style scoped>\n",
       "    .dataframe tbody tr th:only-of-type {\n",
       "        vertical-align: middle;\n",
       "    }\n",
       "\n",
       "    .dataframe tbody tr th {\n",
       "        vertical-align: top;\n",
       "    }\n",
       "\n",
       "    .dataframe thead th {\n",
       "        text-align: right;\n",
       "    }\n",
       "</style>\n",
       "<table border=\"1\" class=\"dataframe\">\n",
       "  <thead>\n",
       "    <tr style=\"text-align: right;\">\n",
       "      <th></th>\n",
       "      <th>TeamA</th>\n",
       "      <th>TeamB</th>\n",
       "      <th>Stadium</th>\n",
       "      <th>Match_Day</th>\n",
       "      <th>Match_Time</th>\n",
       "      <th>Match_Date</th>\n",
       "      <th>TeamA_Position</th>\n",
       "      <th>TeamB_Position</th>\n",
       "      <th>Attendance</th>\n",
       "      <th>TeamA_goals</th>\n",
       "      <th>TeamB_goals</th>\n",
       "    </tr>\n",
       "  </thead>\n",
       "  <tbody>\n",
       "  </tbody>\n",
       "</table>\n",
       "</div>"
      ],
      "text/plain": [
       "Empty DataFrame\n",
       "Columns: [TeamA, TeamB, Stadium, Match_Day, Match_Time, Match_Date, TeamA_Position, TeamB_Position, Attendance, TeamA_goals, TeamB_goals]\n",
       "Index: []"
      ]
     },
     "execution_count": 144,
     "metadata": {},
     "output_type": "execute_result"
    }
   ],
   "source": [
    "df_16_clean[df_16_clean.isnull().any(axis=1)]"
   ]
  },
  {
   "cell_type": "code",
   "execution_count": 145,
   "id": "a570dc15",
   "metadata": {
    "ExecuteTime": {
     "end_time": "2022-08-19T18:11:27.737406Z",
     "start_time": "2022-08-19T18:11:27.702199Z"
    }
   },
   "outputs": [],
   "source": [
    "#grouped = df_14_clean.groupby(df_14_clean['TeamA'])\n",
    "grouped = df_16_clean.sort_values(['Match_Day','TeamA'],ascending=True).groupby('TeamA')\n",
    "my_df  = pd.DataFrame()\n",
    "for i in df_16_clean['TeamA'].value_counts().index:\n",
    "    a=grouped.get_group(i)\n",
    "    a.loc[a[\"TeamA_goals\"] > a[\"TeamB_goals\"] , 'TeamA_win'] = 1\n",
    "    a.loc[a[\"TeamA_goals\"] <= a[\"TeamB_goals\"] , 'TeamA_win'] = 0\n",
    "    a.loc[a[\"TeamA_goals\"] < a[\"TeamB_goals\"] , 'TeamA_loss'] = 1\n",
    "    a.loc[a[\"TeamA_goals\"] >= a[\"TeamB_goals\"] , 'TeamA_loss'] = 0\n",
    "    a.loc[a[\"TeamA_goals\"] != a[\"TeamB_goals\"] , 'TeamA_draw'] = 0\n",
    "    a.loc[a[\"TeamA_goals\"] == a[\"TeamB_goals\"] , 'TeamA_draw'] = 1\n",
    "    \n",
    "    a['TeamA_win_sum']=a[\"TeamA_win\"].cumsum().shift(1)\n",
    "    a['TeamA_loss_sum']=a[\"TeamA_loss\"].cumsum().shift(1) \n",
    "   # a['sum_Attendance']=a[\"Attendance\"].cumsum().shift(1)\n",
    "    #a['avg_Attendance']=calculate_MA(a['Attendance'])\n",
    "    a['sum_goals_A']=a[\"TeamA_goals\"].cumsum().shift(1)\n",
    "    a['TeamA_draw_sum']=a[\"TeamA_draw\"].cumsum().shift(1)\n",
    "    \n",
    "    \n",
    "    \n",
    "    \n",
    "    \n",
    "    a['sum_goals_A']=a[\"sum_goals_A\"].fillna(0)\n",
    "    #a['sum_Attendance']=a['sum_Attendance'].fillna(0)\n",
    "    a['TeamA_win_sum']=a[\"TeamA_win_sum\"].fillna(0)\n",
    "    a['TeamA_loss_sum']=a[\"TeamA_loss_sum\"].fillna(0)\n",
    "    a['TeamA_draw_sum']=a[\"TeamA_draw_sum\"].fillna(0)\n",
    "    \n",
    "    my_df=my_df.append(a)\n",
    "my_df=my_df.drop([\"TeamA_loss\",\"TeamA_win\",'TeamA_draw'],axis=1)\n",
    "df_16_clean=my_df"
   ]
  },
  {
   "cell_type": "code",
   "execution_count": 146,
   "id": "24b97759",
   "metadata": {},
   "outputs": [],
   "source": [
    "#grouped = df_14_clean.groupby(df_14_clean['TeamB',\"Match_Day\"])\n",
    "grouped = df_16_clean.sort_values(['Match_Day','TeamB'],ascending=True).groupby('TeamB')\n",
    "my_df  = pd.DataFrame()\n",
    "for i in df_16_clean['TeamB'].value_counts().index:\n",
    "    a=grouped.get_group(i)\n",
    "    a.loc[a[\"TeamB_goals\"] > a[\"TeamA_goals\"] , 'TeamB_win'] = 1\n",
    "    a.loc[a[\"TeamB_goals\"] <= a[\"TeamA_goals\"] , 'TeamB_win'] = 0\n",
    "    a.loc[a[\"TeamB_goals\"] < a[\"TeamA_goals\"] , 'TeamB_loss'] = 1\n",
    "    a.loc[a[\"TeamB_goals\"] >= a[\"TeamA_goals\"] , 'TeamB_loss'] = 0\n",
    "    a.loc[a[\"TeamB_goals\"] != a[\"TeamA_goals\"] , 'TeamB_draw'] = 0\n",
    "    a.loc[a[\"TeamB_goals\"] == a[\"TeamA_goals\"] , 'TeamB_draw'] = 1\n",
    "    \n",
    "    a['TeamB_win_sum']=a[\"TeamB_win\"].cumsum().shift(1)\n",
    "    a['TeamB_loss_sum']=a[\"TeamB_loss\"].cumsum().shift(1) \n",
    "    a['sum_goals_B']=a[\"TeamB_goals\"].cumsum().shift(1)\n",
    "    a['TeamB_draw_sum']=a[\"TeamB_draw\"].cumsum().shift(1)\n",
    "    \n",
    "    \n",
    "    \n",
    "    \n",
    "    \n",
    "    a['sum_goals_B']=a[\"sum_goals_B\"].fillna(0)\n",
    "    a['TeamB_win_sum']=a[\"TeamB_win_sum\"].fillna(0)\n",
    "    a['TeamB_loss_sum']=a[\"TeamB_loss_sum\"].fillna(0)\n",
    "    a['TeamB_draw_sum']=a[\"TeamB_draw_sum\"].fillna(0)\n",
    "    \n",
    "    my_df=my_df.append(a)\n",
    "my_df=my_df.drop([\"TeamB_loss\",\"TeamB_win\",'TeamB_draw'],axis=1)\n",
    "df_16_clean=my_df"
   ]
  },
  {
   "cell_type": "markdown",
   "id": "0d4632eb",
   "metadata": {},
   "source": [
    "# 17-18 season (data loading & removing NA)"
   ]
  },
  {
   "cell_type": "code",
   "execution_count": 147,
   "id": "5cb1893d",
   "metadata": {
    "ExecuteTime": {
     "end_time": "2022-08-19T18:11:27.743820Z",
     "start_time": "2022-08-19T18:11:27.738808Z"
    }
   },
   "outputs": [],
   "source": [
    "df_17 = pd.read_csv('17-18S_clean.csv')"
   ]
  },
  {
   "cell_type": "code",
   "execution_count": 148,
   "id": "f5208026",
   "metadata": {
    "ExecuteTime": {
     "end_time": "2022-08-19T18:11:27.748713Z",
     "start_time": "2022-08-19T18:11:27.745419Z"
    }
   },
   "outputs": [
    {
     "data": {
      "text/plain": [
       "Index(['Unnamed: 0', 'TeamA', 'TeamB', 'Stadium', 'Match_Day', 'Match_Time',\n",
       "       'Match_Date', 'TeamA_Position', 'TeamB_Position', 'Attendance',\n",
       "       'TeamA_goals', 'TeamB_goals'],\n",
       "      dtype='object')"
      ]
     },
     "execution_count": 148,
     "metadata": {},
     "output_type": "execute_result"
    }
   ],
   "source": [
    "df_17.columns"
   ]
  },
  {
   "cell_type": "code",
   "execution_count": 149,
   "id": "bd9f3206",
   "metadata": {
    "ExecuteTime": {
     "end_time": "2022-08-19T18:11:27.761621Z",
     "start_time": "2022-08-19T18:11:27.750337Z"
    }
   },
   "outputs": [
    {
     "data": {
      "text/html": [
       "<div>\n",
       "<style scoped>\n",
       "    .dataframe tbody tr th:only-of-type {\n",
       "        vertical-align: middle;\n",
       "    }\n",
       "\n",
       "    .dataframe tbody tr th {\n",
       "        vertical-align: top;\n",
       "    }\n",
       "\n",
       "    .dataframe thead th {\n",
       "        text-align: right;\n",
       "    }\n",
       "</style>\n",
       "<table border=\"1\" class=\"dataframe\">\n",
       "  <thead>\n",
       "    <tr style=\"text-align: right;\">\n",
       "      <th></th>\n",
       "      <th>Unnamed: 0</th>\n",
       "      <th>TeamA</th>\n",
       "      <th>TeamB</th>\n",
       "      <th>Stadium</th>\n",
       "      <th>Match_Day</th>\n",
       "      <th>Match_Time</th>\n",
       "      <th>Match_Date</th>\n",
       "      <th>TeamA_Position</th>\n",
       "      <th>TeamB_Position</th>\n",
       "      <th>Attendance</th>\n",
       "      <th>TeamA_goals</th>\n",
       "      <th>TeamB_goals</th>\n",
       "    </tr>\n",
       "  </thead>\n",
       "  <tbody>\n",
       "    <tr>\n",
       "      <th>0</th>\n",
       "      <td>0</td>\n",
       "      <td>Al-Fateh</td>\n",
       "      <td>Al-Taawoun FC</td>\n",
       "      <td>Prince Abdullah bin Jalawi Stadium</td>\n",
       "      <td>1</td>\n",
       "      <td>6:00 PM</td>\n",
       "      <td>8/10/17</td>\n",
       "      <td>14</td>\n",
       "      <td>1</td>\n",
       "      <td>1814.0</td>\n",
       "      <td>1</td>\n",
       "      <td>4</td>\n",
       "    </tr>\n",
       "    <tr>\n",
       "      <th>1</th>\n",
       "      <td>0</td>\n",
       "      <td>Al-Hilal Saudi FC</td>\n",
       "      <td>Al-Fayha FC</td>\n",
       "      <td>King Fahd International Stadium</td>\n",
       "      <td>1</td>\n",
       "      <td>8:55 PM</td>\n",
       "      <td>8/10/17</td>\n",
       "      <td>4</td>\n",
       "      <td>11</td>\n",
       "      <td>9765.0</td>\n",
       "      <td>2</td>\n",
       "      <td>1</td>\n",
       "    </tr>\n",
       "    <tr>\n",
       "      <th>2</th>\n",
       "      <td>0</td>\n",
       "      <td>Al-Qadsiah FC</td>\n",
       "      <td>Al-Raed</td>\n",
       "      <td>Prince Saud bin Jalawi Stadium</td>\n",
       "      <td>1</td>\n",
       "      <td>6:00 PM</td>\n",
       "      <td>8/11/17</td>\n",
       "      <td>6</td>\n",
       "      <td>10</td>\n",
       "      <td>655.0</td>\n",
       "      <td>2</td>\n",
       "      <td>1</td>\n",
       "    </tr>\n",
       "    <tr>\n",
       "      <th>3</th>\n",
       "      <td>0</td>\n",
       "      <td>Al-Ittihad Club (Jeddah)</td>\n",
       "      <td>Al-Batin FC</td>\n",
       "      <td>King Abdullah Sports City</td>\n",
       "      <td>1</td>\n",
       "      <td>7:55 PM</td>\n",
       "      <td>8/11/17</td>\n",
       "      <td>12</td>\n",
       "      <td>3</td>\n",
       "      <td>17018.0</td>\n",
       "      <td>1</td>\n",
       "      <td>3</td>\n",
       "    </tr>\n",
       "    <tr>\n",
       "      <th>4</th>\n",
       "      <td>0</td>\n",
       "      <td>Ettifaq FC</td>\n",
       "      <td>Al-Ahli Saudi FC</td>\n",
       "      <td>Prince Mohamed bin Fahd Stadium</td>\n",
       "      <td>1</td>\n",
       "      <td>7:55 PM</td>\n",
       "      <td>8/11/17</td>\n",
       "      <td>5</td>\n",
       "      <td>9</td>\n",
       "      <td>3722.0</td>\n",
       "      <td>2</td>\n",
       "      <td>1</td>\n",
       "    </tr>\n",
       "  </tbody>\n",
       "</table>\n",
       "</div>"
      ],
      "text/plain": [
       "   Unnamed: 0                     TeamA             TeamB  \\\n",
       "0           0                  Al-Fateh     Al-Taawoun FC   \n",
       "1           0         Al-Hilal Saudi FC       Al-Fayha FC   \n",
       "2           0             Al-Qadsiah FC           Al-Raed   \n",
       "3           0  Al-Ittihad Club (Jeddah)       Al-Batin FC   \n",
       "4           0                Ettifaq FC  Al-Ahli Saudi FC   \n",
       "\n",
       "                              Stadium  Match_Day Match_Time Match_Date  \\\n",
       "0  Prince Abdullah bin Jalawi Stadium          1    6:00 PM    8/10/17   \n",
       "1     King Fahd International Stadium          1    8:55 PM    8/10/17   \n",
       "2      Prince Saud bin Jalawi Stadium          1    6:00 PM    8/11/17   \n",
       "3           King Abdullah Sports City          1    7:55 PM    8/11/17   \n",
       "4     Prince Mohamed bin Fahd Stadium          1    7:55 PM    8/11/17   \n",
       "\n",
       "   TeamA_Position  TeamB_Position  Attendance  TeamA_goals  TeamB_goals  \n",
       "0              14               1      1814.0            1            4  \n",
       "1               4              11      9765.0            2            1  \n",
       "2               6              10       655.0            2            1  \n",
       "3              12               3     17018.0            1            3  \n",
       "4               5               9      3722.0            2            1  "
      ]
     },
     "execution_count": 149,
     "metadata": {},
     "output_type": "execute_result"
    }
   ],
   "source": [
    "df_17.head()"
   ]
  },
  {
   "cell_type": "code",
   "execution_count": 150,
   "id": "d033b742",
   "metadata": {
    "ExecuteTime": {
     "end_time": "2022-08-19T18:11:27.771370Z",
     "start_time": "2022-08-19T18:11:27.763446Z"
    }
   },
   "outputs": [
    {
     "name": "stdout",
     "output_type": "stream",
     "text": [
      "<class 'pandas.core.frame.DataFrame'>\n",
      "RangeIndex: 182 entries, 0 to 181\n",
      "Data columns (total 12 columns):\n",
      " #   Column          Non-Null Count  Dtype  \n",
      "---  ------          --------------  -----  \n",
      " 0   Unnamed: 0      182 non-null    int64  \n",
      " 1   TeamA           182 non-null    object \n",
      " 2   TeamB           182 non-null    object \n",
      " 3   Stadium         182 non-null    object \n",
      " 4   Match_Day       182 non-null    int64  \n",
      " 5   Match_Time      182 non-null    object \n",
      " 6   Match_Date      182 non-null    object \n",
      " 7   TeamA_Position  182 non-null    int64  \n",
      " 8   TeamB_Position  182 non-null    int64  \n",
      " 9   Attendance      178 non-null    float64\n",
      " 10  TeamA_goals     182 non-null    int64  \n",
      " 11  TeamB_goals     182 non-null    int64  \n",
      "dtypes: float64(1), int64(6), object(5)\n",
      "memory usage: 17.2+ KB\n"
     ]
    }
   ],
   "source": [
    "df_17.info()"
   ]
  },
  {
   "cell_type": "code",
   "execution_count": 151,
   "id": "b0f33cc3",
   "metadata": {
    "ExecuteTime": {
     "end_time": "2022-08-19T18:11:27.776163Z",
     "start_time": "2022-08-19T18:11:27.772852Z"
    }
   },
   "outputs": [],
   "source": [
    "NA_df= df_17[df_17.isnull().any(axis=1)]"
   ]
  },
  {
   "cell_type": "code",
   "execution_count": 152,
   "id": "f1fbb7ac",
   "metadata": {
    "ExecuteTime": {
     "end_time": "2022-08-19T18:11:27.789607Z",
     "start_time": "2022-08-19T18:11:27.777882Z"
    },
    "scrolled": true
   },
   "outputs": [
    {
     "data": {
      "text/html": [
       "<div>\n",
       "<style scoped>\n",
       "    .dataframe tbody tr th:only-of-type {\n",
       "        vertical-align: middle;\n",
       "    }\n",
       "\n",
       "    .dataframe tbody tr th {\n",
       "        vertical-align: top;\n",
       "    }\n",
       "\n",
       "    .dataframe thead th {\n",
       "        text-align: right;\n",
       "    }\n",
       "</style>\n",
       "<table border=\"1\" class=\"dataframe\">\n",
       "  <thead>\n",
       "    <tr style=\"text-align: right;\">\n",
       "      <th></th>\n",
       "      <th>Unnamed: 0</th>\n",
       "      <th>TeamA</th>\n",
       "      <th>TeamB</th>\n",
       "      <th>Stadium</th>\n",
       "      <th>Match_Day</th>\n",
       "      <th>Match_Time</th>\n",
       "      <th>Match_Date</th>\n",
       "      <th>TeamA_Position</th>\n",
       "      <th>TeamB_Position</th>\n",
       "      <th>Attendance</th>\n",
       "      <th>TeamA_goals</th>\n",
       "      <th>TeamB_goals</th>\n",
       "    </tr>\n",
       "  </thead>\n",
       "  <tbody>\n",
       "    <tr>\n",
       "      <th>7</th>\n",
       "      <td>0</td>\n",
       "      <td>Al-Taawoun FC</td>\n",
       "      <td>Al-Hilal Saudi FC</td>\n",
       "      <td>King Abdullah Sport City Stadium</td>\n",
       "      <td>2</td>\n",
       "      <td>7:50 PM</td>\n",
       "      <td>8/15/17</td>\n",
       "      <td>6</td>\n",
       "      <td>2</td>\n",
       "      <td>NaN</td>\n",
       "      <td>3</td>\n",
       "      <td>4</td>\n",
       "    </tr>\n",
       "    <tr>\n",
       "      <th>58</th>\n",
       "      <td>0</td>\n",
       "      <td>Al-Qadsiah FC</td>\n",
       "      <td>Al-Taawoun FC</td>\n",
       "      <td>Prince Saud bin Jalawi Stadium</td>\n",
       "      <td>9</td>\n",
       "      <td>3:35 PM</td>\n",
       "      <td>11/1/17</td>\n",
       "      <td>7</td>\n",
       "      <td>9</td>\n",
       "      <td>NaN</td>\n",
       "      <td>1</td>\n",
       "      <td>0</td>\n",
       "    </tr>\n",
       "    <tr>\n",
       "      <th>75</th>\n",
       "      <td>0</td>\n",
       "      <td>Al-Fateh</td>\n",
       "      <td>Al-Faisaly FC</td>\n",
       "      <td>Prince Abdullah bin Jalawi Stadium</td>\n",
       "      <td>11</td>\n",
       "      <td>6:30 PM</td>\n",
       "      <td>11/25/17</td>\n",
       "      <td>6</td>\n",
       "      <td>3</td>\n",
       "      <td>NaN</td>\n",
       "      <td>0</td>\n",
       "      <td>5</td>\n",
       "    </tr>\n",
       "    <tr>\n",
       "      <th>114</th>\n",
       "      <td>0</td>\n",
       "      <td>Al-Taawoun FC</td>\n",
       "      <td>Al-Raed</td>\n",
       "      <td>King Abdullah Sport City Stadium</td>\n",
       "      <td>17</td>\n",
       "      <td>4:15 PM</td>\n",
       "      <td>1/12/18</td>\n",
       "      <td>8</td>\n",
       "      <td>14</td>\n",
       "      <td>NaN</td>\n",
       "      <td>2</td>\n",
       "      <td>2</td>\n",
       "    </tr>\n",
       "  </tbody>\n",
       "</table>\n",
       "</div>"
      ],
      "text/plain": [
       "     Unnamed: 0          TeamA              TeamB  \\\n",
       "7             0  Al-Taawoun FC  Al-Hilal Saudi FC   \n",
       "58            0  Al-Qadsiah FC      Al-Taawoun FC   \n",
       "75            0       Al-Fateh      Al-Faisaly FC   \n",
       "114           0  Al-Taawoun FC            Al-Raed   \n",
       "\n",
       "                                Stadium  Match_Day Match_Time Match_Date  \\\n",
       "7      King Abdullah Sport City Stadium          2    7:50 PM    8/15/17   \n",
       "58       Prince Saud bin Jalawi Stadium          9    3:35 PM    11/1/17   \n",
       "75   Prince Abdullah bin Jalawi Stadium         11    6:30 PM   11/25/17   \n",
       "114    King Abdullah Sport City Stadium         17    4:15 PM    1/12/18   \n",
       "\n",
       "     TeamA_Position  TeamB_Position  Attendance  TeamA_goals  TeamB_goals  \n",
       "7                 6               2         NaN            3            4  \n",
       "58                7               9         NaN            1            0  \n",
       "75                6               3         NaN            0            5  \n",
       "114               8              14         NaN            2            2  "
      ]
     },
     "execution_count": 152,
     "metadata": {},
     "output_type": "execute_result"
    }
   ],
   "source": [
    "NA_df"
   ]
  },
  {
   "cell_type": "code",
   "execution_count": 153,
   "id": "59d8f12d",
   "metadata": {
    "ExecuteTime": {
     "end_time": "2022-08-19T18:11:27.795831Z",
     "start_time": "2022-08-19T18:11:27.791303Z"
    }
   },
   "outputs": [],
   "source": [
    "df_17_clean=df_17.dropna()"
   ]
  },
  {
   "cell_type": "code",
   "execution_count": 154,
   "id": "d1f23819",
   "metadata": {
    "ExecuteTime": {
     "end_time": "2022-08-19T18:11:27.800677Z",
     "start_time": "2022-08-19T18:11:27.797697Z"
    }
   },
   "outputs": [],
   "source": [
    "df_17_clean=df_17_clean.drop(\"Unnamed: 0\",axis=1)"
   ]
  },
  {
   "cell_type": "code",
   "execution_count": 155,
   "id": "f7e0a0e6",
   "metadata": {
    "ExecuteTime": {
     "end_time": "2022-08-19T18:11:27.811497Z",
     "start_time": "2022-08-19T18:11:27.802235Z"
    }
   },
   "outputs": [
    {
     "data": {
      "text/html": [
       "<div>\n",
       "<style scoped>\n",
       "    .dataframe tbody tr th:only-of-type {\n",
       "        vertical-align: middle;\n",
       "    }\n",
       "\n",
       "    .dataframe tbody tr th {\n",
       "        vertical-align: top;\n",
       "    }\n",
       "\n",
       "    .dataframe thead th {\n",
       "        text-align: right;\n",
       "    }\n",
       "</style>\n",
       "<table border=\"1\" class=\"dataframe\">\n",
       "  <thead>\n",
       "    <tr style=\"text-align: right;\">\n",
       "      <th></th>\n",
       "      <th>TeamA</th>\n",
       "      <th>TeamB</th>\n",
       "      <th>Stadium</th>\n",
       "      <th>Match_Day</th>\n",
       "      <th>Match_Time</th>\n",
       "      <th>Match_Date</th>\n",
       "      <th>TeamA_Position</th>\n",
       "      <th>TeamB_Position</th>\n",
       "      <th>Attendance</th>\n",
       "      <th>TeamA_goals</th>\n",
       "      <th>TeamB_goals</th>\n",
       "    </tr>\n",
       "  </thead>\n",
       "  <tbody>\n",
       "  </tbody>\n",
       "</table>\n",
       "</div>"
      ],
      "text/plain": [
       "Empty DataFrame\n",
       "Columns: [TeamA, TeamB, Stadium, Match_Day, Match_Time, Match_Date, TeamA_Position, TeamB_Position, Attendance, TeamA_goals, TeamB_goals]\n",
       "Index: []"
      ]
     },
     "execution_count": 155,
     "metadata": {},
     "output_type": "execute_result"
    }
   ],
   "source": [
    "df_17_clean[df_17_clean.isnull().any(axis=1)]"
   ]
  },
  {
   "cell_type": "code",
   "execution_count": 156,
   "id": "0bf5de1e",
   "metadata": {
    "ExecuteTime": {
     "end_time": "2022-08-19T18:11:27.737406Z",
     "start_time": "2022-08-19T18:11:27.702199Z"
    }
   },
   "outputs": [],
   "source": [
    "#grouped = df_14_clean.groupby(df_14_clean['TeamA'])\n",
    "grouped = df_17_clean.sort_values(['Match_Day','TeamA'],ascending=True).groupby('TeamA')\n",
    "my_df  = pd.DataFrame()\n",
    "for i in df_17_clean['TeamA'].value_counts().index:\n",
    "    a=grouped.get_group(i)\n",
    "    a.loc[a[\"TeamA_goals\"] > a[\"TeamB_goals\"] , 'TeamA_win'] = 1\n",
    "    a.loc[a[\"TeamA_goals\"] <= a[\"TeamB_goals\"] , 'TeamA_win'] = 0\n",
    "    a.loc[a[\"TeamA_goals\"] < a[\"TeamB_goals\"] , 'TeamA_loss'] = 1\n",
    "    a.loc[a[\"TeamA_goals\"] >= a[\"TeamB_goals\"] , 'TeamA_loss'] = 0\n",
    "    a.loc[a[\"TeamA_goals\"] != a[\"TeamB_goals\"] , 'TeamA_draw'] = 0\n",
    "    a.loc[a[\"TeamA_goals\"] == a[\"TeamB_goals\"] , 'TeamA_draw'] = 1\n",
    "    \n",
    "    a['TeamA_win_sum']=a[\"TeamA_win\"].cumsum().shift(1)\n",
    "    a['TeamA_loss_sum']=a[\"TeamA_loss\"].cumsum().shift(1) \n",
    "   # a['sum_Attendance']=a[\"Attendance\"].cumsum().shift(1)\n",
    "   # a['avg_Attendance']=calculate_MA(a['Attendance'])\n",
    "    a['sum_goals_A']=a[\"TeamA_goals\"].cumsum().shift(1)\n",
    "    a['TeamA_draw_sum']=a[\"TeamA_draw\"].cumsum().shift(1)\n",
    "    \n",
    "    \n",
    "    \n",
    "    \n",
    "    \n",
    "    a['sum_goals_A']=a[\"sum_goals_A\"].fillna(0)\n",
    "    #a['sum_Attendance']=a['sum_Attendance'].fillna(0)\n",
    "    a['TeamA_win_sum']=a[\"TeamA_win_sum\"].fillna(0)\n",
    "    a['TeamA_loss_sum']=a[\"TeamA_loss_sum\"].fillna(0)\n",
    "    a['TeamA_draw_sum']=a[\"TeamA_draw_sum\"].fillna(0)\n",
    "    \n",
    "    my_df=my_df.append(a)\n",
    "my_df=my_df.drop([\"TeamA_loss\",\"TeamA_win\",'TeamA_draw'],axis=1)\n",
    "df_17_clean=my_df"
   ]
  },
  {
   "cell_type": "code",
   "execution_count": 157,
   "id": "f1c5418b",
   "metadata": {},
   "outputs": [],
   "source": [
    "#grouped = df_14_clean.groupby(df_14_clean['TeamB',\"Match_Day\"])\n",
    "grouped = df_17_clean.sort_values(['Match_Day','TeamB'],ascending=True).groupby('TeamB')\n",
    "my_df  = pd.DataFrame()\n",
    "for i in df_17_clean['TeamB'].value_counts().index:\n",
    "    a=grouped.get_group(i)\n",
    "    a.loc[a[\"TeamB_goals\"] > a[\"TeamA_goals\"] , 'TeamB_win'] = 1\n",
    "    a.loc[a[\"TeamB_goals\"] <= a[\"TeamA_goals\"] , 'TeamB_win'] = 0\n",
    "    a.loc[a[\"TeamB_goals\"] < a[\"TeamA_goals\"] , 'TeamB_loss'] = 1\n",
    "    a.loc[a[\"TeamB_goals\"] >= a[\"TeamA_goals\"] , 'TeamB_loss'] = 0\n",
    "    a.loc[a[\"TeamB_goals\"] != a[\"TeamA_goals\"] , 'TeamB_draw'] = 0\n",
    "    a.loc[a[\"TeamB_goals\"] == a[\"TeamA_goals\"] , 'TeamB_draw'] = 1\n",
    "    \n",
    "    a['TeamB_win_sum']=a[\"TeamB_win\"].cumsum().shift(1)\n",
    "    a['TeamB_loss_sum']=a[\"TeamB_loss\"].cumsum().shift(1) \n",
    "    a['sum_goals_B']=a[\"TeamB_goals\"].cumsum().shift(1)\n",
    "    a['TeamB_draw_sum']=a[\"TeamB_draw\"].cumsum().shift(1)\n",
    "    \n",
    "    \n",
    "    \n",
    "    \n",
    "    \n",
    "    a['sum_goals_B']=a[\"sum_goals_B\"].fillna(0)\n",
    "    a['TeamB_win_sum']=a[\"TeamB_win_sum\"].fillna(0)\n",
    "    a['TeamB_loss_sum']=a[\"TeamB_loss_sum\"].fillna(0)\n",
    "    a['TeamB_draw_sum']=a[\"TeamB_draw_sum\"].fillna(0)\n",
    "    \n",
    "    my_df=my_df.append(a)\n",
    "my_df=my_df.drop([\"TeamB_loss\",\"TeamB_win\",'TeamB_draw'],axis=1)\n",
    "df_17_clean=my_df"
   ]
  },
  {
   "cell_type": "markdown",
   "id": "63b07f45",
   "metadata": {},
   "source": [
    "# combine all seasons"
   ]
  },
  {
   "cell_type": "code",
   "execution_count": 158,
   "id": "bfc2ae5e",
   "metadata": {
    "ExecuteTime": {
     "end_time": "2022-08-19T18:11:27.890083Z",
     "start_time": "2022-08-19T18:11:27.886376Z"
    }
   },
   "outputs": [
    {
     "data": {
      "text/plain": [
       "Index(['TeamA', 'TeamB', 'Stadium', 'Match_Day', 'Match_Time', 'Match_Date',\n",
       "       'TeamA_Position', 'TeamB_Position', 'Attendance', 'TeamA_goals',\n",
       "       'TeamB_goals', 'TeamA_win_sum', 'TeamA_loss_sum', 'sum_goals_A',\n",
       "       'TeamA_draw_sum', 'TeamB_win_sum', 'TeamB_loss_sum', 'sum_goals_B',\n",
       "       'TeamB_draw_sum'],\n",
       "      dtype='object')"
      ]
     },
     "execution_count": 158,
     "metadata": {},
     "output_type": "execute_result"
    }
   ],
   "source": [
    "df_17_clean.columns"
   ]
  },
  {
   "cell_type": "code",
   "execution_count": 159,
   "id": "3da1950c",
   "metadata": {
    "ExecuteTime": {
     "end_time": "2022-08-19T18:11:27.895267Z",
     "start_time": "2022-08-19T18:11:27.891764Z"
    }
   },
   "outputs": [],
   "source": [
    "data = df_17_clean.append(df_16_clean)"
   ]
  },
  {
   "cell_type": "code",
   "execution_count": 160,
   "id": "cce8f2c5",
   "metadata": {
    "ExecuteTime": {
     "end_time": "2022-08-19T18:11:27.900805Z",
     "start_time": "2022-08-19T18:11:27.897163Z"
    }
   },
   "outputs": [],
   "source": [
    "data = data.append(df_14_clean)"
   ]
  },
  {
   "cell_type": "code",
   "execution_count": 161,
   "id": "46470e29",
   "metadata": {
    "ExecuteTime": {
     "end_time": "2022-08-19T18:11:27.921788Z",
     "start_time": "2022-08-19T18:11:27.902385Z"
    }
   },
   "outputs": [],
   "source": [
    "data = data.append(df_15_clean)"
   ]
  },
  {
   "cell_type": "code",
   "execution_count": 162,
   "id": "c649a850",
   "metadata": {
    "ExecuteTime": {
     "end_time": "2022-08-19T18:11:27.940363Z",
     "start_time": "2022-08-19T18:11:27.923758Z"
    }
   },
   "outputs": [
    {
     "data": {
      "text/html": [
       "<div>\n",
       "<style scoped>\n",
       "    .dataframe tbody tr th:only-of-type {\n",
       "        vertical-align: middle;\n",
       "    }\n",
       "\n",
       "    .dataframe tbody tr th {\n",
       "        vertical-align: top;\n",
       "    }\n",
       "\n",
       "    .dataframe thead th {\n",
       "        text-align: right;\n",
       "    }\n",
       "</style>\n",
       "<table border=\"1\" class=\"dataframe\">\n",
       "  <thead>\n",
       "    <tr style=\"text-align: right;\">\n",
       "      <th></th>\n",
       "      <th>TeamA</th>\n",
       "      <th>TeamB</th>\n",
       "      <th>Stadium</th>\n",
       "      <th>Match_Day</th>\n",
       "      <th>Match_Time</th>\n",
       "      <th>Match_Date</th>\n",
       "      <th>TeamA_Position</th>\n",
       "      <th>TeamB_Position</th>\n",
       "      <th>Attendance</th>\n",
       "      <th>TeamA_goals</th>\n",
       "      <th>TeamB_goals</th>\n",
       "      <th>TeamA_win_sum</th>\n",
       "      <th>TeamA_loss_sum</th>\n",
       "      <th>sum_goals_A</th>\n",
       "      <th>TeamA_draw_sum</th>\n",
       "      <th>TeamB_win_sum</th>\n",
       "      <th>TeamB_loss_sum</th>\n",
       "      <th>sum_goals_B</th>\n",
       "      <th>TeamB_draw_sum</th>\n",
       "    </tr>\n",
       "  </thead>\n",
       "  <tbody>\n",
       "    <tr>\n",
       "      <th>1</th>\n",
       "      <td>Al-Hilal Saudi FC</td>\n",
       "      <td>Al-Fayha FC</td>\n",
       "      <td>King Fahd International Stadium</td>\n",
       "      <td>1</td>\n",
       "      <td>8:55 PM</td>\n",
       "      <td>8/10/17</td>\n",
       "      <td>4</td>\n",
       "      <td>11</td>\n",
       "      <td>9765.0</td>\n",
       "      <td>2</td>\n",
       "      <td>1</td>\n",
       "      <td>0.0</td>\n",
       "      <td>0.0</td>\n",
       "      <td>0.0</td>\n",
       "      <td>0.0</td>\n",
       "      <td>0.0</td>\n",
       "      <td>0.0</td>\n",
       "      <td>0.0</td>\n",
       "      <td>0.0</td>\n",
       "    </tr>\n",
       "    <tr>\n",
       "      <th>24</th>\n",
       "      <td>Al-Nassr Riad</td>\n",
       "      <td>Al-Fayha FC</td>\n",
       "      <td>Prince Faisal bin Fahad Stadium</td>\n",
       "      <td>4</td>\n",
       "      <td>7:20 PM</td>\n",
       "      <td>9/22/17</td>\n",
       "      <td>7</td>\n",
       "      <td>13</td>\n",
       "      <td>3014.0</td>\n",
       "      <td>2</td>\n",
       "      <td>2</td>\n",
       "      <td>0.0</td>\n",
       "      <td>0.0</td>\n",
       "      <td>2.0</td>\n",
       "      <td>1.0</td>\n",
       "      <td>0.0</td>\n",
       "      <td>1.0</td>\n",
       "      <td>1.0</td>\n",
       "      <td>0.0</td>\n",
       "    </tr>\n",
       "    <tr>\n",
       "      <th>39</th>\n",
       "      <td>Al-Faisaly FC</td>\n",
       "      <td>Al-Fayha FC</td>\n",
       "      <td>Al Majma'ah Sports City Stadium</td>\n",
       "      <td>6</td>\n",
       "      <td>7:00 PM</td>\n",
       "      <td>10/14/17</td>\n",
       "      <td>4</td>\n",
       "      <td>11</td>\n",
       "      <td>2316.0</td>\n",
       "      <td>2</td>\n",
       "      <td>1</td>\n",
       "      <td>2.0</td>\n",
       "      <td>1.0</td>\n",
       "      <td>6.0</td>\n",
       "      <td>0.0</td>\n",
       "      <td>0.0</td>\n",
       "      <td>1.0</td>\n",
       "      <td>3.0</td>\n",
       "      <td>1.0</td>\n",
       "    </tr>\n",
       "    <tr>\n",
       "      <th>42</th>\n",
       "      <td>Al-Qadsiah FC</td>\n",
       "      <td>Al-Fayha FC</td>\n",
       "      <td>Prince Saud bin Jalawi Stadium</td>\n",
       "      <td>7</td>\n",
       "      <td>4:50 PM</td>\n",
       "      <td>10/19/17</td>\n",
       "      <td>9</td>\n",
       "      <td>11</td>\n",
       "      <td>741.0</td>\n",
       "      <td>1</td>\n",
       "      <td>1</td>\n",
       "      <td>1.0</td>\n",
       "      <td>0.0</td>\n",
       "      <td>3.0</td>\n",
       "      <td>1.0</td>\n",
       "      <td>0.0</td>\n",
       "      <td>2.0</td>\n",
       "      <td>4.0</td>\n",
       "      <td>1.0</td>\n",
       "    </tr>\n",
       "    <tr>\n",
       "      <th>57</th>\n",
       "      <td>Al-Ahli Saudi FC</td>\n",
       "      <td>Al-Fayha FC</td>\n",
       "      <td>King Abdullah Sports City</td>\n",
       "      <td>9</td>\n",
       "      <td>5:45 PM</td>\n",
       "      <td>10/31/17</td>\n",
       "      <td>2</td>\n",
       "      <td>12</td>\n",
       "      <td>9774.0</td>\n",
       "      <td>1</td>\n",
       "      <td>1</td>\n",
       "      <td>3.0</td>\n",
       "      <td>0.0</td>\n",
       "      <td>13.0</td>\n",
       "      <td>1.0</td>\n",
       "      <td>0.0</td>\n",
       "      <td>2.0</td>\n",
       "      <td>5.0</td>\n",
       "      <td>2.0</td>\n",
       "    </tr>\n",
       "    <tr>\n",
       "      <th>...</th>\n",
       "      <td>...</td>\n",
       "      <td>...</td>\n",
       "      <td>...</td>\n",
       "      <td>...</td>\n",
       "      <td>...</td>\n",
       "      <td>...</td>\n",
       "      <td>...</td>\n",
       "      <td>...</td>\n",
       "      <td>...</td>\n",
       "      <td>...</td>\n",
       "      <td>...</td>\n",
       "      <td>...</td>\n",
       "      <td>...</td>\n",
       "      <td>...</td>\n",
       "      <td>...</td>\n",
       "      <td>...</td>\n",
       "      <td>...</td>\n",
       "      <td>...</td>\n",
       "      <td>...</td>\n",
       "    </tr>\n",
       "    <tr>\n",
       "      <th>117</th>\n",
       "      <td>Al-Fateh</td>\n",
       "      <td>Al-Raed</td>\n",
       "      <td>Prince Abdullah bin Jalawi Stadium</td>\n",
       "      <td>17</td>\n",
       "      <td>4:15 PM</td>\n",
       "      <td>2/20/16</td>\n",
       "      <td>6</td>\n",
       "      <td>13</td>\n",
       "      <td>541.0</td>\n",
       "      <td>1</td>\n",
       "      <td>0</td>\n",
       "      <td>2.0</td>\n",
       "      <td>2.0</td>\n",
       "      <td>6.0</td>\n",
       "      <td>4.0</td>\n",
       "      <td>1.0</td>\n",
       "      <td>4.0</td>\n",
       "      <td>9.0</td>\n",
       "      <td>2.0</td>\n",
       "    </tr>\n",
       "    <tr>\n",
       "      <th>126</th>\n",
       "      <td>Al-Khaleej</td>\n",
       "      <td>Al-Raed</td>\n",
       "      <td>Prince Saud bin Jalawi Stadium</td>\n",
       "      <td>19</td>\n",
       "      <td>4:25 PM</td>\n",
       "      <td>3/4/16</td>\n",
       "      <td>7</td>\n",
       "      <td>13</td>\n",
       "      <td>507.0</td>\n",
       "      <td>1</td>\n",
       "      <td>0</td>\n",
       "      <td>1.0</td>\n",
       "      <td>4.0</td>\n",
       "      <td>8.0</td>\n",
       "      <td>4.0</td>\n",
       "      <td>1.0</td>\n",
       "      <td>5.0</td>\n",
       "      <td>9.0</td>\n",
       "      <td>2.0</td>\n",
       "    </tr>\n",
       "    <tr>\n",
       "      <th>147</th>\n",
       "      <td>Al-Wehda FC</td>\n",
       "      <td>Al-Raed</td>\n",
       "      <td>King Abdul Aziz Stadium</td>\n",
       "      <td>22</td>\n",
       "      <td>8:00 PM</td>\n",
       "      <td>4/7/16</td>\n",
       "      <td>10</td>\n",
       "      <td>12</td>\n",
       "      <td>759.0</td>\n",
       "      <td>3</td>\n",
       "      <td>1</td>\n",
       "      <td>3.0</td>\n",
       "      <td>5.0</td>\n",
       "      <td>9.0</td>\n",
       "      <td>3.0</td>\n",
       "      <td>1.0</td>\n",
       "      <td>6.0</td>\n",
       "      <td>9.0</td>\n",
       "      <td>2.0</td>\n",
       "    </tr>\n",
       "    <tr>\n",
       "      <th>154</th>\n",
       "      <td>Al-Nassr Riad</td>\n",
       "      <td>Al-Raed</td>\n",
       "      <td>King Fahd International Stadium</td>\n",
       "      <td>23</td>\n",
       "      <td>5:55 PM</td>\n",
       "      <td>4/15/16</td>\n",
       "      <td>8</td>\n",
       "      <td>11</td>\n",
       "      <td>1838.0</td>\n",
       "      <td>1</td>\n",
       "      <td>2</td>\n",
       "      <td>3.0</td>\n",
       "      <td>1.0</td>\n",
       "      <td>11.0</td>\n",
       "      <td>5.0</td>\n",
       "      <td>1.0</td>\n",
       "      <td>7.0</td>\n",
       "      <td>10.0</td>\n",
       "      <td>2.0</td>\n",
       "    </tr>\n",
       "    <tr>\n",
       "      <th>181</th>\n",
       "      <td>Najran SC</td>\n",
       "      <td>Al-Raed</td>\n",
       "      <td>King Abdullah Sports City</td>\n",
       "      <td>26</td>\n",
       "      <td>7:45 PM</td>\n",
       "      <td>5/14/16</td>\n",
       "      <td>13</td>\n",
       "      <td>12</td>\n",
       "      <td>409.0</td>\n",
       "      <td>3</td>\n",
       "      <td>3</td>\n",
       "      <td>2.0</td>\n",
       "      <td>7.0</td>\n",
       "      <td>16.0</td>\n",
       "      <td>3.0</td>\n",
       "      <td>2.0</td>\n",
       "      <td>7.0</td>\n",
       "      <td>12.0</td>\n",
       "      <td>2.0</td>\n",
       "    </tr>\n",
       "  </tbody>\n",
       "</table>\n",
       "<p>712 rows × 19 columns</p>\n",
       "</div>"
      ],
      "text/plain": [
       "                 TeamA        TeamB                             Stadium  \\\n",
       "1    Al-Hilal Saudi FC  Al-Fayha FC     King Fahd International Stadium   \n",
       "24       Al-Nassr Riad  Al-Fayha FC     Prince Faisal bin Fahad Stadium   \n",
       "39       Al-Faisaly FC  Al-Fayha FC     Al Majma'ah Sports City Stadium   \n",
       "42       Al-Qadsiah FC  Al-Fayha FC      Prince Saud bin Jalawi Stadium   \n",
       "57    Al-Ahli Saudi FC  Al-Fayha FC           King Abdullah Sports City   \n",
       "..                 ...          ...                                 ...   \n",
       "117           Al-Fateh      Al-Raed  Prince Abdullah bin Jalawi Stadium   \n",
       "126         Al-Khaleej      Al-Raed      Prince Saud bin Jalawi Stadium   \n",
       "147        Al-Wehda FC      Al-Raed             King Abdul Aziz Stadium   \n",
       "154      Al-Nassr Riad      Al-Raed     King Fahd International Stadium   \n",
       "181          Najran SC      Al-Raed           King Abdullah Sports City   \n",
       "\n",
       "     Match_Day Match_Time Match_Date  TeamA_Position  TeamB_Position  \\\n",
       "1            1    8:55 PM    8/10/17               4              11   \n",
       "24           4    7:20 PM    9/22/17               7              13   \n",
       "39           6    7:00 PM   10/14/17               4              11   \n",
       "42           7    4:50 PM   10/19/17               9              11   \n",
       "57           9    5:45 PM   10/31/17               2              12   \n",
       "..         ...        ...        ...             ...             ...   \n",
       "117         17    4:15 PM    2/20/16               6              13   \n",
       "126         19    4:25 PM     3/4/16               7              13   \n",
       "147         22    8:00 PM     4/7/16              10              12   \n",
       "154         23    5:55 PM    4/15/16               8              11   \n",
       "181         26    7:45 PM    5/14/16              13              12   \n",
       "\n",
       "     Attendance  TeamA_goals  TeamB_goals  TeamA_win_sum  TeamA_loss_sum  \\\n",
       "1        9765.0            2            1            0.0             0.0   \n",
       "24       3014.0            2            2            0.0             0.0   \n",
       "39       2316.0            2            1            2.0             1.0   \n",
       "42        741.0            1            1            1.0             0.0   \n",
       "57       9774.0            1            1            3.0             0.0   \n",
       "..          ...          ...          ...            ...             ...   \n",
       "117       541.0            1            0            2.0             2.0   \n",
       "126       507.0            1            0            1.0             4.0   \n",
       "147       759.0            3            1            3.0             5.0   \n",
       "154      1838.0            1            2            3.0             1.0   \n",
       "181       409.0            3            3            2.0             7.0   \n",
       "\n",
       "     sum_goals_A  TeamA_draw_sum  TeamB_win_sum  TeamB_loss_sum  sum_goals_B  \\\n",
       "1            0.0             0.0            0.0             0.0          0.0   \n",
       "24           2.0             1.0            0.0             1.0          1.0   \n",
       "39           6.0             0.0            0.0             1.0          3.0   \n",
       "42           3.0             1.0            0.0             2.0          4.0   \n",
       "57          13.0             1.0            0.0             2.0          5.0   \n",
       "..           ...             ...            ...             ...          ...   \n",
       "117          6.0             4.0            1.0             4.0          9.0   \n",
       "126          8.0             4.0            1.0             5.0          9.0   \n",
       "147          9.0             3.0            1.0             6.0          9.0   \n",
       "154         11.0             5.0            1.0             7.0         10.0   \n",
       "181         16.0             3.0            2.0             7.0         12.0   \n",
       "\n",
       "     TeamB_draw_sum  \n",
       "1               0.0  \n",
       "24              0.0  \n",
       "39              1.0  \n",
       "42              1.0  \n",
       "57              2.0  \n",
       "..              ...  \n",
       "117             2.0  \n",
       "126             2.0  \n",
       "147             2.0  \n",
       "154             2.0  \n",
       "181             2.0  \n",
       "\n",
       "[712 rows x 19 columns]"
      ]
     },
     "execution_count": 162,
     "metadata": {},
     "output_type": "execute_result"
    }
   ],
   "source": [
    "data"
   ]
  },
  {
   "cell_type": "code",
   "execution_count": 163,
   "id": "55eff78d",
   "metadata": {
    "ExecuteTime": {
     "end_time": "2022-08-19T18:11:27.945908Z",
     "start_time": "2022-08-19T18:11:27.942029Z"
    }
   },
   "outputs": [],
   "source": [
    "data=data.rename(columns={\"Match_Day\":\"Round\"})"
   ]
  },
  {
   "cell_type": "markdown",
   "id": "98ae5245",
   "metadata": {},
   "source": [
    "# Feature engineering"
   ]
  },
  {
   "cell_type": "markdown",
   "id": "c89200e4",
   "metadata": {},
   "source": [
    "## Data/Time features"
   ]
  },
  {
   "cell_type": "code",
   "execution_count": 164,
   "id": "082e640f",
   "metadata": {
    "ExecuteTime": {
     "end_time": "2022-08-19T18:11:27.958225Z",
     "start_time": "2022-08-19T18:11:27.947725Z"
    }
   },
   "outputs": [],
   "source": [
    "# pd.to_datetime(df['time'], format='%H:%M').dt.hour\n",
    "data['Match_hour']=pd.to_datetime(data['Match_Time'], format='  %H:%M %p').dt.hour"
   ]
  },
  {
   "cell_type": "code",
   "execution_count": 165,
   "id": "215f948a",
   "metadata": {
    "ExecuteTime": {
     "end_time": "2022-08-19T18:11:27.964436Z",
     "start_time": "2022-08-19T18:11:27.959767Z"
    }
   },
   "outputs": [],
   "source": [
    "data['Match_minute']=pd.to_datetime(data['Match_Time'], format='  %H:%M %p').dt.minute"
   ]
  },
  {
   "cell_type": "code",
   "execution_count": 166,
   "id": "62d85b3a",
   "metadata": {
    "ExecuteTime": {
     "end_time": "2022-08-19T18:11:27.978184Z",
     "start_time": "2022-08-19T18:11:27.966070Z"
    }
   },
   "outputs": [
    {
     "data": {
      "text/html": [
       "<div>\n",
       "<style scoped>\n",
       "    .dataframe tbody tr th:only-of-type {\n",
       "        vertical-align: middle;\n",
       "    }\n",
       "\n",
       "    .dataframe tbody tr th {\n",
       "        vertical-align: top;\n",
       "    }\n",
       "\n",
       "    .dataframe thead th {\n",
       "        text-align: right;\n",
       "    }\n",
       "</style>\n",
       "<table border=\"1\" class=\"dataframe\">\n",
       "  <thead>\n",
       "    <tr style=\"text-align: right;\">\n",
       "      <th></th>\n",
       "      <th>TeamA</th>\n",
       "      <th>TeamB</th>\n",
       "      <th>Stadium</th>\n",
       "      <th>Round</th>\n",
       "      <th>Match_Time</th>\n",
       "      <th>Match_Date</th>\n",
       "      <th>TeamA_Position</th>\n",
       "      <th>TeamB_Position</th>\n",
       "      <th>Attendance</th>\n",
       "      <th>TeamA_goals</th>\n",
       "      <th>...</th>\n",
       "      <th>TeamA_win_sum</th>\n",
       "      <th>TeamA_loss_sum</th>\n",
       "      <th>sum_goals_A</th>\n",
       "      <th>TeamA_draw_sum</th>\n",
       "      <th>TeamB_win_sum</th>\n",
       "      <th>TeamB_loss_sum</th>\n",
       "      <th>sum_goals_B</th>\n",
       "      <th>TeamB_draw_sum</th>\n",
       "      <th>Match_hour</th>\n",
       "      <th>Match_minute</th>\n",
       "    </tr>\n",
       "  </thead>\n",
       "  <tbody>\n",
       "    <tr>\n",
       "      <th>1</th>\n",
       "      <td>Al-Hilal Saudi FC</td>\n",
       "      <td>Al-Fayha FC</td>\n",
       "      <td>King Fahd International Stadium</td>\n",
       "      <td>1</td>\n",
       "      <td>8:55 PM</td>\n",
       "      <td>8/10/17</td>\n",
       "      <td>4</td>\n",
       "      <td>11</td>\n",
       "      <td>9765.0</td>\n",
       "      <td>2</td>\n",
       "      <td>...</td>\n",
       "      <td>0.0</td>\n",
       "      <td>0.0</td>\n",
       "      <td>0.0</td>\n",
       "      <td>0.0</td>\n",
       "      <td>0.0</td>\n",
       "      <td>0.0</td>\n",
       "      <td>0.0</td>\n",
       "      <td>0.0</td>\n",
       "      <td>8</td>\n",
       "      <td>55</td>\n",
       "    </tr>\n",
       "    <tr>\n",
       "      <th>24</th>\n",
       "      <td>Al-Nassr Riad</td>\n",
       "      <td>Al-Fayha FC</td>\n",
       "      <td>Prince Faisal bin Fahad Stadium</td>\n",
       "      <td>4</td>\n",
       "      <td>7:20 PM</td>\n",
       "      <td>9/22/17</td>\n",
       "      <td>7</td>\n",
       "      <td>13</td>\n",
       "      <td>3014.0</td>\n",
       "      <td>2</td>\n",
       "      <td>...</td>\n",
       "      <td>0.0</td>\n",
       "      <td>0.0</td>\n",
       "      <td>2.0</td>\n",
       "      <td>1.0</td>\n",
       "      <td>0.0</td>\n",
       "      <td>1.0</td>\n",
       "      <td>1.0</td>\n",
       "      <td>0.0</td>\n",
       "      <td>7</td>\n",
       "      <td>20</td>\n",
       "    </tr>\n",
       "    <tr>\n",
       "      <th>39</th>\n",
       "      <td>Al-Faisaly FC</td>\n",
       "      <td>Al-Fayha FC</td>\n",
       "      <td>Al Majma'ah Sports City Stadium</td>\n",
       "      <td>6</td>\n",
       "      <td>7:00 PM</td>\n",
       "      <td>10/14/17</td>\n",
       "      <td>4</td>\n",
       "      <td>11</td>\n",
       "      <td>2316.0</td>\n",
       "      <td>2</td>\n",
       "      <td>...</td>\n",
       "      <td>2.0</td>\n",
       "      <td>1.0</td>\n",
       "      <td>6.0</td>\n",
       "      <td>0.0</td>\n",
       "      <td>0.0</td>\n",
       "      <td>1.0</td>\n",
       "      <td>3.0</td>\n",
       "      <td>1.0</td>\n",
       "      <td>7</td>\n",
       "      <td>0</td>\n",
       "    </tr>\n",
       "    <tr>\n",
       "      <th>42</th>\n",
       "      <td>Al-Qadsiah FC</td>\n",
       "      <td>Al-Fayha FC</td>\n",
       "      <td>Prince Saud bin Jalawi Stadium</td>\n",
       "      <td>7</td>\n",
       "      <td>4:50 PM</td>\n",
       "      <td>10/19/17</td>\n",
       "      <td>9</td>\n",
       "      <td>11</td>\n",
       "      <td>741.0</td>\n",
       "      <td>1</td>\n",
       "      <td>...</td>\n",
       "      <td>1.0</td>\n",
       "      <td>0.0</td>\n",
       "      <td>3.0</td>\n",
       "      <td>1.0</td>\n",
       "      <td>0.0</td>\n",
       "      <td>2.0</td>\n",
       "      <td>4.0</td>\n",
       "      <td>1.0</td>\n",
       "      <td>4</td>\n",
       "      <td>50</td>\n",
       "    </tr>\n",
       "    <tr>\n",
       "      <th>57</th>\n",
       "      <td>Al-Ahli Saudi FC</td>\n",
       "      <td>Al-Fayha FC</td>\n",
       "      <td>King Abdullah Sports City</td>\n",
       "      <td>9</td>\n",
       "      <td>5:45 PM</td>\n",
       "      <td>10/31/17</td>\n",
       "      <td>2</td>\n",
       "      <td>12</td>\n",
       "      <td>9774.0</td>\n",
       "      <td>1</td>\n",
       "      <td>...</td>\n",
       "      <td>3.0</td>\n",
       "      <td>0.0</td>\n",
       "      <td>13.0</td>\n",
       "      <td>1.0</td>\n",
       "      <td>0.0</td>\n",
       "      <td>2.0</td>\n",
       "      <td>5.0</td>\n",
       "      <td>2.0</td>\n",
       "      <td>5</td>\n",
       "      <td>45</td>\n",
       "    </tr>\n",
       "  </tbody>\n",
       "</table>\n",
       "<p>5 rows × 21 columns</p>\n",
       "</div>"
      ],
      "text/plain": [
       "                TeamA        TeamB                          Stadium  Round  \\\n",
       "1   Al-Hilal Saudi FC  Al-Fayha FC  King Fahd International Stadium      1   \n",
       "24      Al-Nassr Riad  Al-Fayha FC  Prince Faisal bin Fahad Stadium      4   \n",
       "39      Al-Faisaly FC  Al-Fayha FC  Al Majma'ah Sports City Stadium      6   \n",
       "42      Al-Qadsiah FC  Al-Fayha FC   Prince Saud bin Jalawi Stadium      7   \n",
       "57   Al-Ahli Saudi FC  Al-Fayha FC        King Abdullah Sports City      9   \n",
       "\n",
       "   Match_Time Match_Date  TeamA_Position  TeamB_Position  Attendance  \\\n",
       "1     8:55 PM    8/10/17               4              11      9765.0   \n",
       "24    7:20 PM    9/22/17               7              13      3014.0   \n",
       "39    7:00 PM   10/14/17               4              11      2316.0   \n",
       "42    4:50 PM   10/19/17               9              11       741.0   \n",
       "57    5:45 PM   10/31/17               2              12      9774.0   \n",
       "\n",
       "    TeamA_goals  ...  TeamA_win_sum  TeamA_loss_sum  sum_goals_A  \\\n",
       "1             2  ...            0.0             0.0          0.0   \n",
       "24            2  ...            0.0             0.0          2.0   \n",
       "39            2  ...            2.0             1.0          6.0   \n",
       "42            1  ...            1.0             0.0          3.0   \n",
       "57            1  ...            3.0             0.0         13.0   \n",
       "\n",
       "    TeamA_draw_sum  TeamB_win_sum  TeamB_loss_sum  sum_goals_B  \\\n",
       "1              0.0            0.0             0.0          0.0   \n",
       "24             1.0            0.0             1.0          1.0   \n",
       "39             0.0            0.0             1.0          3.0   \n",
       "42             1.0            0.0             2.0          4.0   \n",
       "57             1.0            0.0             2.0          5.0   \n",
       "\n",
       "    TeamB_draw_sum  Match_hour  Match_minute  \n",
       "1              0.0           8            55  \n",
       "24             0.0           7            20  \n",
       "39             1.0           7             0  \n",
       "42             1.0           4            50  \n",
       "57             2.0           5            45  \n",
       "\n",
       "[5 rows x 21 columns]"
      ]
     },
     "execution_count": 166,
     "metadata": {},
     "output_type": "execute_result"
    }
   ],
   "source": [
    "data.head()"
   ]
  },
  {
   "cell_type": "code",
   "execution_count": 167,
   "id": "edef7f31",
   "metadata": {
    "ExecuteTime": {
     "end_time": "2022-08-19T18:11:27.983140Z",
     "start_time": "2022-08-19T18:11:27.979836Z"
    }
   },
   "outputs": [],
   "source": [
    "data=data.drop(\"Match_Time\",axis=1)"
   ]
  },
  {
   "cell_type": "code",
   "execution_count": 168,
   "id": "d6dbd007",
   "metadata": {
    "ExecuteTime": {
     "end_time": "2022-08-19T18:11:27.990317Z",
     "start_time": "2022-08-19T18:11:27.984704Z"
    }
   },
   "outputs": [],
   "source": [
    "data['Match_month']=pd.to_datetime(data['Match_Date'], format=' %m/%d/%y').dt.month"
   ]
  },
  {
   "cell_type": "code",
   "execution_count": 169,
   "id": "488d9427",
   "metadata": {
    "ExecuteTime": {
     "end_time": "2022-08-19T18:11:27.997407Z",
     "start_time": "2022-08-19T18:11:27.991830Z"
    }
   },
   "outputs": [],
   "source": [
    "data['Match_day']=pd.to_datetime(data['Match_Date'], format=' %m/%d/%y').dt.day"
   ]
  },
  {
   "cell_type": "code",
   "execution_count": 170,
   "id": "ad27cbdf",
   "metadata": {
    "ExecuteTime": {
     "end_time": "2022-08-19T18:11:28.005239Z",
     "start_time": "2022-08-19T18:11:27.999227Z"
    }
   },
   "outputs": [],
   "source": [
    "data['Match_year']=pd.to_datetime(data['Match_Date'], format=' %m/%d/%y').dt.year"
   ]
  },
  {
   "cell_type": "code",
   "execution_count": 171,
   "id": "913309a5",
   "metadata": {
    "ExecuteTime": {
     "end_time": "2022-08-19T18:11:28.012989Z",
     "start_time": "2022-08-19T18:11:28.006690Z"
    }
   },
   "outputs": [],
   "source": [
    "data['Match_day_name']=pd.to_datetime(data['Match_Date'], format=' %m/%d/%y').dt.day_name()"
   ]
  },
  {
   "cell_type": "code",
   "execution_count": 172,
   "id": "ef516c3c",
   "metadata": {
    "ExecuteTime": {
     "end_time": "2022-08-19T18:11:28.018328Z",
     "start_time": "2022-08-19T18:11:28.014464Z"
    }
   },
   "outputs": [],
   "source": [
    "data=data.drop(\"TeamA_goals\",axis=1)"
   ]
  },
  {
   "cell_type": "code",
   "execution_count": 173,
   "id": "953b6a5a",
   "metadata": {
    "ExecuteTime": {
     "end_time": "2022-08-19T18:11:28.022891Z",
     "start_time": "2022-08-19T18:11:28.019820Z"
    }
   },
   "outputs": [],
   "source": [
    "data=data.drop(\"TeamB_goals\",axis=1)"
   ]
  },
  {
   "cell_type": "code",
   "execution_count": null,
   "id": "a657e250",
   "metadata": {
    "ExecuteTime": {
     "end_time": "2022-08-19T18:11:28.026476Z",
     "start_time": "2022-08-19T18:11:28.024495Z"
    }
   },
   "outputs": [],
   "source": []
  },
  {
   "cell_type": "code",
   "execution_count": 174,
   "id": "7a0f3c6c",
   "metadata": {
    "ExecuteTime": {
     "end_time": "2022-08-19T18:11:28.031732Z",
     "start_time": "2022-08-19T18:11:28.027947Z"
    }
   },
   "outputs": [],
   "source": [
    "\n",
    "\n",
    "\n",
    "\n",
    "def get_hijri_day(data): \n",
    "    return convert.Gregorian(datetime.strptime(data, ' %m/%d/%y').year, datetime.strptime(data, ' %m/%d/%y').month, datetime.strptime(data, ' %m/%d/%y').day).to_hijri().day\n",
    "def get_hijri_month(data): \n",
    "    return convert.Gregorian(datetime.strptime(data, ' %m/%d/%y').year, datetime.strptime(data, ' %m/%d/%y').month, datetime.strptime(data, ' %m/%d/%y').day).to_hijri().month\n",
    "    "
   ]
  },
  {
   "cell_type": "code",
   "execution_count": 175,
   "id": "85a30586",
   "metadata": {
    "ExecuteTime": {
     "end_time": "2022-08-19T18:11:28.081348Z",
     "start_time": "2022-08-19T18:11:28.033373Z"
    }
   },
   "outputs": [],
   "source": [
    "data['Match_date_hijri_day']=data['Match_Date'].apply(get_hijri_day)\n",
    "data['Match_date_hijri_month']=data['Match_Date'].apply(get_hijri_month)\n"
   ]
  },
  {
   "cell_type": "code",
   "execution_count": 176,
   "id": "43faa7ed",
   "metadata": {
    "ExecuteTime": {
     "end_time": "2022-08-19T18:11:28.086587Z",
     "start_time": "2022-08-19T18:11:28.083105Z"
    }
   },
   "outputs": [],
   "source": [
    "data=data.drop(\"Match_Date\",axis=1)"
   ]
  },
  {
   "cell_type": "code",
   "execution_count": 177,
   "id": "5bf59182",
   "metadata": {
    "ExecuteTime": {
     "end_time": "2022-08-19T18:11:28.101114Z",
     "start_time": "2022-08-19T18:11:28.088527Z"
    }
   },
   "outputs": [
    {
     "data": {
      "text/html": [
       "<div>\n",
       "<style scoped>\n",
       "    .dataframe tbody tr th:only-of-type {\n",
       "        vertical-align: middle;\n",
       "    }\n",
       "\n",
       "    .dataframe tbody tr th {\n",
       "        vertical-align: top;\n",
       "    }\n",
       "\n",
       "    .dataframe thead th {\n",
       "        text-align: right;\n",
       "    }\n",
       "</style>\n",
       "<table border=\"1\" class=\"dataframe\">\n",
       "  <thead>\n",
       "    <tr style=\"text-align: right;\">\n",
       "      <th></th>\n",
       "      <th>TeamA</th>\n",
       "      <th>TeamB</th>\n",
       "      <th>Stadium</th>\n",
       "      <th>Round</th>\n",
       "      <th>TeamA_Position</th>\n",
       "      <th>TeamB_Position</th>\n",
       "      <th>Attendance</th>\n",
       "      <th>TeamA_win_sum</th>\n",
       "      <th>TeamA_loss_sum</th>\n",
       "      <th>sum_goals_A</th>\n",
       "      <th>...</th>\n",
       "      <th>sum_goals_B</th>\n",
       "      <th>TeamB_draw_sum</th>\n",
       "      <th>Match_hour</th>\n",
       "      <th>Match_minute</th>\n",
       "      <th>Match_month</th>\n",
       "      <th>Match_day</th>\n",
       "      <th>Match_year</th>\n",
       "      <th>Match_day_name</th>\n",
       "      <th>Match_date_hijri_day</th>\n",
       "      <th>Match_date_hijri_month</th>\n",
       "    </tr>\n",
       "  </thead>\n",
       "  <tbody>\n",
       "    <tr>\n",
       "      <th>1</th>\n",
       "      <td>Al-Hilal Saudi FC</td>\n",
       "      <td>Al-Fayha FC</td>\n",
       "      <td>King Fahd International Stadium</td>\n",
       "      <td>1</td>\n",
       "      <td>4</td>\n",
       "      <td>11</td>\n",
       "      <td>9765.0</td>\n",
       "      <td>0.0</td>\n",
       "      <td>0.0</td>\n",
       "      <td>0.0</td>\n",
       "      <td>...</td>\n",
       "      <td>0.0</td>\n",
       "      <td>0.0</td>\n",
       "      <td>8</td>\n",
       "      <td>55</td>\n",
       "      <td>8</td>\n",
       "      <td>10</td>\n",
       "      <td>2017</td>\n",
       "      <td>Thursday</td>\n",
       "      <td>18</td>\n",
       "      <td>11</td>\n",
       "    </tr>\n",
       "    <tr>\n",
       "      <th>24</th>\n",
       "      <td>Al-Nassr Riad</td>\n",
       "      <td>Al-Fayha FC</td>\n",
       "      <td>Prince Faisal bin Fahad Stadium</td>\n",
       "      <td>4</td>\n",
       "      <td>7</td>\n",
       "      <td>13</td>\n",
       "      <td>3014.0</td>\n",
       "      <td>0.0</td>\n",
       "      <td>0.0</td>\n",
       "      <td>2.0</td>\n",
       "      <td>...</td>\n",
       "      <td>1.0</td>\n",
       "      <td>0.0</td>\n",
       "      <td>7</td>\n",
       "      <td>20</td>\n",
       "      <td>9</td>\n",
       "      <td>22</td>\n",
       "      <td>2017</td>\n",
       "      <td>Friday</td>\n",
       "      <td>2</td>\n",
       "      <td>1</td>\n",
       "    </tr>\n",
       "    <tr>\n",
       "      <th>39</th>\n",
       "      <td>Al-Faisaly FC</td>\n",
       "      <td>Al-Fayha FC</td>\n",
       "      <td>Al Majma'ah Sports City Stadium</td>\n",
       "      <td>6</td>\n",
       "      <td>4</td>\n",
       "      <td>11</td>\n",
       "      <td>2316.0</td>\n",
       "      <td>2.0</td>\n",
       "      <td>1.0</td>\n",
       "      <td>6.0</td>\n",
       "      <td>...</td>\n",
       "      <td>3.0</td>\n",
       "      <td>1.0</td>\n",
       "      <td>7</td>\n",
       "      <td>0</td>\n",
       "      <td>10</td>\n",
       "      <td>14</td>\n",
       "      <td>2017</td>\n",
       "      <td>Saturday</td>\n",
       "      <td>24</td>\n",
       "      <td>1</td>\n",
       "    </tr>\n",
       "    <tr>\n",
       "      <th>42</th>\n",
       "      <td>Al-Qadsiah FC</td>\n",
       "      <td>Al-Fayha FC</td>\n",
       "      <td>Prince Saud bin Jalawi Stadium</td>\n",
       "      <td>7</td>\n",
       "      <td>9</td>\n",
       "      <td>11</td>\n",
       "      <td>741.0</td>\n",
       "      <td>1.0</td>\n",
       "      <td>0.0</td>\n",
       "      <td>3.0</td>\n",
       "      <td>...</td>\n",
       "      <td>4.0</td>\n",
       "      <td>1.0</td>\n",
       "      <td>4</td>\n",
       "      <td>50</td>\n",
       "      <td>10</td>\n",
       "      <td>19</td>\n",
       "      <td>2017</td>\n",
       "      <td>Thursday</td>\n",
       "      <td>29</td>\n",
       "      <td>1</td>\n",
       "    </tr>\n",
       "    <tr>\n",
       "      <th>57</th>\n",
       "      <td>Al-Ahli Saudi FC</td>\n",
       "      <td>Al-Fayha FC</td>\n",
       "      <td>King Abdullah Sports City</td>\n",
       "      <td>9</td>\n",
       "      <td>2</td>\n",
       "      <td>12</td>\n",
       "      <td>9774.0</td>\n",
       "      <td>3.0</td>\n",
       "      <td>0.0</td>\n",
       "      <td>13.0</td>\n",
       "      <td>...</td>\n",
       "      <td>5.0</td>\n",
       "      <td>2.0</td>\n",
       "      <td>5</td>\n",
       "      <td>45</td>\n",
       "      <td>10</td>\n",
       "      <td>31</td>\n",
       "      <td>2017</td>\n",
       "      <td>Tuesday</td>\n",
       "      <td>11</td>\n",
       "      <td>2</td>\n",
       "    </tr>\n",
       "  </tbody>\n",
       "</table>\n",
       "<p>5 rows × 23 columns</p>\n",
       "</div>"
      ],
      "text/plain": [
       "                TeamA        TeamB                          Stadium  Round  \\\n",
       "1   Al-Hilal Saudi FC  Al-Fayha FC  King Fahd International Stadium      1   \n",
       "24      Al-Nassr Riad  Al-Fayha FC  Prince Faisal bin Fahad Stadium      4   \n",
       "39      Al-Faisaly FC  Al-Fayha FC  Al Majma'ah Sports City Stadium      6   \n",
       "42      Al-Qadsiah FC  Al-Fayha FC   Prince Saud bin Jalawi Stadium      7   \n",
       "57   Al-Ahli Saudi FC  Al-Fayha FC        King Abdullah Sports City      9   \n",
       "\n",
       "    TeamA_Position  TeamB_Position  Attendance  TeamA_win_sum  TeamA_loss_sum  \\\n",
       "1                4              11      9765.0            0.0             0.0   \n",
       "24               7              13      3014.0            0.0             0.0   \n",
       "39               4              11      2316.0            2.0             1.0   \n",
       "42               9              11       741.0            1.0             0.0   \n",
       "57               2              12      9774.0            3.0             0.0   \n",
       "\n",
       "    sum_goals_A  ...  sum_goals_B  TeamB_draw_sum  Match_hour  Match_minute  \\\n",
       "1           0.0  ...          0.0             0.0           8            55   \n",
       "24          2.0  ...          1.0             0.0           7            20   \n",
       "39          6.0  ...          3.0             1.0           7             0   \n",
       "42          3.0  ...          4.0             1.0           4            50   \n",
       "57         13.0  ...          5.0             2.0           5            45   \n",
       "\n",
       "    Match_month  Match_day  Match_year  Match_day_name  Match_date_hijri_day  \\\n",
       "1             8         10        2017        Thursday                    18   \n",
       "24            9         22        2017          Friday                     2   \n",
       "39           10         14        2017        Saturday                    24   \n",
       "42           10         19        2017        Thursday                    29   \n",
       "57           10         31        2017         Tuesday                    11   \n",
       "\n",
       "    Match_date_hijri_month  \n",
       "1                       11  \n",
       "24                       1  \n",
       "39                       1  \n",
       "42                       1  \n",
       "57                       2  \n",
       "\n",
       "[5 rows x 23 columns]"
      ]
     },
     "execution_count": 177,
     "metadata": {},
     "output_type": "execute_result"
    }
   ],
   "source": [
    "data.head()"
   ]
  },
  {
   "cell_type": "code",
   "execution_count": 178,
   "id": "69a2fec1",
   "metadata": {
    "ExecuteTime": {
     "end_time": "2022-08-19T18:11:28.112266Z",
     "start_time": "2022-08-19T18:11:28.103185Z"
    }
   },
   "outputs": [
    {
     "name": "stdout",
     "output_type": "stream",
     "text": [
      "<class 'pandas.core.frame.DataFrame'>\n",
      "Int64Index: 712 entries, 1 to 181\n",
      "Data columns (total 23 columns):\n",
      " #   Column                  Non-Null Count  Dtype  \n",
      "---  ------                  --------------  -----  \n",
      " 0   TeamA                   712 non-null    object \n",
      " 1   TeamB                   712 non-null    object \n",
      " 2   Stadium                 712 non-null    object \n",
      " 3   Round                   712 non-null    int64  \n",
      " 4   TeamA_Position          712 non-null    int64  \n",
      " 5   TeamB_Position          712 non-null    int64  \n",
      " 6   Attendance              712 non-null    float64\n",
      " 7   TeamA_win_sum           712 non-null    float64\n",
      " 8   TeamA_loss_sum          712 non-null    float64\n",
      " 9   sum_goals_A             712 non-null    float64\n",
      " 10  TeamA_draw_sum          712 non-null    float64\n",
      " 11  TeamB_win_sum           712 non-null    float64\n",
      " 12  TeamB_loss_sum          712 non-null    float64\n",
      " 13  sum_goals_B             712 non-null    float64\n",
      " 14  TeamB_draw_sum          712 non-null    float64\n",
      " 15  Match_hour              712 non-null    int64  \n",
      " 16  Match_minute            712 non-null    int64  \n",
      " 17  Match_month             712 non-null    int64  \n",
      " 18  Match_day               712 non-null    int64  \n",
      " 19  Match_year              712 non-null    int64  \n",
      " 20  Match_day_name          712 non-null    object \n",
      " 21  Match_date_hijri_day    712 non-null    int64  \n",
      " 22  Match_date_hijri_month  712 non-null    int64  \n",
      "dtypes: float64(9), int64(10), object(4)\n",
      "memory usage: 133.5+ KB\n"
     ]
    }
   ],
   "source": [
    "data.info()"
   ]
  },
  {
   "cell_type": "code",
   "execution_count": 179,
   "id": "d13087fd",
   "metadata": {
    "ExecuteTime": {
     "end_time": "2022-08-19T18:11:28.117509Z",
     "start_time": "2022-08-19T18:11:28.114033Z"
    }
   },
   "outputs": [
    {
     "data": {
      "text/plain": [
       "Index(['TeamA', 'TeamB', 'Stadium', 'Round', 'TeamA_Position',\n",
       "       'TeamB_Position', 'Attendance', 'TeamA_win_sum', 'TeamA_loss_sum',\n",
       "       'sum_goals_A', 'TeamA_draw_sum', 'TeamB_win_sum', 'TeamB_loss_sum',\n",
       "       'sum_goals_B', 'TeamB_draw_sum', 'Match_hour', 'Match_minute',\n",
       "       'Match_month', 'Match_day', 'Match_year', 'Match_day_name',\n",
       "       'Match_date_hijri_day', 'Match_date_hijri_month'],\n",
       "      dtype='object')"
      ]
     },
     "execution_count": 179,
     "metadata": {},
     "output_type": "execute_result"
    }
   ],
   "source": [
    "data.columns"
   ]
  },
  {
   "cell_type": "markdown",
   "id": "85ec3202",
   "metadata": {},
   "source": [
    "# Weather Data "
   ]
  },
  {
   "cell_type": "markdown",
   "id": "2a7a566a",
   "metadata": {},
   "source": [
    "## Get weather as a function "
   ]
  },
  {
   "cell_type": "markdown",
   "id": "df2d8445",
   "metadata": {},
   "source": [
    "This function will ask for `stadium`, `date`, `API Key`  and it will match the stadium name to its internal coordinates dictionary to return weather information as a dataframe"
   ]
  },
  {
   "cell_type": "code",
   "execution_count": 180,
   "id": "5dd5849e",
   "metadata": {
    "ExecuteTime": {
     "end_time": "2022-08-19T18:02:28.446949Z",
     "start_time": "2022-08-19T18:02:28.440089Z"
    }
   },
   "outputs": [],
   "source": [
    "#for testing purposes only\n",
    "def getCoord(stadium, is_df = False,): \n",
    "    stadium_coor = {\n",
    "      \"Prince Sultan bin Abdul Aziz Stadium\": \"18.13,42.30\",\n",
    "      \"King Abdullah Sport City Stadium\": \"26.20,43.58\",\n",
    "      \"King Fahd International Stadium\": \"24.38,46.43\", \n",
    "      \"King Abdullah Sports City\": \"21.32,39.10\", \n",
    "        \"King Salman Bin Abdulaziz Sport City Stadium\": \"25.54,45.20\", \n",
    "        \"Al-Hazem Club Stadium\":\"25.52,43.30\", \n",
    "        \"Mrsool Park\":\"24.38,46.43\", \n",
    "        \"Prince Mohamed bin Fahd Stadium\":\"26.26,50.06\", \n",
    "        \"Al Majma'ah Sports City Stadium\":\"25.54,45.20\",\n",
    "        \"Al-Batin Club Stadium\":\"28.26,45.57\", \n",
    "        \"Prince Abdullah bin Jalawi Stadium\":\"25.23,49.36\", \n",
    "        \"Prince Abdul Aziz bin Musa'ed Stadium\":\"27.31,41.41\", \n",
    "        \"Prince Abdullah al-Faisal Stadium\":\"21.32,39.10\", \n",
    "        \"Prince Faisal bin Fahad Stadium\":\"24.38,46.43\",\n",
    "        \"Prince Saud bin Jalawi Stadium\": \"26.17,50.12\", \n",
    "        \"King Abdul Aziz Stadium\": \"21.25,39.49\", \n",
    "        \"Al-Okhdood Club Stadium\":\"17.35,44.14\", \n",
    "        \"Prince Mohammed bin Abdul Aziz Stadium\":\"24.28,39.36\", \n",
    "        \"Al-Shoalah Club Stadium\":\"24.09,47.20\", \n",
    "        \"Al-Orobah Club Stadium\":\"29.58,40.12\", \n",
    "        \"Al-Qadasiya Club Stadium\":\"26.17,50.12\", \n",
    "        \"Al-Ukhdood Stadium\":\"17.59,44.24\"\n",
    "    }\n",
    "    result = {\n",
    "        \"first column\":stadium_coor[stadium], \n",
    "        \"second column\": stadium_coor[stadium]\n",
    "    }\n",
    "    df = pd.DataFrame(result,index=[0])\n",
    "    if is_df: \n",
    "        return df\n",
    "    else: \n",
    "        return [stadium_coor[stadium],stadium_coor[stadium]]"
   ]
  },
  {
   "cell_type": "code",
   "execution_count": 181,
   "id": "2a36a800",
   "metadata": {
    "ExecuteTime": {
     "end_time": "2022-08-19T17:57:51.413638Z",
     "start_time": "2022-08-19T17:57:51.389806Z"
    }
   },
   "outputs": [],
   "source": [
    "\n",
    "def getWeather(stadium,date,APIKey, is_df = False): \n",
    "    stadium_coor = {\n",
    "      \"Prince Sultan bin Abdul Aziz Stadium\": \"18.13,42.30\",\n",
    "      \"King Abdullah Sport City Stadium\": \"26.20,43.58\",\n",
    "      \"King Fahd International Stadium\": \"24.38,46.43\", \n",
    "      \"King Abdullah Sports City\": \"21.32,39.10\", \n",
    "        \"King Salman Bin Abdulaziz Sport City Stadium\": \"25.54,45.20\", \n",
    "        \"Al-Hazem Club Stadium\":\"25.52,43.30\", \n",
    "        \"Mrsool Park\":\"24.38,46.43\", \n",
    "        \"Prince Mohamed bin Fahd Stadium\":\"26.26,50.06\", \n",
    "        \"Al Majma'ah Sports City Stadium\":\"25.54,45.20\",\n",
    "        \"Al-Batin Club Stadium\":\"28.26,45.57\", \n",
    "        \"Prince Abdullah bin Jalawi Stadium\":\"25.23,49.36\", \n",
    "        \"Prince Abdul Aziz bin Musa'ed Stadium\":\"27.31,41.41\", \n",
    "        \"Prince Abdullah al-Faisal Stadium\":\"21.32,39.10\", \n",
    "        \"Prince Faisal bin Fahad Stadium\":\"24.38,46.43\",\n",
    "        \"Prince Saud bin Jalawi Stadium\": \"26.17,50.12\", \n",
    "        \"King Abdul Aziz Stadium\": \"21.25,39.49\", \n",
    "        \"Al-Okhdood Club Stadium\":\"17.35,44.14\", \n",
    "        \"Prince Mohammed bin Abdul Aziz Stadium\":\"24.28,39.36\", \n",
    "        \"Al-Shoalah Club Stadium\":\"24.09,47.20\", \n",
    "        \"Al-Orobah Club Stadium\":\"29.58,40.12\", \n",
    "        \"Al-Qadasiya Club Stadium\":\"26.17,50.12\", \n",
    "        \"Al-Ukhdood Stadium\":\"17.59,44.24\"\n",
    "    }\n",
    "    BaseURL = 'https://weather.visualcrossing.com/VisualCrossingWebServices/rest/services/timeline/'\n",
    "\n",
    "    #ApiKey='QB74HR5MKL7LTF4JKU3YVWTXE'\n",
    "    ApiKey = APIKey\n",
    "    #UnitGroup sets the units of the output - us or metric\n",
    "    UnitGroup='metric'\n",
    "\n",
    "    #Location for the weather data\n",
    "    #Location='Washington,DC'\n",
    "    #Location='18.13,42.30'\n",
    "    Location=stadium_coor[stadium]\n",
    "    #Optional start and end dates\n",
    "    #If nothing is specified, the forecast is retrieved. \n",
    "    #If start date only is specified, a single historical or forecast day will be retrieved\n",
    "    #If both start and and end date are specified, a date range will be retrieved\n",
    "    #StartDate = '2022-08-19'\n",
    "    #EndDate='2022-08-19'\n",
    "    StartDate = date\n",
    "    EndDate= date\n",
    "    \n",
    "    #JSON or CSV \n",
    "    #JSON format supports daily, hourly, current conditions, weather alerts and events in a single JSON package\n",
    "    #CSV format requires an 'include' parameter below to indicate which table section is required\n",
    "    ContentType=\"json\"\n",
    "\n",
    "    #include sections\n",
    "    #values include days,hours,current,alerts\n",
    "    Include=\"days\"\n",
    "    #basic query including location\n",
    "    ApiQuery=BaseURL + Location\n",
    "\n",
    "    #append the start and end date if present\n",
    "    if (len(StartDate)):\n",
    "        ApiQuery+=\"/\"+StartDate\n",
    "        if (len(EndDate)):\n",
    "            ApiQuery+=\"/\"+EndDate\n",
    "\n",
    "    #Url is completed. Now add query parameters (could be passed as GET or POST)\n",
    "    ApiQuery+=\"?\"\n",
    "\n",
    "    #append each parameter as necessary\n",
    "    if (len(UnitGroup)):\n",
    "        ApiQuery+=\"&unitGroup=\"+UnitGroup\n",
    "\n",
    "    if (len(ContentType)):\n",
    "        ApiQuery+=\"&contentType=\"+ContentType\n",
    "\n",
    "    if (len(Include)):\n",
    "        ApiQuery+=\"&include=\"+Include\n",
    "\n",
    "    ApiQuery+=\"&key=\"+ApiKey\n",
    "    print(' - Running query URL: ', ApiQuery)\n",
    "    print()\n",
    "\n",
    "    try: \n",
    "        CSVBytes = urllib.request.urlopen(ApiQuery)\n",
    "    except urllib.error.HTTPError  as e:\n",
    "        ErrorInfo= e.read().decode() \n",
    "        print('Error code: ', e.code, ErrorInfo)\n",
    "        sys.exit()\n",
    "    except  urllib.error.URLError as e:\n",
    "        ErrorInfo= e.read().decode() \n",
    "        print('Error code: ', e.code,ErrorInfo)\n",
    "        sys.exit()\n",
    "    #weatherData will have the weather data information as a json object\n",
    "    weatherData = json.loads(CSVBytes.read().decode('utf-8')) \n",
    "    #printing the data we will pass in a dataframe\n",
    "    print(\"feelslike\",weatherData['days'][0]['feelslike'])\n",
    "    print(\"feelslikemax\",weatherData['days'][0]['feelslikemax'])\n",
    "    print(\"feelslikemin\",weatherData['days'][0]['feelslikemin'])\n",
    "    print(\"temp max:\",weatherData['days'][0]['tempmax'])\n",
    "    print(\"temp min:\",weatherData['days'][0]['tempmin'])\n",
    "    print(\"humidity:\",weatherData['days'][0]['humidity'])\n",
    "    print(\"precip:\",weatherData['days'][0]['precip'])\n",
    "    print(\"preciptype:\",weatherData['days'][0]['preciptype'])\n",
    "    print(\"visibility:\",weatherData['days'][0]['visibility'])\n",
    "    print(\"solarradiation:\",weatherData['days'][0]['solarradiation'])\n",
    "    print(\"solarenergy:\",weatherData['days'][0]['solarenergy'])\n",
    "    print(\"uvindex:\",weatherData['days'][0]['uvindex'])\n",
    "    print(\"windspeed:\",weatherData['days'][0]['windspeed'])\n",
    "    print(\"conditions:\",weatherData['days'][0]['conditions'])\n",
    "    print(\"description:\",weatherData['days'][0]['description'])\n",
    "    \n",
    "\n",
    "    weatherDataDic = {\n",
    "        \"feelslike\":weatherData['days'][0]['feelslike'],\n",
    "        \"feelslikemax\":weatherData['days'][0]['feelslikemax'],\n",
    "        \"feelslikemin\":weatherData['days'][0]['feelslikemin'],\n",
    "        \"temp max:\":weatherData['days'][0]['tempmax'],\n",
    "        \"temp min:\":weatherData['days'][0]['tempmin'],\n",
    "        \"humidity:\":weatherData['days'][0]['humidity'],\n",
    "        \"precip:\":weatherData['days'][0]['precip'],\n",
    "        \"preciptype:\":weatherData['days'][0]['preciptype'],\n",
    "        \"visibility:\":weatherData['days'][0]['visibility'],\n",
    "        \"solarradiation:\":weatherData['days'][0]['solarradiation'],\n",
    "        \"solarenergy:\":weatherData['days'][0]['solarenergy'],\n",
    "        \"uvindex:\":weatherData['days'][0]['uvindex'],\n",
    "        \"windspeed:\":weatherData['days'][0]['windspeed'],\n",
    "        \"conditions:\":weatherData['days'][0]['conditions'],\n",
    "        \"description:\":weatherData['days'][0]['description']\n",
    "    }\n",
    "    df = pd.DataFrame(weatherDataDic,index=[0])\n",
    "    if is_df: \n",
    "        return df \n",
    "    else: \n",
    "        return [weatherData['days'][0]['feelslike'],\n",
    "        weatherData['days'][0]['feelslikemax'],\n",
    "        weatherData['days'][0]['feelslikemin'],\n",
    "        weatherData['days'][0]['tempmax'],\n",
    "        weatherData['days'][0]['tempmin'],\n",
    "        weatherData['days'][0]['humidity'],\n",
    "        weatherData['days'][0]['precip'],\n",
    "        weatherData['days'][0]['preciptype'],\n",
    "        weatherData['days'][0]['visibility'],\n",
    "        weatherData['days'][0]['solarradiation'],\n",
    "        weatherData['days'][0]['solarenergy'],\n",
    "        weatherData['days'][0]['uvindex'],\n",
    "        weatherData['days'][0]['windspeed'],\n",
    "        weatherData['days'][0]['conditions'],\n",
    "        weatherData['days'][0]['description']  \n",
    "        ]"
   ]
  },
  {
   "cell_type": "code",
   "execution_count": 182,
   "id": "a9af7949",
   "metadata": {
    "ExecuteTime": {
     "end_time": "2022-08-19T18:08:18.054842Z",
     "start_time": "2022-08-19T18:08:17.265678Z"
    }
   },
   "outputs": [],
   "source": [
    "#test = getWeather(\"Mrsool Park\",\"2022-8-19\",\"VVA8DQVK8H47EKAV4N32F3HNL\")"
   ]
  },
  {
   "cell_type": "code",
   "execution_count": 183,
   "id": "4c0a3799",
   "metadata": {
    "ExecuteTime": {
     "end_time": "2022-08-19T18:08:20.435255Z",
     "start_time": "2022-08-19T18:08:20.430997Z"
    }
   },
   "outputs": [],
   "source": [
    "#test"
   ]
  },
  {
   "cell_type": "code",
   "execution_count": 184,
   "id": "7ff6c995",
   "metadata": {
    "ExecuteTime": {
     "end_time": "2022-08-19T18:11:57.428214Z",
     "start_time": "2022-08-19T18:11:57.423928Z"
    }
   },
   "outputs": [
    {
     "data": {
      "text/plain": [
       "Index(['TeamA', 'TeamB', 'Stadium', 'Round', 'TeamA_Position',\n",
       "       'TeamB_Position', 'Attendance', 'TeamA_win_sum', 'TeamA_loss_sum',\n",
       "       'sum_goals_A', 'TeamA_draw_sum', 'TeamB_win_sum', 'TeamB_loss_sum',\n",
       "       'sum_goals_B', 'TeamB_draw_sum', 'Match_hour', 'Match_minute',\n",
       "       'Match_month', 'Match_day', 'Match_year', 'Match_day_name',\n",
       "       'Match_date_hijri_day', 'Match_date_hijri_month'],\n",
       "      dtype='object')"
      ]
     },
     "execution_count": 184,
     "metadata": {},
     "output_type": "execute_result"
    }
   ],
   "source": [
    "data.columns"
   ]
  },
  {
   "cell_type": "markdown",
   "id": "221f51d1",
   "metadata": {},
   "source": [
    "## Applying the getWether function to the entire dataframe "
   ]
  },
  {
   "cell_type": "code",
   "execution_count": 185,
   "id": "a3beab25",
   "metadata": {
    "ExecuteTime": {
     "end_time": "2022-08-19T18:17:27.524564Z",
     "start_time": "2022-08-19T18:17:27.521284Z"
    }
   },
   "outputs": [],
   "source": [
    "col_names = [\"feelslike\",\n",
    "        \"feelslikemax\",\n",
    "        \"feelslikemin\",\n",
    "        \"temp max:\",\n",
    "        \"temp min:\",\n",
    "        \"humidity:\",\n",
    "        \"precip:\",\n",
    "        \"preciptype:\",\n",
    "        \"visibility:\",\n",
    "        \"solarradiation:\",\n",
    "        \"solarenergy:\",\n",
    "        \"uvindex:\",\n",
    "        \"windspeed:\",\n",
    "        \"conditions:\",\n",
    "        \"description:\"]"
   ]
  },
  {
   "cell_type": "code",
   "execution_count": 186,
   "id": "63e43b20",
   "metadata": {
    "ExecuteTime": {
     "end_time": "2022-08-19T18:26:37.659911Z",
     "start_time": "2022-08-19T18:18:05.812455Z"
    }
   },
   "outputs": [],
   "source": [
    "#ap_test = data.apply(lambda row:pd.Series(getWeather(row[\"Stadium\"],str(row[\"Match_year\"])+\"-\"+str(row[\"Match_month\"])+\"-\"+str(row[\"Match_day\"]),\"VVA8DQVK8H47EKAV4N32F3HNL\"), index=col_names),  axis = 1, result_type='expand')"
   ]
  },
  {
   "cell_type": "code",
   "execution_count": 187,
   "id": "6b49097e",
   "metadata": {
    "ExecuteTime": {
     "end_time": "2022-08-19T18:27:36.657691Z",
     "start_time": "2022-08-19T18:27:36.628187Z"
    }
   },
   "outputs": [],
   "source": [
    "#weatherData = ap_test\n",
    "#weatherData"
   ]
  },
  {
   "cell_type": "code",
   "execution_count": 188,
   "id": "d0ef82ed",
   "metadata": {
    "ExecuteTime": {
     "end_time": "2022-08-19T18:28:20.570825Z",
     "start_time": "2022-08-19T18:28:20.566373Z"
    }
   },
   "outputs": [],
   "source": [
    "#data = pd.concat([data,weatherData], axis = 1)"
   ]
  },
  {
   "cell_type": "code",
   "execution_count": 189,
   "id": "00c82c60",
   "metadata": {
    "ExecuteTime": {
     "end_time": "2022-08-19T18:28:26.055079Z",
     "start_time": "2022-08-19T18:28:26.025036Z"
    },
    "scrolled": false
   },
   "outputs": [
    {
     "data": {
      "text/html": [
       "<div>\n",
       "<style scoped>\n",
       "    .dataframe tbody tr th:only-of-type {\n",
       "        vertical-align: middle;\n",
       "    }\n",
       "\n",
       "    .dataframe tbody tr th {\n",
       "        vertical-align: top;\n",
       "    }\n",
       "\n",
       "    .dataframe thead th {\n",
       "        text-align: right;\n",
       "    }\n",
       "</style>\n",
       "<table border=\"1\" class=\"dataframe\">\n",
       "  <thead>\n",
       "    <tr style=\"text-align: right;\">\n",
       "      <th></th>\n",
       "      <th>TeamA</th>\n",
       "      <th>TeamB</th>\n",
       "      <th>Stadium</th>\n",
       "      <th>Round</th>\n",
       "      <th>TeamA_Position</th>\n",
       "      <th>TeamB_Position</th>\n",
       "      <th>Attendance</th>\n",
       "      <th>TeamA_win_sum</th>\n",
       "      <th>TeamA_loss_sum</th>\n",
       "      <th>sum_goals_A</th>\n",
       "      <th>...</th>\n",
       "      <th>sum_goals_B</th>\n",
       "      <th>TeamB_draw_sum</th>\n",
       "      <th>Match_hour</th>\n",
       "      <th>Match_minute</th>\n",
       "      <th>Match_month</th>\n",
       "      <th>Match_day</th>\n",
       "      <th>Match_year</th>\n",
       "      <th>Match_day_name</th>\n",
       "      <th>Match_date_hijri_day</th>\n",
       "      <th>Match_date_hijri_month</th>\n",
       "    </tr>\n",
       "  </thead>\n",
       "  <tbody>\n",
       "    <tr>\n",
       "      <th>1</th>\n",
       "      <td>Al-Hilal Saudi FC</td>\n",
       "      <td>Al-Fayha FC</td>\n",
       "      <td>King Fahd International Stadium</td>\n",
       "      <td>1</td>\n",
       "      <td>4</td>\n",
       "      <td>11</td>\n",
       "      <td>9765.0</td>\n",
       "      <td>0.0</td>\n",
       "      <td>0.0</td>\n",
       "      <td>0.0</td>\n",
       "      <td>...</td>\n",
       "      <td>0.0</td>\n",
       "      <td>0.0</td>\n",
       "      <td>8</td>\n",
       "      <td>55</td>\n",
       "      <td>8</td>\n",
       "      <td>10</td>\n",
       "      <td>2017</td>\n",
       "      <td>Thursday</td>\n",
       "      <td>18</td>\n",
       "      <td>11</td>\n",
       "    </tr>\n",
       "    <tr>\n",
       "      <th>24</th>\n",
       "      <td>Al-Nassr Riad</td>\n",
       "      <td>Al-Fayha FC</td>\n",
       "      <td>Prince Faisal bin Fahad Stadium</td>\n",
       "      <td>4</td>\n",
       "      <td>7</td>\n",
       "      <td>13</td>\n",
       "      <td>3014.0</td>\n",
       "      <td>0.0</td>\n",
       "      <td>0.0</td>\n",
       "      <td>2.0</td>\n",
       "      <td>...</td>\n",
       "      <td>1.0</td>\n",
       "      <td>0.0</td>\n",
       "      <td>7</td>\n",
       "      <td>20</td>\n",
       "      <td>9</td>\n",
       "      <td>22</td>\n",
       "      <td>2017</td>\n",
       "      <td>Friday</td>\n",
       "      <td>2</td>\n",
       "      <td>1</td>\n",
       "    </tr>\n",
       "    <tr>\n",
       "      <th>39</th>\n",
       "      <td>Al-Faisaly FC</td>\n",
       "      <td>Al-Fayha FC</td>\n",
       "      <td>Al Majma'ah Sports City Stadium</td>\n",
       "      <td>6</td>\n",
       "      <td>4</td>\n",
       "      <td>11</td>\n",
       "      <td>2316.0</td>\n",
       "      <td>2.0</td>\n",
       "      <td>1.0</td>\n",
       "      <td>6.0</td>\n",
       "      <td>...</td>\n",
       "      <td>3.0</td>\n",
       "      <td>1.0</td>\n",
       "      <td>7</td>\n",
       "      <td>0</td>\n",
       "      <td>10</td>\n",
       "      <td>14</td>\n",
       "      <td>2017</td>\n",
       "      <td>Saturday</td>\n",
       "      <td>24</td>\n",
       "      <td>1</td>\n",
       "    </tr>\n",
       "    <tr>\n",
       "      <th>42</th>\n",
       "      <td>Al-Qadsiah FC</td>\n",
       "      <td>Al-Fayha FC</td>\n",
       "      <td>Prince Saud bin Jalawi Stadium</td>\n",
       "      <td>7</td>\n",
       "      <td>9</td>\n",
       "      <td>11</td>\n",
       "      <td>741.0</td>\n",
       "      <td>1.0</td>\n",
       "      <td>0.0</td>\n",
       "      <td>3.0</td>\n",
       "      <td>...</td>\n",
       "      <td>4.0</td>\n",
       "      <td>1.0</td>\n",
       "      <td>4</td>\n",
       "      <td>50</td>\n",
       "      <td>10</td>\n",
       "      <td>19</td>\n",
       "      <td>2017</td>\n",
       "      <td>Thursday</td>\n",
       "      <td>29</td>\n",
       "      <td>1</td>\n",
       "    </tr>\n",
       "    <tr>\n",
       "      <th>57</th>\n",
       "      <td>Al-Ahli Saudi FC</td>\n",
       "      <td>Al-Fayha FC</td>\n",
       "      <td>King Abdullah Sports City</td>\n",
       "      <td>9</td>\n",
       "      <td>2</td>\n",
       "      <td>12</td>\n",
       "      <td>9774.0</td>\n",
       "      <td>3.0</td>\n",
       "      <td>0.0</td>\n",
       "      <td>13.0</td>\n",
       "      <td>...</td>\n",
       "      <td>5.0</td>\n",
       "      <td>2.0</td>\n",
       "      <td>5</td>\n",
       "      <td>45</td>\n",
       "      <td>10</td>\n",
       "      <td>31</td>\n",
       "      <td>2017</td>\n",
       "      <td>Tuesday</td>\n",
       "      <td>11</td>\n",
       "      <td>2</td>\n",
       "    </tr>\n",
       "    <tr>\n",
       "      <th>...</th>\n",
       "      <td>...</td>\n",
       "      <td>...</td>\n",
       "      <td>...</td>\n",
       "      <td>...</td>\n",
       "      <td>...</td>\n",
       "      <td>...</td>\n",
       "      <td>...</td>\n",
       "      <td>...</td>\n",
       "      <td>...</td>\n",
       "      <td>...</td>\n",
       "      <td>...</td>\n",
       "      <td>...</td>\n",
       "      <td>...</td>\n",
       "      <td>...</td>\n",
       "      <td>...</td>\n",
       "      <td>...</td>\n",
       "      <td>...</td>\n",
       "      <td>...</td>\n",
       "      <td>...</td>\n",
       "      <td>...</td>\n",
       "      <td>...</td>\n",
       "    </tr>\n",
       "    <tr>\n",
       "      <th>117</th>\n",
       "      <td>Al-Fateh</td>\n",
       "      <td>Al-Raed</td>\n",
       "      <td>Prince Abdullah bin Jalawi Stadium</td>\n",
       "      <td>17</td>\n",
       "      <td>6</td>\n",
       "      <td>13</td>\n",
       "      <td>541.0</td>\n",
       "      <td>2.0</td>\n",
       "      <td>2.0</td>\n",
       "      <td>6.0</td>\n",
       "      <td>...</td>\n",
       "      <td>9.0</td>\n",
       "      <td>2.0</td>\n",
       "      <td>4</td>\n",
       "      <td>15</td>\n",
       "      <td>2</td>\n",
       "      <td>20</td>\n",
       "      <td>2016</td>\n",
       "      <td>Saturday</td>\n",
       "      <td>11</td>\n",
       "      <td>5</td>\n",
       "    </tr>\n",
       "    <tr>\n",
       "      <th>126</th>\n",
       "      <td>Al-Khaleej</td>\n",
       "      <td>Al-Raed</td>\n",
       "      <td>Prince Saud bin Jalawi Stadium</td>\n",
       "      <td>19</td>\n",
       "      <td>7</td>\n",
       "      <td>13</td>\n",
       "      <td>507.0</td>\n",
       "      <td>1.0</td>\n",
       "      <td>4.0</td>\n",
       "      <td>8.0</td>\n",
       "      <td>...</td>\n",
       "      <td>9.0</td>\n",
       "      <td>2.0</td>\n",
       "      <td>4</td>\n",
       "      <td>25</td>\n",
       "      <td>3</td>\n",
       "      <td>4</td>\n",
       "      <td>2016</td>\n",
       "      <td>Friday</td>\n",
       "      <td>24</td>\n",
       "      <td>5</td>\n",
       "    </tr>\n",
       "    <tr>\n",
       "      <th>147</th>\n",
       "      <td>Al-Wehda FC</td>\n",
       "      <td>Al-Raed</td>\n",
       "      <td>King Abdul Aziz Stadium</td>\n",
       "      <td>22</td>\n",
       "      <td>10</td>\n",
       "      <td>12</td>\n",
       "      <td>759.0</td>\n",
       "      <td>3.0</td>\n",
       "      <td>5.0</td>\n",
       "      <td>9.0</td>\n",
       "      <td>...</td>\n",
       "      <td>9.0</td>\n",
       "      <td>2.0</td>\n",
       "      <td>8</td>\n",
       "      <td>0</td>\n",
       "      <td>4</td>\n",
       "      <td>7</td>\n",
       "      <td>2016</td>\n",
       "      <td>Thursday</td>\n",
       "      <td>29</td>\n",
       "      <td>6</td>\n",
       "    </tr>\n",
       "    <tr>\n",
       "      <th>154</th>\n",
       "      <td>Al-Nassr Riad</td>\n",
       "      <td>Al-Raed</td>\n",
       "      <td>King Fahd International Stadium</td>\n",
       "      <td>23</td>\n",
       "      <td>8</td>\n",
       "      <td>11</td>\n",
       "      <td>1838.0</td>\n",
       "      <td>3.0</td>\n",
       "      <td>1.0</td>\n",
       "      <td>11.0</td>\n",
       "      <td>...</td>\n",
       "      <td>10.0</td>\n",
       "      <td>2.0</td>\n",
       "      <td>5</td>\n",
       "      <td>55</td>\n",
       "      <td>4</td>\n",
       "      <td>15</td>\n",
       "      <td>2016</td>\n",
       "      <td>Friday</td>\n",
       "      <td>8</td>\n",
       "      <td>7</td>\n",
       "    </tr>\n",
       "    <tr>\n",
       "      <th>181</th>\n",
       "      <td>Najran SC</td>\n",
       "      <td>Al-Raed</td>\n",
       "      <td>King Abdullah Sports City</td>\n",
       "      <td>26</td>\n",
       "      <td>13</td>\n",
       "      <td>12</td>\n",
       "      <td>409.0</td>\n",
       "      <td>2.0</td>\n",
       "      <td>7.0</td>\n",
       "      <td>16.0</td>\n",
       "      <td>...</td>\n",
       "      <td>12.0</td>\n",
       "      <td>2.0</td>\n",
       "      <td>7</td>\n",
       "      <td>45</td>\n",
       "      <td>5</td>\n",
       "      <td>14</td>\n",
       "      <td>2016</td>\n",
       "      <td>Saturday</td>\n",
       "      <td>7</td>\n",
       "      <td>8</td>\n",
       "    </tr>\n",
       "  </tbody>\n",
       "</table>\n",
       "<p>712 rows × 23 columns</p>\n",
       "</div>"
      ],
      "text/plain": [
       "                 TeamA        TeamB                             Stadium  \\\n",
       "1    Al-Hilal Saudi FC  Al-Fayha FC     King Fahd International Stadium   \n",
       "24       Al-Nassr Riad  Al-Fayha FC     Prince Faisal bin Fahad Stadium   \n",
       "39       Al-Faisaly FC  Al-Fayha FC     Al Majma'ah Sports City Stadium   \n",
       "42       Al-Qadsiah FC  Al-Fayha FC      Prince Saud bin Jalawi Stadium   \n",
       "57    Al-Ahli Saudi FC  Al-Fayha FC           King Abdullah Sports City   \n",
       "..                 ...          ...                                 ...   \n",
       "117           Al-Fateh      Al-Raed  Prince Abdullah bin Jalawi Stadium   \n",
       "126         Al-Khaleej      Al-Raed      Prince Saud bin Jalawi Stadium   \n",
       "147        Al-Wehda FC      Al-Raed             King Abdul Aziz Stadium   \n",
       "154      Al-Nassr Riad      Al-Raed     King Fahd International Stadium   \n",
       "181          Najran SC      Al-Raed           King Abdullah Sports City   \n",
       "\n",
       "     Round  TeamA_Position  TeamB_Position  Attendance  TeamA_win_sum  \\\n",
       "1        1               4              11      9765.0            0.0   \n",
       "24       4               7              13      3014.0            0.0   \n",
       "39       6               4              11      2316.0            2.0   \n",
       "42       7               9              11       741.0            1.0   \n",
       "57       9               2              12      9774.0            3.0   \n",
       "..     ...             ...             ...         ...            ...   \n",
       "117     17               6              13       541.0            2.0   \n",
       "126     19               7              13       507.0            1.0   \n",
       "147     22              10              12       759.0            3.0   \n",
       "154     23               8              11      1838.0            3.0   \n",
       "181     26              13              12       409.0            2.0   \n",
       "\n",
       "     TeamA_loss_sum  sum_goals_A  ...  sum_goals_B  TeamB_draw_sum  \\\n",
       "1               0.0          0.0  ...          0.0             0.0   \n",
       "24              0.0          2.0  ...          1.0             0.0   \n",
       "39              1.0          6.0  ...          3.0             1.0   \n",
       "42              0.0          3.0  ...          4.0             1.0   \n",
       "57              0.0         13.0  ...          5.0             2.0   \n",
       "..              ...          ...  ...          ...             ...   \n",
       "117             2.0          6.0  ...          9.0             2.0   \n",
       "126             4.0          8.0  ...          9.0             2.0   \n",
       "147             5.0          9.0  ...          9.0             2.0   \n",
       "154             1.0         11.0  ...         10.0             2.0   \n",
       "181             7.0         16.0  ...         12.0             2.0   \n",
       "\n",
       "     Match_hour  Match_minute  Match_month  Match_day  Match_year  \\\n",
       "1             8            55            8         10        2017   \n",
       "24            7            20            9         22        2017   \n",
       "39            7             0           10         14        2017   \n",
       "42            4            50           10         19        2017   \n",
       "57            5            45           10         31        2017   \n",
       "..          ...           ...          ...        ...         ...   \n",
       "117           4            15            2         20        2016   \n",
       "126           4            25            3          4        2016   \n",
       "147           8             0            4          7        2016   \n",
       "154           5            55            4         15        2016   \n",
       "181           7            45            5         14        2016   \n",
       "\n",
       "     Match_day_name  Match_date_hijri_day  Match_date_hijri_month  \n",
       "1          Thursday                    18                      11  \n",
       "24           Friday                     2                       1  \n",
       "39         Saturday                    24                       1  \n",
       "42         Thursday                    29                       1  \n",
       "57          Tuesday                    11                       2  \n",
       "..              ...                   ...                     ...  \n",
       "117        Saturday                    11                       5  \n",
       "126          Friday                    24                       5  \n",
       "147        Thursday                    29                       6  \n",
       "154          Friday                     8                       7  \n",
       "181        Saturday                     7                       8  \n",
       "\n",
       "[712 rows x 23 columns]"
      ]
     },
     "execution_count": 189,
     "metadata": {},
     "output_type": "execute_result"
    }
   ],
   "source": [
    "data"
   ]
  },
  {
   "cell_type": "code",
   "execution_count": 190,
   "id": "e0c0b376",
   "metadata": {
    "ExecuteTime": {
     "end_time": "2022-08-19T18:29:18.010534Z",
     "start_time": "2022-08-19T18:29:17.988544Z"
    }
   },
   "outputs": [],
   "source": [
    "#data.to_csv('data_with_weather_with_goals.csv') # come here"
   ]
  },
  {
   "cell_type": "code",
   "execution_count": 191,
   "id": "29187c58",
   "metadata": {
    "ExecuteTime": {
     "end_time": "2022-08-19T18:52:27.422062Z",
     "start_time": "2022-08-19T18:52:27.411650Z"
    }
   },
   "outputs": [],
   "source": [
    "data = pd.read_csv('data_with_weather_with_goals_edited_stadium.csv')"
   ]
  },
  {
   "cell_type": "code",
   "execution_count": 192,
   "id": "e0fd400a",
   "metadata": {},
   "outputs": [
    {
     "data": {
      "text/plain": [
       "Index(['Unnamed: 0', 'TeamA', 'TeamB', 'Stadium', 'Round', 'TeamA_Position',\n",
       "       'TeamB_Position', 'Attendance', 'TeamA_win_sum', 'TeamA_loss_sum',\n",
       "       'sum_goals_A', 'TeamA_draw_sum', 'TeamB_win_sum', 'TeamB_loss_sum',\n",
       "       'sum_goals_B', 'TeamB_draw_sum', 'Match_hour', 'Match_minute',\n",
       "       'Match_month', 'Match_day', 'Match_year', 'Match_day_name',\n",
       "       'Match_date_hijri_day', 'Match_date_hijri_month', 'feelslike',\n",
       "       'feelslikemax', 'feelslikemin', 'temp max:', 'temp min:', 'humidity:',\n",
       "       'precip:', 'preciptype:', 'visibility:', 'solarradiation:',\n",
       "       'solarenergy:', 'uvindex:', 'windspeed:', 'conditions:',\n",
       "       'description:'],\n",
       "      dtype='object')"
      ]
     },
     "execution_count": 192,
     "metadata": {},
     "output_type": "execute_result"
    }
   ],
   "source": [
    "data.columns"
   ]
  },
  {
   "cell_type": "code",
   "execution_count": 193,
   "id": "ec8006e3",
   "metadata": {},
   "outputs": [],
   "source": [
    "data=data.drop(['Unnamed: 0','preciptype:'],axis=1)"
   ]
  },
  {
   "cell_type": "code",
   "execution_count": 194,
   "id": "065c20f2",
   "metadata": {},
   "outputs": [
    {
     "data": {
      "text/html": [
       "<div>\n",
       "<style scoped>\n",
       "    .dataframe tbody tr th:only-of-type {\n",
       "        vertical-align: middle;\n",
       "    }\n",
       "\n",
       "    .dataframe tbody tr th {\n",
       "        vertical-align: top;\n",
       "    }\n",
       "\n",
       "    .dataframe thead th {\n",
       "        text-align: right;\n",
       "    }\n",
       "</style>\n",
       "<table border=\"1\" class=\"dataframe\">\n",
       "  <thead>\n",
       "    <tr style=\"text-align: right;\">\n",
       "      <th></th>\n",
       "      <th>TeamA</th>\n",
       "      <th>TeamB</th>\n",
       "      <th>Stadium</th>\n",
       "      <th>Round</th>\n",
       "      <th>TeamA_Position</th>\n",
       "      <th>TeamB_Position</th>\n",
       "      <th>Attendance</th>\n",
       "      <th>TeamA_win_sum</th>\n",
       "      <th>TeamA_loss_sum</th>\n",
       "      <th>sum_goals_A</th>\n",
       "      <th>...</th>\n",
       "      <th>temp min:</th>\n",
       "      <th>humidity:</th>\n",
       "      <th>precip:</th>\n",
       "      <th>visibility:</th>\n",
       "      <th>solarradiation:</th>\n",
       "      <th>solarenergy:</th>\n",
       "      <th>uvindex:</th>\n",
       "      <th>windspeed:</th>\n",
       "      <th>conditions:</th>\n",
       "      <th>description:</th>\n",
       "    </tr>\n",
       "  </thead>\n",
       "  <tbody>\n",
       "    <tr>\n",
       "      <th>0</th>\n",
       "      <td>Al-Hilal Saudi FC</td>\n",
       "      <td>Al-Fayha FC</td>\n",
       "      <td>King Fahd International Stadium</td>\n",
       "      <td>1</td>\n",
       "      <td>4</td>\n",
       "      <td>11</td>\n",
       "      <td>9765</td>\n",
       "      <td>0</td>\n",
       "      <td>0</td>\n",
       "      <td>0</td>\n",
       "      <td>...</td>\n",
       "      <td>27.0</td>\n",
       "      <td>8.1</td>\n",
       "      <td>0.0</td>\n",
       "      <td>10.0</td>\n",
       "      <td>324.3</td>\n",
       "      <td>28.0</td>\n",
       "      <td>10</td>\n",
       "      <td>22.3</td>\n",
       "      <td>Clear</td>\n",
       "      <td>Clear conditions throughout the day.</td>\n",
       "    </tr>\n",
       "    <tr>\n",
       "      <th>1</th>\n",
       "      <td>Al-Nassr Riad</td>\n",
       "      <td>Al-Fayha FC</td>\n",
       "      <td>Prince Faisal bin Fahad Stadium</td>\n",
       "      <td>4</td>\n",
       "      <td>7</td>\n",
       "      <td>13</td>\n",
       "      <td>3014</td>\n",
       "      <td>0</td>\n",
       "      <td>0</td>\n",
       "      <td>2</td>\n",
       "      <td>...</td>\n",
       "      <td>23.9</td>\n",
       "      <td>10.9</td>\n",
       "      <td>0.0</td>\n",
       "      <td>9.7</td>\n",
       "      <td>293.2</td>\n",
       "      <td>25.2</td>\n",
       "      <td>10</td>\n",
       "      <td>27.7</td>\n",
       "      <td>Clear</td>\n",
       "      <td>Clear conditions throughout the day.</td>\n",
       "    </tr>\n",
       "    <tr>\n",
       "      <th>2</th>\n",
       "      <td>Al-Faisaly FC</td>\n",
       "      <td>Al-Fayha FC</td>\n",
       "      <td>Al Majma'ah Sports City Stadium</td>\n",
       "      <td>6</td>\n",
       "      <td>4</td>\n",
       "      <td>11</td>\n",
       "      <td>2316</td>\n",
       "      <td>2</td>\n",
       "      <td>1</td>\n",
       "      <td>6</td>\n",
       "      <td>...</td>\n",
       "      <td>20.2</td>\n",
       "      <td>14.1</td>\n",
       "      <td>0.0</td>\n",
       "      <td>NaN</td>\n",
       "      <td>260.7</td>\n",
       "      <td>22.3</td>\n",
       "      <td>9</td>\n",
       "      <td>18.0</td>\n",
       "      <td>Clear</td>\n",
       "      <td>Clear conditions throughout the day.</td>\n",
       "    </tr>\n",
       "    <tr>\n",
       "      <th>3</th>\n",
       "      <td>Al-Qadsiah FC</td>\n",
       "      <td>Al-Fayha FC</td>\n",
       "      <td>Prince Saud bin Jalawi Stadium</td>\n",
       "      <td>7</td>\n",
       "      <td>9</td>\n",
       "      <td>11</td>\n",
       "      <td>741</td>\n",
       "      <td>1</td>\n",
       "      <td>0</td>\n",
       "      <td>3</td>\n",
       "      <td>...</td>\n",
       "      <td>17.6</td>\n",
       "      <td>55.9</td>\n",
       "      <td>0.0</td>\n",
       "      <td>9.9</td>\n",
       "      <td>232.9</td>\n",
       "      <td>20.2</td>\n",
       "      <td>8</td>\n",
       "      <td>27.3</td>\n",
       "      <td>Clear</td>\n",
       "      <td>Clear conditions throughout the day.</td>\n",
       "    </tr>\n",
       "    <tr>\n",
       "      <th>4</th>\n",
       "      <td>Al-Ahli Saudi FC</td>\n",
       "      <td>Al-Fayha FC</td>\n",
       "      <td>King Abdullah Sports City</td>\n",
       "      <td>9</td>\n",
       "      <td>2</td>\n",
       "      <td>12</td>\n",
       "      <td>9774</td>\n",
       "      <td>3</td>\n",
       "      <td>0</td>\n",
       "      <td>13</td>\n",
       "      <td>...</td>\n",
       "      <td>27.0</td>\n",
       "      <td>63.7</td>\n",
       "      <td>0.0</td>\n",
       "      <td>10.0</td>\n",
       "      <td>225.5</td>\n",
       "      <td>19.5</td>\n",
       "      <td>8</td>\n",
       "      <td>22.1</td>\n",
       "      <td>Clear</td>\n",
       "      <td>Clear conditions throughout the day.</td>\n",
       "    </tr>\n",
       "    <tr>\n",
       "      <th>...</th>\n",
       "      <td>...</td>\n",
       "      <td>...</td>\n",
       "      <td>...</td>\n",
       "      <td>...</td>\n",
       "      <td>...</td>\n",
       "      <td>...</td>\n",
       "      <td>...</td>\n",
       "      <td>...</td>\n",
       "      <td>...</td>\n",
       "      <td>...</td>\n",
       "      <td>...</td>\n",
       "      <td>...</td>\n",
       "      <td>...</td>\n",
       "      <td>...</td>\n",
       "      <td>...</td>\n",
       "      <td>...</td>\n",
       "      <td>...</td>\n",
       "      <td>...</td>\n",
       "      <td>...</td>\n",
       "      <td>...</td>\n",
       "      <td>...</td>\n",
       "    </tr>\n",
       "    <tr>\n",
       "      <th>707</th>\n",
       "      <td>Al-Fateh</td>\n",
       "      <td>Al-Raed</td>\n",
       "      <td>Prince Abdullah bin Jalawi Stadium</td>\n",
       "      <td>17</td>\n",
       "      <td>6</td>\n",
       "      <td>13</td>\n",
       "      <td>541</td>\n",
       "      <td>2</td>\n",
       "      <td>2</td>\n",
       "      <td>6</td>\n",
       "      <td>...</td>\n",
       "      <td>10.0</td>\n",
       "      <td>26.0</td>\n",
       "      <td>0.0</td>\n",
       "      <td>10.0</td>\n",
       "      <td>258.3</td>\n",
       "      <td>22.2</td>\n",
       "      <td>9</td>\n",
       "      <td>33.5</td>\n",
       "      <td>Clear</td>\n",
       "      <td>Clear conditions throughout the day.</td>\n",
       "    </tr>\n",
       "    <tr>\n",
       "      <th>708</th>\n",
       "      <td>Al-Khaleej</td>\n",
       "      <td>Al-Raed</td>\n",
       "      <td>Prince Saud bin Jalawi Stadium</td>\n",
       "      <td>19</td>\n",
       "      <td>7</td>\n",
       "      <td>13</td>\n",
       "      <td>507</td>\n",
       "      <td>1</td>\n",
       "      <td>4</td>\n",
       "      <td>8</td>\n",
       "      <td>...</td>\n",
       "      <td>17.8</td>\n",
       "      <td>58.6</td>\n",
       "      <td>0.0</td>\n",
       "      <td>8.5</td>\n",
       "      <td>215.0</td>\n",
       "      <td>18.6</td>\n",
       "      <td>9</td>\n",
       "      <td>22.1</td>\n",
       "      <td>Clear</td>\n",
       "      <td>Clear conditions throughout the day.</td>\n",
       "    </tr>\n",
       "    <tr>\n",
       "      <th>709</th>\n",
       "      <td>Al-Wehda FC</td>\n",
       "      <td>Al-Raed</td>\n",
       "      <td>King Abdul Aziz Stadium</td>\n",
       "      <td>22</td>\n",
       "      <td>10</td>\n",
       "      <td>12</td>\n",
       "      <td>759</td>\n",
       "      <td>3</td>\n",
       "      <td>5</td>\n",
       "      <td>9</td>\n",
       "      <td>...</td>\n",
       "      <td>25.0</td>\n",
       "      <td>54.3</td>\n",
       "      <td>0.0</td>\n",
       "      <td>10.0</td>\n",
       "      <td>302.5</td>\n",
       "      <td>26.2</td>\n",
       "      <td>10</td>\n",
       "      <td>18.4</td>\n",
       "      <td>Clear</td>\n",
       "      <td>Clear conditions throughout the day.</td>\n",
       "    </tr>\n",
       "    <tr>\n",
       "      <th>710</th>\n",
       "      <td>Al-Nassr Riad</td>\n",
       "      <td>Al-Raed</td>\n",
       "      <td>King Fahd International Stadium</td>\n",
       "      <td>23</td>\n",
       "      <td>8</td>\n",
       "      <td>11</td>\n",
       "      <td>1838</td>\n",
       "      <td>3</td>\n",
       "      <td>1</td>\n",
       "      <td>11</td>\n",
       "      <td>...</td>\n",
       "      <td>16.0</td>\n",
       "      <td>36.0</td>\n",
       "      <td>0.0</td>\n",
       "      <td>7.9</td>\n",
       "      <td>338.8</td>\n",
       "      <td>29.3</td>\n",
       "      <td>10</td>\n",
       "      <td>14.8</td>\n",
       "      <td>Clear</td>\n",
       "      <td>Clear conditions throughout the day.</td>\n",
       "    </tr>\n",
       "    <tr>\n",
       "      <th>711</th>\n",
       "      <td>Najran SC</td>\n",
       "      <td>Al-Raed</td>\n",
       "      <td>King Abdullah Sports City</td>\n",
       "      <td>26</td>\n",
       "      <td>13</td>\n",
       "      <td>12</td>\n",
       "      <td>409</td>\n",
       "      <td>2</td>\n",
       "      <td>7</td>\n",
       "      <td>16</td>\n",
       "      <td>...</td>\n",
       "      <td>27.8</td>\n",
       "      <td>48.1</td>\n",
       "      <td>0.0</td>\n",
       "      <td>9.9</td>\n",
       "      <td>321.7</td>\n",
       "      <td>27.9</td>\n",
       "      <td>10</td>\n",
       "      <td>17.5</td>\n",
       "      <td>Clear</td>\n",
       "      <td>Clear conditions throughout the day.</td>\n",
       "    </tr>\n",
       "  </tbody>\n",
       "</table>\n",
       "<p>712 rows × 37 columns</p>\n",
       "</div>"
      ],
      "text/plain": [
       "                 TeamA        TeamB                             Stadium  \\\n",
       "0    Al-Hilal Saudi FC  Al-Fayha FC     King Fahd International Stadium   \n",
       "1        Al-Nassr Riad  Al-Fayha FC     Prince Faisal bin Fahad Stadium   \n",
       "2        Al-Faisaly FC  Al-Fayha FC     Al Majma'ah Sports City Stadium   \n",
       "3        Al-Qadsiah FC  Al-Fayha FC      Prince Saud bin Jalawi Stadium   \n",
       "4     Al-Ahli Saudi FC  Al-Fayha FC           King Abdullah Sports City   \n",
       "..                 ...          ...                                 ...   \n",
       "707           Al-Fateh      Al-Raed  Prince Abdullah bin Jalawi Stadium   \n",
       "708         Al-Khaleej      Al-Raed      Prince Saud bin Jalawi Stadium   \n",
       "709        Al-Wehda FC      Al-Raed             King Abdul Aziz Stadium   \n",
       "710      Al-Nassr Riad      Al-Raed     King Fahd International Stadium   \n",
       "711          Najran SC      Al-Raed           King Abdullah Sports City   \n",
       "\n",
       "     Round  TeamA_Position  TeamB_Position  Attendance  TeamA_win_sum  \\\n",
       "0        1               4              11        9765              0   \n",
       "1        4               7              13        3014              0   \n",
       "2        6               4              11        2316              2   \n",
       "3        7               9              11         741              1   \n",
       "4        9               2              12        9774              3   \n",
       "..     ...             ...             ...         ...            ...   \n",
       "707     17               6              13         541              2   \n",
       "708     19               7              13         507              1   \n",
       "709     22              10              12         759              3   \n",
       "710     23               8              11        1838              3   \n",
       "711     26              13              12         409              2   \n",
       "\n",
       "     TeamA_loss_sum  sum_goals_A  ...  temp min:  humidity:  precip:  \\\n",
       "0                 0            0  ...       27.0        8.1      0.0   \n",
       "1                 0            2  ...       23.9       10.9      0.0   \n",
       "2                 1            6  ...       20.2       14.1      0.0   \n",
       "3                 0            3  ...       17.6       55.9      0.0   \n",
       "4                 0           13  ...       27.0       63.7      0.0   \n",
       "..              ...          ...  ...        ...        ...      ...   \n",
       "707               2            6  ...       10.0       26.0      0.0   \n",
       "708               4            8  ...       17.8       58.6      0.0   \n",
       "709               5            9  ...       25.0       54.3      0.0   \n",
       "710               1           11  ...       16.0       36.0      0.0   \n",
       "711               7           16  ...       27.8       48.1      0.0   \n",
       "\n",
       "     visibility:  solarradiation:  solarenergy:  uvindex:  windspeed:  \\\n",
       "0           10.0            324.3          28.0        10        22.3   \n",
       "1            9.7            293.2          25.2        10        27.7   \n",
       "2            NaN            260.7          22.3         9        18.0   \n",
       "3            9.9            232.9          20.2         8        27.3   \n",
       "4           10.0            225.5          19.5         8        22.1   \n",
       "..           ...              ...           ...       ...         ...   \n",
       "707         10.0            258.3          22.2         9        33.5   \n",
       "708          8.5            215.0          18.6         9        22.1   \n",
       "709         10.0            302.5          26.2        10        18.4   \n",
       "710          7.9            338.8          29.3        10        14.8   \n",
       "711          9.9            321.7          27.9        10        17.5   \n",
       "\n",
       "     conditions:                          description:  \n",
       "0          Clear  Clear conditions throughout the day.  \n",
       "1          Clear  Clear conditions throughout the day.  \n",
       "2          Clear  Clear conditions throughout the day.  \n",
       "3          Clear  Clear conditions throughout the day.  \n",
       "4          Clear  Clear conditions throughout the day.  \n",
       "..           ...                                   ...  \n",
       "707        Clear  Clear conditions throughout the day.  \n",
       "708        Clear  Clear conditions throughout the day.  \n",
       "709        Clear  Clear conditions throughout the day.  \n",
       "710        Clear  Clear conditions throughout the day.  \n",
       "711        Clear  Clear conditions throughout the day.  \n",
       "\n",
       "[712 rows x 37 columns]"
      ]
     },
     "execution_count": 194,
     "metadata": {},
     "output_type": "execute_result"
    }
   ],
   "source": [
    "data"
   ]
  },
  {
   "cell_type": "code",
   "execution_count": 195,
   "id": "5ac7ef52",
   "metadata": {},
   "outputs": [],
   "source": [
    "#To account for changes in the stadium name\n",
    "data.loc[data[\"Stadium\"] == \"King Salman Bin Abdulaziz Sport City Stadium\",\"Stadium\" ] = \"Al Majma'ah Sports City Stadium\""
   ]
  },
  {
   "cell_type": "markdown",
   "id": "09249200",
   "metadata": {},
   "source": [
    "# Add stadiums information"
   ]
  },
  {
   "cell_type": "code",
   "execution_count": 196,
   "id": "dfbd9aac",
   "metadata": {},
   "outputs": [
    {
     "data": {
      "text/plain": [
       "Index(['Stadium', 'City', 'Capacity', 'Established in'], dtype='object')"
      ]
     },
     "execution_count": 196,
     "metadata": {},
     "output_type": "execute_result"
    }
   ],
   "source": [
    "Capacity = pd.read_csv(\"Stadiums Mapped with Capacity.csv\")\n",
    "#Capacity=Capacity[[\"Stadium\",\"Capacity\"]]\n",
    "#Capacity\n",
    "Capacity.columns"
   ]
  },
  {
   "cell_type": "code",
   "execution_count": 197,
   "id": "40437b19",
   "metadata": {},
   "outputs": [
    {
     "data": {
      "text/plain": [
       "{'King Fahd International Stadium': 68752,\n",
       " 'Prince Faisal bin Fahad Stadium': 22500,\n",
       " \"Al Majma'ah Sports City Stadium\": 7000,\n",
       " 'Prince Saud bin Jalawi Stadium': 15000,\n",
       " 'King Abdullah Sports City': 63000,\n",
       " 'King Abdullah Sport City Stadium': 25000,\n",
       " 'Prince Mohammed bin Abdul Aziz Stadium': 24000,\n",
       " 'Prince Mohamed bin Fahd Stadium': 26000,\n",
       " 'Prince Abdullah bin Jalawi Stadium': 19550,\n",
       " 'Al-Batin Club Stadium': 6000,\n",
       " 'King Salman Bin Abdulaziz Sport City Stadium': 7000,\n",
       " 'King Abdul Aziz Stadium': 38000,\n",
       " 'Mrsool Park': 25000,\n",
       " 'Al-Shoalah Club Stadium': 8000,\n",
       " 'Al-Orobah Club Stadium': 7000,\n",
       " 'Al-Ukhdood Stadium': 3000,\n",
       " 'Al-Qadasiya Club Stadium': 5000}"
      ]
     },
     "execution_count": 197,
     "metadata": {},
     "output_type": "execute_result"
    }
   ],
   "source": [
    "\n",
    "CapacityDict = dict(zip(Capacity.Stadium, Capacity.Capacity))\n",
    "CityDict = dict(zip(Capacity.Stadium, Capacity.City))\n",
    "EstablishedDict = dict(zip(Capacity.Stadium, Capacity['Established in']))\n",
    "\n",
    "CapacityDict"
   ]
  },
  {
   "cell_type": "code",
   "execution_count": 198,
   "id": "dc1d7d9d",
   "metadata": {},
   "outputs": [
    {
     "data": {
      "text/html": [
       "<div>\n",
       "<style scoped>\n",
       "    .dataframe tbody tr th:only-of-type {\n",
       "        vertical-align: middle;\n",
       "    }\n",
       "\n",
       "    .dataframe tbody tr th {\n",
       "        vertical-align: top;\n",
       "    }\n",
       "\n",
       "    .dataframe thead th {\n",
       "        text-align: right;\n",
       "    }\n",
       "</style>\n",
       "<table border=\"1\" class=\"dataframe\">\n",
       "  <thead>\n",
       "    <tr style=\"text-align: right;\">\n",
       "      <th></th>\n",
       "      <th>Capacity</th>\n",
       "      <th>City</th>\n",
       "      <th>Established_in</th>\n",
       "    </tr>\n",
       "  </thead>\n",
       "  <tbody>\n",
       "    <tr>\n",
       "      <th>0</th>\n",
       "      <td>68752</td>\n",
       "      <td>Riyadh</td>\n",
       "      <td>1987</td>\n",
       "    </tr>\n",
       "    <tr>\n",
       "      <th>1</th>\n",
       "      <td>22500</td>\n",
       "      <td>Riyadh</td>\n",
       "      <td>1971</td>\n",
       "    </tr>\n",
       "    <tr>\n",
       "      <th>2</th>\n",
       "      <td>7000</td>\n",
       "      <td>Al Majma'ah</td>\n",
       "      <td>1980</td>\n",
       "    </tr>\n",
       "    <tr>\n",
       "      <th>3</th>\n",
       "      <td>15000</td>\n",
       "      <td>Khobar</td>\n",
       "      <td>1982</td>\n",
       "    </tr>\n",
       "    <tr>\n",
       "      <th>4</th>\n",
       "      <td>63000</td>\n",
       "      <td>Jeddah</td>\n",
       "      <td>2014</td>\n",
       "    </tr>\n",
       "    <tr>\n",
       "      <th>...</th>\n",
       "      <td>...</td>\n",
       "      <td>...</td>\n",
       "      <td>...</td>\n",
       "    </tr>\n",
       "    <tr>\n",
       "      <th>707</th>\n",
       "      <td>19550</td>\n",
       "      <td>Al-Hasa</td>\n",
       "      <td>1983</td>\n",
       "    </tr>\n",
       "    <tr>\n",
       "      <th>708</th>\n",
       "      <td>15000</td>\n",
       "      <td>Khobar</td>\n",
       "      <td>1982</td>\n",
       "    </tr>\n",
       "    <tr>\n",
       "      <th>709</th>\n",
       "      <td>38000</td>\n",
       "      <td>Mecca</td>\n",
       "      <td>1984</td>\n",
       "    </tr>\n",
       "    <tr>\n",
       "      <th>710</th>\n",
       "      <td>68752</td>\n",
       "      <td>Riyadh</td>\n",
       "      <td>1987</td>\n",
       "    </tr>\n",
       "    <tr>\n",
       "      <th>711</th>\n",
       "      <td>63000</td>\n",
       "      <td>Jeddah</td>\n",
       "      <td>2014</td>\n",
       "    </tr>\n",
       "  </tbody>\n",
       "</table>\n",
       "<p>712 rows × 3 columns</p>\n",
       "</div>"
      ],
      "text/plain": [
       "     Capacity         City  Established_in\n",
       "0       68752       Riyadh            1987\n",
       "1       22500       Riyadh            1971\n",
       "2        7000  Al Majma'ah            1980\n",
       "3       15000       Khobar            1982\n",
       "4       63000       Jeddah            2014\n",
       "..        ...          ...             ...\n",
       "707     19550      Al-Hasa            1983\n",
       "708     15000       Khobar            1982\n",
       "709     38000        Mecca            1984\n",
       "710     68752       Riyadh            1987\n",
       "711     63000       Jeddah            2014\n",
       "\n",
       "[712 rows x 3 columns]"
      ]
     },
     "execution_count": 198,
     "metadata": {},
     "output_type": "execute_result"
    }
   ],
   "source": [
    "data['Capacity']=data[\"Stadium\"].map(CapacityDict)\n",
    "data['City']=data[\"Stadium\"].map(CityDict)\n",
    "data['Established_in']=data[\"Stadium\"].map(EstablishedDict)\n",
    "\n",
    "\n",
    "data[['Capacity','City','Established_in']]"
   ]
  },
  {
   "cell_type": "code",
   "execution_count": 199,
   "id": "a4705281",
   "metadata": {},
   "outputs": [
    {
     "data": {
      "text/plain": [
       "Index(['TeamA', 'TeamB', 'Stadium', 'Round', 'TeamA_Position',\n",
       "       'TeamB_Position', 'Attendance', 'TeamA_win_sum', 'TeamA_loss_sum',\n",
       "       'sum_goals_A', 'TeamA_draw_sum', 'TeamB_win_sum', 'TeamB_loss_sum',\n",
       "       'sum_goals_B', 'TeamB_draw_sum', 'Match_hour', 'Match_minute',\n",
       "       'Match_month', 'Match_day', 'Match_year', 'Match_day_name',\n",
       "       'Match_date_hijri_day', 'Match_date_hijri_month', 'feelslike',\n",
       "       'feelslikemax', 'feelslikemin', 'temp max:', 'temp min:', 'humidity:',\n",
       "       'precip:', 'visibility:', 'solarradiation:', 'solarenergy:', 'uvindex:',\n",
       "       'windspeed:', 'conditions:', 'description:', 'Capacity', 'City',\n",
       "       'Established_in'],\n",
       "      dtype='object')"
      ]
     },
     "execution_count": 199,
     "metadata": {},
     "output_type": "execute_result"
    }
   ],
   "source": [
    "data.columns"
   ]
  },
  {
   "cell_type": "markdown",
   "id": "26b7bcf6",
   "metadata": {},
   "source": [
    "## Drop colinear features (threshold =0.7)"
   ]
  },
  {
   "cell_type": "code",
   "execution_count": 200,
   "id": "856a9f38",
   "metadata": {},
   "outputs": [],
   "source": [
    "# calculate correlation matrix \n",
    "cor_matrix = data.corr().abs()"
   ]
  },
  {
   "cell_type": "code",
   "execution_count": 201,
   "id": "60b8c7dd",
   "metadata": {},
   "outputs": [
    {
     "name": "stderr",
     "output_type": "stream",
     "text": [
      "C:\\Users\\fagfa\\AppData\\Local\\Temp/ipykernel_56160/3673341754.py:1: DeprecationWarning:\n",
      "\n",
      "`np.bool` is a deprecated alias for the builtin `bool`. To silence this warning, use `bool` by itself. Doing this will not modify any behavior and is safe. If you specifically wanted the numpy scalar type, use `np.bool_` here.\n",
      "Deprecated in NumPy 1.20; for more details and guidance: https://numpy.org/devdocs/release/1.20.0-notes.html#deprecations\n",
      "\n"
     ]
    }
   ],
   "source": [
    "upper_tri = cor_matrix.where(np.triu(np.ones(cor_matrix.shape),k=1).astype(np.bool))"
   ]
  },
  {
   "cell_type": "code",
   "execution_count": 202,
   "id": "ed2ea2de",
   "metadata": {},
   "outputs": [],
   "source": [
    "to_drop = [column for column in upper_tri.columns if any(upper_tri[column] > 0.7)]"
   ]
  },
  {
   "cell_type": "code",
   "execution_count": 203,
   "id": "8746c7b0",
   "metadata": {},
   "outputs": [
    {
     "name": "stdout",
     "output_type": "stream",
     "text": [
      "['TeamA_win_sum', 'sum_goals_A', 'sum_goals_B', 'TeamB_draw_sum', 'feelslikemax', 'feelslikemin', 'temp max:', 'temp min:', 'solarenergy:', 'uvindex:']\n"
     ]
    }
   ],
   "source": [
    "# features to drop\n",
    "print(to_drop)"
   ]
  },
  {
   "cell_type": "code",
   "execution_count": 204,
   "id": "1a30fb96",
   "metadata": {},
   "outputs": [],
   "source": [
    "data=data.drop(to_drop, axis=1)\n"
   ]
  },
  {
   "cell_type": "markdown",
   "id": "d10147dd",
   "metadata": {},
   "source": [
    "# Data pre-processing"
   ]
  },
  {
   "cell_type": "code",
   "execution_count": 205,
   "id": "db21b989",
   "metadata": {
    "ExecuteTime": {
     "end_time": "2022-08-19T18:52:28.170426Z",
     "start_time": "2022-08-19T18:52:28.144973Z"
    },
    "scrolled": true
   },
   "outputs": [
    {
     "data": {
      "text/html": [
       "<div>\n",
       "<style scoped>\n",
       "    .dataframe tbody tr th:only-of-type {\n",
       "        vertical-align: middle;\n",
       "    }\n",
       "\n",
       "    .dataframe tbody tr th {\n",
       "        vertical-align: top;\n",
       "    }\n",
       "\n",
       "    .dataframe thead th {\n",
       "        text-align: right;\n",
       "    }\n",
       "</style>\n",
       "<table border=\"1\" class=\"dataframe\">\n",
       "  <thead>\n",
       "    <tr style=\"text-align: right;\">\n",
       "      <th></th>\n",
       "      <th>TeamA_encoded</th>\n",
       "      <th>TeamA</th>\n",
       "      <th>TeamB_encoded</th>\n",
       "      <th>TeamB</th>\n",
       "      <th>Stadium_encoded</th>\n",
       "      <th>Stadium</th>\n",
       "      <th>conditions_encoded</th>\n",
       "      <th>conditions:</th>\n",
       "      <th>description_encoded</th>\n",
       "      <th>description:</th>\n",
       "    </tr>\n",
       "  </thead>\n",
       "  <tbody>\n",
       "    <tr>\n",
       "      <th>0</th>\n",
       "      <td>5</td>\n",
       "      <td>Al-Hilal Saudi FC</td>\n",
       "      <td>4</td>\n",
       "      <td>Al-Fayha FC</td>\n",
       "      <td>9</td>\n",
       "      <td>King Fahd International Stadium</td>\n",
       "      <td>0</td>\n",
       "      <td>Clear</td>\n",
       "      <td>5</td>\n",
       "      <td>Clear conditions throughout the day.</td>\n",
       "    </tr>\n",
       "    <tr>\n",
       "      <th>1</th>\n",
       "      <td>8</td>\n",
       "      <td>Al-Nassr Riad</td>\n",
       "      <td>4</td>\n",
       "      <td>Al-Fayha FC</td>\n",
       "      <td>12</td>\n",
       "      <td>Prince Faisal bin Fahad Stadium</td>\n",
       "      <td>0</td>\n",
       "      <td>Clear</td>\n",
       "      <td>5</td>\n",
       "      <td>Clear conditions throughout the day.</td>\n",
       "    </tr>\n",
       "    <tr>\n",
       "      <th>2</th>\n",
       "      <td>2</td>\n",
       "      <td>Al-Faisaly FC</td>\n",
       "      <td>4</td>\n",
       "      <td>Al-Fayha FC</td>\n",
       "      <td>0</td>\n",
       "      <td>Al Majma'ah Sports City Stadium</td>\n",
       "      <td>0</td>\n",
       "      <td>Clear</td>\n",
       "      <td>5</td>\n",
       "      <td>Clear conditions throughout the day.</td>\n",
       "    </tr>\n",
       "    <tr>\n",
       "      <th>3</th>\n",
       "      <td>10</td>\n",
       "      <td>Al-Qadsiah FC</td>\n",
       "      <td>4</td>\n",
       "      <td>Al-Fayha FC</td>\n",
       "      <td>15</td>\n",
       "      <td>Prince Saud bin Jalawi Stadium</td>\n",
       "      <td>0</td>\n",
       "      <td>Clear</td>\n",
       "      <td>5</td>\n",
       "      <td>Clear conditions throughout the day.</td>\n",
       "    </tr>\n",
       "    <tr>\n",
       "      <th>4</th>\n",
       "      <td>0</td>\n",
       "      <td>Al-Ahli Saudi FC</td>\n",
       "      <td>4</td>\n",
       "      <td>Al-Fayha FC</td>\n",
       "      <td>8</td>\n",
       "      <td>King Abdullah Sports City</td>\n",
       "      <td>0</td>\n",
       "      <td>Clear</td>\n",
       "      <td>5</td>\n",
       "      <td>Clear conditions throughout the day.</td>\n",
       "    </tr>\n",
       "    <tr>\n",
       "      <th>5</th>\n",
       "      <td>11</td>\n",
       "      <td>Al-Raed</td>\n",
       "      <td>4</td>\n",
       "      <td>Al-Fayha FC</td>\n",
       "      <td>7</td>\n",
       "      <td>King Abdullah Sport City Stadium</td>\n",
       "      <td>2</td>\n",
       "      <td>Partially cloudy</td>\n",
       "      <td>19</td>\n",
       "      <td>Partly cloudy throughout the day.</td>\n",
       "    </tr>\n",
       "    <tr>\n",
       "      <th>6</th>\n",
       "      <td>6</td>\n",
       "      <td>Al-Ittihad Club (Jeddah)</td>\n",
       "      <td>4</td>\n",
       "      <td>Al-Fayha FC</td>\n",
       "      <td>8</td>\n",
       "      <td>King Abdullah Sports City</td>\n",
       "      <td>0</td>\n",
       "      <td>Clear</td>\n",
       "      <td>5</td>\n",
       "      <td>Clear conditions throughout the day.</td>\n",
       "    </tr>\n",
       "    <tr>\n",
       "      <th>7</th>\n",
       "      <td>14</td>\n",
       "      <td>Al-Taawoun FC</td>\n",
       "      <td>4</td>\n",
       "      <td>Al-Fayha FC</td>\n",
       "      <td>7</td>\n",
       "      <td>King Abdullah Sport City Stadium</td>\n",
       "      <td>0</td>\n",
       "      <td>Clear</td>\n",
       "      <td>5</td>\n",
       "      <td>Clear conditions throughout the day.</td>\n",
       "    </tr>\n",
       "    <tr>\n",
       "      <th>8</th>\n",
       "      <td>19</td>\n",
       "      <td>Ohod Al-Medina</td>\n",
       "      <td>4</td>\n",
       "      <td>Al-Fayha FC</td>\n",
       "      <td>14</td>\n",
       "      <td>Prince Mohammed bin Abdul Aziz Stadium</td>\n",
       "      <td>0</td>\n",
       "      <td>Clear</td>\n",
       "      <td>5</td>\n",
       "      <td>Clear conditions throughout the day.</td>\n",
       "    </tr>\n",
       "    <tr>\n",
       "      <th>9</th>\n",
       "      <td>16</td>\n",
       "      <td>Ettifaq FC</td>\n",
       "      <td>4</td>\n",
       "      <td>Al-Fayha FC</td>\n",
       "      <td>13</td>\n",
       "      <td>Prince Mohamed bin Fahd Stadium</td>\n",
       "      <td>0</td>\n",
       "      <td>Clear</td>\n",
       "      <td>5</td>\n",
       "      <td>Clear conditions throughout the day.</td>\n",
       "    </tr>\n",
       "    <tr>\n",
       "      <th>10</th>\n",
       "      <td>3</td>\n",
       "      <td>Al-Fateh</td>\n",
       "      <td>4</td>\n",
       "      <td>Al-Fayha FC</td>\n",
       "      <td>11</td>\n",
       "      <td>Prince Abdullah bin Jalawi Stadium</td>\n",
       "      <td>0</td>\n",
       "      <td>Clear</td>\n",
       "      <td>5</td>\n",
       "      <td>Clear conditions throughout the day.</td>\n",
       "    </tr>\n",
       "    <tr>\n",
       "      <th>11</th>\n",
       "      <td>12</td>\n",
       "      <td>Al-Shabab Club (Riyadh)</td>\n",
       "      <td>4</td>\n",
       "      <td>Al-Fayha FC</td>\n",
       "      <td>12</td>\n",
       "      <td>Prince Faisal bin Fahad Stadium</td>\n",
       "      <td>0</td>\n",
       "      <td>Clear</td>\n",
       "      <td>5</td>\n",
       "      <td>Clear conditions throughout the day.</td>\n",
       "    </tr>\n",
       "    <tr>\n",
       "      <th>12</th>\n",
       "      <td>1</td>\n",
       "      <td>Al-Batin FC</td>\n",
       "      <td>4</td>\n",
       "      <td>Al-Fayha FC</td>\n",
       "      <td>1</td>\n",
       "      <td>Al-Batin Club Stadium</td>\n",
       "      <td>0</td>\n",
       "      <td>Clear</td>\n",
       "      <td>5</td>\n",
       "      <td>Clear conditions throughout the day.</td>\n",
       "    </tr>\n",
       "    <tr>\n",
       "      <th>13</th>\n",
       "      <td>12</td>\n",
       "      <td>Al-Shabab Club (Riyadh)</td>\n",
       "      <td>19</td>\n",
       "      <td>Ohod Al-Medina</td>\n",
       "      <td>12</td>\n",
       "      <td>Prince Faisal bin Fahad Stadium</td>\n",
       "      <td>0</td>\n",
       "      <td>Clear</td>\n",
       "      <td>5</td>\n",
       "      <td>Clear conditions throughout the day.</td>\n",
       "    </tr>\n",
       "    <tr>\n",
       "      <th>14</th>\n",
       "      <td>1</td>\n",
       "      <td>Al-Batin FC</td>\n",
       "      <td>19</td>\n",
       "      <td>Ohod Al-Medina</td>\n",
       "      <td>1</td>\n",
       "      <td>Al-Batin Club Stadium</td>\n",
       "      <td>2</td>\n",
       "      <td>Partially cloudy</td>\n",
       "      <td>8</td>\n",
       "      <td>Clearing in the afternoon.</td>\n",
       "    </tr>\n",
       "    <tr>\n",
       "      <th>15</th>\n",
       "      <td>5</td>\n",
       "      <td>Al-Hilal Saudi FC</td>\n",
       "      <td>19</td>\n",
       "      <td>Ohod Al-Medina</td>\n",
       "      <td>12</td>\n",
       "      <td>Prince Faisal bin Fahad Stadium</td>\n",
       "      <td>0</td>\n",
       "      <td>Clear</td>\n",
       "      <td>5</td>\n",
       "      <td>Clear conditions throughout the day.</td>\n",
       "    </tr>\n",
       "    <tr>\n",
       "      <th>16</th>\n",
       "      <td>4</td>\n",
       "      <td>Al-Fayha FC</td>\n",
       "      <td>19</td>\n",
       "      <td>Ohod Al-Medina</td>\n",
       "      <td>0</td>\n",
       "      <td>Al Majma'ah Sports City Stadium</td>\n",
       "      <td>2</td>\n",
       "      <td>Partially cloudy</td>\n",
       "      <td>19</td>\n",
       "      <td>Partly cloudy throughout the day.</td>\n",
       "    </tr>\n",
       "    <tr>\n",
       "      <th>17</th>\n",
       "      <td>6</td>\n",
       "      <td>Al-Ittihad Club (Jeddah)</td>\n",
       "      <td>19</td>\n",
       "      <td>Ohod Al-Medina</td>\n",
       "      <td>8</td>\n",
       "      <td>King Abdullah Sports City</td>\n",
       "      <td>0</td>\n",
       "      <td>Clear</td>\n",
       "      <td>5</td>\n",
       "      <td>Clear conditions throughout the day.</td>\n",
       "    </tr>\n",
       "    <tr>\n",
       "      <th>18</th>\n",
       "      <td>14</td>\n",
       "      <td>Al-Taawoun FC</td>\n",
       "      <td>19</td>\n",
       "      <td>Ohod Al-Medina</td>\n",
       "      <td>7</td>\n",
       "      <td>King Abdullah Sport City Stadium</td>\n",
       "      <td>0</td>\n",
       "      <td>Clear</td>\n",
       "      <td>5</td>\n",
       "      <td>Clear conditions throughout the day.</td>\n",
       "    </tr>\n",
       "    <tr>\n",
       "      <th>19</th>\n",
       "      <td>11</td>\n",
       "      <td>Al-Raed</td>\n",
       "      <td>19</td>\n",
       "      <td>Ohod Al-Medina</td>\n",
       "      <td>7</td>\n",
       "      <td>King Abdullah Sport City Stadium</td>\n",
       "      <td>2</td>\n",
       "      <td>Partially cloudy</td>\n",
       "      <td>19</td>\n",
       "      <td>Partly cloudy throughout the day.</td>\n",
       "    </tr>\n",
       "    <tr>\n",
       "      <th>20</th>\n",
       "      <td>3</td>\n",
       "      <td>Al-Fateh</td>\n",
       "      <td>19</td>\n",
       "      <td>Ohod Al-Medina</td>\n",
       "      <td>11</td>\n",
       "      <td>Prince Abdullah bin Jalawi Stadium</td>\n",
       "      <td>0</td>\n",
       "      <td>Clear</td>\n",
       "      <td>5</td>\n",
       "      <td>Clear conditions throughout the day.</td>\n",
       "    </tr>\n",
       "    <tr>\n",
       "      <th>21</th>\n",
       "      <td>8</td>\n",
       "      <td>Al-Nassr Riad</td>\n",
       "      <td>19</td>\n",
       "      <td>Ohod Al-Medina</td>\n",
       "      <td>9</td>\n",
       "      <td>King Fahd International Stadium</td>\n",
       "      <td>0</td>\n",
       "      <td>Clear</td>\n",
       "      <td>5</td>\n",
       "      <td>Clear conditions throughout the day.</td>\n",
       "    </tr>\n",
       "    <tr>\n",
       "      <th>22</th>\n",
       "      <td>2</td>\n",
       "      <td>Al-Faisaly FC</td>\n",
       "      <td>19</td>\n",
       "      <td>Ohod Al-Medina</td>\n",
       "      <td>0</td>\n",
       "      <td>Al Majma'ah Sports City Stadium</td>\n",
       "      <td>1</td>\n",
       "      <td>Overcast</td>\n",
       "      <td>11</td>\n",
       "      <td>Cloudy skies throughout the day.</td>\n",
       "    </tr>\n",
       "    <tr>\n",
       "      <th>23</th>\n",
       "      <td>16</td>\n",
       "      <td>Ettifaq FC</td>\n",
       "      <td>19</td>\n",
       "      <td>Ohod Al-Medina</td>\n",
       "      <td>13</td>\n",
       "      <td>Prince Mohamed bin Fahd Stadium</td>\n",
       "      <td>2</td>\n",
       "      <td>Partially cloudy</td>\n",
       "      <td>8</td>\n",
       "      <td>Clearing in the afternoon.</td>\n",
       "    </tr>\n",
       "    <tr>\n",
       "      <th>24</th>\n",
       "      <td>10</td>\n",
       "      <td>Al-Qadsiah FC</td>\n",
       "      <td>19</td>\n",
       "      <td>Ohod Al-Medina</td>\n",
       "      <td>15</td>\n",
       "      <td>Prince Saud bin Jalawi Stadium</td>\n",
       "      <td>2</td>\n",
       "      <td>Partially cloudy</td>\n",
       "      <td>19</td>\n",
       "      <td>Partly cloudy throughout the day.</td>\n",
       "    </tr>\n",
       "    <tr>\n",
       "      <th>25</th>\n",
       "      <td>0</td>\n",
       "      <td>Al-Ahli Saudi FC</td>\n",
       "      <td>19</td>\n",
       "      <td>Ohod Al-Medina</td>\n",
       "      <td>6</td>\n",
       "      <td>King Abdul Aziz Stadium</td>\n",
       "      <td>0</td>\n",
       "      <td>Clear</td>\n",
       "      <td>5</td>\n",
       "      <td>Clear conditions throughout the day.</td>\n",
       "    </tr>\n",
       "    <tr>\n",
       "      <th>26</th>\n",
       "      <td>12</td>\n",
       "      <td>Al-Shabab Club (Riyadh)</td>\n",
       "      <td>10</td>\n",
       "      <td>Al-Qadsiah FC</td>\n",
       "      <td>12</td>\n",
       "      <td>Prince Faisal bin Fahad Stadium</td>\n",
       "      <td>2</td>\n",
       "      <td>Partially cloudy</td>\n",
       "      <td>19</td>\n",
       "      <td>Partly cloudy throughout the day.</td>\n",
       "    </tr>\n",
       "    <tr>\n",
       "      <th>27</th>\n",
       "      <td>16</td>\n",
       "      <td>Ettifaq FC</td>\n",
       "      <td>10</td>\n",
       "      <td>Al-Qadsiah FC</td>\n",
       "      <td>13</td>\n",
       "      <td>Prince Mohamed bin Fahd Stadium</td>\n",
       "      <td>0</td>\n",
       "      <td>Clear</td>\n",
       "      <td>5</td>\n",
       "      <td>Clear conditions throughout the day.</td>\n",
       "    </tr>\n",
       "    <tr>\n",
       "      <th>28</th>\n",
       "      <td>5</td>\n",
       "      <td>Al-Hilal Saudi FC</td>\n",
       "      <td>10</td>\n",
       "      <td>Al-Qadsiah FC</td>\n",
       "      <td>12</td>\n",
       "      <td>Prince Faisal bin Fahad Stadium</td>\n",
       "      <td>0</td>\n",
       "      <td>Clear</td>\n",
       "      <td>5</td>\n",
       "      <td>Clear conditions throughout the day.</td>\n",
       "    </tr>\n",
       "    <tr>\n",
       "      <th>29</th>\n",
       "      <td>3</td>\n",
       "      <td>Al-Fateh</td>\n",
       "      <td>10</td>\n",
       "      <td>Al-Qadsiah FC</td>\n",
       "      <td>11</td>\n",
       "      <td>Prince Abdullah bin Jalawi Stadium</td>\n",
       "      <td>0</td>\n",
       "      <td>Clear</td>\n",
       "      <td>5</td>\n",
       "      <td>Clear conditions throughout the day.</td>\n",
       "    </tr>\n",
       "  </tbody>\n",
       "</table>\n",
       "</div>"
      ],
      "text/plain": [
       "    TeamA_encoded                     TeamA  TeamB_encoded           TeamB  \\\n",
       "0               5         Al-Hilal Saudi FC              4     Al-Fayha FC   \n",
       "1               8             Al-Nassr Riad              4     Al-Fayha FC   \n",
       "2               2             Al-Faisaly FC              4     Al-Fayha FC   \n",
       "3              10             Al-Qadsiah FC              4     Al-Fayha FC   \n",
       "4               0          Al-Ahli Saudi FC              4     Al-Fayha FC   \n",
       "5              11                   Al-Raed              4     Al-Fayha FC   \n",
       "6               6  Al-Ittihad Club (Jeddah)              4     Al-Fayha FC   \n",
       "7              14             Al-Taawoun FC              4     Al-Fayha FC   \n",
       "8              19            Ohod Al-Medina              4     Al-Fayha FC   \n",
       "9              16                Ettifaq FC              4     Al-Fayha FC   \n",
       "10              3                  Al-Fateh              4     Al-Fayha FC   \n",
       "11             12   Al-Shabab Club (Riyadh)              4     Al-Fayha FC   \n",
       "12              1               Al-Batin FC              4     Al-Fayha FC   \n",
       "13             12   Al-Shabab Club (Riyadh)             19  Ohod Al-Medina   \n",
       "14              1               Al-Batin FC             19  Ohod Al-Medina   \n",
       "15              5         Al-Hilal Saudi FC             19  Ohod Al-Medina   \n",
       "16              4               Al-Fayha FC             19  Ohod Al-Medina   \n",
       "17              6  Al-Ittihad Club (Jeddah)             19  Ohod Al-Medina   \n",
       "18             14             Al-Taawoun FC             19  Ohod Al-Medina   \n",
       "19             11                   Al-Raed             19  Ohod Al-Medina   \n",
       "20              3                  Al-Fateh             19  Ohod Al-Medina   \n",
       "21              8             Al-Nassr Riad             19  Ohod Al-Medina   \n",
       "22              2             Al-Faisaly FC             19  Ohod Al-Medina   \n",
       "23             16                Ettifaq FC             19  Ohod Al-Medina   \n",
       "24             10             Al-Qadsiah FC             19  Ohod Al-Medina   \n",
       "25              0          Al-Ahli Saudi FC             19  Ohod Al-Medina   \n",
       "26             12   Al-Shabab Club (Riyadh)             10   Al-Qadsiah FC   \n",
       "27             16                Ettifaq FC             10   Al-Qadsiah FC   \n",
       "28              5         Al-Hilal Saudi FC             10   Al-Qadsiah FC   \n",
       "29              3                  Al-Fateh             10   Al-Qadsiah FC   \n",
       "\n",
       "    Stadium_encoded                                 Stadium  \\\n",
       "0                 9         King Fahd International Stadium   \n",
       "1                12         Prince Faisal bin Fahad Stadium   \n",
       "2                 0         Al Majma'ah Sports City Stadium   \n",
       "3                15          Prince Saud bin Jalawi Stadium   \n",
       "4                 8               King Abdullah Sports City   \n",
       "5                 7        King Abdullah Sport City Stadium   \n",
       "6                 8               King Abdullah Sports City   \n",
       "7                 7        King Abdullah Sport City Stadium   \n",
       "8                14  Prince Mohammed bin Abdul Aziz Stadium   \n",
       "9                13         Prince Mohamed bin Fahd Stadium   \n",
       "10               11      Prince Abdullah bin Jalawi Stadium   \n",
       "11               12         Prince Faisal bin Fahad Stadium   \n",
       "12                1                   Al-Batin Club Stadium   \n",
       "13               12         Prince Faisal bin Fahad Stadium   \n",
       "14                1                   Al-Batin Club Stadium   \n",
       "15               12         Prince Faisal bin Fahad Stadium   \n",
       "16                0         Al Majma'ah Sports City Stadium   \n",
       "17                8               King Abdullah Sports City   \n",
       "18                7        King Abdullah Sport City Stadium   \n",
       "19                7        King Abdullah Sport City Stadium   \n",
       "20               11      Prince Abdullah bin Jalawi Stadium   \n",
       "21                9         King Fahd International Stadium   \n",
       "22                0         Al Majma'ah Sports City Stadium   \n",
       "23               13         Prince Mohamed bin Fahd Stadium   \n",
       "24               15          Prince Saud bin Jalawi Stadium   \n",
       "25                6                 King Abdul Aziz Stadium   \n",
       "26               12         Prince Faisal bin Fahad Stadium   \n",
       "27               13         Prince Mohamed bin Fahd Stadium   \n",
       "28               12         Prince Faisal bin Fahad Stadium   \n",
       "29               11      Prince Abdullah bin Jalawi Stadium   \n",
       "\n",
       "    conditions_encoded       conditions:  description_encoded  \\\n",
       "0                    0             Clear                    5   \n",
       "1                    0             Clear                    5   \n",
       "2                    0             Clear                    5   \n",
       "3                    0             Clear                    5   \n",
       "4                    0             Clear                    5   \n",
       "5                    2  Partially cloudy                   19   \n",
       "6                    0             Clear                    5   \n",
       "7                    0             Clear                    5   \n",
       "8                    0             Clear                    5   \n",
       "9                    0             Clear                    5   \n",
       "10                   0             Clear                    5   \n",
       "11                   0             Clear                    5   \n",
       "12                   0             Clear                    5   \n",
       "13                   0             Clear                    5   \n",
       "14                   2  Partially cloudy                    8   \n",
       "15                   0             Clear                    5   \n",
       "16                   2  Partially cloudy                   19   \n",
       "17                   0             Clear                    5   \n",
       "18                   0             Clear                    5   \n",
       "19                   2  Partially cloudy                   19   \n",
       "20                   0             Clear                    5   \n",
       "21                   0             Clear                    5   \n",
       "22                   1          Overcast                   11   \n",
       "23                   2  Partially cloudy                    8   \n",
       "24                   2  Partially cloudy                   19   \n",
       "25                   0             Clear                    5   \n",
       "26                   2  Partially cloudy                   19   \n",
       "27                   0             Clear                    5   \n",
       "28                   0             Clear                    5   \n",
       "29                   0             Clear                    5   \n",
       "\n",
       "                            description:  \n",
       "0   Clear conditions throughout the day.  \n",
       "1   Clear conditions throughout the day.  \n",
       "2   Clear conditions throughout the day.  \n",
       "3   Clear conditions throughout the day.  \n",
       "4   Clear conditions throughout the day.  \n",
       "5      Partly cloudy throughout the day.  \n",
       "6   Clear conditions throughout the day.  \n",
       "7   Clear conditions throughout the day.  \n",
       "8   Clear conditions throughout the day.  \n",
       "9   Clear conditions throughout the day.  \n",
       "10  Clear conditions throughout the day.  \n",
       "11  Clear conditions throughout the day.  \n",
       "12  Clear conditions throughout the day.  \n",
       "13  Clear conditions throughout the day.  \n",
       "14            Clearing in the afternoon.  \n",
       "15  Clear conditions throughout the day.  \n",
       "16     Partly cloudy throughout the day.  \n",
       "17  Clear conditions throughout the day.  \n",
       "18  Clear conditions throughout the day.  \n",
       "19     Partly cloudy throughout the day.  \n",
       "20  Clear conditions throughout the day.  \n",
       "21  Clear conditions throughout the day.  \n",
       "22      Cloudy skies throughout the day.  \n",
       "23            Clearing in the afternoon.  \n",
       "24     Partly cloudy throughout the day.  \n",
       "25  Clear conditions throughout the day.  \n",
       "26     Partly cloudy throughout the day.  \n",
       "27  Clear conditions throughout the day.  \n",
       "28  Clear conditions throughout the day.  \n",
       "29  Clear conditions throughout the day.  "
      ]
     },
     "execution_count": 205,
     "metadata": {},
     "output_type": "execute_result"
    }
   ],
   "source": [
    "# label_encoder object\n",
    "label_encoder =LabelEncoder()\n",
    "label_encoder_stadium =LabelEncoder()\n",
    "label_encoder_match_day_name =LabelEncoder()\n",
    "label_encoder_con =LabelEncoder()\n",
    "label_encoder_match_day_name =LabelEncoder()\n",
    "label_encoder_desc =LabelEncoder()\n",
    "label_encoder_city =LabelEncoder()\n",
    "\n",
    "# Encode labels in column. \n",
    "data['Stadium_encoded']= label_encoder_stadium.fit_transform(data['Stadium'])\n",
    "data['match_day_name_encoded']= label_encoder_match_day_name.fit_transform(data['Match_day_name'])\n",
    "data['TeamA_encoded']= label_encoder.fit_transform(data['TeamA'])\n",
    "data['TeamB_encoded']= label_encoder.fit_transform(data['TeamB'])\n",
    "data['City_encoded']=label_encoder_city.fit_transform(data['City'])\n",
    "#weather stuff \n",
    "data['conditions_encoded']= label_encoder_con.fit_transform(data['conditions:'])\n",
    "data['description_encoded']= label_encoder_desc.fit_transform(data['description:'])\n",
    "#data['preciptype_encoded']= label_encoder.fit_transform(data['preciptype:'])    \n",
    "data[['TeamA_encoded','TeamA','TeamB_encoded','TeamB','Stadium_encoded','Stadium','conditions_encoded','conditions:','description_encoded','description:']][0:30]"
   ]
  },
  {
   "cell_type": "code",
   "execution_count": 206,
   "id": "0dc033f8",
   "metadata": {},
   "outputs": [
    {
     "data": {
      "text/plain": [
       "Index(['TeamA', 'TeamB', 'Stadium', 'Round', 'TeamA_Position',\n",
       "       'TeamB_Position', 'Attendance', 'TeamA_loss_sum', 'TeamA_draw_sum',\n",
       "       'TeamB_win_sum', 'TeamB_loss_sum', 'Match_hour', 'Match_minute',\n",
       "       'Match_month', 'Match_day', 'Match_year', 'Match_day_name',\n",
       "       'Match_date_hijri_day', 'Match_date_hijri_month', 'feelslike',\n",
       "       'humidity:', 'precip:', 'visibility:', 'solarradiation:', 'windspeed:',\n",
       "       'conditions:', 'description:', 'Capacity', 'City', 'Established_in',\n",
       "       'Stadium_encoded', 'match_day_name_encoded', 'TeamA_encoded',\n",
       "       'TeamB_encoded', 'City_encoded', 'conditions_encoded',\n",
       "       'description_encoded'],\n",
       "      dtype='object')"
      ]
     },
     "execution_count": 206,
     "metadata": {},
     "output_type": "execute_result"
    }
   ],
   "source": [
    "data.columns"
   ]
  },
  {
   "cell_type": "code",
   "execution_count": 207,
   "id": "b9de2cdd",
   "metadata": {
    "ExecuteTime": {
     "end_time": "2022-08-19T18:52:28.939309Z",
     "start_time": "2022-08-19T18:52:28.936015Z"
    }
   },
   "outputs": [],
   "source": [
    "# drop encoded features + match time \n",
    "data=data.drop(['TeamA','TeamB','Stadium','Match_day_name','conditions:','description:','City','Match_minute','Match_hour'],axis=1)\n",
    "#,\"TeamB_Position\" ,'Match_minute','Match_hour', 'TeamB_Position'"
   ]
  },
  {
   "cell_type": "code",
   "execution_count": 208,
   "id": "56d595c0",
   "metadata": {
    "ExecuteTime": {
     "end_time": "2022-08-19T18:52:30.033112Z",
     "start_time": "2022-08-19T18:52:30.030030Z"
    }
   },
   "outputs": [],
   "source": [
    "data['visibility:'].fillna(data['visibility:'].mode()[0], inplace=True)"
   ]
  },
  {
   "cell_type": "code",
   "execution_count": 209,
   "id": "e705f5bc",
   "metadata": {
    "ExecuteTime": {
     "end_time": "2022-08-19T18:52:30.354717Z",
     "start_time": "2022-08-19T18:52:30.349615Z"
    }
   },
   "outputs": [
    {
     "data": {
      "text/plain": [
       "Round                     0\n",
       "TeamA_Position            0\n",
       "TeamB_Position            0\n",
       "Attendance                0\n",
       "TeamA_loss_sum            0\n",
       "TeamA_draw_sum            0\n",
       "TeamB_win_sum             0\n",
       "TeamB_loss_sum            0\n",
       "Match_month               0\n",
       "Match_day                 0\n",
       "Match_year                0\n",
       "Match_date_hijri_day      0\n",
       "Match_date_hijri_month    0\n",
       "feelslike                 0\n",
       "humidity:                 0\n",
       "precip:                   0\n",
       "visibility:               0\n",
       "solarradiation:           0\n",
       "windspeed:                0\n",
       "Capacity                  0\n",
       "Established_in            0\n",
       "Stadium_encoded           0\n",
       "match_day_name_encoded    0\n",
       "TeamA_encoded             0\n",
       "TeamB_encoded             0\n",
       "City_encoded              0\n",
       "conditions_encoded        0\n",
       "description_encoded       0\n",
       "dtype: int64"
      ]
     },
     "execution_count": 209,
     "metadata": {},
     "output_type": "execute_result"
    }
   ],
   "source": [
    "data.isna().sum()"
   ]
  },
  {
   "cell_type": "code",
   "execution_count": 210,
   "id": "578a9d6a",
   "metadata": {},
   "outputs": [],
   "source": [
    "target = data.pop('Attendance')\n",
    "target=np.log(target)\n",
    "X_train, X_test, y_train, y_test = train_test_split(data, target, test_size=0.2, random_state=1234)"
   ]
  },
  {
   "cell_type": "markdown",
   "id": "03abe235",
   "metadata": {},
   "source": [
    "# ML models with K-Fold cross validation to select best model"
   ]
  },
  {
   "cell_type": "markdown",
   "id": "2f6cce6c",
   "metadata": {},
   "source": [
    "##  1- HistGradient Boosting Regressor"
   ]
  },
  {
   "cell_type": "code",
   "execution_count": 211,
   "id": "0fb364dd",
   "metadata": {},
   "outputs": [
    {
     "name": "stdout",
     "output_type": "stream",
     "text": [
      "R2: 0.763 (0.038)\n",
      "best score: 0.8267563363864212\n"
     ]
    }
   ],
   "source": [
    "\n",
    "\n",
    "# prepare the cross-validation procedure\n",
    "cv = KFold(n_splits=10, random_state=1, shuffle=True)\n",
    "# create model\n",
    "#model = HistGradientBoostingRegressor(random_state=4,max_depth=3,min_samples_leaf=4)\n",
    "model = HistGradientBoostingRegressor(random_state=0,max_depth=3,min_samples_leaf=7)\n",
    "# evaluate model\n",
    "scores = cross_val_score(model, data, target, scoring='r2', cv=cv, n_jobs=-1)\n",
    "# report performance\n",
    "print('R2: %.3f (%.3f)' % (mean(scores), std(scores)))\n",
    "print('best score:', max(scores))"
   ]
  },
  {
   "cell_type": "markdown",
   "id": "0af8141b",
   "metadata": {},
   "source": [
    "## 2- Random Foreset"
   ]
  },
  {
   "cell_type": "code",
   "execution_count": 212,
   "id": "298ad202",
   "metadata": {
    "ExecuteTime": {
     "end_time": "2022-08-19T18:52:51.116941Z",
     "start_time": "2022-08-19T18:52:48.119657Z"
    }
   },
   "outputs": [
    {
     "name": "stdout",
     "output_type": "stream",
     "text": [
      "R2: 0.721 (0.037)\n",
      "best score: 0.7811224979706874\n"
     ]
    }
   ],
   "source": [
    "# prepare the cross-validation procedure\n",
    "cv = KFold(n_splits=10, random_state=1, shuffle=True)\n",
    "# create model\n",
    "model = RandomForestRegressor(max_depth=7, random_state=0,n_estimators=100,min_samples_split=5,min_samples_leaf=3)\n",
    "# evaluate model\n",
    "scores = cross_val_score(model, data, target, scoring='r2', cv=cv, n_jobs=-1)\n",
    "# report performance\n",
    "print('R2: %.3f (%.3f)' % (mean(scores), std(scores)))\n",
    "print('best score:', max(scores))"
   ]
  },
  {
   "cell_type": "markdown",
   "id": "a626fd12",
   "metadata": {},
   "source": [
    "## 3- Polynomial"
   ]
  },
  {
   "cell_type": "code",
   "execution_count": 213,
   "id": "3072c217",
   "metadata": {
    "ExecuteTime": {
     "end_time": "2022-08-19T18:52:51.524339Z",
     "start_time": "2022-08-19T18:52:51.521073Z"
    }
   },
   "outputs": [],
   "source": [
    "\n",
    "\n",
    "scaler = preprocessing.StandardScaler()\n",
    "#scaler = preprocessing.RobustScaler()\n",
    "degree=1\n",
    "polyreg_scaled=make_pipeline(scaler,PolynomialFeatures(degree),LinearRegression())"
   ]
  },
  {
   "cell_type": "code",
   "execution_count": 214,
   "id": "740b4741",
   "metadata": {
    "ExecuteTime": {
     "end_time": "2022-08-19T18:52:52.817056Z",
     "start_time": "2022-08-19T18:52:51.894240Z"
    }
   },
   "outputs": [
    {
     "name": "stdout",
     "output_type": "stream",
     "text": [
      "R2: 0.515 (0.054)\n",
      "best score: 0.6238253494586619\n"
     ]
    }
   ],
   "source": [
    "# prepare the cross-validation procedure\n",
    "cv = KFold(n_splits=10, random_state=1, shuffle=True)\n",
    "# create model\n",
    "model = polyreg_scaled\n",
    "# evaluate model\n",
    "scores = cross_val_score(model, data, target, scoring='r2', cv=cv, n_jobs=-1)\n",
    "# report performance\n",
    "print('R2: %.3f (%.3f)' % (mean(scores), std(scores)))\n",
    "print('best score:', max(scores))"
   ]
  },
  {
   "cell_type": "markdown",
   "id": "b892d2a3",
   "metadata": {},
   "source": [
    "## 4- Knn"
   ]
  },
  {
   "cell_type": "markdown",
   "id": "c21785c9",
   "metadata": {},
   "source": [
    "### KNN select best K"
   ]
  },
  {
   "cell_type": "code",
   "execution_count": 215,
   "id": "5f43ebff",
   "metadata": {
    "ExecuteTime": {
     "end_time": "2022-08-19T18:52:32.839153Z",
     "start_time": "2022-08-19T18:52:32.465107Z"
    }
   },
   "outputs": [],
   "source": [
    "\n",
    "scaler = preprocessing.StandardScaler()\n",
    "#scaler = preprocessing.MinMaxScaler()\n",
    "neighbors = np.arange(1, 20, 2)\n",
    "scores=[]\n",
    "for k in neighbors:    \n",
    "    knn_scaled=make_pipeline(scaler,KNeighborsRegressor(n_neighbors = k,  weights = 'distance', p=2))\n",
    "    knn_scaled.fit(X_train, y_train)\n",
    "    score = cross_val_score(knn_scaled,data, target, cv = cv,scoring='r2')\n",
    "    scores.append(score.mean())"
   ]
  },
  {
   "cell_type": "code",
   "execution_count": 216,
   "id": "0466b9ad",
   "metadata": {
    "ExecuteTime": {
     "end_time": "2022-08-19T18:52:33.323205Z",
     "start_time": "2022-08-19T18:52:33.320718Z"
    }
   },
   "outputs": [],
   "source": [
    "mse = scores"
   ]
  },
  {
   "cell_type": "code",
   "execution_count": 217,
   "id": "0af14dba",
   "metadata": {
    "ExecuteTime": {
     "end_time": "2022-08-19T18:52:33.734171Z",
     "start_time": "2022-08-19T18:52:33.691980Z"
    }
   },
   "outputs": [
    {
     "data": {
      "application/vnd.plotly.v1+json": {
       "config": {
        "linkText": "Export to plot.ly",
        "plotlyServerURL": "https://plot.ly",
        "showLink": false
       },
       "data": [
        {
         "marker": {
          "color": "rgb(150, 10, 10)"
         },
         "mode": "lines+markers",
         "type": "scatter",
         "x": [
          1,
          3,
          5,
          7,
          9,
          11,
          13,
          15,
          17,
          19
         ],
         "y": [
          0.1971773499548818,
          0.48050391539784887,
          0.5431946627753591,
          0.5549418127459361,
          0.5626873695531739,
          0.5542208274442217,
          0.5544957390777989,
          0.5458980117174722,
          0.5385950606183387,
          0.5290840023914694
         ]
        }
       ],
       "layout": {
        "template": {
         "data": {
          "bar": [
           {
            "error_x": {
             "color": "#2a3f5f"
            },
            "error_y": {
             "color": "#2a3f5f"
            },
            "marker": {
             "line": {
              "color": "#E5ECF6",
              "width": 0.5
             },
             "pattern": {
              "fillmode": "overlay",
              "size": 10,
              "solidity": 0.2
             }
            },
            "type": "bar"
           }
          ],
          "barpolar": [
           {
            "marker": {
             "line": {
              "color": "#E5ECF6",
              "width": 0.5
             },
             "pattern": {
              "fillmode": "overlay",
              "size": 10,
              "solidity": 0.2
             }
            },
            "type": "barpolar"
           }
          ],
          "carpet": [
           {
            "aaxis": {
             "endlinecolor": "#2a3f5f",
             "gridcolor": "white",
             "linecolor": "white",
             "minorgridcolor": "white",
             "startlinecolor": "#2a3f5f"
            },
            "baxis": {
             "endlinecolor": "#2a3f5f",
             "gridcolor": "white",
             "linecolor": "white",
             "minorgridcolor": "white",
             "startlinecolor": "#2a3f5f"
            },
            "type": "carpet"
           }
          ],
          "choropleth": [
           {
            "colorbar": {
             "outlinewidth": 0,
             "ticks": ""
            },
            "type": "choropleth"
           }
          ],
          "contour": [
           {
            "colorbar": {
             "outlinewidth": 0,
             "ticks": ""
            },
            "colorscale": [
             [
              0,
              "#0d0887"
             ],
             [
              0.1111111111111111,
              "#46039f"
             ],
             [
              0.2222222222222222,
              "#7201a8"
             ],
             [
              0.3333333333333333,
              "#9c179e"
             ],
             [
              0.4444444444444444,
              "#bd3786"
             ],
             [
              0.5555555555555556,
              "#d8576b"
             ],
             [
              0.6666666666666666,
              "#ed7953"
             ],
             [
              0.7777777777777778,
              "#fb9f3a"
             ],
             [
              0.8888888888888888,
              "#fdca26"
             ],
             [
              1,
              "#f0f921"
             ]
            ],
            "type": "contour"
           }
          ],
          "contourcarpet": [
           {
            "colorbar": {
             "outlinewidth": 0,
             "ticks": ""
            },
            "type": "contourcarpet"
           }
          ],
          "heatmap": [
           {
            "colorbar": {
             "outlinewidth": 0,
             "ticks": ""
            },
            "colorscale": [
             [
              0,
              "#0d0887"
             ],
             [
              0.1111111111111111,
              "#46039f"
             ],
             [
              0.2222222222222222,
              "#7201a8"
             ],
             [
              0.3333333333333333,
              "#9c179e"
             ],
             [
              0.4444444444444444,
              "#bd3786"
             ],
             [
              0.5555555555555556,
              "#d8576b"
             ],
             [
              0.6666666666666666,
              "#ed7953"
             ],
             [
              0.7777777777777778,
              "#fb9f3a"
             ],
             [
              0.8888888888888888,
              "#fdca26"
             ],
             [
              1,
              "#f0f921"
             ]
            ],
            "type": "heatmap"
           }
          ],
          "heatmapgl": [
           {
            "colorbar": {
             "outlinewidth": 0,
             "ticks": ""
            },
            "colorscale": [
             [
              0,
              "#0d0887"
             ],
             [
              0.1111111111111111,
              "#46039f"
             ],
             [
              0.2222222222222222,
              "#7201a8"
             ],
             [
              0.3333333333333333,
              "#9c179e"
             ],
             [
              0.4444444444444444,
              "#bd3786"
             ],
             [
              0.5555555555555556,
              "#d8576b"
             ],
             [
              0.6666666666666666,
              "#ed7953"
             ],
             [
              0.7777777777777778,
              "#fb9f3a"
             ],
             [
              0.8888888888888888,
              "#fdca26"
             ],
             [
              1,
              "#f0f921"
             ]
            ],
            "type": "heatmapgl"
           }
          ],
          "histogram": [
           {
            "marker": {
             "pattern": {
              "fillmode": "overlay",
              "size": 10,
              "solidity": 0.2
             }
            },
            "type": "histogram"
           }
          ],
          "histogram2d": [
           {
            "colorbar": {
             "outlinewidth": 0,
             "ticks": ""
            },
            "colorscale": [
             [
              0,
              "#0d0887"
             ],
             [
              0.1111111111111111,
              "#46039f"
             ],
             [
              0.2222222222222222,
              "#7201a8"
             ],
             [
              0.3333333333333333,
              "#9c179e"
             ],
             [
              0.4444444444444444,
              "#bd3786"
             ],
             [
              0.5555555555555556,
              "#d8576b"
             ],
             [
              0.6666666666666666,
              "#ed7953"
             ],
             [
              0.7777777777777778,
              "#fb9f3a"
             ],
             [
              0.8888888888888888,
              "#fdca26"
             ],
             [
              1,
              "#f0f921"
             ]
            ],
            "type": "histogram2d"
           }
          ],
          "histogram2dcontour": [
           {
            "colorbar": {
             "outlinewidth": 0,
             "ticks": ""
            },
            "colorscale": [
             [
              0,
              "#0d0887"
             ],
             [
              0.1111111111111111,
              "#46039f"
             ],
             [
              0.2222222222222222,
              "#7201a8"
             ],
             [
              0.3333333333333333,
              "#9c179e"
             ],
             [
              0.4444444444444444,
              "#bd3786"
             ],
             [
              0.5555555555555556,
              "#d8576b"
             ],
             [
              0.6666666666666666,
              "#ed7953"
             ],
             [
              0.7777777777777778,
              "#fb9f3a"
             ],
             [
              0.8888888888888888,
              "#fdca26"
             ],
             [
              1,
              "#f0f921"
             ]
            ],
            "type": "histogram2dcontour"
           }
          ],
          "mesh3d": [
           {
            "colorbar": {
             "outlinewidth": 0,
             "ticks": ""
            },
            "type": "mesh3d"
           }
          ],
          "parcoords": [
           {
            "line": {
             "colorbar": {
              "outlinewidth": 0,
              "ticks": ""
             }
            },
            "type": "parcoords"
           }
          ],
          "pie": [
           {
            "automargin": true,
            "type": "pie"
           }
          ],
          "scatter": [
           {
            "fillpattern": {
             "fillmode": "overlay",
             "size": 10,
             "solidity": 0.2
            },
            "type": "scatter"
           }
          ],
          "scatter3d": [
           {
            "line": {
             "colorbar": {
              "outlinewidth": 0,
              "ticks": ""
             }
            },
            "marker": {
             "colorbar": {
              "outlinewidth": 0,
              "ticks": ""
             }
            },
            "type": "scatter3d"
           }
          ],
          "scattercarpet": [
           {
            "marker": {
             "colorbar": {
              "outlinewidth": 0,
              "ticks": ""
             }
            },
            "type": "scattercarpet"
           }
          ],
          "scattergeo": [
           {
            "marker": {
             "colorbar": {
              "outlinewidth": 0,
              "ticks": ""
             }
            },
            "type": "scattergeo"
           }
          ],
          "scattergl": [
           {
            "marker": {
             "colorbar": {
              "outlinewidth": 0,
              "ticks": ""
             }
            },
            "type": "scattergl"
           }
          ],
          "scattermapbox": [
           {
            "marker": {
             "colorbar": {
              "outlinewidth": 0,
              "ticks": ""
             }
            },
            "type": "scattermapbox"
           }
          ],
          "scatterpolar": [
           {
            "marker": {
             "colorbar": {
              "outlinewidth": 0,
              "ticks": ""
             }
            },
            "type": "scatterpolar"
           }
          ],
          "scatterpolargl": [
           {
            "marker": {
             "colorbar": {
              "outlinewidth": 0,
              "ticks": ""
             }
            },
            "type": "scatterpolargl"
           }
          ],
          "scatterternary": [
           {
            "marker": {
             "colorbar": {
              "outlinewidth": 0,
              "ticks": ""
             }
            },
            "type": "scatterternary"
           }
          ],
          "surface": [
           {
            "colorbar": {
             "outlinewidth": 0,
             "ticks": ""
            },
            "colorscale": [
             [
              0,
              "#0d0887"
             ],
             [
              0.1111111111111111,
              "#46039f"
             ],
             [
              0.2222222222222222,
              "#7201a8"
             ],
             [
              0.3333333333333333,
              "#9c179e"
             ],
             [
              0.4444444444444444,
              "#bd3786"
             ],
             [
              0.5555555555555556,
              "#d8576b"
             ],
             [
              0.6666666666666666,
              "#ed7953"
             ],
             [
              0.7777777777777778,
              "#fb9f3a"
             ],
             [
              0.8888888888888888,
              "#fdca26"
             ],
             [
              1,
              "#f0f921"
             ]
            ],
            "type": "surface"
           }
          ],
          "table": [
           {
            "cells": {
             "fill": {
              "color": "#EBF0F8"
             },
             "line": {
              "color": "white"
             }
            },
            "header": {
             "fill": {
              "color": "#C8D4E3"
             },
             "line": {
              "color": "white"
             }
            },
            "type": "table"
           }
          ]
         },
         "layout": {
          "annotationdefaults": {
           "arrowcolor": "#2a3f5f",
           "arrowhead": 0,
           "arrowwidth": 1
          },
          "autotypenumbers": "strict",
          "coloraxis": {
           "colorbar": {
            "outlinewidth": 0,
            "ticks": ""
           }
          },
          "colorscale": {
           "diverging": [
            [
             0,
             "#8e0152"
            ],
            [
             0.1,
             "#c51b7d"
            ],
            [
             0.2,
             "#de77ae"
            ],
            [
             0.3,
             "#f1b6da"
            ],
            [
             0.4,
             "#fde0ef"
            ],
            [
             0.5,
             "#f7f7f7"
            ],
            [
             0.6,
             "#e6f5d0"
            ],
            [
             0.7,
             "#b8e186"
            ],
            [
             0.8,
             "#7fbc41"
            ],
            [
             0.9,
             "#4d9221"
            ],
            [
             1,
             "#276419"
            ]
           ],
           "sequential": [
            [
             0,
             "#0d0887"
            ],
            [
             0.1111111111111111,
             "#46039f"
            ],
            [
             0.2222222222222222,
             "#7201a8"
            ],
            [
             0.3333333333333333,
             "#9c179e"
            ],
            [
             0.4444444444444444,
             "#bd3786"
            ],
            [
             0.5555555555555556,
             "#d8576b"
            ],
            [
             0.6666666666666666,
             "#ed7953"
            ],
            [
             0.7777777777777778,
             "#fb9f3a"
            ],
            [
             0.8888888888888888,
             "#fdca26"
            ],
            [
             1,
             "#f0f921"
            ]
           ],
           "sequentialminus": [
            [
             0,
             "#0d0887"
            ],
            [
             0.1111111111111111,
             "#46039f"
            ],
            [
             0.2222222222222222,
             "#7201a8"
            ],
            [
             0.3333333333333333,
             "#9c179e"
            ],
            [
             0.4444444444444444,
             "#bd3786"
            ],
            [
             0.5555555555555556,
             "#d8576b"
            ],
            [
             0.6666666666666666,
             "#ed7953"
            ],
            [
             0.7777777777777778,
             "#fb9f3a"
            ],
            [
             0.8888888888888888,
             "#fdca26"
            ],
            [
             1,
             "#f0f921"
            ]
           ]
          },
          "colorway": [
           "#636efa",
           "#EF553B",
           "#00cc96",
           "#ab63fa",
           "#FFA15A",
           "#19d3f3",
           "#FF6692",
           "#B6E880",
           "#FF97FF",
           "#FECB52"
          ],
          "font": {
           "color": "#2a3f5f"
          },
          "geo": {
           "bgcolor": "white",
           "lakecolor": "white",
           "landcolor": "#E5ECF6",
           "showlakes": true,
           "showland": true,
           "subunitcolor": "white"
          },
          "hoverlabel": {
           "align": "left"
          },
          "hovermode": "closest",
          "mapbox": {
           "style": "light"
          },
          "paper_bgcolor": "white",
          "plot_bgcolor": "#E5ECF6",
          "polar": {
           "angularaxis": {
            "gridcolor": "white",
            "linecolor": "white",
            "ticks": ""
           },
           "bgcolor": "#E5ECF6",
           "radialaxis": {
            "gridcolor": "white",
            "linecolor": "white",
            "ticks": ""
           }
          },
          "scene": {
           "xaxis": {
            "backgroundcolor": "#E5ECF6",
            "gridcolor": "white",
            "gridwidth": 2,
            "linecolor": "white",
            "showbackground": true,
            "ticks": "",
            "zerolinecolor": "white"
           },
           "yaxis": {
            "backgroundcolor": "#E5ECF6",
            "gridcolor": "white",
            "gridwidth": 2,
            "linecolor": "white",
            "showbackground": true,
            "ticks": "",
            "zerolinecolor": "white"
           },
           "zaxis": {
            "backgroundcolor": "#E5ECF6",
            "gridcolor": "white",
            "gridwidth": 2,
            "linecolor": "white",
            "showbackground": true,
            "ticks": "",
            "zerolinecolor": "white"
           }
          },
          "shapedefaults": {
           "line": {
            "color": "#2a3f5f"
           }
          },
          "ternary": {
           "aaxis": {
            "gridcolor": "white",
            "linecolor": "white",
            "ticks": ""
           },
           "baxis": {
            "gridcolor": "white",
            "linecolor": "white",
            "ticks": ""
           },
           "bgcolor": "#E5ECF6",
           "caxis": {
            "gridcolor": "white",
            "linecolor": "white",
            "ticks": ""
           }
          },
          "title": {
           "x": 0.05
          },
          "xaxis": {
           "automargin": true,
           "gridcolor": "white",
           "linecolor": "white",
           "ticks": "",
           "title": {
            "standoff": 15
           },
           "zerolinecolor": "white",
           "zerolinewidth": 2
          },
          "yaxis": {
           "automargin": true,
           "gridcolor": "white",
           "linecolor": "white",
           "ticks": "",
           "title": {
            "standoff": 15
           },
           "zerolinecolor": "white",
           "zerolinewidth": 2
          }
         }
        },
        "title": {
         "text": ""
        },
        "xaxis": {
         "tickmode": "linear",
         "title": {
          "text": "K value"
         }
        },
        "yaxis": {
         "title": {
          "text": "CV Error"
         }
        }
       }
      },
      "text/html": [
       "<div>                            <div id=\"0aa76111-2a31-4dd9-8cd9-ffdb82aefdff\" class=\"plotly-graph-div\" style=\"height:525px; width:100%;\"></div>            <script type=\"text/javascript\">                require([\"plotly\"], function(Plotly) {                    window.PLOTLYENV=window.PLOTLYENV || {};                                    if (document.getElementById(\"0aa76111-2a31-4dd9-8cd9-ffdb82aefdff\")) {                    Plotly.newPlot(                        \"0aa76111-2a31-4dd9-8cd9-ffdb82aefdff\",                        [{\"marker\":{\"color\":\"rgb(150, 10, 10)\"},\"mode\":\"lines+markers\",\"x\":[1,3,5,7,9,11,13,15,17,19],\"y\":[0.1971773499548818,0.48050391539784887,0.5431946627753591,0.5549418127459361,0.5626873695531739,0.5542208274442217,0.5544957390777989,0.5458980117174722,0.5385950606183387,0.5290840023914694],\"type\":\"scatter\"}],                        {\"template\":{\"data\":{\"barpolar\":[{\"marker\":{\"line\":{\"color\":\"#E5ECF6\",\"width\":0.5},\"pattern\":{\"fillmode\":\"overlay\",\"size\":10,\"solidity\":0.2}},\"type\":\"barpolar\"}],\"bar\":[{\"error_x\":{\"color\":\"#2a3f5f\"},\"error_y\":{\"color\":\"#2a3f5f\"},\"marker\":{\"line\":{\"color\":\"#E5ECF6\",\"width\":0.5},\"pattern\":{\"fillmode\":\"overlay\",\"size\":10,\"solidity\":0.2}},\"type\":\"bar\"}],\"carpet\":[{\"aaxis\":{\"endlinecolor\":\"#2a3f5f\",\"gridcolor\":\"white\",\"linecolor\":\"white\",\"minorgridcolor\":\"white\",\"startlinecolor\":\"#2a3f5f\"},\"baxis\":{\"endlinecolor\":\"#2a3f5f\",\"gridcolor\":\"white\",\"linecolor\":\"white\",\"minorgridcolor\":\"white\",\"startlinecolor\":\"#2a3f5f\"},\"type\":\"carpet\"}],\"choropleth\":[{\"colorbar\":{\"outlinewidth\":0,\"ticks\":\"\"},\"type\":\"choropleth\"}],\"contourcarpet\":[{\"colorbar\":{\"outlinewidth\":0,\"ticks\":\"\"},\"type\":\"contourcarpet\"}],\"contour\":[{\"colorbar\":{\"outlinewidth\":0,\"ticks\":\"\"},\"colorscale\":[[0.0,\"#0d0887\"],[0.1111111111111111,\"#46039f\"],[0.2222222222222222,\"#7201a8\"],[0.3333333333333333,\"#9c179e\"],[0.4444444444444444,\"#bd3786\"],[0.5555555555555556,\"#d8576b\"],[0.6666666666666666,\"#ed7953\"],[0.7777777777777778,\"#fb9f3a\"],[0.8888888888888888,\"#fdca26\"],[1.0,\"#f0f921\"]],\"type\":\"contour\"}],\"heatmapgl\":[{\"colorbar\":{\"outlinewidth\":0,\"ticks\":\"\"},\"colorscale\":[[0.0,\"#0d0887\"],[0.1111111111111111,\"#46039f\"],[0.2222222222222222,\"#7201a8\"],[0.3333333333333333,\"#9c179e\"],[0.4444444444444444,\"#bd3786\"],[0.5555555555555556,\"#d8576b\"],[0.6666666666666666,\"#ed7953\"],[0.7777777777777778,\"#fb9f3a\"],[0.8888888888888888,\"#fdca26\"],[1.0,\"#f0f921\"]],\"type\":\"heatmapgl\"}],\"heatmap\":[{\"colorbar\":{\"outlinewidth\":0,\"ticks\":\"\"},\"colorscale\":[[0.0,\"#0d0887\"],[0.1111111111111111,\"#46039f\"],[0.2222222222222222,\"#7201a8\"],[0.3333333333333333,\"#9c179e\"],[0.4444444444444444,\"#bd3786\"],[0.5555555555555556,\"#d8576b\"],[0.6666666666666666,\"#ed7953\"],[0.7777777777777778,\"#fb9f3a\"],[0.8888888888888888,\"#fdca26\"],[1.0,\"#f0f921\"]],\"type\":\"heatmap\"}],\"histogram2dcontour\":[{\"colorbar\":{\"outlinewidth\":0,\"ticks\":\"\"},\"colorscale\":[[0.0,\"#0d0887\"],[0.1111111111111111,\"#46039f\"],[0.2222222222222222,\"#7201a8\"],[0.3333333333333333,\"#9c179e\"],[0.4444444444444444,\"#bd3786\"],[0.5555555555555556,\"#d8576b\"],[0.6666666666666666,\"#ed7953\"],[0.7777777777777778,\"#fb9f3a\"],[0.8888888888888888,\"#fdca26\"],[1.0,\"#f0f921\"]],\"type\":\"histogram2dcontour\"}],\"histogram2d\":[{\"colorbar\":{\"outlinewidth\":0,\"ticks\":\"\"},\"colorscale\":[[0.0,\"#0d0887\"],[0.1111111111111111,\"#46039f\"],[0.2222222222222222,\"#7201a8\"],[0.3333333333333333,\"#9c179e\"],[0.4444444444444444,\"#bd3786\"],[0.5555555555555556,\"#d8576b\"],[0.6666666666666666,\"#ed7953\"],[0.7777777777777778,\"#fb9f3a\"],[0.8888888888888888,\"#fdca26\"],[1.0,\"#f0f921\"]],\"type\":\"histogram2d\"}],\"histogram\":[{\"marker\":{\"pattern\":{\"fillmode\":\"overlay\",\"size\":10,\"solidity\":0.2}},\"type\":\"histogram\"}],\"mesh3d\":[{\"colorbar\":{\"outlinewidth\":0,\"ticks\":\"\"},\"type\":\"mesh3d\"}],\"parcoords\":[{\"line\":{\"colorbar\":{\"outlinewidth\":0,\"ticks\":\"\"}},\"type\":\"parcoords\"}],\"pie\":[{\"automargin\":true,\"type\":\"pie\"}],\"scatter3d\":[{\"line\":{\"colorbar\":{\"outlinewidth\":0,\"ticks\":\"\"}},\"marker\":{\"colorbar\":{\"outlinewidth\":0,\"ticks\":\"\"}},\"type\":\"scatter3d\"}],\"scattercarpet\":[{\"marker\":{\"colorbar\":{\"outlinewidth\":0,\"ticks\":\"\"}},\"type\":\"scattercarpet\"}],\"scattergeo\":[{\"marker\":{\"colorbar\":{\"outlinewidth\":0,\"ticks\":\"\"}},\"type\":\"scattergeo\"}],\"scattergl\":[{\"marker\":{\"colorbar\":{\"outlinewidth\":0,\"ticks\":\"\"}},\"type\":\"scattergl\"}],\"scattermapbox\":[{\"marker\":{\"colorbar\":{\"outlinewidth\":0,\"ticks\":\"\"}},\"type\":\"scattermapbox\"}],\"scatterpolargl\":[{\"marker\":{\"colorbar\":{\"outlinewidth\":0,\"ticks\":\"\"}},\"type\":\"scatterpolargl\"}],\"scatterpolar\":[{\"marker\":{\"colorbar\":{\"outlinewidth\":0,\"ticks\":\"\"}},\"type\":\"scatterpolar\"}],\"scatter\":[{\"fillpattern\":{\"fillmode\":\"overlay\",\"size\":10,\"solidity\":0.2},\"type\":\"scatter\"}],\"scatterternary\":[{\"marker\":{\"colorbar\":{\"outlinewidth\":0,\"ticks\":\"\"}},\"type\":\"scatterternary\"}],\"surface\":[{\"colorbar\":{\"outlinewidth\":0,\"ticks\":\"\"},\"colorscale\":[[0.0,\"#0d0887\"],[0.1111111111111111,\"#46039f\"],[0.2222222222222222,\"#7201a8\"],[0.3333333333333333,\"#9c179e\"],[0.4444444444444444,\"#bd3786\"],[0.5555555555555556,\"#d8576b\"],[0.6666666666666666,\"#ed7953\"],[0.7777777777777778,\"#fb9f3a\"],[0.8888888888888888,\"#fdca26\"],[1.0,\"#f0f921\"]],\"type\":\"surface\"}],\"table\":[{\"cells\":{\"fill\":{\"color\":\"#EBF0F8\"},\"line\":{\"color\":\"white\"}},\"header\":{\"fill\":{\"color\":\"#C8D4E3\"},\"line\":{\"color\":\"white\"}},\"type\":\"table\"}]},\"layout\":{\"annotationdefaults\":{\"arrowcolor\":\"#2a3f5f\",\"arrowhead\":0,\"arrowwidth\":1},\"autotypenumbers\":\"strict\",\"coloraxis\":{\"colorbar\":{\"outlinewidth\":0,\"ticks\":\"\"}},\"colorscale\":{\"diverging\":[[0,\"#8e0152\"],[0.1,\"#c51b7d\"],[0.2,\"#de77ae\"],[0.3,\"#f1b6da\"],[0.4,\"#fde0ef\"],[0.5,\"#f7f7f7\"],[0.6,\"#e6f5d0\"],[0.7,\"#b8e186\"],[0.8,\"#7fbc41\"],[0.9,\"#4d9221\"],[1,\"#276419\"]],\"sequential\":[[0.0,\"#0d0887\"],[0.1111111111111111,\"#46039f\"],[0.2222222222222222,\"#7201a8\"],[0.3333333333333333,\"#9c179e\"],[0.4444444444444444,\"#bd3786\"],[0.5555555555555556,\"#d8576b\"],[0.6666666666666666,\"#ed7953\"],[0.7777777777777778,\"#fb9f3a\"],[0.8888888888888888,\"#fdca26\"],[1.0,\"#f0f921\"]],\"sequentialminus\":[[0.0,\"#0d0887\"],[0.1111111111111111,\"#46039f\"],[0.2222222222222222,\"#7201a8\"],[0.3333333333333333,\"#9c179e\"],[0.4444444444444444,\"#bd3786\"],[0.5555555555555556,\"#d8576b\"],[0.6666666666666666,\"#ed7953\"],[0.7777777777777778,\"#fb9f3a\"],[0.8888888888888888,\"#fdca26\"],[1.0,\"#f0f921\"]]},\"colorway\":[\"#636efa\",\"#EF553B\",\"#00cc96\",\"#ab63fa\",\"#FFA15A\",\"#19d3f3\",\"#FF6692\",\"#B6E880\",\"#FF97FF\",\"#FECB52\"],\"font\":{\"color\":\"#2a3f5f\"},\"geo\":{\"bgcolor\":\"white\",\"lakecolor\":\"white\",\"landcolor\":\"#E5ECF6\",\"showlakes\":true,\"showland\":true,\"subunitcolor\":\"white\"},\"hoverlabel\":{\"align\":\"left\"},\"hovermode\":\"closest\",\"mapbox\":{\"style\":\"light\"},\"paper_bgcolor\":\"white\",\"plot_bgcolor\":\"#E5ECF6\",\"polar\":{\"angularaxis\":{\"gridcolor\":\"white\",\"linecolor\":\"white\",\"ticks\":\"\"},\"bgcolor\":\"#E5ECF6\",\"radialaxis\":{\"gridcolor\":\"white\",\"linecolor\":\"white\",\"ticks\":\"\"}},\"scene\":{\"xaxis\":{\"backgroundcolor\":\"#E5ECF6\",\"gridcolor\":\"white\",\"gridwidth\":2,\"linecolor\":\"white\",\"showbackground\":true,\"ticks\":\"\",\"zerolinecolor\":\"white\"},\"yaxis\":{\"backgroundcolor\":\"#E5ECF6\",\"gridcolor\":\"white\",\"gridwidth\":2,\"linecolor\":\"white\",\"showbackground\":true,\"ticks\":\"\",\"zerolinecolor\":\"white\"},\"zaxis\":{\"backgroundcolor\":\"#E5ECF6\",\"gridcolor\":\"white\",\"gridwidth\":2,\"linecolor\":\"white\",\"showbackground\":true,\"ticks\":\"\",\"zerolinecolor\":\"white\"}},\"shapedefaults\":{\"line\":{\"color\":\"#2a3f5f\"}},\"ternary\":{\"aaxis\":{\"gridcolor\":\"white\",\"linecolor\":\"white\",\"ticks\":\"\"},\"baxis\":{\"gridcolor\":\"white\",\"linecolor\":\"white\",\"ticks\":\"\"},\"bgcolor\":\"#E5ECF6\",\"caxis\":{\"gridcolor\":\"white\",\"linecolor\":\"white\",\"ticks\":\"\"}},\"title\":{\"x\":0.05},\"xaxis\":{\"automargin\":true,\"gridcolor\":\"white\",\"linecolor\":\"white\",\"ticks\":\"\",\"title\":{\"standoff\":15},\"zerolinecolor\":\"white\",\"zerolinewidth\":2},\"yaxis\":{\"automargin\":true,\"gridcolor\":\"white\",\"linecolor\":\"white\",\"ticks\":\"\",\"title\":{\"standoff\":15},\"zerolinecolor\":\"white\",\"zerolinewidth\":2}}},\"title\":{\"text\":\"\"},\"xaxis\":{\"tickmode\":\"linear\",\"title\":{\"text\":\"K value\"}},\"yaxis\":{\"title\":{\"text\":\"CV Error\"}}},                        {\"responsive\": true}                    ).then(function(){\n",
       "                            \n",
       "var gd = document.getElementById('0aa76111-2a31-4dd9-8cd9-ffdb82aefdff');\n",
       "var x = new MutationObserver(function (mutations, observer) {{\n",
       "        var display = window.getComputedStyle(gd).display;\n",
       "        if (!display || display === 'none') {{\n",
       "            console.log([gd, 'removed!']);\n",
       "            Plotly.purge(gd);\n",
       "            observer.disconnect();\n",
       "        }}\n",
       "}});\n",
       "\n",
       "// Listen for the removal of the full notebook cells\n",
       "var notebookContainer = gd.closest('#notebook-container');\n",
       "if (notebookContainer) {{\n",
       "    x.observe(notebookContainer, {childList: true});\n",
       "}}\n",
       "\n",
       "// Listen for the clearing of the current output cell\n",
       "var outputEl = gd.closest('.output');\n",
       "if (outputEl) {{\n",
       "    x.observe(outputEl, {childList: true});\n",
       "}}\n",
       "\n",
       "                        })                };                });            </script>        </div>"
      ]
     },
     "metadata": {},
     "output_type": "display_data"
    }
   ],
   "source": [
    "trace0 = go.Scatter(\n",
    "    y = mse,\n",
    "    x = neighbors, # np.arange(1,len(score)+1), \n",
    "    mode = 'lines+markers', \n",
    "    marker = dict(\n",
    "        color = 'rgb(150, 10, 10)'\n",
    "    )\n",
    ")\n",
    "layout = go.Layout(\n",
    "    title = '', \n",
    "    xaxis = dict(\n",
    "        title = 'K value', \n",
    "        tickmode = 'linear'\n",
    "    ),\n",
    "    yaxis = dict(\n",
    "        title = 'CV Error',\n",
    "#         range = [0, 10000]\n",
    "    )\n",
    ")\n",
    "fig = go.Figure(data = [trace0], layout = layout)\n",
    "iplot(fig, filename='basic-line')"
   ]
  },
  {
   "cell_type": "code",
   "execution_count": 258,
   "id": "14ca946d",
   "metadata": {
    "ExecuteTime": {
     "end_time": "2022-08-19T18:52:53.195092Z",
     "start_time": "2022-08-19T18:52:53.191920Z"
    }
   },
   "outputs": [],
   "source": [
    "knn_scaled=make_pipeline(scaler,KNeighborsRegressor(n_neighbors = 9,  weights = 'distance', p=1))"
   ]
  },
  {
   "cell_type": "code",
   "execution_count": 259,
   "id": "5cac81f2",
   "metadata": {
    "ExecuteTime": {
     "end_time": "2022-08-19T18:52:54.215352Z",
     "start_time": "2022-08-19T18:52:53.579633Z"
    }
   },
   "outputs": [
    {
     "name": "stdout",
     "output_type": "stream",
     "text": [
      "R2: 0.597 (0.065)\n",
      "best score: 0.6832663501867897\n"
     ]
    }
   ],
   "source": [
    "# prepare the cross-validation procedure\n",
    "cv = KFold(n_splits=10, random_state=1, shuffle=True)\n",
    "# create model\n",
    "model = knn_scaled\n",
    "# evaluate model\n",
    "scores = cross_val_score(model, data, target, scoring='r2', cv=cv, n_jobs=-1)\n",
    "# report performance\n",
    "print('R2: %.3f (%.3f)' % (mean(scores), std(scores)))\n",
    "print('best score:', max(scores))"
   ]
  },
  {
   "cell_type": "markdown",
   "id": "b0f518c1",
   "metadata": {},
   "source": [
    "## 5- SVR"
   ]
  },
  {
   "cell_type": "markdown",
   "id": "9cf7e83a",
   "metadata": {},
   "source": [
    "### Hyperparameter tuning"
   ]
  },
  {
   "cell_type": "code",
   "execution_count": 267,
   "id": "97de0b93",
   "metadata": {
    "scrolled": true
   },
   "outputs": [
    {
     "data": {
      "text/plain": [
       "GridSearchCV(cv=KFold(n_splits=10, random_state=1, shuffle=True),\n",
       "             estimator=SVR(), n_jobs=-1,\n",
       "             param_grid={'C': [0.1, 1, 10, 100, 1000],\n",
       "                         'epsilon': [1, 0.1, 0.01, 0.001, 0.0001],\n",
       "                         'gamma': [1, 0.1, 0.01, 0.001, 0.0001],\n",
       "                         'kernel': ['rbf', 'sigmoid']},\n",
       "             scoring='r2')"
      ]
     },
     "execution_count": 267,
     "metadata": {},
     "output_type": "execute_result"
    }
   ],
   "source": [
    "\n",
    "\n",
    " \n",
    "# defining parameter range\n",
    "param_grid = {'C': [0.1, 1, 10, 100, 1000],\n",
    "              'gamma': [1, 0.1, 0.01, 0.001, 0.0001],\n",
    "              'epsilon': [1, 0.1, 0.01, 0.001, 0.0001],\n",
    "              'kernel': ['rbf', 'sigmoid']}\n",
    " \n",
    "grid = GridSearchCV(SVR(), param_grid, refit = True,scoring='r2',cv=cv, n_jobs=-1)\n",
    " \n",
    "# fitting the model for grid search\n",
    "grid.fit(X_train, y_train)"
   ]
  },
  {
   "cell_type": "code",
   "execution_count": 268,
   "id": "9b84accc",
   "metadata": {},
   "outputs": [
    {
     "name": "stdout",
     "output_type": "stream",
     "text": [
      "{'C': 10, 'epsilon': 1, 'gamma': 0.0001, 'kernel': 'rbf'}\n",
      "SVR(C=10, epsilon=1, gamma=0.0001)\n",
      "0.49249841025632773\n"
     ]
    }
   ],
   "source": [
    "#print best parameter after tuning\n",
    "print(grid.best_params_)\n",
    " \n",
    "# print how our model looks after hyper-parameter tuning\n",
    "print(grid.best_estimator_)\n",
    "\n",
    "print(grid.best_score_)"
   ]
  },
  {
   "cell_type": "markdown",
   "id": "05cf9b54",
   "metadata": {},
   "source": [
    "### SVR model"
   ]
  },
  {
   "cell_type": "code",
   "execution_count": 356,
   "id": "62aead18",
   "metadata": {},
   "outputs": [],
   "source": [
    "\n",
    "SVR_scaled=make_pipeline(scaler,SVR(kernel='rbf',C=10,gamma= 0.01,epsilon=0.5))\n",
    "\n",
    "#SVR_scaled=make_pipeline(scaler,\n",
    "#                         PCA(n_components=7),\n",
    "#                         SVR(kernel='rbf',C=160,gamma= 0.01,epsilon=0.5))"
   ]
  },
  {
   "cell_type": "code",
   "execution_count": 357,
   "id": "225cd167",
   "metadata": {},
   "outputs": [
    {
     "name": "stdout",
     "output_type": "stream",
     "text": [
      "R2: 0.632 (0.044)\n",
      "best score: 0.6886139816855383\n"
     ]
    }
   ],
   "source": [
    "# prepare the cross-validation procedure\n",
    "cv = KFold(n_splits=10, random_state=1, shuffle=True)\n",
    "# create model\n",
    "model = SVR_scaled\n",
    "# evaluate model\n",
    "scores = cross_val_score(model, data, target, scoring='r2', cv=cv, n_jobs=-1)\n",
    "# report performance\n",
    "print('R2: %.3f (%.3f)' % (mean(scores), std(scores)))\n",
    "print('best score:', max(scores))"
   ]
  },
  {
   "cell_type": "markdown",
   "id": "f586b0d0",
   "metadata": {},
   "source": [
    "## 6- Elasticnet"
   ]
  },
  {
   "cell_type": "code",
   "execution_count": 368,
   "id": "804f9f03",
   "metadata": {
    "ExecuteTime": {
     "end_time": "2022-08-19T18:52:53.195092Z",
     "start_time": "2022-08-19T18:52:53.191920Z"
    }
   },
   "outputs": [],
   "source": [
    "\n",
    "ela_scaled=make_pipeline(scaler,ElasticNet(random_state=0,l1_ratio=0.1))"
   ]
  },
  {
   "cell_type": "code",
   "execution_count": 369,
   "id": "ce0e106c",
   "metadata": {
    "ExecuteTime": {
     "end_time": "2022-08-19T18:52:54.215352Z",
     "start_time": "2022-08-19T18:52:53.579633Z"
    }
   },
   "outputs": [
    {
     "name": "stdout",
     "output_type": "stream",
     "text": [
      "R2: 0.414 (0.034)\n",
      "best score: 0.4606877901807125\n"
     ]
    }
   ],
   "source": [
    "# prepare the cross-validation procedure\n",
    "cv = KFold(n_splits=10, random_state=1, shuffle=True)\n",
    "# create model\n",
    "model = ela_scaled\n",
    "# evaluate model\n",
    "scores = cross_val_score(model, data, target, scoring='r2', cv=cv, n_jobs=-1)\n",
    "# report performance\n",
    "print('R2: %.3f (%.3f)' % (mean(scores), std(scores)))\n",
    "print('best score:', max(scores))"
   ]
  },
  {
   "cell_type": "markdown",
   "id": "9af7c580",
   "metadata": {},
   "source": [
    "## 7- PLS"
   ]
  },
  {
   "cell_type": "code",
   "execution_count": 226,
   "id": "6f27c3d0",
   "metadata": {},
   "outputs": [],
   "source": [
    "\n",
    "pls_scaled=make_pipeline(scaler,PLSRegression(n_components=3))"
   ]
  },
  {
   "cell_type": "code",
   "execution_count": 227,
   "id": "16782668",
   "metadata": {},
   "outputs": [
    {
     "name": "stdout",
     "output_type": "stream",
     "text": [
      "R2: 0.513 (0.053)\n",
      "best score: 0.6306655149036685\n"
     ]
    }
   ],
   "source": [
    "# prepare the cross-validation procedure\n",
    "cv = KFold(n_splits=10, random_state=1, shuffle=True)\n",
    "# create model\n",
    "model = pls_scaled\n",
    "# evaluate model\n",
    "scores = cross_val_score(model, data, target, scoring='r2', cv=cv, n_jobs=-1)\n",
    "# report performance\n",
    "print('R2: %.3f (%.3f)' % (mean(scores), std(scores)))\n",
    "print('best score:', max(scores))"
   ]
  },
  {
   "cell_type": "markdown",
   "id": "203d64b0",
   "metadata": {},
   "source": [
    "## 8- Feature selection + KNN"
   ]
  },
  {
   "cell_type": "code",
   "execution_count": 228,
   "id": "ac1da68e",
   "metadata": {},
   "outputs": [],
   "source": [
    "\n",
    "# think about PCA\n",
    "\"\"\"knn_scaled=make_pipeline(scaler,\n",
    "                         SelectFromModel(LinearSVC(penalty=\"l2\"),max_features=10),\n",
    "                         KNeighborsRegressor(n_neighbors = 9,  weights = 'distance', p=1))\"\"\"\n",
    "knn_scaled=make_pipeline(scaler,\n",
    "                         PCA(n_components=7),\n",
    "                         KNeighborsRegressor(n_neighbors = 12,  weights = 'distance', p=1))"
   ]
  },
  {
   "cell_type": "code",
   "execution_count": 229,
   "id": "ac95ef4d",
   "metadata": {},
   "outputs": [
    {
     "name": "stdout",
     "output_type": "stream",
     "text": [
      "R2: 0.555 (0.046)\n",
      "best score: 0.6379703676421069\n"
     ]
    }
   ],
   "source": [
    "# prepare the cross-validation procedure\n",
    "cv = KFold(n_splits=10, random_state=1, shuffle=True)\n",
    "# create model\n",
    "model = knn_scaled\n",
    "# evaluate model\n",
    "scores = cross_val_score(model, data, target, scoring='r2', cv=cv, n_jobs=-1)\n",
    "# report performance\n",
    "print('R2: %.3f (%.3f)' % (mean(scores), std(scores)))\n",
    "print('best score:', max(scores))"
   ]
  },
  {
   "cell_type": "markdown",
   "id": "2ffbb97b",
   "metadata": {},
   "source": [
    "## 9- xgboost"
   ]
  },
  {
   "cell_type": "markdown",
   "id": "7ba1f0ac",
   "metadata": {},
   "source": [
    "### Hyperparameter tuning"
   ]
  },
  {
   "cell_type": "code",
   "execution_count": 379,
   "id": "8b6fe507",
   "metadata": {},
   "outputs": [
    {
     "name": "stdout",
     "output_type": "stream",
     "text": [
      "Fitting 10 folds for each of 10 candidates, totalling 100 fits\n",
      "Best hyperparameter combination:  {'n_estimators': 400, 'max_depth': 2, 'learning_rate': 0.1}\n",
      "0.7435667090974093\n"
     ]
    }
   ],
   "source": [
    "\n",
    "params = {'max_depth': [2,4, 6, 8, 10,12],\n",
    "              'learning_rate': [0.1, 0.2, 0.3, 0.4, 0.5],\n",
    "              'n_estimators': [25,50,100, 200,400,800]\n",
    " #        ,     'num_class': [10]\n",
    "              }\n",
    "\n",
    "xgbclf = xgb.XGBRegressor(objective=\"reg:squarederror\", tree_method='hist')\n",
    "clf = RandomizedSearchCV(estimator=xgbclf,\n",
    "                             param_distributions=params,\n",
    "                             scoring='r2', cv=cv,\n",
    "                             n_jobs=-1,\n",
    "                             verbose=1)\n",
    "\n",
    "clf.fit(data, target)\n",
    "\n",
    "best_combination = clf.best_params_\n",
    "\n",
    "# {'n_estimators': 100, 'max_depth': 3, 'learning_rate': 0.1}\n",
    "# {'n_estimators': 400, 'max_depth': 4, 'learning_rate': 0.1}\n",
    "best_params = best_combination\n",
    "\n",
    "print(\"Best hyperparameter combination: \", best_params)\n",
    "print(clf.best_score_)"
   ]
  },
  {
   "cell_type": "markdown",
   "id": "c4571423",
   "metadata": {},
   "source": [
    "### XGBRegressor model"
   ]
  },
  {
   "cell_type": "code",
   "execution_count": 231,
   "id": "9abed785",
   "metadata": {},
   "outputs": [],
   "source": [
    "xgbr = xgb.XGBRegressor(\n",
    "                      #silent=False, \n",
    "                      #scale_pos_weight=1,\n",
    "                      learning_rate=0.1,  \n",
    "    tree_method='hist',\n",
    "                      #colsample_bytree = 0.4,\n",
    "#                      subsample = 0.8,\n",
    "                      objective='reg:squarederror', \n",
    "                      n_estimators=100, \n",
    "                     # reg_alpha = 0.3,\n",
    "                      max_depth=3\n",
    "   # ,                    gamma=10\n",
    ") \n",
    "\n"
   ]
  },
  {
   "cell_type": "code",
   "execution_count": 232,
   "id": "1e0ba30e",
   "metadata": {},
   "outputs": [
    {
     "name": "stdout",
     "output_type": "stream",
     "text": [
      "R2: 0.756 (0.035)\n",
      "best score: 0.8091313250881316\n"
     ]
    }
   ],
   "source": [
    "# prepare the cross-validation procedure\n",
    "cv = KFold(n_splits=10, random_state=1, shuffle=True)\n",
    "# create model\n",
    "model = xgbr\n",
    "# evaluate model\n",
    "scores = cross_val_score(model, data, target, scoring='r2', cv=cv, n_jobs=-1)\n",
    "# report performance\n",
    "print('R2: %.3f (%.3f)' % (mean(scores), std(scores)))\n",
    "print('best score:', max(scores))"
   ]
  },
  {
   "cell_type": "markdown",
   "id": "d9f0a690",
   "metadata": {},
   "source": [
    "# 10- GBR"
   ]
  },
  {
   "cell_type": "code",
   "execution_count": 233,
   "id": "42c2b32c",
   "metadata": {},
   "outputs": [
    {
     "name": "stdout",
     "output_type": "stream",
     "text": [
      "R2: 0.743 (0.042)\n",
      "best score: 0.8144064943079992\n"
     ]
    }
   ],
   "source": [
    "\n",
    "baseline = GradientBoostingRegressor(random_state=0,n_estimators= 50, max_depth=3, learning_rate=0.3)\n",
    "\n",
    "# prepare the cross-validation procedure\n",
    "cv = KFold(n_splits=10, random_state=1, shuffle=True)\n",
    "# create model\n",
    "model = baseline\n",
    "# evaluate model\n",
    "scores = cross_val_score(model, data, target, scoring='r2', cv=cv, n_jobs=-1)\n",
    "# report performance\n",
    "print('R2: %.3f (%.3f)' % (mean(scores), std(scores)))\n",
    "print('best score:', max(scores))"
   ]
  },
  {
   "cell_type": "markdown",
   "id": "296d0ee5",
   "metadata": {},
   "source": [
    "## 11- MLP"
   ]
  },
  {
   "cell_type": "code",
   "execution_count": 234,
   "id": "9692320c",
   "metadata": {},
   "outputs": [],
   "source": [
    "\n",
    "MLP_scaled=make_pipeline(scaler,\n",
    "                         MLPRegressor(hidden_layer_sizes=(10,10),activation=\"relu\" ,random_state=1, max_iter=2000,learning_rate='adaptive'))\n",
    "\n",
    "\n",
    "\n",
    "\n"
   ]
  },
  {
   "cell_type": "code",
   "execution_count": 235,
   "id": "aefa9f92",
   "metadata": {},
   "outputs": [
    {
     "name": "stdout",
     "output_type": "stream",
     "text": [
      "R2: 0.438 (0.076)\n",
      "best score: 0.5778580398827091\n"
     ]
    }
   ],
   "source": [
    "# prepare the cross-validation procedure\n",
    "cv = KFold(n_splits=10, random_state=1, shuffle=True)\n",
    "# create model\n",
    "model = MLP_scaled\n",
    "# evaluate model\n",
    "scores = cross_val_score(model, data, target, scoring='r2', cv=cv, n_jobs=-1)\n",
    "# report performance\n",
    "print('R2: %.3f (%.3f)' % (mean(scores), std(scores)))\n",
    "print('best score:', max(scores))"
   ]
  },
  {
   "cell_type": "markdown",
   "id": "7be99551",
   "metadata": {},
   "source": [
    "# Model testing"
   ]
  },
  {
   "cell_type": "markdown",
   "id": "f73684d0",
   "metadata": {},
   "source": [
    "### KNN predictions"
   ]
  },
  {
   "cell_type": "code",
   "execution_count": 236,
   "id": "1fb9ebf7",
   "metadata": {
    "ExecuteTime": {
     "end_time": "2022-08-19T18:52:36.365866Z",
     "start_time": "2022-08-19T18:52:36.351303Z"
    }
   },
   "outputs": [
    {
     "name": "stdout",
     "output_type": "stream",
     "text": [
      "R2 Score:  0.5869649624960317\n"
     ]
    }
   ],
   "source": [
    "knn_scaled=make_pipeline(scaler,KNeighborsRegressor(n_neighbors = 7,  weights = 'distance', p=2))\n",
    "knn_scaled.fit(X_train, y_train)\n",
    "y_pred = knn_scaled.predict(X_test)\n",
    "print(\"R2 Score: \", r2_score(y_test, y_pred))\n"
   ]
  },
  {
   "cell_type": "code",
   "execution_count": 237,
   "id": "6d7c0cef",
   "metadata": {
    "ExecuteTime": {
     "end_time": "2022-08-19T18:52:37.743955Z",
     "start_time": "2022-08-19T18:52:37.710742Z"
    }
   },
   "outputs": [
    {
     "data": {
      "application/vnd.plotly.v1+json": {
       "config": {
        "linkText": "Export to plot.ly",
        "plotlyServerURL": "https://plot.ly",
        "showLink": false
       },
       "data": [
        {
         "marker": {
          "color": "rgb(10, 150, 50)"
         },
         "mode": "lines",
         "name": "Actual Attendance",
         "type": "scatter",
         "x": [
          0,
          1,
          2,
          3,
          4,
          5,
          6,
          7,
          8,
          9,
          10,
          11,
          12,
          13,
          14,
          15,
          16,
          17,
          18,
          19,
          20,
          21,
          22,
          23,
          24,
          25,
          26,
          27,
          28,
          29,
          30,
          31,
          32,
          33,
          34,
          35,
          36,
          37,
          38,
          39,
          40,
          41,
          42,
          43,
          44,
          45,
          46,
          47,
          48,
          49,
          50,
          51,
          52,
          53,
          54,
          55,
          56,
          57,
          58,
          59,
          60,
          61,
          62,
          63,
          64,
          65,
          66,
          67,
          68,
          69,
          70,
          71,
          72,
          73,
          74,
          75,
          76,
          77,
          78,
          79,
          80,
          81,
          82,
          83,
          84,
          85,
          86,
          87,
          88,
          89,
          90,
          91,
          92,
          93,
          94,
          95,
          96,
          97,
          98,
          99,
          100,
          101,
          102,
          103,
          104,
          105,
          106,
          107,
          108,
          109,
          110,
          111,
          112,
          113,
          114,
          115,
          116,
          117,
          118,
          119,
          120,
          121,
          122,
          123,
          124,
          125,
          126,
          127,
          128,
          129,
          130,
          131,
          132,
          133,
          134,
          135,
          136,
          137,
          138,
          139,
          140,
          141,
          142,
          143,
          144,
          145,
          146,
          147,
          148,
          149,
          150,
          151,
          152,
          153,
          154,
          155,
          156,
          157,
          158,
          159,
          160,
          161,
          162,
          163,
          164,
          165,
          166,
          167,
          168,
          169,
          170,
          171,
          172,
          173,
          174,
          175,
          176,
          177,
          178,
          179,
          180,
          181,
          182,
          183,
          184,
          185,
          186,
          187,
          188,
          189,
          190,
          191,
          192,
          193,
          194,
          195,
          196,
          197,
          198,
          199
         ],
         "y": [
          6.96979066990159,
          9.84882015119382,
          9.419303859716559,
          7.1929342212158,
          6.09807428216624,
          8.669055540725484,
          6.416732282512326,
          7.729735331385051,
          7.275172319452771,
          8.85352256068954,
          7.707512194600341,
          9.264828557260252,
          8.292298107063221,
          6.470799503782602,
          6.263398262591624,
          8.51699317141357,
          5.75890177387728,
          7.969703583278656,
          10.258781543397928,
          8.973731569708402,
          6.226536669287466,
          7.371489295214277,
          5.768320995793772,
          5.8888779583328805,
          6.9584483932976555,
          8.9005490139363,
          9.113719333371757,
          9.68502054910582,
          9.078407700715356,
          9.057771773331575,
          4.634728988229636,
          6.834108738813838,
          7.284820912568604,
          8.294549515143679,
          7.851661177889265,
          9.640237896224932,
          6.796823718274855,
          7.964503363551548,
          8.54714026778419,
          9.1689974084418,
          9.712871692917354,
          9.811920359010637,
          9.338645632129106,
          8.771680359010377,
          9.458371638798171,
          9.793840083231597,
          5.631211781821365,
          7.718685495198466,
          5.814130531825066,
          7.791522819150732,
          7.57353126274595,
          8.714403360703942,
          6.92461239604856,
          10.98823753521109,
          8.501470230951002,
          9.593628035139645,
          10.379690675149634,
          8.337827262447915,
          8.076515327552329,
          8.339978571990427,
          7.895436006942965,
          8.989943046329998,
          8.321907968230423,
          7.358830898342354,
          7.272398392570047,
          6.19644412779452,
          9.705828982731935,
          5.44673737166631,
          7.714677473800927,
          5.616771097666572,
          7.488293515159428,
          7.2485040723706105,
          9.590008925040337,
          7.061334366910438,
          6.234410725718371,
          6.1779441140506,
          7.896924656268864,
          10.686109739523676,
          4.189654742026425,
          7.860956364876389,
          8.34283980427146,
          8.151909872940905,
          6.489204931325317,
          10.87632873570067,
          8.039157390473237,
          7.893572073504902,
          9.382864086290027,
          9.884610496766438,
          4.564348191467836,
          8.333991247194975,
          7.939515260662406,
          5.393627546352362,
          6.349138991379798,
          6.687108607866515,
          7.090076835776092,
          6.63200177739563,
          6.732210706467206,
          7.8567067930958405,
          5.926926025970411,
          7.195187320178709,
          7.92588031673756,
          8.9595686535445,
          8.463792414689122,
          8.39660622842712,
          7.20934025660291,
          9.724420693462669,
          10.814403868072828,
          5.783825182329737,
          6.907755278982137,
          10.474156316370632,
          6.92951677076365,
          8.560635749259074,
          8.517593111437565,
          5.342334251964811,
          8.16223106548118,
          10.342870878847753,
          8.969414650866176,
          8.043342170441608,
          7.757051142032013,
          9.289243969571649,
          7.557472901614746,
          8.107418811719974,
          5.932245187448011,
          8.81195017753998,
          6.4967749901858625,
          7.493317248862145,
          5.771441123130016,
          7.667158255319148,
          8.052933036797567,
          4.143134726391533,
          10.9859196449752,
          8.274866820685254,
          7.499423290592229,
          9.040619097157967,
          6.234410725718371,
          7.149916836132109,
          9.004545458996587,
          3.970291913552122,
          8.019612794400267,
          8.286521373681236,
          6.483107351457199,
          8.3133619511344,
          9.528357644224037
         ]
        },
        {
         "line": {
          "color": "rgb(110, 50, 140)",
          "dash": "dot"
         },
         "mode": "lines",
         "name": "Predicted Attendance",
         "type": "scatter",
         "x": [
          0,
          1,
          2,
          3,
          4,
          5,
          6,
          7,
          8,
          9,
          10,
          11,
          12,
          13,
          14,
          15,
          16,
          17,
          18,
          19,
          20,
          21,
          22,
          23,
          24,
          25,
          26,
          27,
          28,
          29,
          30,
          31,
          32,
          33,
          34,
          35,
          36,
          37,
          38,
          39,
          40,
          41,
          42,
          43,
          44,
          45,
          46,
          47,
          48,
          49,
          50,
          51,
          52,
          53,
          54,
          55,
          56,
          57,
          58,
          59,
          60,
          61,
          62,
          63,
          64,
          65,
          66,
          67,
          68,
          69,
          70,
          71,
          72,
          73,
          74,
          75,
          76,
          77,
          78,
          79,
          80,
          81,
          82,
          83,
          84,
          85,
          86,
          87,
          88,
          89,
          90,
          91,
          92,
          93,
          94,
          95,
          96,
          97,
          98,
          99,
          100,
          101,
          102,
          103,
          104,
          105,
          106,
          107,
          108,
          109,
          110,
          111,
          112,
          113,
          114,
          115,
          116,
          117,
          118,
          119,
          120,
          121,
          122,
          123,
          124,
          125,
          126,
          127,
          128,
          129,
          130,
          131,
          132,
          133,
          134,
          135,
          136,
          137,
          138,
          139,
          140,
          141,
          142,
          143,
          144,
          145,
          146,
          147,
          148,
          149,
          150,
          151,
          152,
          153,
          154,
          155,
          156,
          157,
          158,
          159,
          160,
          161,
          162,
          163,
          164,
          165,
          166,
          167,
          168,
          169,
          170,
          171,
          172,
          173,
          174,
          175,
          176,
          177,
          178,
          179,
          180,
          181,
          182,
          183,
          184,
          185,
          186,
          187,
          188,
          189,
          190,
          191,
          192,
          193,
          194,
          195,
          196,
          197,
          198,
          199
         ],
         "y": [
          7.002525314369594,
          9.969187443995565,
          7.8066808908770975,
          7.231426244370972,
          7.6264927847060715,
          7.860029350365505,
          6.353930558228881,
          7.2671536205064875,
          6.687492510150731,
          8.109591702556338,
          7.51281186482603,
          7.6975294760857595,
          7.683178330764767,
          7.441661733731494,
          7.264150205116971,
          8.204297836757318,
          6.994063541594648,
          7.236907383022522,
          9.82644853044303,
          8.453892749228066,
          6.9053309007682655,
          7.763633975074329,
          7.025767651841801,
          5.860165629327865,
          6.445265531366166,
          8.408163539745324,
          8.18903195839652,
          7.843443342218467,
          7.964906928500263,
          9.254707732464116,
          6.432319571241779,
          8.28379403705072,
          7.873629685561713,
          8.63800190023619,
          6.6147570723424005,
          8.616090258426217,
          7.255283998115315,
          7.507713604147397,
          7.151534570305081,
          10.098864873588687,
          8.147014854714628,
          10.032014546879246,
          9.146497481695059,
          8.172093403230754,
          9.057028308580934,
          9.678968002025893,
          6.522569671421385,
          8.385507845149723,
          7.3352050068440064,
          7.123060025475015,
          6.655943035154267,
          8.67454900143595,
          8.004031967997545,
          8.879713408686406,
          8.60259285843817,
          8.172227058856926,
          9.976114490294636,
          7.912258331985781,
          7.332242698334605,
          8.046716588610563,
          7.89878675801826,
          8.178201849347328,
          7.864421332385128,
          7.6867934662358595,
          7.740095650377543,
          6.783036844355338,
          9.700644295053754,
          6.420787251429561,
          9.775031608996011,
          6.299599608312782,
          9.821340593135329,
          8.319234875724357,
          8.430265993985422,
          9.085207788507713,
          6.414353468613685,
          6.363603565164068,
          8.057311821466863,
          9.494909743333203,
          5.9124252186974715,
          7.334824709725636,
          7.934129548055433,
          9.317986249165118,
          7.244301289645998,
          9.725199276123078,
          7.1811078417658925,
          8.801518262373321,
          8.181870249908219,
          10.496091083860835,
          6.621086845841367,
          8.041207737739557,
          7.352880835517927,
          6.155138393020058,
          7.937209600029915,
          8.762650962004718,
          8.047253300905783,
          6.585834603169067,
          6.756175299921426,
          7.736361246951974,
          6.29005408828933,
          6.98351554473309,
          7.412811237588271,
          9.295316185106698,
          7.887237442013684,
          7.493375661506597,
          8.24251429385089,
          8.604992074800318,
          10.231109792484311,
          6.318231674683497,
          7.32569596578992,
          9.934754112859302,
          6.7025265786660855,
          7.926032642643288,
          8.175805649819697,
          7.1866174896677135,
          8.346814169680734,
          9.947170091590355,
          8.016315971014102,
          8.724857823791677,
          8.10862764585569,
          9.577234566991175,
          8.306117345488337,
          8.931732394564373,
          5.961591409700782,
          8.349284250459387,
          7.501280632795538,
          7.23334273490331,
          6.139665745429064,
          7.755714836292319,
          7.571098131149275,
          6.973462500730351,
          10.442299118758832,
          7.91702365674413,
          6.54791599506626,
          7.923169599741039,
          6.012093514202315,
          8.979856354163774,
          7.887063907844499,
          5.947062674728447,
          9.851503766827216,
          9.774607707694535,
          6.215150687223885,
          8.594871723742104,
          9.651649198227275
         ]
        }
       ],
       "layout": {
        "template": {
         "data": {
          "bar": [
           {
            "error_x": {
             "color": "#2a3f5f"
            },
            "error_y": {
             "color": "#2a3f5f"
            },
            "marker": {
             "line": {
              "color": "#E5ECF6",
              "width": 0.5
             },
             "pattern": {
              "fillmode": "overlay",
              "size": 10,
              "solidity": 0.2
             }
            },
            "type": "bar"
           }
          ],
          "barpolar": [
           {
            "marker": {
             "line": {
              "color": "#E5ECF6",
              "width": 0.5
             },
             "pattern": {
              "fillmode": "overlay",
              "size": 10,
              "solidity": 0.2
             }
            },
            "type": "barpolar"
           }
          ],
          "carpet": [
           {
            "aaxis": {
             "endlinecolor": "#2a3f5f",
             "gridcolor": "white",
             "linecolor": "white",
             "minorgridcolor": "white",
             "startlinecolor": "#2a3f5f"
            },
            "baxis": {
             "endlinecolor": "#2a3f5f",
             "gridcolor": "white",
             "linecolor": "white",
             "minorgridcolor": "white",
             "startlinecolor": "#2a3f5f"
            },
            "type": "carpet"
           }
          ],
          "choropleth": [
           {
            "colorbar": {
             "outlinewidth": 0,
             "ticks": ""
            },
            "type": "choropleth"
           }
          ],
          "contour": [
           {
            "colorbar": {
             "outlinewidth": 0,
             "ticks": ""
            },
            "colorscale": [
             [
              0,
              "#0d0887"
             ],
             [
              0.1111111111111111,
              "#46039f"
             ],
             [
              0.2222222222222222,
              "#7201a8"
             ],
             [
              0.3333333333333333,
              "#9c179e"
             ],
             [
              0.4444444444444444,
              "#bd3786"
             ],
             [
              0.5555555555555556,
              "#d8576b"
             ],
             [
              0.6666666666666666,
              "#ed7953"
             ],
             [
              0.7777777777777778,
              "#fb9f3a"
             ],
             [
              0.8888888888888888,
              "#fdca26"
             ],
             [
              1,
              "#f0f921"
             ]
            ],
            "type": "contour"
           }
          ],
          "contourcarpet": [
           {
            "colorbar": {
             "outlinewidth": 0,
             "ticks": ""
            },
            "type": "contourcarpet"
           }
          ],
          "heatmap": [
           {
            "colorbar": {
             "outlinewidth": 0,
             "ticks": ""
            },
            "colorscale": [
             [
              0,
              "#0d0887"
             ],
             [
              0.1111111111111111,
              "#46039f"
             ],
             [
              0.2222222222222222,
              "#7201a8"
             ],
             [
              0.3333333333333333,
              "#9c179e"
             ],
             [
              0.4444444444444444,
              "#bd3786"
             ],
             [
              0.5555555555555556,
              "#d8576b"
             ],
             [
              0.6666666666666666,
              "#ed7953"
             ],
             [
              0.7777777777777778,
              "#fb9f3a"
             ],
             [
              0.8888888888888888,
              "#fdca26"
             ],
             [
              1,
              "#f0f921"
             ]
            ],
            "type": "heatmap"
           }
          ],
          "heatmapgl": [
           {
            "colorbar": {
             "outlinewidth": 0,
             "ticks": ""
            },
            "colorscale": [
             [
              0,
              "#0d0887"
             ],
             [
              0.1111111111111111,
              "#46039f"
             ],
             [
              0.2222222222222222,
              "#7201a8"
             ],
             [
              0.3333333333333333,
              "#9c179e"
             ],
             [
              0.4444444444444444,
              "#bd3786"
             ],
             [
              0.5555555555555556,
              "#d8576b"
             ],
             [
              0.6666666666666666,
              "#ed7953"
             ],
             [
              0.7777777777777778,
              "#fb9f3a"
             ],
             [
              0.8888888888888888,
              "#fdca26"
             ],
             [
              1,
              "#f0f921"
             ]
            ],
            "type": "heatmapgl"
           }
          ],
          "histogram": [
           {
            "marker": {
             "pattern": {
              "fillmode": "overlay",
              "size": 10,
              "solidity": 0.2
             }
            },
            "type": "histogram"
           }
          ],
          "histogram2d": [
           {
            "colorbar": {
             "outlinewidth": 0,
             "ticks": ""
            },
            "colorscale": [
             [
              0,
              "#0d0887"
             ],
             [
              0.1111111111111111,
              "#46039f"
             ],
             [
              0.2222222222222222,
              "#7201a8"
             ],
             [
              0.3333333333333333,
              "#9c179e"
             ],
             [
              0.4444444444444444,
              "#bd3786"
             ],
             [
              0.5555555555555556,
              "#d8576b"
             ],
             [
              0.6666666666666666,
              "#ed7953"
             ],
             [
              0.7777777777777778,
              "#fb9f3a"
             ],
             [
              0.8888888888888888,
              "#fdca26"
             ],
             [
              1,
              "#f0f921"
             ]
            ],
            "type": "histogram2d"
           }
          ],
          "histogram2dcontour": [
           {
            "colorbar": {
             "outlinewidth": 0,
             "ticks": ""
            },
            "colorscale": [
             [
              0,
              "#0d0887"
             ],
             [
              0.1111111111111111,
              "#46039f"
             ],
             [
              0.2222222222222222,
              "#7201a8"
             ],
             [
              0.3333333333333333,
              "#9c179e"
             ],
             [
              0.4444444444444444,
              "#bd3786"
             ],
             [
              0.5555555555555556,
              "#d8576b"
             ],
             [
              0.6666666666666666,
              "#ed7953"
             ],
             [
              0.7777777777777778,
              "#fb9f3a"
             ],
             [
              0.8888888888888888,
              "#fdca26"
             ],
             [
              1,
              "#f0f921"
             ]
            ],
            "type": "histogram2dcontour"
           }
          ],
          "mesh3d": [
           {
            "colorbar": {
             "outlinewidth": 0,
             "ticks": ""
            },
            "type": "mesh3d"
           }
          ],
          "parcoords": [
           {
            "line": {
             "colorbar": {
              "outlinewidth": 0,
              "ticks": ""
             }
            },
            "type": "parcoords"
           }
          ],
          "pie": [
           {
            "automargin": true,
            "type": "pie"
           }
          ],
          "scatter": [
           {
            "fillpattern": {
             "fillmode": "overlay",
             "size": 10,
             "solidity": 0.2
            },
            "type": "scatter"
           }
          ],
          "scatter3d": [
           {
            "line": {
             "colorbar": {
              "outlinewidth": 0,
              "ticks": ""
             }
            },
            "marker": {
             "colorbar": {
              "outlinewidth": 0,
              "ticks": ""
             }
            },
            "type": "scatter3d"
           }
          ],
          "scattercarpet": [
           {
            "marker": {
             "colorbar": {
              "outlinewidth": 0,
              "ticks": ""
             }
            },
            "type": "scattercarpet"
           }
          ],
          "scattergeo": [
           {
            "marker": {
             "colorbar": {
              "outlinewidth": 0,
              "ticks": ""
             }
            },
            "type": "scattergeo"
           }
          ],
          "scattergl": [
           {
            "marker": {
             "colorbar": {
              "outlinewidth": 0,
              "ticks": ""
             }
            },
            "type": "scattergl"
           }
          ],
          "scattermapbox": [
           {
            "marker": {
             "colorbar": {
              "outlinewidth": 0,
              "ticks": ""
             }
            },
            "type": "scattermapbox"
           }
          ],
          "scatterpolar": [
           {
            "marker": {
             "colorbar": {
              "outlinewidth": 0,
              "ticks": ""
             }
            },
            "type": "scatterpolar"
           }
          ],
          "scatterpolargl": [
           {
            "marker": {
             "colorbar": {
              "outlinewidth": 0,
              "ticks": ""
             }
            },
            "type": "scatterpolargl"
           }
          ],
          "scatterternary": [
           {
            "marker": {
             "colorbar": {
              "outlinewidth": 0,
              "ticks": ""
             }
            },
            "type": "scatterternary"
           }
          ],
          "surface": [
           {
            "colorbar": {
             "outlinewidth": 0,
             "ticks": ""
            },
            "colorscale": [
             [
              0,
              "#0d0887"
             ],
             [
              0.1111111111111111,
              "#46039f"
             ],
             [
              0.2222222222222222,
              "#7201a8"
             ],
             [
              0.3333333333333333,
              "#9c179e"
             ],
             [
              0.4444444444444444,
              "#bd3786"
             ],
             [
              0.5555555555555556,
              "#d8576b"
             ],
             [
              0.6666666666666666,
              "#ed7953"
             ],
             [
              0.7777777777777778,
              "#fb9f3a"
             ],
             [
              0.8888888888888888,
              "#fdca26"
             ],
             [
              1,
              "#f0f921"
             ]
            ],
            "type": "surface"
           }
          ],
          "table": [
           {
            "cells": {
             "fill": {
              "color": "#EBF0F8"
             },
             "line": {
              "color": "white"
             }
            },
            "header": {
             "fill": {
              "color": "#C8D4E3"
             },
             "line": {
              "color": "white"
             }
            },
            "type": "table"
           }
          ]
         },
         "layout": {
          "annotationdefaults": {
           "arrowcolor": "#2a3f5f",
           "arrowhead": 0,
           "arrowwidth": 1
          },
          "autotypenumbers": "strict",
          "coloraxis": {
           "colorbar": {
            "outlinewidth": 0,
            "ticks": ""
           }
          },
          "colorscale": {
           "diverging": [
            [
             0,
             "#8e0152"
            ],
            [
             0.1,
             "#c51b7d"
            ],
            [
             0.2,
             "#de77ae"
            ],
            [
             0.3,
             "#f1b6da"
            ],
            [
             0.4,
             "#fde0ef"
            ],
            [
             0.5,
             "#f7f7f7"
            ],
            [
             0.6,
             "#e6f5d0"
            ],
            [
             0.7,
             "#b8e186"
            ],
            [
             0.8,
             "#7fbc41"
            ],
            [
             0.9,
             "#4d9221"
            ],
            [
             1,
             "#276419"
            ]
           ],
           "sequential": [
            [
             0,
             "#0d0887"
            ],
            [
             0.1111111111111111,
             "#46039f"
            ],
            [
             0.2222222222222222,
             "#7201a8"
            ],
            [
             0.3333333333333333,
             "#9c179e"
            ],
            [
             0.4444444444444444,
             "#bd3786"
            ],
            [
             0.5555555555555556,
             "#d8576b"
            ],
            [
             0.6666666666666666,
             "#ed7953"
            ],
            [
             0.7777777777777778,
             "#fb9f3a"
            ],
            [
             0.8888888888888888,
             "#fdca26"
            ],
            [
             1,
             "#f0f921"
            ]
           ],
           "sequentialminus": [
            [
             0,
             "#0d0887"
            ],
            [
             0.1111111111111111,
             "#46039f"
            ],
            [
             0.2222222222222222,
             "#7201a8"
            ],
            [
             0.3333333333333333,
             "#9c179e"
            ],
            [
             0.4444444444444444,
             "#bd3786"
            ],
            [
             0.5555555555555556,
             "#d8576b"
            ],
            [
             0.6666666666666666,
             "#ed7953"
            ],
            [
             0.7777777777777778,
             "#fb9f3a"
            ],
            [
             0.8888888888888888,
             "#fdca26"
            ],
            [
             1,
             "#f0f921"
            ]
           ]
          },
          "colorway": [
           "#636efa",
           "#EF553B",
           "#00cc96",
           "#ab63fa",
           "#FFA15A",
           "#19d3f3",
           "#FF6692",
           "#B6E880",
           "#FF97FF",
           "#FECB52"
          ],
          "font": {
           "color": "#2a3f5f"
          },
          "geo": {
           "bgcolor": "white",
           "lakecolor": "white",
           "landcolor": "#E5ECF6",
           "showlakes": true,
           "showland": true,
           "subunitcolor": "white"
          },
          "hoverlabel": {
           "align": "left"
          },
          "hovermode": "closest",
          "mapbox": {
           "style": "light"
          },
          "paper_bgcolor": "white",
          "plot_bgcolor": "#E5ECF6",
          "polar": {
           "angularaxis": {
            "gridcolor": "white",
            "linecolor": "white",
            "ticks": ""
           },
           "bgcolor": "#E5ECF6",
           "radialaxis": {
            "gridcolor": "white",
            "linecolor": "white",
            "ticks": ""
           }
          },
          "scene": {
           "xaxis": {
            "backgroundcolor": "#E5ECF6",
            "gridcolor": "white",
            "gridwidth": 2,
            "linecolor": "white",
            "showbackground": true,
            "ticks": "",
            "zerolinecolor": "white"
           },
           "yaxis": {
            "backgroundcolor": "#E5ECF6",
            "gridcolor": "white",
            "gridwidth": 2,
            "linecolor": "white",
            "showbackground": true,
            "ticks": "",
            "zerolinecolor": "white"
           },
           "zaxis": {
            "backgroundcolor": "#E5ECF6",
            "gridcolor": "white",
            "gridwidth": 2,
            "linecolor": "white",
            "showbackground": true,
            "ticks": "",
            "zerolinecolor": "white"
           }
          },
          "shapedefaults": {
           "line": {
            "color": "#2a3f5f"
           }
          },
          "ternary": {
           "aaxis": {
            "gridcolor": "white",
            "linecolor": "white",
            "ticks": ""
           },
           "baxis": {
            "gridcolor": "white",
            "linecolor": "white",
            "ticks": ""
           },
           "bgcolor": "#E5ECF6",
           "caxis": {
            "gridcolor": "white",
            "linecolor": "white",
            "ticks": ""
           }
          },
          "title": {
           "x": 0.05
          },
          "xaxis": {
           "automargin": true,
           "gridcolor": "white",
           "linecolor": "white",
           "ticks": "",
           "title": {
            "standoff": 15
           },
           "zerolinecolor": "white",
           "zerolinewidth": 2
          },
          "yaxis": {
           "automargin": true,
           "gridcolor": "white",
           "linecolor": "white",
           "ticks": "",
           "title": {
            "standoff": 15
           },
           "zerolinecolor": "white",
           "zerolinewidth": 2
          }
         }
        },
        "xaxis": {
         "title": {
          "text": "Index"
         }
        },
        "yaxis": {
         "title": {
          "text": "Attendance"
         }
        }
       }
      },
      "text/html": [
       "<div>                            <div id=\"50bbcfc3-2c4d-428a-b4b3-e23baccb1ff1\" class=\"plotly-graph-div\" style=\"height:525px; width:100%;\"></div>            <script type=\"text/javascript\">                require([\"plotly\"], function(Plotly) {                    window.PLOTLYENV=window.PLOTLYENV || {};                                    if (document.getElementById(\"50bbcfc3-2c4d-428a-b4b3-e23baccb1ff1\")) {                    Plotly.newPlot(                        \"50bbcfc3-2c4d-428a-b4b3-e23baccb1ff1\",                        [{\"marker\":{\"color\":\"rgb(10, 150, 50)\"},\"mode\":\"lines\",\"name\":\"Actual Attendance\",\"x\":[0,1,2,3,4,5,6,7,8,9,10,11,12,13,14,15,16,17,18,19,20,21,22,23,24,25,26,27,28,29,30,31,32,33,34,35,36,37,38,39,40,41,42,43,44,45,46,47,48,49,50,51,52,53,54,55,56,57,58,59,60,61,62,63,64,65,66,67,68,69,70,71,72,73,74,75,76,77,78,79,80,81,82,83,84,85,86,87,88,89,90,91,92,93,94,95,96,97,98,99,100,101,102,103,104,105,106,107,108,109,110,111,112,113,114,115,116,117,118,119,120,121,122,123,124,125,126,127,128,129,130,131,132,133,134,135,136,137,138,139,140,141,142,143,144,145,146,147,148,149,150,151,152,153,154,155,156,157,158,159,160,161,162,163,164,165,166,167,168,169,170,171,172,173,174,175,176,177,178,179,180,181,182,183,184,185,186,187,188,189,190,191,192,193,194,195,196,197,198,199],\"y\":[6.96979066990159,9.84882015119382,9.419303859716559,7.1929342212158,6.09807428216624,8.669055540725484,6.416732282512326,7.729735331385051,7.275172319452771,8.85352256068954,7.707512194600341,9.264828557260252,8.292298107063221,6.470799503782602,6.263398262591624,8.51699317141357,5.75890177387728,7.969703583278656,10.258781543397928,8.973731569708402,6.226536669287466,7.371489295214277,5.768320995793772,5.8888779583328805,6.9584483932976555,8.9005490139363,9.113719333371757,9.68502054910582,9.078407700715356,9.057771773331575,4.634728988229636,6.834108738813838,7.284820912568604,8.294549515143679,7.851661177889265,9.640237896224932,6.796823718274855,7.964503363551548,8.54714026778419,9.1689974084418,9.712871692917354,9.811920359010637,9.338645632129106,8.771680359010377,9.458371638798171,9.793840083231597,5.631211781821365,7.718685495198466,5.814130531825066,7.791522819150732,7.57353126274595,8.714403360703942,6.92461239604856,10.98823753521109,8.501470230951002,9.593628035139645,10.379690675149634,8.337827262447915,8.076515327552329,8.339978571990427,7.895436006942965,8.989943046329998,8.321907968230423,7.358830898342354,7.272398392570047,6.19644412779452,9.705828982731935,5.44673737166631,7.714677473800927,5.616771097666572,7.488293515159428,7.2485040723706105,9.590008925040337,7.061334366910438,6.234410725718371,6.1779441140506,7.896924656268864,10.686109739523676,4.189654742026425,7.860956364876389,8.34283980427146,8.151909872940905,6.489204931325317,10.87632873570067,8.039157390473237,7.893572073504902,9.382864086290027,9.884610496766438,4.564348191467836,8.333991247194975,7.939515260662406,5.393627546352362,6.349138991379798,6.687108607866515,7.090076835776092,6.63200177739563,6.732210706467206,7.8567067930958405,5.926926025970411,7.195187320178709,7.92588031673756,8.9595686535445,8.463792414689122,8.39660622842712,7.20934025660291,9.724420693462669,10.814403868072828,5.783825182329737,6.907755278982137,10.474156316370632,6.92951677076365,8.560635749259074,8.517593111437565,5.342334251964811,8.16223106548118,10.342870878847753,8.969414650866176,8.043342170441608,7.757051142032013,9.289243969571649,7.557472901614746,8.107418811719974,5.932245187448011,8.81195017753998,6.4967749901858625,7.493317248862145,5.771441123130016,7.667158255319148,8.052933036797567,4.143134726391533,10.9859196449752,8.274866820685254,7.499423290592229,9.040619097157967,6.234410725718371,7.149916836132109,9.004545458996587,3.970291913552122,8.019612794400267,8.286521373681236,6.483107351457199,8.3133619511344,9.528357644224037],\"type\":\"scatter\"},{\"line\":{\"color\":\"rgb(110, 50, 140)\",\"dash\":\"dot\"},\"mode\":\"lines\",\"name\":\"Predicted Attendance\",\"x\":[0,1,2,3,4,5,6,7,8,9,10,11,12,13,14,15,16,17,18,19,20,21,22,23,24,25,26,27,28,29,30,31,32,33,34,35,36,37,38,39,40,41,42,43,44,45,46,47,48,49,50,51,52,53,54,55,56,57,58,59,60,61,62,63,64,65,66,67,68,69,70,71,72,73,74,75,76,77,78,79,80,81,82,83,84,85,86,87,88,89,90,91,92,93,94,95,96,97,98,99,100,101,102,103,104,105,106,107,108,109,110,111,112,113,114,115,116,117,118,119,120,121,122,123,124,125,126,127,128,129,130,131,132,133,134,135,136,137,138,139,140,141,142,143,144,145,146,147,148,149,150,151,152,153,154,155,156,157,158,159,160,161,162,163,164,165,166,167,168,169,170,171,172,173,174,175,176,177,178,179,180,181,182,183,184,185,186,187,188,189,190,191,192,193,194,195,196,197,198,199],\"y\":[7.002525314369594,9.969187443995565,7.8066808908770975,7.231426244370972,7.6264927847060715,7.860029350365505,6.353930558228881,7.2671536205064875,6.687492510150731,8.109591702556338,7.51281186482603,7.6975294760857595,7.683178330764767,7.441661733731494,7.264150205116971,8.204297836757318,6.994063541594648,7.236907383022522,9.82644853044303,8.453892749228066,6.9053309007682655,7.763633975074329,7.025767651841801,5.860165629327865,6.445265531366166,8.408163539745324,8.18903195839652,7.843443342218467,7.964906928500263,9.254707732464116,6.432319571241779,8.28379403705072,7.873629685561713,8.63800190023619,6.6147570723424005,8.616090258426217,7.255283998115315,7.507713604147397,7.151534570305081,10.098864873588687,8.147014854714628,10.032014546879246,9.146497481695059,8.172093403230754,9.057028308580934,9.678968002025893,6.522569671421385,8.385507845149723,7.3352050068440064,7.123060025475015,6.655943035154267,8.67454900143595,8.004031967997545,8.879713408686406,8.60259285843817,8.172227058856926,9.976114490294636,7.912258331985781,7.332242698334605,8.046716588610563,7.89878675801826,8.178201849347328,7.864421332385128,7.6867934662358595,7.740095650377543,6.783036844355338,9.700644295053754,6.420787251429561,9.775031608996011,6.299599608312782,9.821340593135329,8.319234875724357,8.430265993985422,9.085207788507713,6.414353468613685,6.363603565164068,8.057311821466863,9.494909743333203,5.9124252186974715,7.334824709725636,7.934129548055433,9.317986249165118,7.244301289645998,9.725199276123078,7.1811078417658925,8.801518262373321,8.181870249908219,10.496091083860835,6.621086845841367,8.041207737739557,7.352880835517927,6.155138393020058,7.937209600029915,8.762650962004718,8.047253300905783,6.585834603169067,6.756175299921426,7.736361246951974,6.29005408828933,6.98351554473309,7.412811237588271,9.295316185106698,7.887237442013684,7.493375661506597,8.24251429385089,8.604992074800318,10.231109792484311,6.318231674683497,7.32569596578992,9.934754112859302,6.7025265786660855,7.926032642643288,8.175805649819697,7.1866174896677135,8.346814169680734,9.947170091590355,8.016315971014102,8.724857823791677,8.10862764585569,9.577234566991175,8.306117345488337,8.931732394564373,5.961591409700782,8.349284250459387,7.501280632795538,7.23334273490331,6.139665745429064,7.755714836292319,7.571098131149275,6.973462500730351,10.442299118758832,7.91702365674413,6.54791599506626,7.923169599741039,6.012093514202315,8.979856354163774,7.887063907844499,5.947062674728447,9.851503766827216,9.774607707694535,6.215150687223885,8.594871723742104,9.651649198227275],\"type\":\"scatter\"}],                        {\"template\":{\"data\":{\"barpolar\":[{\"marker\":{\"line\":{\"color\":\"#E5ECF6\",\"width\":0.5},\"pattern\":{\"fillmode\":\"overlay\",\"size\":10,\"solidity\":0.2}},\"type\":\"barpolar\"}],\"bar\":[{\"error_x\":{\"color\":\"#2a3f5f\"},\"error_y\":{\"color\":\"#2a3f5f\"},\"marker\":{\"line\":{\"color\":\"#E5ECF6\",\"width\":0.5},\"pattern\":{\"fillmode\":\"overlay\",\"size\":10,\"solidity\":0.2}},\"type\":\"bar\"}],\"carpet\":[{\"aaxis\":{\"endlinecolor\":\"#2a3f5f\",\"gridcolor\":\"white\",\"linecolor\":\"white\",\"minorgridcolor\":\"white\",\"startlinecolor\":\"#2a3f5f\"},\"baxis\":{\"endlinecolor\":\"#2a3f5f\",\"gridcolor\":\"white\",\"linecolor\":\"white\",\"minorgridcolor\":\"white\",\"startlinecolor\":\"#2a3f5f\"},\"type\":\"carpet\"}],\"choropleth\":[{\"colorbar\":{\"outlinewidth\":0,\"ticks\":\"\"},\"type\":\"choropleth\"}],\"contourcarpet\":[{\"colorbar\":{\"outlinewidth\":0,\"ticks\":\"\"},\"type\":\"contourcarpet\"}],\"contour\":[{\"colorbar\":{\"outlinewidth\":0,\"ticks\":\"\"},\"colorscale\":[[0.0,\"#0d0887\"],[0.1111111111111111,\"#46039f\"],[0.2222222222222222,\"#7201a8\"],[0.3333333333333333,\"#9c179e\"],[0.4444444444444444,\"#bd3786\"],[0.5555555555555556,\"#d8576b\"],[0.6666666666666666,\"#ed7953\"],[0.7777777777777778,\"#fb9f3a\"],[0.8888888888888888,\"#fdca26\"],[1.0,\"#f0f921\"]],\"type\":\"contour\"}],\"heatmapgl\":[{\"colorbar\":{\"outlinewidth\":0,\"ticks\":\"\"},\"colorscale\":[[0.0,\"#0d0887\"],[0.1111111111111111,\"#46039f\"],[0.2222222222222222,\"#7201a8\"],[0.3333333333333333,\"#9c179e\"],[0.4444444444444444,\"#bd3786\"],[0.5555555555555556,\"#d8576b\"],[0.6666666666666666,\"#ed7953\"],[0.7777777777777778,\"#fb9f3a\"],[0.8888888888888888,\"#fdca26\"],[1.0,\"#f0f921\"]],\"type\":\"heatmapgl\"}],\"heatmap\":[{\"colorbar\":{\"outlinewidth\":0,\"ticks\":\"\"},\"colorscale\":[[0.0,\"#0d0887\"],[0.1111111111111111,\"#46039f\"],[0.2222222222222222,\"#7201a8\"],[0.3333333333333333,\"#9c179e\"],[0.4444444444444444,\"#bd3786\"],[0.5555555555555556,\"#d8576b\"],[0.6666666666666666,\"#ed7953\"],[0.7777777777777778,\"#fb9f3a\"],[0.8888888888888888,\"#fdca26\"],[1.0,\"#f0f921\"]],\"type\":\"heatmap\"}],\"histogram2dcontour\":[{\"colorbar\":{\"outlinewidth\":0,\"ticks\":\"\"},\"colorscale\":[[0.0,\"#0d0887\"],[0.1111111111111111,\"#46039f\"],[0.2222222222222222,\"#7201a8\"],[0.3333333333333333,\"#9c179e\"],[0.4444444444444444,\"#bd3786\"],[0.5555555555555556,\"#d8576b\"],[0.6666666666666666,\"#ed7953\"],[0.7777777777777778,\"#fb9f3a\"],[0.8888888888888888,\"#fdca26\"],[1.0,\"#f0f921\"]],\"type\":\"histogram2dcontour\"}],\"histogram2d\":[{\"colorbar\":{\"outlinewidth\":0,\"ticks\":\"\"},\"colorscale\":[[0.0,\"#0d0887\"],[0.1111111111111111,\"#46039f\"],[0.2222222222222222,\"#7201a8\"],[0.3333333333333333,\"#9c179e\"],[0.4444444444444444,\"#bd3786\"],[0.5555555555555556,\"#d8576b\"],[0.6666666666666666,\"#ed7953\"],[0.7777777777777778,\"#fb9f3a\"],[0.8888888888888888,\"#fdca26\"],[1.0,\"#f0f921\"]],\"type\":\"histogram2d\"}],\"histogram\":[{\"marker\":{\"pattern\":{\"fillmode\":\"overlay\",\"size\":10,\"solidity\":0.2}},\"type\":\"histogram\"}],\"mesh3d\":[{\"colorbar\":{\"outlinewidth\":0,\"ticks\":\"\"},\"type\":\"mesh3d\"}],\"parcoords\":[{\"line\":{\"colorbar\":{\"outlinewidth\":0,\"ticks\":\"\"}},\"type\":\"parcoords\"}],\"pie\":[{\"automargin\":true,\"type\":\"pie\"}],\"scatter3d\":[{\"line\":{\"colorbar\":{\"outlinewidth\":0,\"ticks\":\"\"}},\"marker\":{\"colorbar\":{\"outlinewidth\":0,\"ticks\":\"\"}},\"type\":\"scatter3d\"}],\"scattercarpet\":[{\"marker\":{\"colorbar\":{\"outlinewidth\":0,\"ticks\":\"\"}},\"type\":\"scattercarpet\"}],\"scattergeo\":[{\"marker\":{\"colorbar\":{\"outlinewidth\":0,\"ticks\":\"\"}},\"type\":\"scattergeo\"}],\"scattergl\":[{\"marker\":{\"colorbar\":{\"outlinewidth\":0,\"ticks\":\"\"}},\"type\":\"scattergl\"}],\"scattermapbox\":[{\"marker\":{\"colorbar\":{\"outlinewidth\":0,\"ticks\":\"\"}},\"type\":\"scattermapbox\"}],\"scatterpolargl\":[{\"marker\":{\"colorbar\":{\"outlinewidth\":0,\"ticks\":\"\"}},\"type\":\"scatterpolargl\"}],\"scatterpolar\":[{\"marker\":{\"colorbar\":{\"outlinewidth\":0,\"ticks\":\"\"}},\"type\":\"scatterpolar\"}],\"scatter\":[{\"fillpattern\":{\"fillmode\":\"overlay\",\"size\":10,\"solidity\":0.2},\"type\":\"scatter\"}],\"scatterternary\":[{\"marker\":{\"colorbar\":{\"outlinewidth\":0,\"ticks\":\"\"}},\"type\":\"scatterternary\"}],\"surface\":[{\"colorbar\":{\"outlinewidth\":0,\"ticks\":\"\"},\"colorscale\":[[0.0,\"#0d0887\"],[0.1111111111111111,\"#46039f\"],[0.2222222222222222,\"#7201a8\"],[0.3333333333333333,\"#9c179e\"],[0.4444444444444444,\"#bd3786\"],[0.5555555555555556,\"#d8576b\"],[0.6666666666666666,\"#ed7953\"],[0.7777777777777778,\"#fb9f3a\"],[0.8888888888888888,\"#fdca26\"],[1.0,\"#f0f921\"]],\"type\":\"surface\"}],\"table\":[{\"cells\":{\"fill\":{\"color\":\"#EBF0F8\"},\"line\":{\"color\":\"white\"}},\"header\":{\"fill\":{\"color\":\"#C8D4E3\"},\"line\":{\"color\":\"white\"}},\"type\":\"table\"}]},\"layout\":{\"annotationdefaults\":{\"arrowcolor\":\"#2a3f5f\",\"arrowhead\":0,\"arrowwidth\":1},\"autotypenumbers\":\"strict\",\"coloraxis\":{\"colorbar\":{\"outlinewidth\":0,\"ticks\":\"\"}},\"colorscale\":{\"diverging\":[[0,\"#8e0152\"],[0.1,\"#c51b7d\"],[0.2,\"#de77ae\"],[0.3,\"#f1b6da\"],[0.4,\"#fde0ef\"],[0.5,\"#f7f7f7\"],[0.6,\"#e6f5d0\"],[0.7,\"#b8e186\"],[0.8,\"#7fbc41\"],[0.9,\"#4d9221\"],[1,\"#276419\"]],\"sequential\":[[0.0,\"#0d0887\"],[0.1111111111111111,\"#46039f\"],[0.2222222222222222,\"#7201a8\"],[0.3333333333333333,\"#9c179e\"],[0.4444444444444444,\"#bd3786\"],[0.5555555555555556,\"#d8576b\"],[0.6666666666666666,\"#ed7953\"],[0.7777777777777778,\"#fb9f3a\"],[0.8888888888888888,\"#fdca26\"],[1.0,\"#f0f921\"]],\"sequentialminus\":[[0.0,\"#0d0887\"],[0.1111111111111111,\"#46039f\"],[0.2222222222222222,\"#7201a8\"],[0.3333333333333333,\"#9c179e\"],[0.4444444444444444,\"#bd3786\"],[0.5555555555555556,\"#d8576b\"],[0.6666666666666666,\"#ed7953\"],[0.7777777777777778,\"#fb9f3a\"],[0.8888888888888888,\"#fdca26\"],[1.0,\"#f0f921\"]]},\"colorway\":[\"#636efa\",\"#EF553B\",\"#00cc96\",\"#ab63fa\",\"#FFA15A\",\"#19d3f3\",\"#FF6692\",\"#B6E880\",\"#FF97FF\",\"#FECB52\"],\"font\":{\"color\":\"#2a3f5f\"},\"geo\":{\"bgcolor\":\"white\",\"lakecolor\":\"white\",\"landcolor\":\"#E5ECF6\",\"showlakes\":true,\"showland\":true,\"subunitcolor\":\"white\"},\"hoverlabel\":{\"align\":\"left\"},\"hovermode\":\"closest\",\"mapbox\":{\"style\":\"light\"},\"paper_bgcolor\":\"white\",\"plot_bgcolor\":\"#E5ECF6\",\"polar\":{\"angularaxis\":{\"gridcolor\":\"white\",\"linecolor\":\"white\",\"ticks\":\"\"},\"bgcolor\":\"#E5ECF6\",\"radialaxis\":{\"gridcolor\":\"white\",\"linecolor\":\"white\",\"ticks\":\"\"}},\"scene\":{\"xaxis\":{\"backgroundcolor\":\"#E5ECF6\",\"gridcolor\":\"white\",\"gridwidth\":2,\"linecolor\":\"white\",\"showbackground\":true,\"ticks\":\"\",\"zerolinecolor\":\"white\"},\"yaxis\":{\"backgroundcolor\":\"#E5ECF6\",\"gridcolor\":\"white\",\"gridwidth\":2,\"linecolor\":\"white\",\"showbackground\":true,\"ticks\":\"\",\"zerolinecolor\":\"white\"},\"zaxis\":{\"backgroundcolor\":\"#E5ECF6\",\"gridcolor\":\"white\",\"gridwidth\":2,\"linecolor\":\"white\",\"showbackground\":true,\"ticks\":\"\",\"zerolinecolor\":\"white\"}},\"shapedefaults\":{\"line\":{\"color\":\"#2a3f5f\"}},\"ternary\":{\"aaxis\":{\"gridcolor\":\"white\",\"linecolor\":\"white\",\"ticks\":\"\"},\"baxis\":{\"gridcolor\":\"white\",\"linecolor\":\"white\",\"ticks\":\"\"},\"bgcolor\":\"#E5ECF6\",\"caxis\":{\"gridcolor\":\"white\",\"linecolor\":\"white\",\"ticks\":\"\"}},\"title\":{\"x\":0.05},\"xaxis\":{\"automargin\":true,\"gridcolor\":\"white\",\"linecolor\":\"white\",\"ticks\":\"\",\"title\":{\"standoff\":15},\"zerolinecolor\":\"white\",\"zerolinewidth\":2},\"yaxis\":{\"automargin\":true,\"gridcolor\":\"white\",\"linecolor\":\"white\",\"ticks\":\"\",\"title\":{\"standoff\":15},\"zerolinecolor\":\"white\",\"zerolinewidth\":2}}},\"xaxis\":{\"title\":{\"text\":\"Index\"}},\"yaxis\":{\"title\":{\"text\":\"Attendance\"}}},                        {\"responsive\": true}                    ).then(function(){\n",
       "                            \n",
       "var gd = document.getElementById('50bbcfc3-2c4d-428a-b4b3-e23baccb1ff1');\n",
       "var x = new MutationObserver(function (mutations, observer) {{\n",
       "        var display = window.getComputedStyle(gd).display;\n",
       "        if (!display || display === 'none') {{\n",
       "            console.log([gd, 'removed!']);\n",
       "            Plotly.purge(gd);\n",
       "            observer.disconnect();\n",
       "        }}\n",
       "}});\n",
       "\n",
       "// Listen for the removal of the full notebook cells\n",
       "var notebookContainer = gd.closest('#notebook-container');\n",
       "if (notebookContainer) {{\n",
       "    x.observe(notebookContainer, {childList: true});\n",
       "}}\n",
       "\n",
       "// Listen for the clearing of the current output cell\n",
       "var outputEl = gd.closest('.output');\n",
       "if (outputEl) {{\n",
       "    x.observe(outputEl, {childList: true});\n",
       "}}\n",
       "\n",
       "                        })                };                });            </script>        </div>"
      ]
     },
     "metadata": {},
     "output_type": "display_data"
    }
   ],
   "source": [
    "trace0 = go.Scatter(\n",
    "    y = y_test,\n",
    "    x = np.arange(200), \n",
    "    mode = 'lines', \n",
    "    name = 'Actual Attendance',\n",
    "    marker = dict(\n",
    "    color = 'rgb(10, 150, 50)')\n",
    ")\n",
    "\n",
    "trace1 = go.Scatter(\n",
    "    y = y_pred,\n",
    "    x = np.arange(200), \n",
    "    mode = 'lines', \n",
    "    name = 'Predicted Attendance',\n",
    "    line = dict(\n",
    "        color = 'rgb(110, 50, 140)',\n",
    "        dash = 'dot'\n",
    "    )\n",
    ")\n",
    "\n",
    "\n",
    "layout = go.Layout(\n",
    "    xaxis = dict(title = 'Index'), \n",
    "    yaxis = dict(title = 'Attendance')\n",
    ")\n",
    "\n",
    "figure = go.Figure(data = [trace0, trace1], layout = layout)\n",
    "iplot(figure)"
   ]
  },
  {
   "cell_type": "markdown",
   "id": "49c72a60",
   "metadata": {},
   "source": [
    "## Polynomial predictions"
   ]
  },
  {
   "cell_type": "code",
   "execution_count": 238,
   "id": "1dd6ce66",
   "metadata": {
    "ExecuteTime": {
     "end_time": "2022-08-19T18:52:42.199311Z",
     "start_time": "2022-08-19T18:52:42.143392Z"
    }
   },
   "outputs": [
    {
     "data": {
      "text/plain": [
       "Pipeline(steps=[('standardscaler', StandardScaler()),\n",
       "                ('polynomialfeatures', PolynomialFeatures(degree=1)),\n",
       "                ('linearregression', LinearRegression())])"
      ]
     },
     "execution_count": 238,
     "metadata": {},
     "output_type": "execute_result"
    }
   ],
   "source": [
    "#scaler = preprocessing.StandardScaler()\n",
    "degree=1\n",
    "polyreg_scaled=make_pipeline(scaler,PolynomialFeatures(degree),LinearRegression())\n",
    "polyreg_scaled.fit(X_train, y_train)"
   ]
  },
  {
   "cell_type": "code",
   "execution_count": 239,
   "id": "855622b4",
   "metadata": {
    "ExecuteTime": {
     "end_time": "2022-08-19T18:52:42.840005Z",
     "start_time": "2022-08-19T18:52:42.832033Z"
    }
   },
   "outputs": [
    {
     "name": "stdout",
     "output_type": "stream",
     "text": [
      "R2 Score:  0.49792524142007877\n"
     ]
    }
   ],
   "source": [
    "y_pred = polyreg_scaled.predict(X_test)\n",
    "print(\"R2 Score: \", r2_score(y_test, y_pred))"
   ]
  },
  {
   "cell_type": "code",
   "execution_count": 240,
   "id": "38211891",
   "metadata": {
    "ExecuteTime": {
     "end_time": "2022-08-19T18:52:43.599791Z",
     "start_time": "2022-08-19T18:52:43.564476Z"
    }
   },
   "outputs": [
    {
     "data": {
      "application/vnd.plotly.v1+json": {
       "config": {
        "linkText": "Export to plot.ly",
        "plotlyServerURL": "https://plot.ly",
        "showLink": false
       },
       "data": [
        {
         "marker": {
          "color": "rgb(10, 150, 50)"
         },
         "mode": "lines",
         "name": "Actual Attendance",
         "type": "scatter",
         "x": [
          0,
          1,
          2,
          3,
          4,
          5,
          6,
          7,
          8,
          9,
          10,
          11,
          12,
          13,
          14,
          15,
          16,
          17,
          18,
          19,
          20,
          21,
          22,
          23,
          24,
          25,
          26,
          27,
          28,
          29,
          30,
          31,
          32,
          33,
          34,
          35,
          36,
          37,
          38,
          39,
          40,
          41,
          42,
          43,
          44,
          45,
          46,
          47,
          48,
          49,
          50,
          51,
          52,
          53,
          54,
          55,
          56,
          57,
          58,
          59,
          60,
          61,
          62,
          63,
          64,
          65,
          66,
          67,
          68,
          69,
          70,
          71,
          72,
          73,
          74,
          75,
          76,
          77,
          78,
          79,
          80,
          81,
          82,
          83,
          84,
          85,
          86,
          87,
          88,
          89,
          90,
          91,
          92,
          93,
          94,
          95,
          96,
          97,
          98,
          99,
          100,
          101,
          102,
          103,
          104,
          105,
          106,
          107,
          108,
          109,
          110,
          111,
          112,
          113,
          114,
          115,
          116,
          117,
          118,
          119,
          120,
          121,
          122,
          123,
          124,
          125,
          126,
          127,
          128,
          129,
          130,
          131,
          132,
          133,
          134,
          135,
          136,
          137,
          138,
          139,
          140,
          141,
          142,
          143,
          144,
          145,
          146,
          147,
          148,
          149,
          150,
          151,
          152,
          153,
          154,
          155,
          156,
          157,
          158,
          159,
          160,
          161,
          162,
          163,
          164,
          165,
          166,
          167,
          168,
          169,
          170,
          171,
          172,
          173,
          174,
          175,
          176,
          177,
          178,
          179,
          180,
          181,
          182,
          183,
          184,
          185,
          186,
          187,
          188,
          189,
          190,
          191,
          192,
          193,
          194,
          195,
          196,
          197,
          198,
          199
         ],
         "y": [
          6.96979066990159,
          9.84882015119382,
          9.419303859716559,
          7.1929342212158,
          6.09807428216624,
          8.669055540725484,
          6.416732282512326,
          7.729735331385051,
          7.275172319452771,
          8.85352256068954,
          7.707512194600341,
          9.264828557260252,
          8.292298107063221,
          6.470799503782602,
          6.263398262591624,
          8.51699317141357,
          5.75890177387728,
          7.969703583278656,
          10.258781543397928,
          8.973731569708402,
          6.226536669287466,
          7.371489295214277,
          5.768320995793772,
          5.8888779583328805,
          6.9584483932976555,
          8.9005490139363,
          9.113719333371757,
          9.68502054910582,
          9.078407700715356,
          9.057771773331575,
          4.634728988229636,
          6.834108738813838,
          7.284820912568604,
          8.294549515143679,
          7.851661177889265,
          9.640237896224932,
          6.796823718274855,
          7.964503363551548,
          8.54714026778419,
          9.1689974084418,
          9.712871692917354,
          9.811920359010637,
          9.338645632129106,
          8.771680359010377,
          9.458371638798171,
          9.793840083231597,
          5.631211781821365,
          7.718685495198466,
          5.814130531825066,
          7.791522819150732,
          7.57353126274595,
          8.714403360703942,
          6.92461239604856,
          10.98823753521109,
          8.501470230951002,
          9.593628035139645,
          10.379690675149634,
          8.337827262447915,
          8.076515327552329,
          8.339978571990427,
          7.895436006942965,
          8.989943046329998,
          8.321907968230423,
          7.358830898342354,
          7.272398392570047,
          6.19644412779452,
          9.705828982731935,
          5.44673737166631,
          7.714677473800927,
          5.616771097666572,
          7.488293515159428,
          7.2485040723706105,
          9.590008925040337,
          7.061334366910438,
          6.234410725718371,
          6.1779441140506,
          7.896924656268864,
          10.686109739523676,
          4.189654742026425,
          7.860956364876389,
          8.34283980427146,
          8.151909872940905,
          6.489204931325317,
          10.87632873570067,
          8.039157390473237,
          7.893572073504902,
          9.382864086290027,
          9.884610496766438,
          4.564348191467836,
          8.333991247194975,
          7.939515260662406,
          5.393627546352362,
          6.349138991379798,
          6.687108607866515,
          7.090076835776092,
          6.63200177739563,
          6.732210706467206,
          7.8567067930958405,
          5.926926025970411,
          7.195187320178709,
          7.92588031673756,
          8.9595686535445,
          8.463792414689122,
          8.39660622842712,
          7.20934025660291,
          9.724420693462669,
          10.814403868072828,
          5.783825182329737,
          6.907755278982137,
          10.474156316370632,
          6.92951677076365,
          8.560635749259074,
          8.517593111437565,
          5.342334251964811,
          8.16223106548118,
          10.342870878847753,
          8.969414650866176,
          8.043342170441608,
          7.757051142032013,
          9.289243969571649,
          7.557472901614746,
          8.107418811719974,
          5.932245187448011,
          8.81195017753998,
          6.4967749901858625,
          7.493317248862145,
          5.771441123130016,
          7.667158255319148,
          8.052933036797567,
          4.143134726391533,
          10.9859196449752,
          8.274866820685254,
          7.499423290592229,
          9.040619097157967,
          6.234410725718371,
          7.149916836132109,
          9.004545458996587,
          3.970291913552122,
          8.019612794400267,
          8.286521373681236,
          6.483107351457199,
          8.3133619511344,
          9.528357644224037
         ]
        },
        {
         "line": {
          "color": "rgb(110, 50, 140)",
          "dash": "dot"
         },
         "mode": "lines",
         "name": "Predicted Attendance",
         "type": "scatter",
         "x": [
          0,
          1,
          2,
          3,
          4,
          5,
          6,
          7,
          8,
          9,
          10,
          11,
          12,
          13,
          14,
          15,
          16,
          17,
          18,
          19,
          20,
          21,
          22,
          23,
          24,
          25,
          26,
          27,
          28,
          29,
          30,
          31,
          32,
          33,
          34,
          35,
          36,
          37,
          38,
          39,
          40,
          41,
          42,
          43,
          44,
          45,
          46,
          47,
          48,
          49,
          50,
          51,
          52,
          53,
          54,
          55,
          56,
          57,
          58,
          59,
          60,
          61,
          62,
          63,
          64,
          65,
          66,
          67,
          68,
          69,
          70,
          71,
          72,
          73,
          74,
          75,
          76,
          77,
          78,
          79,
          80,
          81,
          82,
          83,
          84,
          85,
          86,
          87,
          88,
          89,
          90,
          91,
          92,
          93,
          94,
          95,
          96,
          97,
          98,
          99,
          100,
          101,
          102,
          103,
          104,
          105,
          106,
          107,
          108,
          109,
          110,
          111,
          112,
          113,
          114,
          115,
          116,
          117,
          118,
          119,
          120,
          121,
          122,
          123,
          124,
          125,
          126,
          127,
          128,
          129,
          130,
          131,
          132,
          133,
          134,
          135,
          136,
          137,
          138,
          139,
          140,
          141,
          142,
          143,
          144,
          145,
          146,
          147,
          148,
          149,
          150,
          151,
          152,
          153,
          154,
          155,
          156,
          157,
          158,
          159,
          160,
          161,
          162,
          163,
          164,
          165,
          166,
          167,
          168,
          169,
          170,
          171,
          172,
          173,
          174,
          175,
          176,
          177,
          178,
          179,
          180,
          181,
          182,
          183,
          184,
          185,
          186,
          187,
          188,
          189,
          190,
          191,
          192,
          193,
          194,
          195,
          196,
          197,
          198,
          199
         ],
         "y": [
          7.227922680720328,
          9.754595905665058,
          7.984555630532192,
          6.850182546882684,
          7.510869037296732,
          8.06523681777477,
          5.9200271109019145,
          7.891104390729658,
          7.454090024662866,
          8.39955993015178,
          6.862525523688973,
          7.4913743502641825,
          6.947872188216975,
          6.524758526063688,
          7.484408961322496,
          7.490803468510841,
          5.868811178993797,
          6.303000038396195,
          9.625852342797877,
          8.870600837591919,
          7.077331728497084,
          7.9625892347965745,
          7.160273394817913,
          6.636274279572007,
          6.694283429759458,
          7.827992060160009,
          7.253818180014935,
          7.743305277657101,
          8.163238323723423,
          8.75260202984446,
          6.63524953208495,
          8.39279240283316,
          9.107659901300453,
          8.781498377563574,
          7.3288972190453645,
          8.608964177085792,
          6.308205135904064,
          8.12992129611748,
          7.548796901360947,
          11.035478669298008,
          7.453193652327728,
          9.583814873911482,
          8.862469925238505,
          7.853794696247891,
          9.680615504666486,
          9.679065403049833,
          6.7867486921438225,
          7.0471362296600075,
          7.256619042596649,
          7.131660541752336,
          8.509082368649066,
          8.647572768564746,
          7.922159017731184,
          9.780124869067384,
          8.255675839529138,
          8.46799895372703,
          10.558264147982367,
          8.176634467328116,
          7.033269865165266,
          7.848117068381422,
          8.840774211360714,
          8.029227584599068,
          7.382226663051389,
          7.856376802134903,
          6.828358218597035,
          8.09494030926721,
          9.309356647905865,
          6.70609121861351,
          9.880739047974078,
          6.54658283307558,
          9.766015338890348,
          8.844652311582232,
          8.36742590841547,
          9.36922789855285,
          6.293669912815896,
          6.0297651497872575,
          8.476752035406067,
          9.634243397029957,
          5.782111130125037,
          6.490603945826335,
          6.968019364652465,
          8.686236480664677,
          6.5495097415552825,
          10.75867056550791,
          5.9271874857670195,
          9.074177579859791,
          7.876668682651367,
          9.101167871659543,
          5.51796640290656,
          8.223757157071896,
          7.843944693339507,
          5.953214214310432,
          8.631908377205711,
          7.679056594054447,
          7.218464677933862,
          6.644012939808769,
          6.701815485383344,
          6.366964887705903,
          6.479029668955269,
          6.468696728591132,
          7.626834349815911,
          9.297309482938282,
          7.3845282569291255,
          7.321690355039149,
          7.886249526867931,
          9.137048876325206,
          10.138107133047534,
          6.70086326444045,
          7.509832253422817,
          9.94614650219982,
          7.308968048963361,
          7.670356853657387,
          8.62820156279401,
          6.7382642284611425,
          8.852317313994241,
          10.734821564672181,
          8.200158425030141,
          7.238442877488661,
          8.29299278707914,
          9.39689437710448,
          8.7312991563038,
          7.859881055177109,
          6.141391754898688,
          7.908109594014083,
          7.390775203180856,
          8.236829533969713,
          6.329410389973433,
          7.774648354270772,
          7.0122904540081255,
          7.029209097036569,
          9.974834579134935,
          7.116221376974804,
          6.814195429344451,
          7.19448550290784,
          5.771709345383141,
          8.64382520343391,
          7.865967273801877,
          6.1690930594986195,
          9.81213528892762,
          9.370443664903028,
          6.0857318731267425,
          7.698087874266752,
          9.368400951094783
         ]
        }
       ],
       "layout": {
        "template": {
         "data": {
          "bar": [
           {
            "error_x": {
             "color": "#2a3f5f"
            },
            "error_y": {
             "color": "#2a3f5f"
            },
            "marker": {
             "line": {
              "color": "#E5ECF6",
              "width": 0.5
             },
             "pattern": {
              "fillmode": "overlay",
              "size": 10,
              "solidity": 0.2
             }
            },
            "type": "bar"
           }
          ],
          "barpolar": [
           {
            "marker": {
             "line": {
              "color": "#E5ECF6",
              "width": 0.5
             },
             "pattern": {
              "fillmode": "overlay",
              "size": 10,
              "solidity": 0.2
             }
            },
            "type": "barpolar"
           }
          ],
          "carpet": [
           {
            "aaxis": {
             "endlinecolor": "#2a3f5f",
             "gridcolor": "white",
             "linecolor": "white",
             "minorgridcolor": "white",
             "startlinecolor": "#2a3f5f"
            },
            "baxis": {
             "endlinecolor": "#2a3f5f",
             "gridcolor": "white",
             "linecolor": "white",
             "minorgridcolor": "white",
             "startlinecolor": "#2a3f5f"
            },
            "type": "carpet"
           }
          ],
          "choropleth": [
           {
            "colorbar": {
             "outlinewidth": 0,
             "ticks": ""
            },
            "type": "choropleth"
           }
          ],
          "contour": [
           {
            "colorbar": {
             "outlinewidth": 0,
             "ticks": ""
            },
            "colorscale": [
             [
              0,
              "#0d0887"
             ],
             [
              0.1111111111111111,
              "#46039f"
             ],
             [
              0.2222222222222222,
              "#7201a8"
             ],
             [
              0.3333333333333333,
              "#9c179e"
             ],
             [
              0.4444444444444444,
              "#bd3786"
             ],
             [
              0.5555555555555556,
              "#d8576b"
             ],
             [
              0.6666666666666666,
              "#ed7953"
             ],
             [
              0.7777777777777778,
              "#fb9f3a"
             ],
             [
              0.8888888888888888,
              "#fdca26"
             ],
             [
              1,
              "#f0f921"
             ]
            ],
            "type": "contour"
           }
          ],
          "contourcarpet": [
           {
            "colorbar": {
             "outlinewidth": 0,
             "ticks": ""
            },
            "type": "contourcarpet"
           }
          ],
          "heatmap": [
           {
            "colorbar": {
             "outlinewidth": 0,
             "ticks": ""
            },
            "colorscale": [
             [
              0,
              "#0d0887"
             ],
             [
              0.1111111111111111,
              "#46039f"
             ],
             [
              0.2222222222222222,
              "#7201a8"
             ],
             [
              0.3333333333333333,
              "#9c179e"
             ],
             [
              0.4444444444444444,
              "#bd3786"
             ],
             [
              0.5555555555555556,
              "#d8576b"
             ],
             [
              0.6666666666666666,
              "#ed7953"
             ],
             [
              0.7777777777777778,
              "#fb9f3a"
             ],
             [
              0.8888888888888888,
              "#fdca26"
             ],
             [
              1,
              "#f0f921"
             ]
            ],
            "type": "heatmap"
           }
          ],
          "heatmapgl": [
           {
            "colorbar": {
             "outlinewidth": 0,
             "ticks": ""
            },
            "colorscale": [
             [
              0,
              "#0d0887"
             ],
             [
              0.1111111111111111,
              "#46039f"
             ],
             [
              0.2222222222222222,
              "#7201a8"
             ],
             [
              0.3333333333333333,
              "#9c179e"
             ],
             [
              0.4444444444444444,
              "#bd3786"
             ],
             [
              0.5555555555555556,
              "#d8576b"
             ],
             [
              0.6666666666666666,
              "#ed7953"
             ],
             [
              0.7777777777777778,
              "#fb9f3a"
             ],
             [
              0.8888888888888888,
              "#fdca26"
             ],
             [
              1,
              "#f0f921"
             ]
            ],
            "type": "heatmapgl"
           }
          ],
          "histogram": [
           {
            "marker": {
             "pattern": {
              "fillmode": "overlay",
              "size": 10,
              "solidity": 0.2
             }
            },
            "type": "histogram"
           }
          ],
          "histogram2d": [
           {
            "colorbar": {
             "outlinewidth": 0,
             "ticks": ""
            },
            "colorscale": [
             [
              0,
              "#0d0887"
             ],
             [
              0.1111111111111111,
              "#46039f"
             ],
             [
              0.2222222222222222,
              "#7201a8"
             ],
             [
              0.3333333333333333,
              "#9c179e"
             ],
             [
              0.4444444444444444,
              "#bd3786"
             ],
             [
              0.5555555555555556,
              "#d8576b"
             ],
             [
              0.6666666666666666,
              "#ed7953"
             ],
             [
              0.7777777777777778,
              "#fb9f3a"
             ],
             [
              0.8888888888888888,
              "#fdca26"
             ],
             [
              1,
              "#f0f921"
             ]
            ],
            "type": "histogram2d"
           }
          ],
          "histogram2dcontour": [
           {
            "colorbar": {
             "outlinewidth": 0,
             "ticks": ""
            },
            "colorscale": [
             [
              0,
              "#0d0887"
             ],
             [
              0.1111111111111111,
              "#46039f"
             ],
             [
              0.2222222222222222,
              "#7201a8"
             ],
             [
              0.3333333333333333,
              "#9c179e"
             ],
             [
              0.4444444444444444,
              "#bd3786"
             ],
             [
              0.5555555555555556,
              "#d8576b"
             ],
             [
              0.6666666666666666,
              "#ed7953"
             ],
             [
              0.7777777777777778,
              "#fb9f3a"
             ],
             [
              0.8888888888888888,
              "#fdca26"
             ],
             [
              1,
              "#f0f921"
             ]
            ],
            "type": "histogram2dcontour"
           }
          ],
          "mesh3d": [
           {
            "colorbar": {
             "outlinewidth": 0,
             "ticks": ""
            },
            "type": "mesh3d"
           }
          ],
          "parcoords": [
           {
            "line": {
             "colorbar": {
              "outlinewidth": 0,
              "ticks": ""
             }
            },
            "type": "parcoords"
           }
          ],
          "pie": [
           {
            "automargin": true,
            "type": "pie"
           }
          ],
          "scatter": [
           {
            "fillpattern": {
             "fillmode": "overlay",
             "size": 10,
             "solidity": 0.2
            },
            "type": "scatter"
           }
          ],
          "scatter3d": [
           {
            "line": {
             "colorbar": {
              "outlinewidth": 0,
              "ticks": ""
             }
            },
            "marker": {
             "colorbar": {
              "outlinewidth": 0,
              "ticks": ""
             }
            },
            "type": "scatter3d"
           }
          ],
          "scattercarpet": [
           {
            "marker": {
             "colorbar": {
              "outlinewidth": 0,
              "ticks": ""
             }
            },
            "type": "scattercarpet"
           }
          ],
          "scattergeo": [
           {
            "marker": {
             "colorbar": {
              "outlinewidth": 0,
              "ticks": ""
             }
            },
            "type": "scattergeo"
           }
          ],
          "scattergl": [
           {
            "marker": {
             "colorbar": {
              "outlinewidth": 0,
              "ticks": ""
             }
            },
            "type": "scattergl"
           }
          ],
          "scattermapbox": [
           {
            "marker": {
             "colorbar": {
              "outlinewidth": 0,
              "ticks": ""
             }
            },
            "type": "scattermapbox"
           }
          ],
          "scatterpolar": [
           {
            "marker": {
             "colorbar": {
              "outlinewidth": 0,
              "ticks": ""
             }
            },
            "type": "scatterpolar"
           }
          ],
          "scatterpolargl": [
           {
            "marker": {
             "colorbar": {
              "outlinewidth": 0,
              "ticks": ""
             }
            },
            "type": "scatterpolargl"
           }
          ],
          "scatterternary": [
           {
            "marker": {
             "colorbar": {
              "outlinewidth": 0,
              "ticks": ""
             }
            },
            "type": "scatterternary"
           }
          ],
          "surface": [
           {
            "colorbar": {
             "outlinewidth": 0,
             "ticks": ""
            },
            "colorscale": [
             [
              0,
              "#0d0887"
             ],
             [
              0.1111111111111111,
              "#46039f"
             ],
             [
              0.2222222222222222,
              "#7201a8"
             ],
             [
              0.3333333333333333,
              "#9c179e"
             ],
             [
              0.4444444444444444,
              "#bd3786"
             ],
             [
              0.5555555555555556,
              "#d8576b"
             ],
             [
              0.6666666666666666,
              "#ed7953"
             ],
             [
              0.7777777777777778,
              "#fb9f3a"
             ],
             [
              0.8888888888888888,
              "#fdca26"
             ],
             [
              1,
              "#f0f921"
             ]
            ],
            "type": "surface"
           }
          ],
          "table": [
           {
            "cells": {
             "fill": {
              "color": "#EBF0F8"
             },
             "line": {
              "color": "white"
             }
            },
            "header": {
             "fill": {
              "color": "#C8D4E3"
             },
             "line": {
              "color": "white"
             }
            },
            "type": "table"
           }
          ]
         },
         "layout": {
          "annotationdefaults": {
           "arrowcolor": "#2a3f5f",
           "arrowhead": 0,
           "arrowwidth": 1
          },
          "autotypenumbers": "strict",
          "coloraxis": {
           "colorbar": {
            "outlinewidth": 0,
            "ticks": ""
           }
          },
          "colorscale": {
           "diverging": [
            [
             0,
             "#8e0152"
            ],
            [
             0.1,
             "#c51b7d"
            ],
            [
             0.2,
             "#de77ae"
            ],
            [
             0.3,
             "#f1b6da"
            ],
            [
             0.4,
             "#fde0ef"
            ],
            [
             0.5,
             "#f7f7f7"
            ],
            [
             0.6,
             "#e6f5d0"
            ],
            [
             0.7,
             "#b8e186"
            ],
            [
             0.8,
             "#7fbc41"
            ],
            [
             0.9,
             "#4d9221"
            ],
            [
             1,
             "#276419"
            ]
           ],
           "sequential": [
            [
             0,
             "#0d0887"
            ],
            [
             0.1111111111111111,
             "#46039f"
            ],
            [
             0.2222222222222222,
             "#7201a8"
            ],
            [
             0.3333333333333333,
             "#9c179e"
            ],
            [
             0.4444444444444444,
             "#bd3786"
            ],
            [
             0.5555555555555556,
             "#d8576b"
            ],
            [
             0.6666666666666666,
             "#ed7953"
            ],
            [
             0.7777777777777778,
             "#fb9f3a"
            ],
            [
             0.8888888888888888,
             "#fdca26"
            ],
            [
             1,
             "#f0f921"
            ]
           ],
           "sequentialminus": [
            [
             0,
             "#0d0887"
            ],
            [
             0.1111111111111111,
             "#46039f"
            ],
            [
             0.2222222222222222,
             "#7201a8"
            ],
            [
             0.3333333333333333,
             "#9c179e"
            ],
            [
             0.4444444444444444,
             "#bd3786"
            ],
            [
             0.5555555555555556,
             "#d8576b"
            ],
            [
             0.6666666666666666,
             "#ed7953"
            ],
            [
             0.7777777777777778,
             "#fb9f3a"
            ],
            [
             0.8888888888888888,
             "#fdca26"
            ],
            [
             1,
             "#f0f921"
            ]
           ]
          },
          "colorway": [
           "#636efa",
           "#EF553B",
           "#00cc96",
           "#ab63fa",
           "#FFA15A",
           "#19d3f3",
           "#FF6692",
           "#B6E880",
           "#FF97FF",
           "#FECB52"
          ],
          "font": {
           "color": "#2a3f5f"
          },
          "geo": {
           "bgcolor": "white",
           "lakecolor": "white",
           "landcolor": "#E5ECF6",
           "showlakes": true,
           "showland": true,
           "subunitcolor": "white"
          },
          "hoverlabel": {
           "align": "left"
          },
          "hovermode": "closest",
          "mapbox": {
           "style": "light"
          },
          "paper_bgcolor": "white",
          "plot_bgcolor": "#E5ECF6",
          "polar": {
           "angularaxis": {
            "gridcolor": "white",
            "linecolor": "white",
            "ticks": ""
           },
           "bgcolor": "#E5ECF6",
           "radialaxis": {
            "gridcolor": "white",
            "linecolor": "white",
            "ticks": ""
           }
          },
          "scene": {
           "xaxis": {
            "backgroundcolor": "#E5ECF6",
            "gridcolor": "white",
            "gridwidth": 2,
            "linecolor": "white",
            "showbackground": true,
            "ticks": "",
            "zerolinecolor": "white"
           },
           "yaxis": {
            "backgroundcolor": "#E5ECF6",
            "gridcolor": "white",
            "gridwidth": 2,
            "linecolor": "white",
            "showbackground": true,
            "ticks": "",
            "zerolinecolor": "white"
           },
           "zaxis": {
            "backgroundcolor": "#E5ECF6",
            "gridcolor": "white",
            "gridwidth": 2,
            "linecolor": "white",
            "showbackground": true,
            "ticks": "",
            "zerolinecolor": "white"
           }
          },
          "shapedefaults": {
           "line": {
            "color": "#2a3f5f"
           }
          },
          "ternary": {
           "aaxis": {
            "gridcolor": "white",
            "linecolor": "white",
            "ticks": ""
           },
           "baxis": {
            "gridcolor": "white",
            "linecolor": "white",
            "ticks": ""
           },
           "bgcolor": "#E5ECF6",
           "caxis": {
            "gridcolor": "white",
            "linecolor": "white",
            "ticks": ""
           }
          },
          "title": {
           "x": 0.05
          },
          "xaxis": {
           "automargin": true,
           "gridcolor": "white",
           "linecolor": "white",
           "ticks": "",
           "title": {
            "standoff": 15
           },
           "zerolinecolor": "white",
           "zerolinewidth": 2
          },
          "yaxis": {
           "automargin": true,
           "gridcolor": "white",
           "linecolor": "white",
           "ticks": "",
           "title": {
            "standoff": 15
           },
           "zerolinecolor": "white",
           "zerolinewidth": 2
          }
         }
        },
        "xaxis": {
         "title": {
          "text": "Index"
         }
        },
        "yaxis": {
         "title": {
          "text": "Attendance"
         }
        }
       }
      },
      "text/html": [
       "<div>                            <div id=\"be3d4ca2-f42c-4016-8af8-95060bcc8681\" class=\"plotly-graph-div\" style=\"height:525px; width:100%;\"></div>            <script type=\"text/javascript\">                require([\"plotly\"], function(Plotly) {                    window.PLOTLYENV=window.PLOTLYENV || {};                                    if (document.getElementById(\"be3d4ca2-f42c-4016-8af8-95060bcc8681\")) {                    Plotly.newPlot(                        \"be3d4ca2-f42c-4016-8af8-95060bcc8681\",                        [{\"marker\":{\"color\":\"rgb(10, 150, 50)\"},\"mode\":\"lines\",\"name\":\"Actual Attendance\",\"x\":[0,1,2,3,4,5,6,7,8,9,10,11,12,13,14,15,16,17,18,19,20,21,22,23,24,25,26,27,28,29,30,31,32,33,34,35,36,37,38,39,40,41,42,43,44,45,46,47,48,49,50,51,52,53,54,55,56,57,58,59,60,61,62,63,64,65,66,67,68,69,70,71,72,73,74,75,76,77,78,79,80,81,82,83,84,85,86,87,88,89,90,91,92,93,94,95,96,97,98,99,100,101,102,103,104,105,106,107,108,109,110,111,112,113,114,115,116,117,118,119,120,121,122,123,124,125,126,127,128,129,130,131,132,133,134,135,136,137,138,139,140,141,142,143,144,145,146,147,148,149,150,151,152,153,154,155,156,157,158,159,160,161,162,163,164,165,166,167,168,169,170,171,172,173,174,175,176,177,178,179,180,181,182,183,184,185,186,187,188,189,190,191,192,193,194,195,196,197,198,199],\"y\":[6.96979066990159,9.84882015119382,9.419303859716559,7.1929342212158,6.09807428216624,8.669055540725484,6.416732282512326,7.729735331385051,7.275172319452771,8.85352256068954,7.707512194600341,9.264828557260252,8.292298107063221,6.470799503782602,6.263398262591624,8.51699317141357,5.75890177387728,7.969703583278656,10.258781543397928,8.973731569708402,6.226536669287466,7.371489295214277,5.768320995793772,5.8888779583328805,6.9584483932976555,8.9005490139363,9.113719333371757,9.68502054910582,9.078407700715356,9.057771773331575,4.634728988229636,6.834108738813838,7.284820912568604,8.294549515143679,7.851661177889265,9.640237896224932,6.796823718274855,7.964503363551548,8.54714026778419,9.1689974084418,9.712871692917354,9.811920359010637,9.338645632129106,8.771680359010377,9.458371638798171,9.793840083231597,5.631211781821365,7.718685495198466,5.814130531825066,7.791522819150732,7.57353126274595,8.714403360703942,6.92461239604856,10.98823753521109,8.501470230951002,9.593628035139645,10.379690675149634,8.337827262447915,8.076515327552329,8.339978571990427,7.895436006942965,8.989943046329998,8.321907968230423,7.358830898342354,7.272398392570047,6.19644412779452,9.705828982731935,5.44673737166631,7.714677473800927,5.616771097666572,7.488293515159428,7.2485040723706105,9.590008925040337,7.061334366910438,6.234410725718371,6.1779441140506,7.896924656268864,10.686109739523676,4.189654742026425,7.860956364876389,8.34283980427146,8.151909872940905,6.489204931325317,10.87632873570067,8.039157390473237,7.893572073504902,9.382864086290027,9.884610496766438,4.564348191467836,8.333991247194975,7.939515260662406,5.393627546352362,6.349138991379798,6.687108607866515,7.090076835776092,6.63200177739563,6.732210706467206,7.8567067930958405,5.926926025970411,7.195187320178709,7.92588031673756,8.9595686535445,8.463792414689122,8.39660622842712,7.20934025660291,9.724420693462669,10.814403868072828,5.783825182329737,6.907755278982137,10.474156316370632,6.92951677076365,8.560635749259074,8.517593111437565,5.342334251964811,8.16223106548118,10.342870878847753,8.969414650866176,8.043342170441608,7.757051142032013,9.289243969571649,7.557472901614746,8.107418811719974,5.932245187448011,8.81195017753998,6.4967749901858625,7.493317248862145,5.771441123130016,7.667158255319148,8.052933036797567,4.143134726391533,10.9859196449752,8.274866820685254,7.499423290592229,9.040619097157967,6.234410725718371,7.149916836132109,9.004545458996587,3.970291913552122,8.019612794400267,8.286521373681236,6.483107351457199,8.3133619511344,9.528357644224037],\"type\":\"scatter\"},{\"line\":{\"color\":\"rgb(110, 50, 140)\",\"dash\":\"dot\"},\"mode\":\"lines\",\"name\":\"Predicted Attendance\",\"x\":[0,1,2,3,4,5,6,7,8,9,10,11,12,13,14,15,16,17,18,19,20,21,22,23,24,25,26,27,28,29,30,31,32,33,34,35,36,37,38,39,40,41,42,43,44,45,46,47,48,49,50,51,52,53,54,55,56,57,58,59,60,61,62,63,64,65,66,67,68,69,70,71,72,73,74,75,76,77,78,79,80,81,82,83,84,85,86,87,88,89,90,91,92,93,94,95,96,97,98,99,100,101,102,103,104,105,106,107,108,109,110,111,112,113,114,115,116,117,118,119,120,121,122,123,124,125,126,127,128,129,130,131,132,133,134,135,136,137,138,139,140,141,142,143,144,145,146,147,148,149,150,151,152,153,154,155,156,157,158,159,160,161,162,163,164,165,166,167,168,169,170,171,172,173,174,175,176,177,178,179,180,181,182,183,184,185,186,187,188,189,190,191,192,193,194,195,196,197,198,199],\"y\":[7.227922680720328,9.754595905665058,7.984555630532192,6.850182546882684,7.510869037296732,8.06523681777477,5.9200271109019145,7.891104390729658,7.454090024662866,8.39955993015178,6.862525523688973,7.4913743502641825,6.947872188216975,6.524758526063688,7.484408961322496,7.490803468510841,5.868811178993797,6.303000038396195,9.625852342797877,8.870600837591919,7.077331728497084,7.9625892347965745,7.160273394817913,6.636274279572007,6.694283429759458,7.827992060160009,7.253818180014935,7.743305277657101,8.163238323723423,8.75260202984446,6.63524953208495,8.39279240283316,9.107659901300453,8.781498377563574,7.3288972190453645,8.608964177085792,6.308205135904064,8.12992129611748,7.548796901360947,11.035478669298008,7.453193652327728,9.583814873911482,8.862469925238505,7.853794696247891,9.680615504666486,9.679065403049833,6.7867486921438225,7.0471362296600075,7.256619042596649,7.131660541752336,8.509082368649066,8.647572768564746,7.922159017731184,9.780124869067384,8.255675839529138,8.46799895372703,10.558264147982367,8.176634467328116,7.033269865165266,7.848117068381422,8.840774211360714,8.029227584599068,7.382226663051389,7.856376802134903,6.828358218597035,8.09494030926721,9.309356647905865,6.70609121861351,9.880739047974078,6.54658283307558,9.766015338890348,8.844652311582232,8.36742590841547,9.36922789855285,6.293669912815896,6.0297651497872575,8.476752035406067,9.634243397029957,5.782111130125037,6.490603945826335,6.968019364652465,8.686236480664677,6.5495097415552825,10.75867056550791,5.9271874857670195,9.074177579859791,7.876668682651367,9.101167871659543,5.51796640290656,8.223757157071896,7.843944693339507,5.953214214310432,8.631908377205711,7.679056594054447,7.218464677933862,6.644012939808769,6.701815485383344,6.366964887705903,6.479029668955269,6.468696728591132,7.626834349815911,9.297309482938282,7.3845282569291255,7.321690355039149,7.886249526867931,9.137048876325206,10.138107133047534,6.70086326444045,7.509832253422817,9.94614650219982,7.308968048963361,7.670356853657387,8.62820156279401,6.7382642284611425,8.852317313994241,10.734821564672181,8.200158425030141,7.238442877488661,8.29299278707914,9.39689437710448,8.7312991563038,7.859881055177109,6.141391754898688,7.908109594014083,7.390775203180856,8.236829533969713,6.329410389973433,7.774648354270772,7.0122904540081255,7.029209097036569,9.974834579134935,7.116221376974804,6.814195429344451,7.19448550290784,5.771709345383141,8.64382520343391,7.865967273801877,6.1690930594986195,9.81213528892762,9.370443664903028,6.0857318731267425,7.698087874266752,9.368400951094783],\"type\":\"scatter\"}],                        {\"template\":{\"data\":{\"barpolar\":[{\"marker\":{\"line\":{\"color\":\"#E5ECF6\",\"width\":0.5},\"pattern\":{\"fillmode\":\"overlay\",\"size\":10,\"solidity\":0.2}},\"type\":\"barpolar\"}],\"bar\":[{\"error_x\":{\"color\":\"#2a3f5f\"},\"error_y\":{\"color\":\"#2a3f5f\"},\"marker\":{\"line\":{\"color\":\"#E5ECF6\",\"width\":0.5},\"pattern\":{\"fillmode\":\"overlay\",\"size\":10,\"solidity\":0.2}},\"type\":\"bar\"}],\"carpet\":[{\"aaxis\":{\"endlinecolor\":\"#2a3f5f\",\"gridcolor\":\"white\",\"linecolor\":\"white\",\"minorgridcolor\":\"white\",\"startlinecolor\":\"#2a3f5f\"},\"baxis\":{\"endlinecolor\":\"#2a3f5f\",\"gridcolor\":\"white\",\"linecolor\":\"white\",\"minorgridcolor\":\"white\",\"startlinecolor\":\"#2a3f5f\"},\"type\":\"carpet\"}],\"choropleth\":[{\"colorbar\":{\"outlinewidth\":0,\"ticks\":\"\"},\"type\":\"choropleth\"}],\"contourcarpet\":[{\"colorbar\":{\"outlinewidth\":0,\"ticks\":\"\"},\"type\":\"contourcarpet\"}],\"contour\":[{\"colorbar\":{\"outlinewidth\":0,\"ticks\":\"\"},\"colorscale\":[[0.0,\"#0d0887\"],[0.1111111111111111,\"#46039f\"],[0.2222222222222222,\"#7201a8\"],[0.3333333333333333,\"#9c179e\"],[0.4444444444444444,\"#bd3786\"],[0.5555555555555556,\"#d8576b\"],[0.6666666666666666,\"#ed7953\"],[0.7777777777777778,\"#fb9f3a\"],[0.8888888888888888,\"#fdca26\"],[1.0,\"#f0f921\"]],\"type\":\"contour\"}],\"heatmapgl\":[{\"colorbar\":{\"outlinewidth\":0,\"ticks\":\"\"},\"colorscale\":[[0.0,\"#0d0887\"],[0.1111111111111111,\"#46039f\"],[0.2222222222222222,\"#7201a8\"],[0.3333333333333333,\"#9c179e\"],[0.4444444444444444,\"#bd3786\"],[0.5555555555555556,\"#d8576b\"],[0.6666666666666666,\"#ed7953\"],[0.7777777777777778,\"#fb9f3a\"],[0.8888888888888888,\"#fdca26\"],[1.0,\"#f0f921\"]],\"type\":\"heatmapgl\"}],\"heatmap\":[{\"colorbar\":{\"outlinewidth\":0,\"ticks\":\"\"},\"colorscale\":[[0.0,\"#0d0887\"],[0.1111111111111111,\"#46039f\"],[0.2222222222222222,\"#7201a8\"],[0.3333333333333333,\"#9c179e\"],[0.4444444444444444,\"#bd3786\"],[0.5555555555555556,\"#d8576b\"],[0.6666666666666666,\"#ed7953\"],[0.7777777777777778,\"#fb9f3a\"],[0.8888888888888888,\"#fdca26\"],[1.0,\"#f0f921\"]],\"type\":\"heatmap\"}],\"histogram2dcontour\":[{\"colorbar\":{\"outlinewidth\":0,\"ticks\":\"\"},\"colorscale\":[[0.0,\"#0d0887\"],[0.1111111111111111,\"#46039f\"],[0.2222222222222222,\"#7201a8\"],[0.3333333333333333,\"#9c179e\"],[0.4444444444444444,\"#bd3786\"],[0.5555555555555556,\"#d8576b\"],[0.6666666666666666,\"#ed7953\"],[0.7777777777777778,\"#fb9f3a\"],[0.8888888888888888,\"#fdca26\"],[1.0,\"#f0f921\"]],\"type\":\"histogram2dcontour\"}],\"histogram2d\":[{\"colorbar\":{\"outlinewidth\":0,\"ticks\":\"\"},\"colorscale\":[[0.0,\"#0d0887\"],[0.1111111111111111,\"#46039f\"],[0.2222222222222222,\"#7201a8\"],[0.3333333333333333,\"#9c179e\"],[0.4444444444444444,\"#bd3786\"],[0.5555555555555556,\"#d8576b\"],[0.6666666666666666,\"#ed7953\"],[0.7777777777777778,\"#fb9f3a\"],[0.8888888888888888,\"#fdca26\"],[1.0,\"#f0f921\"]],\"type\":\"histogram2d\"}],\"histogram\":[{\"marker\":{\"pattern\":{\"fillmode\":\"overlay\",\"size\":10,\"solidity\":0.2}},\"type\":\"histogram\"}],\"mesh3d\":[{\"colorbar\":{\"outlinewidth\":0,\"ticks\":\"\"},\"type\":\"mesh3d\"}],\"parcoords\":[{\"line\":{\"colorbar\":{\"outlinewidth\":0,\"ticks\":\"\"}},\"type\":\"parcoords\"}],\"pie\":[{\"automargin\":true,\"type\":\"pie\"}],\"scatter3d\":[{\"line\":{\"colorbar\":{\"outlinewidth\":0,\"ticks\":\"\"}},\"marker\":{\"colorbar\":{\"outlinewidth\":0,\"ticks\":\"\"}},\"type\":\"scatter3d\"}],\"scattercarpet\":[{\"marker\":{\"colorbar\":{\"outlinewidth\":0,\"ticks\":\"\"}},\"type\":\"scattercarpet\"}],\"scattergeo\":[{\"marker\":{\"colorbar\":{\"outlinewidth\":0,\"ticks\":\"\"}},\"type\":\"scattergeo\"}],\"scattergl\":[{\"marker\":{\"colorbar\":{\"outlinewidth\":0,\"ticks\":\"\"}},\"type\":\"scattergl\"}],\"scattermapbox\":[{\"marker\":{\"colorbar\":{\"outlinewidth\":0,\"ticks\":\"\"}},\"type\":\"scattermapbox\"}],\"scatterpolargl\":[{\"marker\":{\"colorbar\":{\"outlinewidth\":0,\"ticks\":\"\"}},\"type\":\"scatterpolargl\"}],\"scatterpolar\":[{\"marker\":{\"colorbar\":{\"outlinewidth\":0,\"ticks\":\"\"}},\"type\":\"scatterpolar\"}],\"scatter\":[{\"fillpattern\":{\"fillmode\":\"overlay\",\"size\":10,\"solidity\":0.2},\"type\":\"scatter\"}],\"scatterternary\":[{\"marker\":{\"colorbar\":{\"outlinewidth\":0,\"ticks\":\"\"}},\"type\":\"scatterternary\"}],\"surface\":[{\"colorbar\":{\"outlinewidth\":0,\"ticks\":\"\"},\"colorscale\":[[0.0,\"#0d0887\"],[0.1111111111111111,\"#46039f\"],[0.2222222222222222,\"#7201a8\"],[0.3333333333333333,\"#9c179e\"],[0.4444444444444444,\"#bd3786\"],[0.5555555555555556,\"#d8576b\"],[0.6666666666666666,\"#ed7953\"],[0.7777777777777778,\"#fb9f3a\"],[0.8888888888888888,\"#fdca26\"],[1.0,\"#f0f921\"]],\"type\":\"surface\"}],\"table\":[{\"cells\":{\"fill\":{\"color\":\"#EBF0F8\"},\"line\":{\"color\":\"white\"}},\"header\":{\"fill\":{\"color\":\"#C8D4E3\"},\"line\":{\"color\":\"white\"}},\"type\":\"table\"}]},\"layout\":{\"annotationdefaults\":{\"arrowcolor\":\"#2a3f5f\",\"arrowhead\":0,\"arrowwidth\":1},\"autotypenumbers\":\"strict\",\"coloraxis\":{\"colorbar\":{\"outlinewidth\":0,\"ticks\":\"\"}},\"colorscale\":{\"diverging\":[[0,\"#8e0152\"],[0.1,\"#c51b7d\"],[0.2,\"#de77ae\"],[0.3,\"#f1b6da\"],[0.4,\"#fde0ef\"],[0.5,\"#f7f7f7\"],[0.6,\"#e6f5d0\"],[0.7,\"#b8e186\"],[0.8,\"#7fbc41\"],[0.9,\"#4d9221\"],[1,\"#276419\"]],\"sequential\":[[0.0,\"#0d0887\"],[0.1111111111111111,\"#46039f\"],[0.2222222222222222,\"#7201a8\"],[0.3333333333333333,\"#9c179e\"],[0.4444444444444444,\"#bd3786\"],[0.5555555555555556,\"#d8576b\"],[0.6666666666666666,\"#ed7953\"],[0.7777777777777778,\"#fb9f3a\"],[0.8888888888888888,\"#fdca26\"],[1.0,\"#f0f921\"]],\"sequentialminus\":[[0.0,\"#0d0887\"],[0.1111111111111111,\"#46039f\"],[0.2222222222222222,\"#7201a8\"],[0.3333333333333333,\"#9c179e\"],[0.4444444444444444,\"#bd3786\"],[0.5555555555555556,\"#d8576b\"],[0.6666666666666666,\"#ed7953\"],[0.7777777777777778,\"#fb9f3a\"],[0.8888888888888888,\"#fdca26\"],[1.0,\"#f0f921\"]]},\"colorway\":[\"#636efa\",\"#EF553B\",\"#00cc96\",\"#ab63fa\",\"#FFA15A\",\"#19d3f3\",\"#FF6692\",\"#B6E880\",\"#FF97FF\",\"#FECB52\"],\"font\":{\"color\":\"#2a3f5f\"},\"geo\":{\"bgcolor\":\"white\",\"lakecolor\":\"white\",\"landcolor\":\"#E5ECF6\",\"showlakes\":true,\"showland\":true,\"subunitcolor\":\"white\"},\"hoverlabel\":{\"align\":\"left\"},\"hovermode\":\"closest\",\"mapbox\":{\"style\":\"light\"},\"paper_bgcolor\":\"white\",\"plot_bgcolor\":\"#E5ECF6\",\"polar\":{\"angularaxis\":{\"gridcolor\":\"white\",\"linecolor\":\"white\",\"ticks\":\"\"},\"bgcolor\":\"#E5ECF6\",\"radialaxis\":{\"gridcolor\":\"white\",\"linecolor\":\"white\",\"ticks\":\"\"}},\"scene\":{\"xaxis\":{\"backgroundcolor\":\"#E5ECF6\",\"gridcolor\":\"white\",\"gridwidth\":2,\"linecolor\":\"white\",\"showbackground\":true,\"ticks\":\"\",\"zerolinecolor\":\"white\"},\"yaxis\":{\"backgroundcolor\":\"#E5ECF6\",\"gridcolor\":\"white\",\"gridwidth\":2,\"linecolor\":\"white\",\"showbackground\":true,\"ticks\":\"\",\"zerolinecolor\":\"white\"},\"zaxis\":{\"backgroundcolor\":\"#E5ECF6\",\"gridcolor\":\"white\",\"gridwidth\":2,\"linecolor\":\"white\",\"showbackground\":true,\"ticks\":\"\",\"zerolinecolor\":\"white\"}},\"shapedefaults\":{\"line\":{\"color\":\"#2a3f5f\"}},\"ternary\":{\"aaxis\":{\"gridcolor\":\"white\",\"linecolor\":\"white\",\"ticks\":\"\"},\"baxis\":{\"gridcolor\":\"white\",\"linecolor\":\"white\",\"ticks\":\"\"},\"bgcolor\":\"#E5ECF6\",\"caxis\":{\"gridcolor\":\"white\",\"linecolor\":\"white\",\"ticks\":\"\"}},\"title\":{\"x\":0.05},\"xaxis\":{\"automargin\":true,\"gridcolor\":\"white\",\"linecolor\":\"white\",\"ticks\":\"\",\"title\":{\"standoff\":15},\"zerolinecolor\":\"white\",\"zerolinewidth\":2},\"yaxis\":{\"automargin\":true,\"gridcolor\":\"white\",\"linecolor\":\"white\",\"ticks\":\"\",\"title\":{\"standoff\":15},\"zerolinecolor\":\"white\",\"zerolinewidth\":2}}},\"xaxis\":{\"title\":{\"text\":\"Index\"}},\"yaxis\":{\"title\":{\"text\":\"Attendance\"}}},                        {\"responsive\": true}                    ).then(function(){\n",
       "                            \n",
       "var gd = document.getElementById('be3d4ca2-f42c-4016-8af8-95060bcc8681');\n",
       "var x = new MutationObserver(function (mutations, observer) {{\n",
       "        var display = window.getComputedStyle(gd).display;\n",
       "        if (!display || display === 'none') {{\n",
       "            console.log([gd, 'removed!']);\n",
       "            Plotly.purge(gd);\n",
       "            observer.disconnect();\n",
       "        }}\n",
       "}});\n",
       "\n",
       "// Listen for the removal of the full notebook cells\n",
       "var notebookContainer = gd.closest('#notebook-container');\n",
       "if (notebookContainer) {{\n",
       "    x.observe(notebookContainer, {childList: true});\n",
       "}}\n",
       "\n",
       "// Listen for the clearing of the current output cell\n",
       "var outputEl = gd.closest('.output');\n",
       "if (outputEl) {{\n",
       "    x.observe(outputEl, {childList: true});\n",
       "}}\n",
       "\n",
       "                        })                };                });            </script>        </div>"
      ]
     },
     "metadata": {},
     "output_type": "display_data"
    }
   ],
   "source": [
    "trace0 = go.Scatter(\n",
    "    y = y_test,\n",
    "    x = np.arange(200), \n",
    "    mode = 'lines', \n",
    "    name = 'Actual Attendance',\n",
    "    marker = dict(\n",
    "    color = 'rgb(10, 150, 50)')\n",
    ")\n",
    "\n",
    "trace1 = go.Scatter(\n",
    "    y = y_pred,\n",
    "    x = np.arange(200), \n",
    "    mode = 'lines', \n",
    "    name = 'Predicted Attendance',\n",
    "    line = dict(\n",
    "        color = 'rgb(110, 50, 140)',\n",
    "        dash = 'dot'\n",
    "    )\n",
    ")\n",
    "\n",
    "\n",
    "layout = go.Layout(\n",
    "    xaxis = dict(title = 'Index'), \n",
    "    yaxis = dict(title = 'Attendance')\n",
    ")\n",
    "\n",
    "figure = go.Figure(data = [trace0, trace1], layout = layout)\n",
    "iplot(figure)"
   ]
  },
  {
   "cell_type": "markdown",
   "id": "7b153bc6",
   "metadata": {},
   "source": [
    "## XGBRegressor predictions"
   ]
  },
  {
   "cell_type": "code",
   "execution_count": 404,
   "id": "ec575a1b",
   "metadata": {
    "ExecuteTime": {
     "end_time": "2022-08-19T18:52:46.350605Z",
     "start_time": "2022-08-19T18:52:45.927221Z"
    }
   },
   "outputs": [
    {
     "name": "stdout",
     "output_type": "stream",
     "text": [
      "R2 Score Train:  0.9877758109095075\n"
     ]
    }
   ],
   "source": [
    "\n",
    "regr = xgb.XGBRegressor(\n",
    "                      #silent=False, \n",
    "                      #scale_pos_weight=1,\n",
    "                      learning_rate=0.1,  \n",
    "    tree_method='hist',\n",
    "                      #colsample_bytree = 0.4,\n",
    "#                      subsample = 0.8,\n",
    "                      objective='reg:squarederror', \n",
    "                      n_estimators=500, \n",
    "                     # reg_alpha = 0.3,\n",
    "                      max_depth=3\n",
    "   # ,                    gamma=10\n",
    ") \n",
    "\n",
    "\n",
    "regr.fit(X_train, y_train)\n",
    "y_pred = regr.predict(X_train)\n",
    "print(\"R2 Score Train: \", r2_score(y_train, y_pred))"
   ]
  },
  {
   "cell_type": "code",
   "execution_count": 405,
   "id": "0eca94aa",
   "metadata": {
    "ExecuteTime": {
     "end_time": "2022-08-19T18:52:46.690946Z",
     "start_time": "2022-08-19T18:52:46.686385Z"
    },
    "scrolled": true
   },
   "outputs": [
    {
     "name": "stdout",
     "output_type": "stream",
     "text": [
      "R2 Score Test:  0.7419709438752904\n"
     ]
    }
   ],
   "source": [
    "\n",
    "y_pred = regr.predict(X_test)\n",
    "print(\"R2 Score Test: \", r2_score(y_test, y_pred))\n"
   ]
  },
  {
   "cell_type": "code",
   "execution_count": 406,
   "id": "e4c5b776",
   "metadata": {},
   "outputs": [],
   "source": [
    "ser_result=pd.Series(y_pred)\n",
    "y_test_inverse=y_test.apply(math.exp)\n",
    "y_test_inverse=y_test_inverse.astype(int)\n",
    "y_pred=ser_result.apply(math.exp)\n",
    "y_pred=y_pred.astype(int)\n"
   ]
  },
  {
   "cell_type": "code",
   "execution_count": 407,
   "id": "4f90f989",
   "metadata": {},
   "outputs": [
    {
     "data": {
      "application/vnd.plotly.v1+json": {
       "config": {
        "linkText": "Export to plot.ly",
        "plotlyServerURL": "https://plot.ly",
        "showLink": false
       },
       "data": [
        {
         "marker": {
          "color": "rgb(10, 150, 50)"
         },
         "mode": "lines",
         "name": "Actual Attendance",
         "type": "scatter",
         "x": [
          0,
          1,
          2,
          3,
          4,
          5,
          6,
          7,
          8,
          9,
          10,
          11,
          12,
          13,
          14,
          15,
          16,
          17,
          18,
          19,
          20,
          21,
          22,
          23,
          24,
          25,
          26,
          27,
          28,
          29,
          30,
          31,
          32,
          33,
          34,
          35,
          36,
          37,
          38,
          39,
          40,
          41,
          42,
          43,
          44,
          45,
          46,
          47,
          48,
          49,
          50,
          51,
          52,
          53,
          54,
          55,
          56,
          57,
          58,
          59,
          60,
          61,
          62,
          63,
          64,
          65,
          66,
          67,
          68,
          69,
          70,
          71,
          72,
          73,
          74,
          75,
          76,
          77,
          78,
          79,
          80,
          81,
          82,
          83,
          84,
          85,
          86,
          87,
          88,
          89,
          90,
          91,
          92,
          93,
          94,
          95,
          96,
          97,
          98,
          99,
          100,
          101,
          102,
          103,
          104,
          105,
          106,
          107,
          108,
          109,
          110,
          111,
          112,
          113,
          114,
          115,
          116,
          117,
          118,
          119,
          120,
          121,
          122,
          123,
          124,
          125,
          126,
          127,
          128,
          129,
          130,
          131,
          132,
          133,
          134,
          135,
          136,
          137,
          138,
          139,
          140,
          141,
          142,
          143,
          144,
          145,
          146,
          147,
          148,
          149,
          150,
          151,
          152,
          153,
          154,
          155,
          156,
          157,
          158,
          159,
          160,
          161,
          162,
          163,
          164,
          165,
          166,
          167,
          168,
          169,
          170,
          171,
          172,
          173,
          174,
          175,
          176,
          177,
          178,
          179,
          180,
          181,
          182,
          183,
          184,
          185,
          186,
          187,
          188,
          189,
          190,
          191,
          192,
          193,
          194,
          195,
          196,
          197,
          198,
          199
         ],
         "y": [
          1064,
          18936,
          12324,
          1330,
          444,
          5820,
          612,
          2275,
          1443,
          6998,
          2225,
          10559,
          3992,
          646,
          524,
          4999,
          316,
          2892,
          28531,
          7892,
          506,
          1590,
          319,
          360,
          1052,
          7336,
          9078,
          16075,
          8763,
          8584,
          103,
          928,
          1458,
          4002,
          2569,
          15370,
          895,
          2876,
          5152,
          9595,
          16529,
          18249,
          11368,
          6448,
          12814,
          17922,
          278,
          2250,
          334,
          2419,
          1946,
          6089,
          1017,
          59174,
          4922,
          14671,
          32199,
          4178,
          3218,
          4187,
          2685,
          8021,
          4112,
          1569,
          1440,
          490,
          16412,
          231,
          2241,
          275,
          1786,
          1406,
          14617,
          1165,
          509,
          481,
          2688,
          43744,
          65,
          2594,
          4200,
          3470,
          658,
          52908,
          3099,
          2680,
          11883,
          19625,
          95,
          4162,
          2806,
          220,
          571,
          802,
          1200,
          759,
          838,
          2583,
          374,
          1333,
          2767,
          7782,
          4739,
          4431,
          1352,
          16720,
          49732,
          324,
          999,
          35388,
          1022,
          5221,
          5002,
          208,
          3506,
          31035,
          7859,
          3113,
          2337,
          10821,
          1914,
          3318,
          377,
          6714,
          663,
          1796,
          321,
          2137,
          3142,
          62,
          59037,
          3924,
          1807,
          8439,
          509,
          1274,
          8140,
          53,
          3039,
          3969,
          654,
          4077,
          13744
         ]
        },
        {
         "line": {
          "color": "rgb(110, 50, 140)",
          "dash": "dot"
         },
         "mode": "lines",
         "name": "Predicted Attendance",
         "type": "scatter",
         "x": [
          0,
          1,
          2,
          3,
          4,
          5,
          6,
          7,
          8,
          9,
          10,
          11,
          12,
          13,
          14,
          15,
          16,
          17,
          18,
          19,
          20,
          21,
          22,
          23,
          24,
          25,
          26,
          27,
          28,
          29,
          30,
          31,
          32,
          33,
          34,
          35,
          36,
          37,
          38,
          39,
          40,
          41,
          42,
          43,
          44,
          45,
          46,
          47,
          48,
          49,
          50,
          51,
          52,
          53,
          54,
          55,
          56,
          57,
          58,
          59,
          60,
          61,
          62,
          63,
          64,
          65,
          66,
          67,
          68,
          69,
          70,
          71,
          72,
          73,
          74,
          75,
          76,
          77,
          78,
          79,
          80,
          81,
          82,
          83,
          84,
          85,
          86,
          87,
          88,
          89,
          90,
          91,
          92,
          93,
          94,
          95,
          96,
          97,
          98,
          99,
          100,
          101,
          102,
          103,
          104,
          105,
          106,
          107,
          108,
          109,
          110,
          111,
          112,
          113,
          114,
          115,
          116,
          117,
          118,
          119,
          120,
          121,
          122,
          123,
          124,
          125,
          126,
          127,
          128,
          129,
          130,
          131,
          132,
          133,
          134,
          135,
          136,
          137,
          138,
          139,
          140,
          141,
          142,
          143,
          144,
          145,
          146,
          147,
          148,
          149,
          150,
          151,
          152,
          153,
          154,
          155,
          156,
          157,
          158,
          159,
          160,
          161,
          162,
          163,
          164,
          165,
          166,
          167,
          168,
          169,
          170,
          171,
          172,
          173,
          174,
          175,
          176,
          177,
          178,
          179,
          180,
          181,
          182,
          183,
          184,
          185,
          186,
          187,
          188,
          189,
          190,
          191,
          192,
          193,
          194,
          195,
          196,
          197,
          198,
          199
         ],
         "y": [
          949,
          21523,
          13267,
          1448,
          389,
          4865,
          514,
          1182,
          979,
          4672,
          847,
          5549,
          2963,
          726,
          1915,
          2304,
          238,
          1439,
          22888,
          15327,
          752,
          1446,
          688,
          421,
          577,
          3839,
          5047,
          6320,
          4276,
          20297,
          348,
          1529,
          2643,
          6393,
          274,
          14304,
          857,
          4852,
          2481,
          28195,
          7045,
          9604,
          9305,
          5432,
          4811,
          17966,
          496,
          2525,
          1455,
          2516,
          1988,
          8914,
          1200,
          15163,
          4941,
          13470,
          15237,
          4916,
          1074,
          6394,
          4670,
          3816,
          1588,
          1910,
          1104,
          475,
          16325,
          353,
          8896,
          670,
          16476,
          1186,
          14205,
          5374,
          406,
          190,
          5971,
          48732,
          190,
          1259,
          840,
          9923,
          998,
          62773,
          1081,
          3385,
          4022,
          14707,
          76,
          7386,
          2079,
          321,
          602,
          1840,
          3176,
          540,
          668,
          1777,
          444,
          559,
          1747,
          10007,
          2038,
          2666,
          3945,
          17338,
          30763,
          778,
          1082,
          27305,
          1626,
          1680,
          2907,
          594,
          5140,
          87582,
          2960,
          2978,
          2393,
          9360,
          4729,
          5372,
          479,
          10602,
          747,
          1606,
          323,
          2360,
          1170,
          1218,
          61922,
          2240,
          753,
          2581,
          170,
          5041,
          13150,
          177,
          9569,
          17269,
          547,
          2995,
          13529
         ]
        }
       ],
       "layout": {
        "template": {
         "data": {
          "bar": [
           {
            "error_x": {
             "color": "#2a3f5f"
            },
            "error_y": {
             "color": "#2a3f5f"
            },
            "marker": {
             "line": {
              "color": "#E5ECF6",
              "width": 0.5
             },
             "pattern": {
              "fillmode": "overlay",
              "size": 10,
              "solidity": 0.2
             }
            },
            "type": "bar"
           }
          ],
          "barpolar": [
           {
            "marker": {
             "line": {
              "color": "#E5ECF6",
              "width": 0.5
             },
             "pattern": {
              "fillmode": "overlay",
              "size": 10,
              "solidity": 0.2
             }
            },
            "type": "barpolar"
           }
          ],
          "carpet": [
           {
            "aaxis": {
             "endlinecolor": "#2a3f5f",
             "gridcolor": "white",
             "linecolor": "white",
             "minorgridcolor": "white",
             "startlinecolor": "#2a3f5f"
            },
            "baxis": {
             "endlinecolor": "#2a3f5f",
             "gridcolor": "white",
             "linecolor": "white",
             "minorgridcolor": "white",
             "startlinecolor": "#2a3f5f"
            },
            "type": "carpet"
           }
          ],
          "choropleth": [
           {
            "colorbar": {
             "outlinewidth": 0,
             "ticks": ""
            },
            "type": "choropleth"
           }
          ],
          "contour": [
           {
            "colorbar": {
             "outlinewidth": 0,
             "ticks": ""
            },
            "colorscale": [
             [
              0,
              "#0d0887"
             ],
             [
              0.1111111111111111,
              "#46039f"
             ],
             [
              0.2222222222222222,
              "#7201a8"
             ],
             [
              0.3333333333333333,
              "#9c179e"
             ],
             [
              0.4444444444444444,
              "#bd3786"
             ],
             [
              0.5555555555555556,
              "#d8576b"
             ],
             [
              0.6666666666666666,
              "#ed7953"
             ],
             [
              0.7777777777777778,
              "#fb9f3a"
             ],
             [
              0.8888888888888888,
              "#fdca26"
             ],
             [
              1,
              "#f0f921"
             ]
            ],
            "type": "contour"
           }
          ],
          "contourcarpet": [
           {
            "colorbar": {
             "outlinewidth": 0,
             "ticks": ""
            },
            "type": "contourcarpet"
           }
          ],
          "heatmap": [
           {
            "colorbar": {
             "outlinewidth": 0,
             "ticks": ""
            },
            "colorscale": [
             [
              0,
              "#0d0887"
             ],
             [
              0.1111111111111111,
              "#46039f"
             ],
             [
              0.2222222222222222,
              "#7201a8"
             ],
             [
              0.3333333333333333,
              "#9c179e"
             ],
             [
              0.4444444444444444,
              "#bd3786"
             ],
             [
              0.5555555555555556,
              "#d8576b"
             ],
             [
              0.6666666666666666,
              "#ed7953"
             ],
             [
              0.7777777777777778,
              "#fb9f3a"
             ],
             [
              0.8888888888888888,
              "#fdca26"
             ],
             [
              1,
              "#f0f921"
             ]
            ],
            "type": "heatmap"
           }
          ],
          "heatmapgl": [
           {
            "colorbar": {
             "outlinewidth": 0,
             "ticks": ""
            },
            "colorscale": [
             [
              0,
              "#0d0887"
             ],
             [
              0.1111111111111111,
              "#46039f"
             ],
             [
              0.2222222222222222,
              "#7201a8"
             ],
             [
              0.3333333333333333,
              "#9c179e"
             ],
             [
              0.4444444444444444,
              "#bd3786"
             ],
             [
              0.5555555555555556,
              "#d8576b"
             ],
             [
              0.6666666666666666,
              "#ed7953"
             ],
             [
              0.7777777777777778,
              "#fb9f3a"
             ],
             [
              0.8888888888888888,
              "#fdca26"
             ],
             [
              1,
              "#f0f921"
             ]
            ],
            "type": "heatmapgl"
           }
          ],
          "histogram": [
           {
            "marker": {
             "pattern": {
              "fillmode": "overlay",
              "size": 10,
              "solidity": 0.2
             }
            },
            "type": "histogram"
           }
          ],
          "histogram2d": [
           {
            "colorbar": {
             "outlinewidth": 0,
             "ticks": ""
            },
            "colorscale": [
             [
              0,
              "#0d0887"
             ],
             [
              0.1111111111111111,
              "#46039f"
             ],
             [
              0.2222222222222222,
              "#7201a8"
             ],
             [
              0.3333333333333333,
              "#9c179e"
             ],
             [
              0.4444444444444444,
              "#bd3786"
             ],
             [
              0.5555555555555556,
              "#d8576b"
             ],
             [
              0.6666666666666666,
              "#ed7953"
             ],
             [
              0.7777777777777778,
              "#fb9f3a"
             ],
             [
              0.8888888888888888,
              "#fdca26"
             ],
             [
              1,
              "#f0f921"
             ]
            ],
            "type": "histogram2d"
           }
          ],
          "histogram2dcontour": [
           {
            "colorbar": {
             "outlinewidth": 0,
             "ticks": ""
            },
            "colorscale": [
             [
              0,
              "#0d0887"
             ],
             [
              0.1111111111111111,
              "#46039f"
             ],
             [
              0.2222222222222222,
              "#7201a8"
             ],
             [
              0.3333333333333333,
              "#9c179e"
             ],
             [
              0.4444444444444444,
              "#bd3786"
             ],
             [
              0.5555555555555556,
              "#d8576b"
             ],
             [
              0.6666666666666666,
              "#ed7953"
             ],
             [
              0.7777777777777778,
              "#fb9f3a"
             ],
             [
              0.8888888888888888,
              "#fdca26"
             ],
             [
              1,
              "#f0f921"
             ]
            ],
            "type": "histogram2dcontour"
           }
          ],
          "mesh3d": [
           {
            "colorbar": {
             "outlinewidth": 0,
             "ticks": ""
            },
            "type": "mesh3d"
           }
          ],
          "parcoords": [
           {
            "line": {
             "colorbar": {
              "outlinewidth": 0,
              "ticks": ""
             }
            },
            "type": "parcoords"
           }
          ],
          "pie": [
           {
            "automargin": true,
            "type": "pie"
           }
          ],
          "scatter": [
           {
            "fillpattern": {
             "fillmode": "overlay",
             "size": 10,
             "solidity": 0.2
            },
            "type": "scatter"
           }
          ],
          "scatter3d": [
           {
            "line": {
             "colorbar": {
              "outlinewidth": 0,
              "ticks": ""
             }
            },
            "marker": {
             "colorbar": {
              "outlinewidth": 0,
              "ticks": ""
             }
            },
            "type": "scatter3d"
           }
          ],
          "scattercarpet": [
           {
            "marker": {
             "colorbar": {
              "outlinewidth": 0,
              "ticks": ""
             }
            },
            "type": "scattercarpet"
           }
          ],
          "scattergeo": [
           {
            "marker": {
             "colorbar": {
              "outlinewidth": 0,
              "ticks": ""
             }
            },
            "type": "scattergeo"
           }
          ],
          "scattergl": [
           {
            "marker": {
             "colorbar": {
              "outlinewidth": 0,
              "ticks": ""
             }
            },
            "type": "scattergl"
           }
          ],
          "scattermapbox": [
           {
            "marker": {
             "colorbar": {
              "outlinewidth": 0,
              "ticks": ""
             }
            },
            "type": "scattermapbox"
           }
          ],
          "scatterpolar": [
           {
            "marker": {
             "colorbar": {
              "outlinewidth": 0,
              "ticks": ""
             }
            },
            "type": "scatterpolar"
           }
          ],
          "scatterpolargl": [
           {
            "marker": {
             "colorbar": {
              "outlinewidth": 0,
              "ticks": ""
             }
            },
            "type": "scatterpolargl"
           }
          ],
          "scatterternary": [
           {
            "marker": {
             "colorbar": {
              "outlinewidth": 0,
              "ticks": ""
             }
            },
            "type": "scatterternary"
           }
          ],
          "surface": [
           {
            "colorbar": {
             "outlinewidth": 0,
             "ticks": ""
            },
            "colorscale": [
             [
              0,
              "#0d0887"
             ],
             [
              0.1111111111111111,
              "#46039f"
             ],
             [
              0.2222222222222222,
              "#7201a8"
             ],
             [
              0.3333333333333333,
              "#9c179e"
             ],
             [
              0.4444444444444444,
              "#bd3786"
             ],
             [
              0.5555555555555556,
              "#d8576b"
             ],
             [
              0.6666666666666666,
              "#ed7953"
             ],
             [
              0.7777777777777778,
              "#fb9f3a"
             ],
             [
              0.8888888888888888,
              "#fdca26"
             ],
             [
              1,
              "#f0f921"
             ]
            ],
            "type": "surface"
           }
          ],
          "table": [
           {
            "cells": {
             "fill": {
              "color": "#EBF0F8"
             },
             "line": {
              "color": "white"
             }
            },
            "header": {
             "fill": {
              "color": "#C8D4E3"
             },
             "line": {
              "color": "white"
             }
            },
            "type": "table"
           }
          ]
         },
         "layout": {
          "annotationdefaults": {
           "arrowcolor": "#2a3f5f",
           "arrowhead": 0,
           "arrowwidth": 1
          },
          "autotypenumbers": "strict",
          "coloraxis": {
           "colorbar": {
            "outlinewidth": 0,
            "ticks": ""
           }
          },
          "colorscale": {
           "diverging": [
            [
             0,
             "#8e0152"
            ],
            [
             0.1,
             "#c51b7d"
            ],
            [
             0.2,
             "#de77ae"
            ],
            [
             0.3,
             "#f1b6da"
            ],
            [
             0.4,
             "#fde0ef"
            ],
            [
             0.5,
             "#f7f7f7"
            ],
            [
             0.6,
             "#e6f5d0"
            ],
            [
             0.7,
             "#b8e186"
            ],
            [
             0.8,
             "#7fbc41"
            ],
            [
             0.9,
             "#4d9221"
            ],
            [
             1,
             "#276419"
            ]
           ],
           "sequential": [
            [
             0,
             "#0d0887"
            ],
            [
             0.1111111111111111,
             "#46039f"
            ],
            [
             0.2222222222222222,
             "#7201a8"
            ],
            [
             0.3333333333333333,
             "#9c179e"
            ],
            [
             0.4444444444444444,
             "#bd3786"
            ],
            [
             0.5555555555555556,
             "#d8576b"
            ],
            [
             0.6666666666666666,
             "#ed7953"
            ],
            [
             0.7777777777777778,
             "#fb9f3a"
            ],
            [
             0.8888888888888888,
             "#fdca26"
            ],
            [
             1,
             "#f0f921"
            ]
           ],
           "sequentialminus": [
            [
             0,
             "#0d0887"
            ],
            [
             0.1111111111111111,
             "#46039f"
            ],
            [
             0.2222222222222222,
             "#7201a8"
            ],
            [
             0.3333333333333333,
             "#9c179e"
            ],
            [
             0.4444444444444444,
             "#bd3786"
            ],
            [
             0.5555555555555556,
             "#d8576b"
            ],
            [
             0.6666666666666666,
             "#ed7953"
            ],
            [
             0.7777777777777778,
             "#fb9f3a"
            ],
            [
             0.8888888888888888,
             "#fdca26"
            ],
            [
             1,
             "#f0f921"
            ]
           ]
          },
          "colorway": [
           "#636efa",
           "#EF553B",
           "#00cc96",
           "#ab63fa",
           "#FFA15A",
           "#19d3f3",
           "#FF6692",
           "#B6E880",
           "#FF97FF",
           "#FECB52"
          ],
          "font": {
           "color": "#2a3f5f"
          },
          "geo": {
           "bgcolor": "white",
           "lakecolor": "white",
           "landcolor": "#E5ECF6",
           "showlakes": true,
           "showland": true,
           "subunitcolor": "white"
          },
          "hoverlabel": {
           "align": "left"
          },
          "hovermode": "closest",
          "mapbox": {
           "style": "light"
          },
          "paper_bgcolor": "white",
          "plot_bgcolor": "#E5ECF6",
          "polar": {
           "angularaxis": {
            "gridcolor": "white",
            "linecolor": "white",
            "ticks": ""
           },
           "bgcolor": "#E5ECF6",
           "radialaxis": {
            "gridcolor": "white",
            "linecolor": "white",
            "ticks": ""
           }
          },
          "scene": {
           "xaxis": {
            "backgroundcolor": "#E5ECF6",
            "gridcolor": "white",
            "gridwidth": 2,
            "linecolor": "white",
            "showbackground": true,
            "ticks": "",
            "zerolinecolor": "white"
           },
           "yaxis": {
            "backgroundcolor": "#E5ECF6",
            "gridcolor": "white",
            "gridwidth": 2,
            "linecolor": "white",
            "showbackground": true,
            "ticks": "",
            "zerolinecolor": "white"
           },
           "zaxis": {
            "backgroundcolor": "#E5ECF6",
            "gridcolor": "white",
            "gridwidth": 2,
            "linecolor": "white",
            "showbackground": true,
            "ticks": "",
            "zerolinecolor": "white"
           }
          },
          "shapedefaults": {
           "line": {
            "color": "#2a3f5f"
           }
          },
          "ternary": {
           "aaxis": {
            "gridcolor": "white",
            "linecolor": "white",
            "ticks": ""
           },
           "baxis": {
            "gridcolor": "white",
            "linecolor": "white",
            "ticks": ""
           },
           "bgcolor": "#E5ECF6",
           "caxis": {
            "gridcolor": "white",
            "linecolor": "white",
            "ticks": ""
           }
          },
          "title": {
           "x": 0.05
          },
          "xaxis": {
           "automargin": true,
           "gridcolor": "white",
           "linecolor": "white",
           "ticks": "",
           "title": {
            "standoff": 15
           },
           "zerolinecolor": "white",
           "zerolinewidth": 2
          },
          "yaxis": {
           "automargin": true,
           "gridcolor": "white",
           "linecolor": "white",
           "ticks": "",
           "title": {
            "standoff": 15
           },
           "zerolinecolor": "white",
           "zerolinewidth": 2
          }
         }
        },
        "xaxis": {
         "title": {
          "text": "Index"
         }
        },
        "yaxis": {
         "title": {
          "text": "Attendance"
         }
        }
       }
      },
      "text/html": [
       "<div>                            <div id=\"55b85e53-705e-478d-8651-7e59115a2bfd\" class=\"plotly-graph-div\" style=\"height:525px; width:100%;\"></div>            <script type=\"text/javascript\">                require([\"plotly\"], function(Plotly) {                    window.PLOTLYENV=window.PLOTLYENV || {};                                    if (document.getElementById(\"55b85e53-705e-478d-8651-7e59115a2bfd\")) {                    Plotly.newPlot(                        \"55b85e53-705e-478d-8651-7e59115a2bfd\",                        [{\"marker\":{\"color\":\"rgb(10, 150, 50)\"},\"mode\":\"lines\",\"name\":\"Actual Attendance\",\"x\":[0,1,2,3,4,5,6,7,8,9,10,11,12,13,14,15,16,17,18,19,20,21,22,23,24,25,26,27,28,29,30,31,32,33,34,35,36,37,38,39,40,41,42,43,44,45,46,47,48,49,50,51,52,53,54,55,56,57,58,59,60,61,62,63,64,65,66,67,68,69,70,71,72,73,74,75,76,77,78,79,80,81,82,83,84,85,86,87,88,89,90,91,92,93,94,95,96,97,98,99,100,101,102,103,104,105,106,107,108,109,110,111,112,113,114,115,116,117,118,119,120,121,122,123,124,125,126,127,128,129,130,131,132,133,134,135,136,137,138,139,140,141,142,143,144,145,146,147,148,149,150,151,152,153,154,155,156,157,158,159,160,161,162,163,164,165,166,167,168,169,170,171,172,173,174,175,176,177,178,179,180,181,182,183,184,185,186,187,188,189,190,191,192,193,194,195,196,197,198,199],\"y\":[1064,18936,12324,1330,444,5820,612,2275,1443,6998,2225,10559,3992,646,524,4999,316,2892,28531,7892,506,1590,319,360,1052,7336,9078,16075,8763,8584,103,928,1458,4002,2569,15370,895,2876,5152,9595,16529,18249,11368,6448,12814,17922,278,2250,334,2419,1946,6089,1017,59174,4922,14671,32199,4178,3218,4187,2685,8021,4112,1569,1440,490,16412,231,2241,275,1786,1406,14617,1165,509,481,2688,43744,65,2594,4200,3470,658,52908,3099,2680,11883,19625,95,4162,2806,220,571,802,1200,759,838,2583,374,1333,2767,7782,4739,4431,1352,16720,49732,324,999,35388,1022,5221,5002,208,3506,31035,7859,3113,2337,10821,1914,3318,377,6714,663,1796,321,2137,3142,62,59037,3924,1807,8439,509,1274,8140,53,3039,3969,654,4077,13744],\"type\":\"scatter\"},{\"line\":{\"color\":\"rgb(110, 50, 140)\",\"dash\":\"dot\"},\"mode\":\"lines\",\"name\":\"Predicted Attendance\",\"x\":[0,1,2,3,4,5,6,7,8,9,10,11,12,13,14,15,16,17,18,19,20,21,22,23,24,25,26,27,28,29,30,31,32,33,34,35,36,37,38,39,40,41,42,43,44,45,46,47,48,49,50,51,52,53,54,55,56,57,58,59,60,61,62,63,64,65,66,67,68,69,70,71,72,73,74,75,76,77,78,79,80,81,82,83,84,85,86,87,88,89,90,91,92,93,94,95,96,97,98,99,100,101,102,103,104,105,106,107,108,109,110,111,112,113,114,115,116,117,118,119,120,121,122,123,124,125,126,127,128,129,130,131,132,133,134,135,136,137,138,139,140,141,142,143,144,145,146,147,148,149,150,151,152,153,154,155,156,157,158,159,160,161,162,163,164,165,166,167,168,169,170,171,172,173,174,175,176,177,178,179,180,181,182,183,184,185,186,187,188,189,190,191,192,193,194,195,196,197,198,199],\"y\":[949,21523,13267,1448,389,4865,514,1182,979,4672,847,5549,2963,726,1915,2304,238,1439,22888,15327,752,1446,688,421,577,3839,5047,6320,4276,20297,348,1529,2643,6393,274,14304,857,4852,2481,28195,7045,9604,9305,5432,4811,17966,496,2525,1455,2516,1988,8914,1200,15163,4941,13470,15237,4916,1074,6394,4670,3816,1588,1910,1104,475,16325,353,8896,670,16476,1186,14205,5374,406,190,5971,48732,190,1259,840,9923,998,62773,1081,3385,4022,14707,76,7386,2079,321,602,1840,3176,540,668,1777,444,559,1747,10007,2038,2666,3945,17338,30763,778,1082,27305,1626,1680,2907,594,5140,87582,2960,2978,2393,9360,4729,5372,479,10602,747,1606,323,2360,1170,1218,61922,2240,753,2581,170,5041,13150,177,9569,17269,547,2995,13529],\"type\":\"scatter\"}],                        {\"template\":{\"data\":{\"barpolar\":[{\"marker\":{\"line\":{\"color\":\"#E5ECF6\",\"width\":0.5},\"pattern\":{\"fillmode\":\"overlay\",\"size\":10,\"solidity\":0.2}},\"type\":\"barpolar\"}],\"bar\":[{\"error_x\":{\"color\":\"#2a3f5f\"},\"error_y\":{\"color\":\"#2a3f5f\"},\"marker\":{\"line\":{\"color\":\"#E5ECF6\",\"width\":0.5},\"pattern\":{\"fillmode\":\"overlay\",\"size\":10,\"solidity\":0.2}},\"type\":\"bar\"}],\"carpet\":[{\"aaxis\":{\"endlinecolor\":\"#2a3f5f\",\"gridcolor\":\"white\",\"linecolor\":\"white\",\"minorgridcolor\":\"white\",\"startlinecolor\":\"#2a3f5f\"},\"baxis\":{\"endlinecolor\":\"#2a3f5f\",\"gridcolor\":\"white\",\"linecolor\":\"white\",\"minorgridcolor\":\"white\",\"startlinecolor\":\"#2a3f5f\"},\"type\":\"carpet\"}],\"choropleth\":[{\"colorbar\":{\"outlinewidth\":0,\"ticks\":\"\"},\"type\":\"choropleth\"}],\"contourcarpet\":[{\"colorbar\":{\"outlinewidth\":0,\"ticks\":\"\"},\"type\":\"contourcarpet\"}],\"contour\":[{\"colorbar\":{\"outlinewidth\":0,\"ticks\":\"\"},\"colorscale\":[[0.0,\"#0d0887\"],[0.1111111111111111,\"#46039f\"],[0.2222222222222222,\"#7201a8\"],[0.3333333333333333,\"#9c179e\"],[0.4444444444444444,\"#bd3786\"],[0.5555555555555556,\"#d8576b\"],[0.6666666666666666,\"#ed7953\"],[0.7777777777777778,\"#fb9f3a\"],[0.8888888888888888,\"#fdca26\"],[1.0,\"#f0f921\"]],\"type\":\"contour\"}],\"heatmapgl\":[{\"colorbar\":{\"outlinewidth\":0,\"ticks\":\"\"},\"colorscale\":[[0.0,\"#0d0887\"],[0.1111111111111111,\"#46039f\"],[0.2222222222222222,\"#7201a8\"],[0.3333333333333333,\"#9c179e\"],[0.4444444444444444,\"#bd3786\"],[0.5555555555555556,\"#d8576b\"],[0.6666666666666666,\"#ed7953\"],[0.7777777777777778,\"#fb9f3a\"],[0.8888888888888888,\"#fdca26\"],[1.0,\"#f0f921\"]],\"type\":\"heatmapgl\"}],\"heatmap\":[{\"colorbar\":{\"outlinewidth\":0,\"ticks\":\"\"},\"colorscale\":[[0.0,\"#0d0887\"],[0.1111111111111111,\"#46039f\"],[0.2222222222222222,\"#7201a8\"],[0.3333333333333333,\"#9c179e\"],[0.4444444444444444,\"#bd3786\"],[0.5555555555555556,\"#d8576b\"],[0.6666666666666666,\"#ed7953\"],[0.7777777777777778,\"#fb9f3a\"],[0.8888888888888888,\"#fdca26\"],[1.0,\"#f0f921\"]],\"type\":\"heatmap\"}],\"histogram2dcontour\":[{\"colorbar\":{\"outlinewidth\":0,\"ticks\":\"\"},\"colorscale\":[[0.0,\"#0d0887\"],[0.1111111111111111,\"#46039f\"],[0.2222222222222222,\"#7201a8\"],[0.3333333333333333,\"#9c179e\"],[0.4444444444444444,\"#bd3786\"],[0.5555555555555556,\"#d8576b\"],[0.6666666666666666,\"#ed7953\"],[0.7777777777777778,\"#fb9f3a\"],[0.8888888888888888,\"#fdca26\"],[1.0,\"#f0f921\"]],\"type\":\"histogram2dcontour\"}],\"histogram2d\":[{\"colorbar\":{\"outlinewidth\":0,\"ticks\":\"\"},\"colorscale\":[[0.0,\"#0d0887\"],[0.1111111111111111,\"#46039f\"],[0.2222222222222222,\"#7201a8\"],[0.3333333333333333,\"#9c179e\"],[0.4444444444444444,\"#bd3786\"],[0.5555555555555556,\"#d8576b\"],[0.6666666666666666,\"#ed7953\"],[0.7777777777777778,\"#fb9f3a\"],[0.8888888888888888,\"#fdca26\"],[1.0,\"#f0f921\"]],\"type\":\"histogram2d\"}],\"histogram\":[{\"marker\":{\"pattern\":{\"fillmode\":\"overlay\",\"size\":10,\"solidity\":0.2}},\"type\":\"histogram\"}],\"mesh3d\":[{\"colorbar\":{\"outlinewidth\":0,\"ticks\":\"\"},\"type\":\"mesh3d\"}],\"parcoords\":[{\"line\":{\"colorbar\":{\"outlinewidth\":0,\"ticks\":\"\"}},\"type\":\"parcoords\"}],\"pie\":[{\"automargin\":true,\"type\":\"pie\"}],\"scatter3d\":[{\"line\":{\"colorbar\":{\"outlinewidth\":0,\"ticks\":\"\"}},\"marker\":{\"colorbar\":{\"outlinewidth\":0,\"ticks\":\"\"}},\"type\":\"scatter3d\"}],\"scattercarpet\":[{\"marker\":{\"colorbar\":{\"outlinewidth\":0,\"ticks\":\"\"}},\"type\":\"scattercarpet\"}],\"scattergeo\":[{\"marker\":{\"colorbar\":{\"outlinewidth\":0,\"ticks\":\"\"}},\"type\":\"scattergeo\"}],\"scattergl\":[{\"marker\":{\"colorbar\":{\"outlinewidth\":0,\"ticks\":\"\"}},\"type\":\"scattergl\"}],\"scattermapbox\":[{\"marker\":{\"colorbar\":{\"outlinewidth\":0,\"ticks\":\"\"}},\"type\":\"scattermapbox\"}],\"scatterpolargl\":[{\"marker\":{\"colorbar\":{\"outlinewidth\":0,\"ticks\":\"\"}},\"type\":\"scatterpolargl\"}],\"scatterpolar\":[{\"marker\":{\"colorbar\":{\"outlinewidth\":0,\"ticks\":\"\"}},\"type\":\"scatterpolar\"}],\"scatter\":[{\"fillpattern\":{\"fillmode\":\"overlay\",\"size\":10,\"solidity\":0.2},\"type\":\"scatter\"}],\"scatterternary\":[{\"marker\":{\"colorbar\":{\"outlinewidth\":0,\"ticks\":\"\"}},\"type\":\"scatterternary\"}],\"surface\":[{\"colorbar\":{\"outlinewidth\":0,\"ticks\":\"\"},\"colorscale\":[[0.0,\"#0d0887\"],[0.1111111111111111,\"#46039f\"],[0.2222222222222222,\"#7201a8\"],[0.3333333333333333,\"#9c179e\"],[0.4444444444444444,\"#bd3786\"],[0.5555555555555556,\"#d8576b\"],[0.6666666666666666,\"#ed7953\"],[0.7777777777777778,\"#fb9f3a\"],[0.8888888888888888,\"#fdca26\"],[1.0,\"#f0f921\"]],\"type\":\"surface\"}],\"table\":[{\"cells\":{\"fill\":{\"color\":\"#EBF0F8\"},\"line\":{\"color\":\"white\"}},\"header\":{\"fill\":{\"color\":\"#C8D4E3\"},\"line\":{\"color\":\"white\"}},\"type\":\"table\"}]},\"layout\":{\"annotationdefaults\":{\"arrowcolor\":\"#2a3f5f\",\"arrowhead\":0,\"arrowwidth\":1},\"autotypenumbers\":\"strict\",\"coloraxis\":{\"colorbar\":{\"outlinewidth\":0,\"ticks\":\"\"}},\"colorscale\":{\"diverging\":[[0,\"#8e0152\"],[0.1,\"#c51b7d\"],[0.2,\"#de77ae\"],[0.3,\"#f1b6da\"],[0.4,\"#fde0ef\"],[0.5,\"#f7f7f7\"],[0.6,\"#e6f5d0\"],[0.7,\"#b8e186\"],[0.8,\"#7fbc41\"],[0.9,\"#4d9221\"],[1,\"#276419\"]],\"sequential\":[[0.0,\"#0d0887\"],[0.1111111111111111,\"#46039f\"],[0.2222222222222222,\"#7201a8\"],[0.3333333333333333,\"#9c179e\"],[0.4444444444444444,\"#bd3786\"],[0.5555555555555556,\"#d8576b\"],[0.6666666666666666,\"#ed7953\"],[0.7777777777777778,\"#fb9f3a\"],[0.8888888888888888,\"#fdca26\"],[1.0,\"#f0f921\"]],\"sequentialminus\":[[0.0,\"#0d0887\"],[0.1111111111111111,\"#46039f\"],[0.2222222222222222,\"#7201a8\"],[0.3333333333333333,\"#9c179e\"],[0.4444444444444444,\"#bd3786\"],[0.5555555555555556,\"#d8576b\"],[0.6666666666666666,\"#ed7953\"],[0.7777777777777778,\"#fb9f3a\"],[0.8888888888888888,\"#fdca26\"],[1.0,\"#f0f921\"]]},\"colorway\":[\"#636efa\",\"#EF553B\",\"#00cc96\",\"#ab63fa\",\"#FFA15A\",\"#19d3f3\",\"#FF6692\",\"#B6E880\",\"#FF97FF\",\"#FECB52\"],\"font\":{\"color\":\"#2a3f5f\"},\"geo\":{\"bgcolor\":\"white\",\"lakecolor\":\"white\",\"landcolor\":\"#E5ECF6\",\"showlakes\":true,\"showland\":true,\"subunitcolor\":\"white\"},\"hoverlabel\":{\"align\":\"left\"},\"hovermode\":\"closest\",\"mapbox\":{\"style\":\"light\"},\"paper_bgcolor\":\"white\",\"plot_bgcolor\":\"#E5ECF6\",\"polar\":{\"angularaxis\":{\"gridcolor\":\"white\",\"linecolor\":\"white\",\"ticks\":\"\"},\"bgcolor\":\"#E5ECF6\",\"radialaxis\":{\"gridcolor\":\"white\",\"linecolor\":\"white\",\"ticks\":\"\"}},\"scene\":{\"xaxis\":{\"backgroundcolor\":\"#E5ECF6\",\"gridcolor\":\"white\",\"gridwidth\":2,\"linecolor\":\"white\",\"showbackground\":true,\"ticks\":\"\",\"zerolinecolor\":\"white\"},\"yaxis\":{\"backgroundcolor\":\"#E5ECF6\",\"gridcolor\":\"white\",\"gridwidth\":2,\"linecolor\":\"white\",\"showbackground\":true,\"ticks\":\"\",\"zerolinecolor\":\"white\"},\"zaxis\":{\"backgroundcolor\":\"#E5ECF6\",\"gridcolor\":\"white\",\"gridwidth\":2,\"linecolor\":\"white\",\"showbackground\":true,\"ticks\":\"\",\"zerolinecolor\":\"white\"}},\"shapedefaults\":{\"line\":{\"color\":\"#2a3f5f\"}},\"ternary\":{\"aaxis\":{\"gridcolor\":\"white\",\"linecolor\":\"white\",\"ticks\":\"\"},\"baxis\":{\"gridcolor\":\"white\",\"linecolor\":\"white\",\"ticks\":\"\"},\"bgcolor\":\"#E5ECF6\",\"caxis\":{\"gridcolor\":\"white\",\"linecolor\":\"white\",\"ticks\":\"\"}},\"title\":{\"x\":0.05},\"xaxis\":{\"automargin\":true,\"gridcolor\":\"white\",\"linecolor\":\"white\",\"ticks\":\"\",\"title\":{\"standoff\":15},\"zerolinecolor\":\"white\",\"zerolinewidth\":2},\"yaxis\":{\"automargin\":true,\"gridcolor\":\"white\",\"linecolor\":\"white\",\"ticks\":\"\",\"title\":{\"standoff\":15},\"zerolinecolor\":\"white\",\"zerolinewidth\":2}}},\"xaxis\":{\"title\":{\"text\":\"Index\"}},\"yaxis\":{\"title\":{\"text\":\"Attendance\"}}},                        {\"responsive\": true}                    ).then(function(){\n",
       "                            \n",
       "var gd = document.getElementById('55b85e53-705e-478d-8651-7e59115a2bfd');\n",
       "var x = new MutationObserver(function (mutations, observer) {{\n",
       "        var display = window.getComputedStyle(gd).display;\n",
       "        if (!display || display === 'none') {{\n",
       "            console.log([gd, 'removed!']);\n",
       "            Plotly.purge(gd);\n",
       "            observer.disconnect();\n",
       "        }}\n",
       "}});\n",
       "\n",
       "// Listen for the removal of the full notebook cells\n",
       "var notebookContainer = gd.closest('#notebook-container');\n",
       "if (notebookContainer) {{\n",
       "    x.observe(notebookContainer, {childList: true});\n",
       "}}\n",
       "\n",
       "// Listen for the clearing of the current output cell\n",
       "var outputEl = gd.closest('.output');\n",
       "if (outputEl) {{\n",
       "    x.observe(outputEl, {childList: true});\n",
       "}}\n",
       "\n",
       "                        })                };                });            </script>        </div>"
      ]
     },
     "metadata": {},
     "output_type": "display_data"
    }
   ],
   "source": [
    "trace0 = go.Scatter(\n",
    "    y = y_test_inverse,\n",
    "    x = np.arange(200), \n",
    "    mode = 'lines', \n",
    "    name = 'Actual Attendance',\n",
    "    marker = dict(\n",
    "    color = 'rgb(10, 150, 50)')\n",
    ")\n",
    "\n",
    "trace1 = go.Scatter(\n",
    "    y = y_pred,\n",
    "    x = np.arange(200), \n",
    "    mode = 'lines', \n",
    "    name = 'Predicted Attendance',\n",
    "    line = dict(\n",
    "        color = 'rgb(110, 50, 140)',\n",
    "        dash = 'dot'\n",
    "    )\n",
    ")\n",
    "\n",
    "\n",
    "layout = go.Layout(\n",
    "    xaxis = dict(title = 'Index'), \n",
    "    yaxis = dict(title = 'Attendance')\n",
    ")\n",
    "\n",
    "figure = go.Figure(data = [trace0, trace1], layout = layout)\n",
    "iplot(figure)"
   ]
  },
  {
   "cell_type": "markdown",
   "id": "43354da4",
   "metadata": {},
   "source": [
    "## Residual analysis for XGBRegressor model\n",
    "\n",
    "we did this analysis only for XGBRegressor model because it has high R2 value, we can apply same analysis to other models."
   ]
  },
  {
   "cell_type": "code",
   "execution_count": 408,
   "id": "cb130eae",
   "metadata": {},
   "outputs": [
    {
     "data": {
      "text/plain": [
       "[<matplotlib.lines.Line2D at 0x20a0e92f0a0>]"
      ]
     },
     "execution_count": 408,
     "metadata": {},
     "output_type": "execute_result"
    },
    {
     "data": {
      "image/png": "[encoded data removed]",
      "text/plain": [
       "<Figure size 432x288 with 1 Axes>"
      ]
     },
     "metadata": {
      "needs_background": "light"
     },
     "output_type": "display_data"
    }
   ],
   "source": [
    "\n",
    "res=abs(y_pred.values-y_test_inverse.values)\n",
    "#res=y_test-y_pred\n",
    "#res_plt=res.reset_index(drop = True, inplace = False)\n",
    "plt.plot(res)"
   ]
  },
  {
   "cell_type": "code",
   "execution_count": 409,
   "id": "a77279ad",
   "metadata": {},
   "outputs": [],
   "source": [
    "X_test_inverse=X_test.copy()"
   ]
  },
  {
   "cell_type": "code",
   "execution_count": 410,
   "id": "3af845d3",
   "metadata": {},
   "outputs": [],
   "source": [
    "# inverse all label encoder\n",
    "X_test_inverse['Stadium']= label_encoder_stadium.inverse_transform(X_test['Stadium_encoded'])\n",
    "X_test_inverse['match_day_name']= label_encoder_match_day_name.inverse_transform(X_test['match_day_name_encoded'])\n",
    "X_test_inverse['TeamA']= label_encoder.inverse_transform(X_test['TeamA_encoded'])\n",
    "X_test_inverse['TeamB']= label_encoder.inverse_transform(X_test['TeamB_encoded'])\n",
    "#weather stuff \n",
    "X_test_inverse['conditions']= label_encoder_con.inverse_transform(X_test['conditions_encoded'])\n",
    "X_test_inverse['description']= label_encoder_desc.inverse_transform(X_test['description_encoded'])\n",
    "X_test_inverse[\"res\"]=res\n",
    "X_test_inverse[\"actual_att\"]=y_test_inverse.values\n",
    "X_test_inverse[\"predicted_att\"]=y_pred.values\n",
    "X_test_inverse=X_test_inverse.drop(['TeamA_encoded','TeamB_encoded','Stadium_encoded','match_day_name_encoded','conditions_encoded','description_encoded'],axis=1)"
   ]
  },
  {
   "cell_type": "markdown",
   "id": "910b663c",
   "metadata": {},
   "source": [
    "## Residual distribution"
   ]
  },
  {
   "cell_type": "code",
   "execution_count": 411,
   "id": "c5d12e58",
   "metadata": {},
   "outputs": [
    {
     "data": {
      "text/html": [
       "<div>\n",
       "<style scoped>\n",
       "    .dataframe tbody tr th:only-of-type {\n",
       "        vertical-align: middle;\n",
       "    }\n",
       "\n",
       "    .dataframe tbody tr th {\n",
       "        vertical-align: top;\n",
       "    }\n",
       "\n",
       "    .dataframe thead th {\n",
       "        text-align: right;\n",
       "    }\n",
       "</style>\n",
       "<table border=\"1\" class=\"dataframe\">\n",
       "  <thead>\n",
       "    <tr style=\"text-align: right;\">\n",
       "      <th></th>\n",
       "      <th>res</th>\n",
       "      <th>actual_att</th>\n",
       "      <th>predicted_att</th>\n",
       "    </tr>\n",
       "  </thead>\n",
       "  <tbody>\n",
       "    <tr>\n",
       "      <th>count</th>\n",
       "      <td>143.000000</td>\n",
       "      <td>143.000000</td>\n",
       "      <td>143.000000</td>\n",
       "    </tr>\n",
       "    <tr>\n",
       "      <th>mean</th>\n",
       "      <td>3198.573427</td>\n",
       "      <td>6817.552448</td>\n",
       "      <td>6772.069930</td>\n",
       "    </tr>\n",
       "    <tr>\n",
       "      <th>std</th>\n",
       "      <td>6736.987700</td>\n",
       "      <td>11036.840054</td>\n",
       "      <td>11984.023796</td>\n",
       "    </tr>\n",
       "    <tr>\n",
       "      <th>min</th>\n",
       "      <td>2.000000</td>\n",
       "      <td>53.000000</td>\n",
       "      <td>76.000000</td>\n",
       "    </tr>\n",
       "    <tr>\n",
       "      <th>25%</th>\n",
       "      <td>219.500000</td>\n",
       "      <td>963.500000</td>\n",
       "      <td>903.000000</td>\n",
       "    </tr>\n",
       "    <tr>\n",
       "      <th>50%</th>\n",
       "      <td>1121.000000</td>\n",
       "      <td>2767.000000</td>\n",
       "      <td>2516.000000</td>\n",
       "    </tr>\n",
       "    <tr>\n",
       "      <th>75%</th>\n",
       "      <td>3253.500000</td>\n",
       "      <td>7820.500000</td>\n",
       "      <td>6719.500000</td>\n",
       "    </tr>\n",
       "    <tr>\n",
       "      <th>max</th>\n",
       "      <td>56547.000000</td>\n",
       "      <td>59174.000000</td>\n",
       "      <td>87582.000000</td>\n",
       "    </tr>\n",
       "  </tbody>\n",
       "</table>\n",
       "</div>"
      ],
      "text/plain": [
       "                res    actual_att  predicted_att\n",
       "count    143.000000    143.000000     143.000000\n",
       "mean    3198.573427   6817.552448    6772.069930\n",
       "std     6736.987700  11036.840054   11984.023796\n",
       "min        2.000000     53.000000      76.000000\n",
       "25%      219.500000    963.500000     903.000000\n",
       "50%     1121.000000   2767.000000    2516.000000\n",
       "75%     3253.500000   7820.500000    6719.500000\n",
       "max    56547.000000  59174.000000   87582.000000"
      ]
     },
     "execution_count": 411,
     "metadata": {},
     "output_type": "execute_result"
    }
   ],
   "source": [
    "X_test_inverse[['res',\"actual_att\",'predicted_att']].describe()"
   ]
  },
  {
   "cell_type": "code",
   "execution_count": 412,
   "id": "c27a8764",
   "metadata": {},
   "outputs": [
    {
     "data": {
      "text/html": [
       "<div>\n",
       "<style scoped>\n",
       "    .dataframe tbody tr th:only-of-type {\n",
       "        vertical-align: middle;\n",
       "    }\n",
       "\n",
       "    .dataframe tbody tr th {\n",
       "        vertical-align: top;\n",
       "    }\n",
       "\n",
       "    .dataframe thead th {\n",
       "        text-align: right;\n",
       "    }\n",
       "</style>\n",
       "<table border=\"1\" class=\"dataframe\">\n",
       "  <thead>\n",
       "    <tr style=\"text-align: right;\">\n",
       "      <th></th>\n",
       "      <th>Round</th>\n",
       "      <th>TeamA_Position</th>\n",
       "      <th>Match_year</th>\n",
       "      <th>feelslike</th>\n",
       "      <th>humidity:</th>\n",
       "      <th>Stadium</th>\n",
       "      <th>match_day_name</th>\n",
       "      <th>TeamA</th>\n",
       "      <th>TeamB</th>\n",
       "      <th>res</th>\n",
       "      <th>actual_att</th>\n",
       "      <th>predicted_att</th>\n",
       "    </tr>\n",
       "  </thead>\n",
       "  <tbody>\n",
       "    <tr>\n",
       "      <th>430</th>\n",
       "      <td>15</td>\n",
       "      <td>7</td>\n",
       "      <td>2015</td>\n",
       "      <td>19.6</td>\n",
       "      <td>22.9</td>\n",
       "      <td>Al Majma'ah Sports City Stadium</td>\n",
       "      <td>Thursday</td>\n",
       "      <td>Al-Faisaly FC</td>\n",
       "      <td>Al-Ittihad Club (Jeddah)</td>\n",
       "      <td>115</td>\n",
       "      <td>1064</td>\n",
       "      <td>949</td>\n",
       "    </tr>\n",
       "    <tr>\n",
       "      <th>653</th>\n",
       "      <td>9</td>\n",
       "      <td>2</td>\n",
       "      <td>2015</td>\n",
       "      <td>28.9</td>\n",
       "      <td>45.2</td>\n",
       "      <td>King Abdullah Sports City</td>\n",
       "      <td>Thursday</td>\n",
       "      <td>Al-Ahli Saudi FC</td>\n",
       "      <td>Al-Faisaly FC</td>\n",
       "      <td>2587</td>\n",
       "      <td>18936</td>\n",
       "      <td>21523</td>\n",
       "    </tr>\n",
       "    <tr>\n",
       "      <th>643</th>\n",
       "      <td>16</td>\n",
       "      <td>13</td>\n",
       "      <td>2016</td>\n",
       "      <td>14.1</td>\n",
       "      <td>52.3</td>\n",
       "      <td>King Abdullah Sport City Stadium</td>\n",
       "      <td>Thursday</td>\n",
       "      <td>Al-Raed</td>\n",
       "      <td>Al-Hilal Saudi FC</td>\n",
       "      <td>943</td>\n",
       "      <td>12324</td>\n",
       "      <td>13267</td>\n",
       "    </tr>\n",
       "    <tr>\n",
       "      <th>267</th>\n",
       "      <td>22</td>\n",
       "      <td>8</td>\n",
       "      <td>2017</td>\n",
       "      <td>26.3</td>\n",
       "      <td>49.2</td>\n",
       "      <td>Prince Mohamed bin Fahd Stadium</td>\n",
       "      <td>Saturday</td>\n",
       "      <td>Ettifaq FC</td>\n",
       "      <td>Al-Khaleej</td>\n",
       "      <td>118</td>\n",
       "      <td>1330</td>\n",
       "      <td>1448</td>\n",
       "    </tr>\n",
       "    <tr>\n",
       "      <th>536</th>\n",
       "      <td>11</td>\n",
       "      <td>12</td>\n",
       "      <td>2015</td>\n",
       "      <td>16.4</td>\n",
       "      <td>60.8</td>\n",
       "      <td>Prince Saud bin Jalawi Stadium</td>\n",
       "      <td>Friday</td>\n",
       "      <td>Al-Qadsiah FC</td>\n",
       "      <td>Al-Fateh</td>\n",
       "      <td>55</td>\n",
       "      <td>444</td>\n",
       "      <td>389</td>\n",
       "    </tr>\n",
       "    <tr>\n",
       "      <th>309</th>\n",
       "      <td>4</td>\n",
       "      <td>13</td>\n",
       "      <td>2016</td>\n",
       "      <td>32.7</td>\n",
       "      <td>42.3</td>\n",
       "      <td>Prince Saud bin Jalawi Stadium</td>\n",
       "      <td>Thursday</td>\n",
       "      <td>Al-Qadsiah FC</td>\n",
       "      <td>Al-Hilal Saudi FC</td>\n",
       "      <td>955</td>\n",
       "      <td>5820</td>\n",
       "      <td>4865</td>\n",
       "    </tr>\n",
       "    <tr>\n",
       "      <th>148</th>\n",
       "      <td>15</td>\n",
       "      <td>3</td>\n",
       "      <td>2017</td>\n",
       "      <td>13.7</td>\n",
       "      <td>30.8</td>\n",
       "      <td>Al Majma'ah Sports City Stadium</td>\n",
       "      <td>Thursday</td>\n",
       "      <td>Al-Faisaly FC</td>\n",
       "      <td>Al-Raed</td>\n",
       "      <td>98</td>\n",
       "      <td>612</td>\n",
       "      <td>514</td>\n",
       "    </tr>\n",
       "    <tr>\n",
       "      <th>296</th>\n",
       "      <td>5</td>\n",
       "      <td>12</td>\n",
       "      <td>2016</td>\n",
       "      <td>37.1</td>\n",
       "      <td>52.7</td>\n",
       "      <td>King Abdul Aziz Stadium</td>\n",
       "      <td>Saturday</td>\n",
       "      <td>Al-Wehda FC</td>\n",
       "      <td>Al-Nassr Riad</td>\n",
       "      <td>1093</td>\n",
       "      <td>2275</td>\n",
       "      <td>1182</td>\n",
       "    </tr>\n",
       "    <tr>\n",
       "      <th>386</th>\n",
       "      <td>9</td>\n",
       "      <td>6</td>\n",
       "      <td>2015</td>\n",
       "      <td>15.2</td>\n",
       "      <td>16.1</td>\n",
       "      <td>Al Majma'ah Sports City Stadium</td>\n",
       "      <td>Wednesday</td>\n",
       "      <td>Al-Faisaly FC</td>\n",
       "      <td>Al-Hilal Saudi FC</td>\n",
       "      <td>464</td>\n",
       "      <td>1443</td>\n",
       "      <td>979</td>\n",
       "    </tr>\n",
       "    <tr>\n",
       "      <th>543</th>\n",
       "      <td>23</td>\n",
       "      <td>4</td>\n",
       "      <td>2016</td>\n",
       "      <td>24.3</td>\n",
       "      <td>37.7</td>\n",
       "      <td>King Abdullah Sport City Stadium</td>\n",
       "      <td>Sunday</td>\n",
       "      <td>Al-Taawoun FC</td>\n",
       "      <td>Al-Fateh</td>\n",
       "      <td>2326</td>\n",
       "      <td>6998</td>\n",
       "      <td>4672</td>\n",
       "    </tr>\n",
       "    <tr>\n",
       "      <th>539</th>\n",
       "      <td>16</td>\n",
       "      <td>14</td>\n",
       "      <td>2016</td>\n",
       "      <td>13.5</td>\n",
       "      <td>46.2</td>\n",
       "      <td>Prince Abdullah bin Jalawi Stadium</td>\n",
       "      <td>Friday</td>\n",
       "      <td>Hajer Club</td>\n",
       "      <td>Al-Fateh</td>\n",
       "      <td>1378</td>\n",
       "      <td>2225</td>\n",
       "      <td>847</td>\n",
       "    </tr>\n",
       "    <tr>\n",
       "      <th>385</th>\n",
       "      <td>6</td>\n",
       "      <td>10</td>\n",
       "      <td>2014</td>\n",
       "      <td>32.7</td>\n",
       "      <td>20.1</td>\n",
       "      <td>Prince Abdullah bin Jalawi Stadium</td>\n",
       "      <td>Wednesday</td>\n",
       "      <td>Al-Fateh</td>\n",
       "      <td>Al-Hilal Saudi FC</td>\n",
       "      <td>5010</td>\n",
       "      <td>10559</td>\n",
       "      <td>5549</td>\n",
       "    </tr>\n",
       "    <tr>\n",
       "      <th>517</th>\n",
       "      <td>18</td>\n",
       "      <td>9</td>\n",
       "      <td>2015</td>\n",
       "      <td>17.7</td>\n",
       "      <td>50.0</td>\n",
       "      <td>King Abdullah Sport City Stadium</td>\n",
       "      <td>Friday</td>\n",
       "      <td>Al-Raed</td>\n",
       "      <td>Hajer Club</td>\n",
       "      <td>1029</td>\n",
       "      <td>3992</td>\n",
       "      <td>2963</td>\n",
       "    </tr>\n",
       "    <tr>\n",
       "      <th>146</th>\n",
       "      <td>9</td>\n",
       "      <td>10</td>\n",
       "      <td>2017</td>\n",
       "      <td>28.1</td>\n",
       "      <td>36.8</td>\n",
       "      <td>Prince Mohamed bin Fahd Stadium</td>\n",
       "      <td>Tuesday</td>\n",
       "      <td>Ettifaq FC</td>\n",
       "      <td>Al-Raed</td>\n",
       "      <td>80</td>\n",
       "      <td>646</td>\n",
       "      <td>726</td>\n",
       "    </tr>\n",
       "    <tr>\n",
       "      <th>265</th>\n",
       "      <td>18</td>\n",
       "      <td>5</td>\n",
       "      <td>2017</td>\n",
       "      <td>17.6</td>\n",
       "      <td>29.0</td>\n",
       "      <td>Prince Faisal bin Fahad Stadium</td>\n",
       "      <td>Friday</td>\n",
       "      <td>Al-Shabab Club (Riyadh)</td>\n",
       "      <td>Al-Khaleej</td>\n",
       "      <td>1391</td>\n",
       "      <td>524</td>\n",
       "      <td>1915</td>\n",
       "    </tr>\n",
       "    <tr>\n",
       "      <th>704</th>\n",
       "      <td>11</td>\n",
       "      <td>4</td>\n",
       "      <td>2015</td>\n",
       "      <td>9.4</td>\n",
       "      <td>70.6</td>\n",
       "      <td>King Abdullah Sport City Stadium</td>\n",
       "      <td>Wednesday</td>\n",
       "      <td>Al-Taawoun FC</td>\n",
       "      <td>Al-Raed</td>\n",
       "      <td>2695</td>\n",
       "      <td>4999</td>\n",
       "      <td>2304</td>\n",
       "    </tr>\n",
       "    <tr>\n",
       "      <th>328</th>\n",
       "      <td>15</td>\n",
       "      <td>9</td>\n",
       "      <td>2016</td>\n",
       "      <td>13.6</td>\n",
       "      <td>47.1</td>\n",
       "      <td>Al Majma'ah Sports City Stadium</td>\n",
       "      <td>Thursday</td>\n",
       "      <td>Al-Faisaly FC</td>\n",
       "      <td>Al-Qadsiah FC</td>\n",
       "      <td>78</td>\n",
       "      <td>316</td>\n",
       "      <td>238</td>\n",
       "    </tr>\n",
       "    <tr>\n",
       "      <th>576</th>\n",
       "      <td>13</td>\n",
       "      <td>12</td>\n",
       "      <td>2015</td>\n",
       "      <td>15.4</td>\n",
       "      <td>76.7</td>\n",
       "      <td>King Abdullah Sport City Stadium</td>\n",
       "      <td>Sunday</td>\n",
       "      <td>Al-Raed</td>\n",
       "      <td>Najran SC</td>\n",
       "      <td>1453</td>\n",
       "      <td>2892</td>\n",
       "      <td>1439</td>\n",
       "    </tr>\n",
       "    <tr>\n",
       "      <th>234</th>\n",
       "      <td>11</td>\n",
       "      <td>3</td>\n",
       "      <td>2016</td>\n",
       "      <td>29.0</td>\n",
       "      <td>69.3</td>\n",
       "      <td>King Abdullah Sports City</td>\n",
       "      <td>Friday</td>\n",
       "      <td>Al-Ittihad Club (Jeddah)</td>\n",
       "      <td>Ettifaq FC</td>\n",
       "      <td>5643</td>\n",
       "      <td>28531</td>\n",
       "      <td>22888</td>\n",
       "    </tr>\n",
       "    <tr>\n",
       "      <th>305</th>\n",
       "      <td>21</td>\n",
       "      <td>7</td>\n",
       "      <td>2017</td>\n",
       "      <td>21.4</td>\n",
       "      <td>31.2</td>\n",
       "      <td>King Abdullah Sport City Stadium</td>\n",
       "      <td>Tuesday</td>\n",
       "      <td>Al-Raed</td>\n",
       "      <td>Al-Nassr Riad</td>\n",
       "      <td>7435</td>\n",
       "      <td>7892</td>\n",
       "      <td>15327</td>\n",
       "    </tr>\n",
       "  </tbody>\n",
       "</table>\n",
       "</div>"
      ],
      "text/plain": [
       "     Round  TeamA_Position  Match_year  feelslike  humidity:  \\\n",
       "430     15               7        2015       19.6       22.9   \n",
       "653      9               2        2015       28.9       45.2   \n",
       "643     16              13        2016       14.1       52.3   \n",
       "267     22               8        2017       26.3       49.2   \n",
       "536     11              12        2015       16.4       60.8   \n",
       "309      4              13        2016       32.7       42.3   \n",
       "148     15               3        2017       13.7       30.8   \n",
       "296      5              12        2016       37.1       52.7   \n",
       "386      9               6        2015       15.2       16.1   \n",
       "543     23               4        2016       24.3       37.7   \n",
       "539     16              14        2016       13.5       46.2   \n",
       "385      6              10        2014       32.7       20.1   \n",
       "517     18               9        2015       17.7       50.0   \n",
       "146      9              10        2017       28.1       36.8   \n",
       "265     18               5        2017       17.6       29.0   \n",
       "704     11               4        2015        9.4       70.6   \n",
       "328     15               9        2016       13.6       47.1   \n",
       "576     13              12        2015       15.4       76.7   \n",
       "234     11               3        2016       29.0       69.3   \n",
       "305     21               7        2017       21.4       31.2   \n",
       "\n",
       "                                Stadium match_day_name  \\\n",
       "430     Al Majma'ah Sports City Stadium       Thursday   \n",
       "653           King Abdullah Sports City       Thursday   \n",
       "643    King Abdullah Sport City Stadium       Thursday   \n",
       "267     Prince Mohamed bin Fahd Stadium       Saturday   \n",
       "536      Prince Saud bin Jalawi Stadium         Friday   \n",
       "309      Prince Saud bin Jalawi Stadium       Thursday   \n",
       "148     Al Majma'ah Sports City Stadium       Thursday   \n",
       "296             King Abdul Aziz Stadium       Saturday   \n",
       "386     Al Majma'ah Sports City Stadium      Wednesday   \n",
       "543    King Abdullah Sport City Stadium         Sunday   \n",
       "539  Prince Abdullah bin Jalawi Stadium         Friday   \n",
       "385  Prince Abdullah bin Jalawi Stadium      Wednesday   \n",
       "517    King Abdullah Sport City Stadium         Friday   \n",
       "146     Prince Mohamed bin Fahd Stadium        Tuesday   \n",
       "265     Prince Faisal bin Fahad Stadium         Friday   \n",
       "704    King Abdullah Sport City Stadium      Wednesday   \n",
       "328     Al Majma'ah Sports City Stadium       Thursday   \n",
       "576    King Abdullah Sport City Stadium         Sunday   \n",
       "234           King Abdullah Sports City         Friday   \n",
       "305    King Abdullah Sport City Stadium        Tuesday   \n",
       "\n",
       "                        TeamA                     TeamB   res  actual_att  \\\n",
       "430             Al-Faisaly FC  Al-Ittihad Club (Jeddah)   115        1064   \n",
       "653          Al-Ahli Saudi FC             Al-Faisaly FC  2587       18936   \n",
       "643                   Al-Raed         Al-Hilal Saudi FC   943       12324   \n",
       "267                Ettifaq FC                Al-Khaleej   118        1330   \n",
       "536             Al-Qadsiah FC                  Al-Fateh    55         444   \n",
       "309             Al-Qadsiah FC         Al-Hilal Saudi FC   955        5820   \n",
       "148             Al-Faisaly FC                   Al-Raed    98         612   \n",
       "296               Al-Wehda FC             Al-Nassr Riad  1093        2275   \n",
       "386             Al-Faisaly FC         Al-Hilal Saudi FC   464        1443   \n",
       "543             Al-Taawoun FC                  Al-Fateh  2326        6998   \n",
       "539                Hajer Club                  Al-Fateh  1378        2225   \n",
       "385                  Al-Fateh         Al-Hilal Saudi FC  5010       10559   \n",
       "517                   Al-Raed                Hajer Club  1029        3992   \n",
       "146                Ettifaq FC                   Al-Raed    80         646   \n",
       "265   Al-Shabab Club (Riyadh)                Al-Khaleej  1391         524   \n",
       "704             Al-Taawoun FC                   Al-Raed  2695        4999   \n",
       "328             Al-Faisaly FC             Al-Qadsiah FC    78         316   \n",
       "576                   Al-Raed                 Najran SC  1453        2892   \n",
       "234  Al-Ittihad Club (Jeddah)                Ettifaq FC  5643       28531   \n",
       "305                   Al-Raed             Al-Nassr Riad  7435        7892   \n",
       "\n",
       "     predicted_att  \n",
       "430            949  \n",
       "653          21523  \n",
       "643          13267  \n",
       "267           1448  \n",
       "536            389  \n",
       "309           4865  \n",
       "148            514  \n",
       "296           1182  \n",
       "386            979  \n",
       "543           4672  \n",
       "539            847  \n",
       "385           5549  \n",
       "517           2963  \n",
       "146            726  \n",
       "265           1915  \n",
       "704           2304  \n",
       "328            238  \n",
       "576           1439  \n",
       "234          22888  \n",
       "305          15327  "
      ]
     },
     "execution_count": 412,
     "metadata": {},
     "output_type": "execute_result"
    }
   ],
   "source": [
    "\n",
    "# sort data frame based on residuals value(decending)\n",
    "#X_test_inverse=X_test_inverse.sort_values(\"res\",ascending=False)\n",
    "# select columns for further testing\n",
    "X_test_inverse[['Round', 'TeamA_Position',\n",
    "        'Match_year', 'feelslike',\n",
    "        'humidity:',\n",
    "        'Stadium', 'match_day_name', 'TeamA', 'TeamB',\"res\",\"actual_att\",\"predicted_att\"]][:20]\n",
    "#'Match_hour', 'Match_month', , 'TeamB_Position' ,\n",
    "#       'Match_date_hijri_day' , 'Match_date_hijri_month'"
   ]
  },
  {
   "cell_type": "code",
   "execution_count": 413,
   "id": "1e81bed7",
   "metadata": {},
   "outputs": [],
   "source": [
    "X_test_inverse.to_csv('actualvspredicted.csv')"
   ]
  },
  {
   "cell_type": "markdown",
   "id": "d3a88de6",
   "metadata": {},
   "source": [
    "## Residuals > 10,000"
   ]
  },
  {
   "cell_type": "code",
   "execution_count": 414,
   "id": "89f8b1e0",
   "metadata": {
    "scrolled": true
   },
   "outputs": [],
   "source": [
    "# to select specfic values for residuals\n",
    "res_threshold=X_test_inverse.loc[X_test_inverse['res']>10000.0]"
   ]
  },
  {
   "cell_type": "code",
   "execution_count": 415,
   "id": "9dd19265",
   "metadata": {},
   "outputs": [
    {
     "data": {
      "text/plain": [
       "King Abdullah Sports City          6\n",
       "King Fahd International Stadium    2\n",
       "Name: Stadium, dtype: int64"
      ]
     },
     "execution_count": 415,
     "metadata": {},
     "output_type": "execute_result"
    }
   ],
   "source": [
    "# residual disribution for stadium\n",
    "res_threshold.Stadium.value_counts()"
   ]
  },
  {
   "cell_type": "code",
   "execution_count": 416,
   "id": "43f2da3c",
   "metadata": {},
   "outputs": [
    {
     "data": {
      "text/plain": [
       "Al-Ahli Saudi FC            4\n",
       "Al-Hilal Saudi FC           2\n",
       "Al-Ittihad Club (Jeddah)    2\n",
       "Name: TeamA, dtype: int64"
      ]
     },
     "execution_count": 416,
     "metadata": {},
     "output_type": "execute_result"
    }
   ],
   "source": [
    "# residual disribution for host team\n",
    "res_threshold.TeamA.value_counts()"
   ]
  },
  {
   "cell_type": "code",
   "execution_count": 417,
   "id": "da95eae0",
   "metadata": {
    "scrolled": true
   },
   "outputs": [
    {
     "data": {
      "text/plain": [
       "Al-Nassr Riad               2\n",
       "Al-Ittihad Club (Jeddah)    2\n",
       "Al-Qadsiah FC               1\n",
       "Al-Faisaly FC               1\n",
       "Al-Shabab Club (Riyadh)     1\n",
       "Al-Khaleej                  1\n",
       "Name: TeamB, dtype: int64"
      ]
     },
     "execution_count": 417,
     "metadata": {},
     "output_type": "execute_result"
    }
   ],
   "source": [
    "# residual disribution for teamB (vistor)\n",
    "res_threshold.TeamB.value_counts()"
   ]
  },
  {
   "cell_type": "markdown",
   "id": "dd28c342",
   "metadata": {},
   "source": [
    "## Feature importance"
   ]
  },
  {
   "cell_type": "code",
   "execution_count": 418,
   "id": "a1b92306",
   "metadata": {},
   "outputs": [],
   "source": [
    "importances = regr.feature_importances_\n",
    "\n",
    "sorted_indices = np.argsort(importances)[::-1]"
   ]
  },
  {
   "cell_type": "code",
   "execution_count": 419,
   "id": "9ac0b28a",
   "metadata": {
    "scrolled": true
   },
   "outputs": [
    {
     "data": {
      "image/png": "[encoded data removed]",
      "text/plain": [
       "<Figure size 720x432 with 1 Axes>"
      ]
     },
     "metadata": {
      "needs_background": "light"
     },
     "output_type": "display_data"
    }
   ],
   "source": [
    "import matplotlib.pyplot as plt\n",
    " \n",
    "\n",
    "plt.figure(figsize=(10, 6))\n",
    "plt.title('Feature Importance')\n",
    "plt.bar(range(X_train.shape[1]), importances[sorted_indices], align='center')\n",
    "plt.xticks(range(X_train.shape[1]), X_train.columns[sorted_indices], rotation=90)\n",
    "plt.tight_layout()\n",
    "plt.show()"
   ]
  }
 ],
 "metadata": {
  "kernelspec": {
   "display_name": "Python 3 (ipykernel)",
   "language": "python",
   "name": "python3"
  },
  "language_info": {
   "codemirror_mode": {
    "name": "ipython",
    "version": 3
   },
   "file_extension": ".py",
   "mimetype": "text/x-python",
   "name": "python",
   "nbconvert_exporter": "python",
   "pygments_lexer": "ipython3",
   "version": "3.9.7"
  },
  "toc": {
   "base_numbering": 1,
   "nav_menu": {},
   "number_sections": true,
   "sideBar": true,
   "skip_h1_title": false,
   "title_cell": "Table of Contents",
   "title_sidebar": "Contents",
   "toc_cell": false,
   "toc_position": {
    "height": "calc(100% - 180px)",
    "left": "10px",
    "top": "150px",
    "width": "512px"
   },
   "toc_section_display": true,
   "toc_window_display": true
  },
  "varInspector": {
   "cols": {
    "lenName": 16,
    "lenType": 16,
    "lenVar": 40
   },
   "kernels_config": {
    "python": {
     "delete_cmd_postfix": "",
     "delete_cmd_prefix": "del ",
     "library": "var_list.py",
     "varRefreshCmd": "print(var_dic_list())"
    },
    "r": {
     "delete_cmd_postfix": ") ",
     "delete_cmd_prefix": "rm(",
     "library": "var_list.r",
     "varRefreshCmd": "cat(var_dic_list()) "
    }
   },
   "types_to_exclude": [
    "module",
    "function",
    "builtin_function_or_method",
    "instance",
    "_Feature"
   ],
   "window_display": false
  }
 },
 "nbformat": 4,
 "nbformat_minor": 5
}
